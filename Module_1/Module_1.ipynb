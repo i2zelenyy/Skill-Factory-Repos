{
 "cells": [
  {
   "cell_type": "code",
   "execution_count": 2,
   "metadata": {
    "_cell_guid": "b1076dfc-b9ad-4769-8c92-a6c4dae69d19",
    "_uuid": "8f2839f25d086af736a60e9eeb907d3b93b6e0e5",
    "colab": {},
    "colab_type": "code",
    "id": "U2D2gTdJVp90"
   },
   "outputs": [],
   "source": [
    "import numpy as np\n",
    "import pandas as pd\n",
    "import seaborn as sns\n",
    "import matplotlib.pyplot as plt\n",
    "from collections import Counter"
   ]
  },
  {
   "cell_type": "code",
   "execution_count": 3,
   "metadata": {
    "_cell_guid": "79c7e3d0-c299-4dcb-8224-4455121ee9b0",
    "_uuid": "d629ff2d2480ee46fbb7e2d37f6b5fab8052498a",
    "colab": {},
    "colab_type": "code",
    "id": "oyGfxL3eVp9-"
   },
   "outputs": [
    {
     "data": {
      "text/html": [
       "<div>\n",
       "<style scoped>\n",
       "    .dataframe tbody tr th:only-of-type {\n",
       "        vertical-align: middle;\n",
       "    }\n",
       "\n",
       "    .dataframe tbody tr th {\n",
       "        vertical-align: top;\n",
       "    }\n",
       "\n",
       "    .dataframe thead th {\n",
       "        text-align: right;\n",
       "    }\n",
       "</style>\n",
       "<table border=\"1\" class=\"dataframe\">\n",
       "  <thead>\n",
       "    <tr style=\"text-align: right;\">\n",
       "      <th></th>\n",
       "      <th>imdb_id</th>\n",
       "      <th>budget</th>\n",
       "      <th>revenue</th>\n",
       "      <th>original_title</th>\n",
       "      <th>cast</th>\n",
       "      <th>director</th>\n",
       "      <th>tagline</th>\n",
       "      <th>overview</th>\n",
       "      <th>runtime</th>\n",
       "      <th>genres</th>\n",
       "      <th>production_companies</th>\n",
       "      <th>release_date</th>\n",
       "      <th>vote_average</th>\n",
       "      <th>release_year</th>\n",
       "    </tr>\n",
       "  </thead>\n",
       "  <tbody>\n",
       "    <tr>\n",
       "      <th>356</th>\n",
       "      <td>tt0785006</td>\n",
       "      <td>35000000</td>\n",
       "      <td>73034460</td>\n",
       "      <td>Hotel for Dogs</td>\n",
       "      <td>Emma Roberts|Jake T. Austin|Don Cheadle|Johnny...</td>\n",
       "      <td>Thor Freudenthal</td>\n",
       "      <td>No stray gets turned away.</td>\n",
       "      <td>Placed in a foster home that doesn't allow pet...</td>\n",
       "      <td>100</td>\n",
       "      <td>Comedy|Family</td>\n",
       "      <td>DreamWorks SKG|Nickelodeon Movies</td>\n",
       "      <td>1/16/2009</td>\n",
       "      <td>5.6</td>\n",
       "      <td>2009</td>\n",
       "    </tr>\n",
       "    <tr>\n",
       "      <th>1637</th>\n",
       "      <td>tt0368447</td>\n",
       "      <td>60000000</td>\n",
       "      <td>256697520</td>\n",
       "      <td>The Village</td>\n",
       "      <td>Bryce Dallas Howard|Joaquin Phoenix|Adrien Bro...</td>\n",
       "      <td>M. Night Shyamalan</td>\n",
       "      <td>There is no turning back</td>\n",
       "      <td>When a willful young man tries to venture beyo...</td>\n",
       "      <td>108</td>\n",
       "      <td>Drama|Mystery|Thriller</td>\n",
       "      <td>Scott Rudin Productions|Touchstone Pictures|Bl...</td>\n",
       "      <td>7/30/2004</td>\n",
       "      <td>6.0</td>\n",
       "      <td>2004</td>\n",
       "    </tr>\n",
       "    <tr>\n",
       "      <th>926</th>\n",
       "      <td>tt0238546</td>\n",
       "      <td>35000000</td>\n",
       "      <td>45479110</td>\n",
       "      <td>Queen of the Damned</td>\n",
       "      <td>Stuart Townsend|Aaliyah|Marguerite Moreau|Vinc...</td>\n",
       "      <td>Michael Rymer</td>\n",
       "      <td>This time there are no interviews.</td>\n",
       "      <td>Lestat de Lioncourt is awakened from his slumb...</td>\n",
       "      <td>101</td>\n",
       "      <td>Drama|Fantasy|Horror</td>\n",
       "      <td>Village Roadshow Pictures|NPV Entertainment|Wa...</td>\n",
       "      <td>2/10/2002</td>\n",
       "      <td>5.2</td>\n",
       "      <td>2002</td>\n",
       "    </tr>\n",
       "    <tr>\n",
       "      <th>1640</th>\n",
       "      <td>tt0350258</td>\n",
       "      <td>40000000</td>\n",
       "      <td>124731534</td>\n",
       "      <td>Ray</td>\n",
       "      <td>Jamie Foxx|Kerry Washington|Regina King|Harry ...</td>\n",
       "      <td>Taylor Hackford</td>\n",
       "      <td>The extraordinary life story of Ray Charles. A...</td>\n",
       "      <td>Born on a sharecropping plantation in Northern...</td>\n",
       "      <td>152</td>\n",
       "      <td>Drama</td>\n",
       "      <td>Universal Pictures</td>\n",
       "      <td>10/29/2004</td>\n",
       "      <td>7.0</td>\n",
       "      <td>2004</td>\n",
       "    </tr>\n",
       "    <tr>\n",
       "      <th>60</th>\n",
       "      <td>tt3076658</td>\n",
       "      <td>35000000</td>\n",
       "      <td>137935567</td>\n",
       "      <td>Creed</td>\n",
       "      <td>Michael B. Jordan|Sylvester Stallone|Graham Mc...</td>\n",
       "      <td>Ryan Coogler</td>\n",
       "      <td>Your legacy is more than a name</td>\n",
       "      <td>The former World Heavyweight Champion Rocky Ba...</td>\n",
       "      <td>133</td>\n",
       "      <td>Drama</td>\n",
       "      <td>New Line Cinema|Warner Bros.|Metro-Goldwyn-May...</td>\n",
       "      <td>11/25/2015</td>\n",
       "      <td>7.3</td>\n",
       "      <td>2015</td>\n",
       "    </tr>\n",
       "  </tbody>\n",
       "</table>\n",
       "</div>"
      ],
      "text/plain": [
       "        imdb_id    budget    revenue       original_title  \\\n",
       "356   tt0785006  35000000   73034460       Hotel for Dogs   \n",
       "1637  tt0368447  60000000  256697520          The Village   \n",
       "926   tt0238546  35000000   45479110  Queen of the Damned   \n",
       "1640  tt0350258  40000000  124731534                  Ray   \n",
       "60    tt3076658  35000000  137935567                Creed   \n",
       "\n",
       "                                                   cast            director  \\\n",
       "356   Emma Roberts|Jake T. Austin|Don Cheadle|Johnny...    Thor Freudenthal   \n",
       "1637  Bryce Dallas Howard|Joaquin Phoenix|Adrien Bro...  M. Night Shyamalan   \n",
       "926   Stuart Townsend|Aaliyah|Marguerite Moreau|Vinc...       Michael Rymer   \n",
       "1640  Jamie Foxx|Kerry Washington|Regina King|Harry ...     Taylor Hackford   \n",
       "60    Michael B. Jordan|Sylvester Stallone|Graham Mc...        Ryan Coogler   \n",
       "\n",
       "                                                tagline  \\\n",
       "356                          No stray gets turned away.   \n",
       "1637                           There is no turning back   \n",
       "926                  This time there are no interviews.   \n",
       "1640  The extraordinary life story of Ray Charles. A...   \n",
       "60                      Your legacy is more than a name   \n",
       "\n",
       "                                               overview  runtime  \\\n",
       "356   Placed in a foster home that doesn't allow pet...      100   \n",
       "1637  When a willful young man tries to venture beyo...      108   \n",
       "926   Lestat de Lioncourt is awakened from his slumb...      101   \n",
       "1640  Born on a sharecropping plantation in Northern...      152   \n",
       "60    The former World Heavyweight Champion Rocky Ba...      133   \n",
       "\n",
       "                      genres  \\\n",
       "356            Comedy|Family   \n",
       "1637  Drama|Mystery|Thriller   \n",
       "926     Drama|Fantasy|Horror   \n",
       "1640                   Drama   \n",
       "60                     Drama   \n",
       "\n",
       "                                   production_companies release_date  \\\n",
       "356                   DreamWorks SKG|Nickelodeon Movies    1/16/2009   \n",
       "1637  Scott Rudin Productions|Touchstone Pictures|Bl...    7/30/2004   \n",
       "926   Village Roadshow Pictures|NPV Entertainment|Wa...    2/10/2002   \n",
       "1640                                 Universal Pictures   10/29/2004   \n",
       "60    New Line Cinema|Warner Bros.|Metro-Goldwyn-May...   11/25/2015   \n",
       "\n",
       "      vote_average  release_year  \n",
       "356            5.6          2009  \n",
       "1637           6.0          2004  \n",
       "926            5.2          2002  \n",
       "1640           7.0          2004  \n",
       "60             7.3          2015  "
      ]
     },
     "execution_count": 3,
     "metadata": {},
     "output_type": "execute_result"
    }
   ],
   "source": [
    "data = pd.read_csv('movie_bd_v5.csv')\n",
    "data.sample(5)"
   ]
  },
  {
   "cell_type": "code",
   "execution_count": 4,
   "metadata": {
    "colab": {},
    "colab_type": "code",
    "id": "CoYUnagMVp-C"
   },
   "outputs": [
    {
     "data": {
      "text/html": [
       "<div>\n",
       "<style scoped>\n",
       "    .dataframe tbody tr th:only-of-type {\n",
       "        vertical-align: middle;\n",
       "    }\n",
       "\n",
       "    .dataframe tbody tr th {\n",
       "        vertical-align: top;\n",
       "    }\n",
       "\n",
       "    .dataframe thead th {\n",
       "        text-align: right;\n",
       "    }\n",
       "</style>\n",
       "<table border=\"1\" class=\"dataframe\">\n",
       "  <thead>\n",
       "    <tr style=\"text-align: right;\">\n",
       "      <th></th>\n",
       "      <th>budget</th>\n",
       "      <th>revenue</th>\n",
       "      <th>runtime</th>\n",
       "      <th>vote_average</th>\n",
       "      <th>release_year</th>\n",
       "    </tr>\n",
       "  </thead>\n",
       "  <tbody>\n",
       "    <tr>\n",
       "      <th>count</th>\n",
       "      <td>1.889000e+03</td>\n",
       "      <td>1.889000e+03</td>\n",
       "      <td>1889.000000</td>\n",
       "      <td>1889.000000</td>\n",
       "      <td>1889.000000</td>\n",
       "    </tr>\n",
       "    <tr>\n",
       "      <th>mean</th>\n",
       "      <td>5.431083e+07</td>\n",
       "      <td>1.553653e+08</td>\n",
       "      <td>109.658549</td>\n",
       "      <td>6.140762</td>\n",
       "      <td>2007.860773</td>\n",
       "    </tr>\n",
       "    <tr>\n",
       "      <th>std</th>\n",
       "      <td>4.858721e+07</td>\n",
       "      <td>2.146698e+08</td>\n",
       "      <td>18.017041</td>\n",
       "      <td>0.764763</td>\n",
       "      <td>4.468841</td>\n",
       "    </tr>\n",
       "    <tr>\n",
       "      <th>min</th>\n",
       "      <td>5.000000e+06</td>\n",
       "      <td>2.033165e+06</td>\n",
       "      <td>63.000000</td>\n",
       "      <td>3.300000</td>\n",
       "      <td>2000.000000</td>\n",
       "    </tr>\n",
       "    <tr>\n",
       "      <th>25%</th>\n",
       "      <td>2.000000e+07</td>\n",
       "      <td>3.456058e+07</td>\n",
       "      <td>97.000000</td>\n",
       "      <td>5.600000</td>\n",
       "      <td>2004.000000</td>\n",
       "    </tr>\n",
       "    <tr>\n",
       "      <th>50%</th>\n",
       "      <td>3.800000e+07</td>\n",
       "      <td>8.361541e+07</td>\n",
       "      <td>107.000000</td>\n",
       "      <td>6.100000</td>\n",
       "      <td>2008.000000</td>\n",
       "    </tr>\n",
       "    <tr>\n",
       "      <th>75%</th>\n",
       "      <td>7.200000e+07</td>\n",
       "      <td>1.782626e+08</td>\n",
       "      <td>120.000000</td>\n",
       "      <td>6.600000</td>\n",
       "      <td>2012.000000</td>\n",
       "    </tr>\n",
       "    <tr>\n",
       "      <th>max</th>\n",
       "      <td>3.800000e+08</td>\n",
       "      <td>2.781506e+09</td>\n",
       "      <td>214.000000</td>\n",
       "      <td>8.100000</td>\n",
       "      <td>2015.000000</td>\n",
       "    </tr>\n",
       "  </tbody>\n",
       "</table>\n",
       "</div>"
      ],
      "text/plain": [
       "             budget       revenue      runtime  vote_average  release_year\n",
       "count  1.889000e+03  1.889000e+03  1889.000000   1889.000000   1889.000000\n",
       "mean   5.431083e+07  1.553653e+08   109.658549      6.140762   2007.860773\n",
       "std    4.858721e+07  2.146698e+08    18.017041      0.764763      4.468841\n",
       "min    5.000000e+06  2.033165e+06    63.000000      3.300000   2000.000000\n",
       "25%    2.000000e+07  3.456058e+07    97.000000      5.600000   2004.000000\n",
       "50%    3.800000e+07  8.361541e+07   107.000000      6.100000   2008.000000\n",
       "75%    7.200000e+07  1.782626e+08   120.000000      6.600000   2012.000000\n",
       "max    3.800000e+08  2.781506e+09   214.000000      8.100000   2015.000000"
      ]
     },
     "execution_count": 4,
     "metadata": {},
     "output_type": "execute_result"
    }
   ],
   "source": [
    "data.describe()"
   ]
  },
  {
   "cell_type": "markdown",
   "metadata": {
    "colab_type": "text",
    "id": "DTIt7ezGVp-G"
   },
   "source": [
    "# Предобработка"
   ]
  },
  {
   "cell_type": "code",
   "execution_count": 5,
   "metadata": {
    "colab": {},
    "colab_type": "code",
    "id": "jNb40DwKVp-H"
   },
   "outputs": [],
   "source": [
    "# Cловарь для ответов\n",
    "answers = {}\n",
    "\n",
    "# Создание колонки для прибыли (или убытков):\n",
    "data.insert(3,'profit', data.revenue-data.budget)\n",
    "\n",
    "# Функция разбиения строки на элементы\n",
    "c = Counter()\n",
    "count = 0\n",
    "\n",
    "def separation(column):    \n",
    "    for string in column:\n",
    "        upd_string = string.split(sep = '|')\n",
    "        for element in upd_string:\n",
    "            c[element] += 1\n",
    "            \n",
    "# Функция для нахождения месяца выхода фильма\n",
    "\n",
    "films = []\n",
    "\n",
    "def months():\n",
    "    count = 0\n",
    "    for string in data.release_date:\n",
    "        if '/' in string[0:2]:\n",
    "            films.append(string[0:1])\n",
    "        else:\n",
    "            films.append(string[0:2])\n",
    "        count += 1"
   ]
  },
  {
   "cell_type": "markdown",
   "metadata": {
    "colab_type": "text",
    "id": "YxZaH-nPVp-L"
   },
   "source": [
    "# 1. У какого фильма из списка самый большой бюджет?"
   ]
  },
  {
   "cell_type": "code",
   "execution_count": 6,
   "metadata": {
    "colab": {},
    "colab_type": "code",
    "id": "uVnXAY5RVp-O"
   },
   "outputs": [],
   "source": [
    "answers['1'] = '5. Pirates of the Caribbean: On Stranger Tides (tt1298650)'\n",
    "# +"
   ]
  },
  {
   "cell_type": "code",
   "execution_count": 7,
   "metadata": {
    "colab": {},
    "colab_type": "code",
    "id": "dZwb3m28Vp-S"
   },
   "outputs": [
    {
     "data": {
      "text/html": [
       "<div>\n",
       "<style scoped>\n",
       "    .dataframe tbody tr th:only-of-type {\n",
       "        vertical-align: middle;\n",
       "    }\n",
       "\n",
       "    .dataframe tbody tr th {\n",
       "        vertical-align: top;\n",
       "    }\n",
       "\n",
       "    .dataframe thead th {\n",
       "        text-align: right;\n",
       "    }\n",
       "</style>\n",
       "<table border=\"1\" class=\"dataframe\">\n",
       "  <thead>\n",
       "    <tr style=\"text-align: right;\">\n",
       "      <th></th>\n",
       "      <th>imdb_id</th>\n",
       "      <th>budget</th>\n",
       "      <th>revenue</th>\n",
       "      <th>profit</th>\n",
       "      <th>original_title</th>\n",
       "      <th>cast</th>\n",
       "      <th>director</th>\n",
       "      <th>tagline</th>\n",
       "      <th>overview</th>\n",
       "      <th>runtime</th>\n",
       "      <th>genres</th>\n",
       "      <th>production_companies</th>\n",
       "      <th>release_date</th>\n",
       "      <th>vote_average</th>\n",
       "      <th>release_year</th>\n",
       "    </tr>\n",
       "  </thead>\n",
       "  <tbody>\n",
       "    <tr>\n",
       "      <th>723</th>\n",
       "      <td>tt1298650</td>\n",
       "      <td>380000000</td>\n",
       "      <td>1021683000</td>\n",
       "      <td>641683000</td>\n",
       "      <td>Pirates of the Caribbean: On Stranger Tides</td>\n",
       "      <td>Johnny Depp|PenÃ©lope Cruz|Geoffrey Rush|Ian M...</td>\n",
       "      <td>Rob Marshall</td>\n",
       "      <td>Live Forever Or Die Trying.</td>\n",
       "      <td>Captain Jack Sparrow crosses paths with a woma...</td>\n",
       "      <td>136</td>\n",
       "      <td>Adventure|Action|Fantasy</td>\n",
       "      <td>Walt Disney Pictures|Jerry Bruckheimer Films|M...</td>\n",
       "      <td>5/11/2011</td>\n",
       "      <td>6.3</td>\n",
       "      <td>2011</td>\n",
       "    </tr>\n",
       "  </tbody>\n",
       "</table>\n",
       "</div>"
      ],
      "text/plain": [
       "       imdb_id     budget     revenue     profit  \\\n",
       "723  tt1298650  380000000  1021683000  641683000   \n",
       "\n",
       "                                  original_title  \\\n",
       "723  Pirates of the Caribbean: On Stranger Tides   \n",
       "\n",
       "                                                  cast      director  \\\n",
       "723  Johnny Depp|PenÃ©lope Cruz|Geoffrey Rush|Ian M...  Rob Marshall   \n",
       "\n",
       "                         tagline  \\\n",
       "723  Live Forever Or Die Trying.   \n",
       "\n",
       "                                              overview  runtime  \\\n",
       "723  Captain Jack Sparrow crosses paths with a woma...      136   \n",
       "\n",
       "                       genres  \\\n",
       "723  Adventure|Action|Fantasy   \n",
       "\n",
       "                                  production_companies release_date  \\\n",
       "723  Walt Disney Pictures|Jerry Bruckheimer Films|M...    5/11/2011   \n",
       "\n",
       "     vote_average  release_year  \n",
       "723           6.3          2011  "
      ]
     },
     "metadata": {},
     "output_type": "display_data"
    }
   ],
   "source": [
    "# Код:\n",
    "display(data[data.budget == data.budget.max()])"
   ]
  },
  {
   "cell_type": "markdown",
   "metadata": {
    "colab_type": "text",
    "id": "FNRbbI3vVp-c"
   },
   "source": [
    "# 2. Какой из фильмов самый длительный (в минутах)?"
   ]
  },
  {
   "cell_type": "code",
   "execution_count": 8,
   "metadata": {
    "colab": {},
    "colab_type": "code",
    "id": "vHAoEXNTVp-d"
   },
   "outputs": [],
   "source": [
    "answers['2'] = '2. Gods and Generals (tt0279111)'\n",
    "# +"
   ]
  },
  {
   "cell_type": "code",
   "execution_count": 9,
   "metadata": {
    "colab": {},
    "colab_type": "code",
    "id": "ot-VX2XrVp-g"
   },
   "outputs": [
    {
     "data": {
      "text/html": [
       "<div>\n",
       "<style scoped>\n",
       "    .dataframe tbody tr th:only-of-type {\n",
       "        vertical-align: middle;\n",
       "    }\n",
       "\n",
       "    .dataframe tbody tr th {\n",
       "        vertical-align: top;\n",
       "    }\n",
       "\n",
       "    .dataframe thead th {\n",
       "        text-align: right;\n",
       "    }\n",
       "</style>\n",
       "<table border=\"1\" class=\"dataframe\">\n",
       "  <thead>\n",
       "    <tr style=\"text-align: right;\">\n",
       "      <th></th>\n",
       "      <th>imdb_id</th>\n",
       "      <th>budget</th>\n",
       "      <th>revenue</th>\n",
       "      <th>profit</th>\n",
       "      <th>original_title</th>\n",
       "      <th>cast</th>\n",
       "      <th>director</th>\n",
       "      <th>tagline</th>\n",
       "      <th>overview</th>\n",
       "      <th>runtime</th>\n",
       "      <th>genres</th>\n",
       "      <th>production_companies</th>\n",
       "      <th>release_date</th>\n",
       "      <th>vote_average</th>\n",
       "      <th>release_year</th>\n",
       "    </tr>\n",
       "  </thead>\n",
       "  <tbody>\n",
       "    <tr>\n",
       "      <th>1157</th>\n",
       "      <td>tt0279111</td>\n",
       "      <td>56000000</td>\n",
       "      <td>12923936</td>\n",
       "      <td>-43076064</td>\n",
       "      <td>Gods and Generals</td>\n",
       "      <td>Stephen Lang|Jeff Daniels|Robert Duvall|Kevin ...</td>\n",
       "      <td>Ronald F. Maxwell</td>\n",
       "      <td>The nations heart was touched by...</td>\n",
       "      <td>The film centers mostly around the personal an...</td>\n",
       "      <td>214</td>\n",
       "      <td>Drama|History|War</td>\n",
       "      <td>Turner Pictures|Antietam Filmworks</td>\n",
       "      <td>2/21/2003</td>\n",
       "      <td>5.8</td>\n",
       "      <td>2003</td>\n",
       "    </tr>\n",
       "  </tbody>\n",
       "</table>\n",
       "</div>"
      ],
      "text/plain": [
       "        imdb_id    budget   revenue    profit     original_title  \\\n",
       "1157  tt0279111  56000000  12923936 -43076064  Gods and Generals   \n",
       "\n",
       "                                                   cast           director  \\\n",
       "1157  Stephen Lang|Jeff Daniels|Robert Duvall|Kevin ...  Ronald F. Maxwell   \n",
       "\n",
       "                                  tagline  \\\n",
       "1157  The nations heart was touched by...   \n",
       "\n",
       "                                               overview  runtime  \\\n",
       "1157  The film centers mostly around the personal an...      214   \n",
       "\n",
       "                 genres                production_companies release_date  \\\n",
       "1157  Drama|History|War  Turner Pictures|Antietam Filmworks    2/21/2003   \n",
       "\n",
       "      vote_average  release_year  \n",
       "1157           5.8          2003  "
      ]
     },
     "metadata": {},
     "output_type": "display_data"
    }
   ],
   "source": [
    "# Код:\n",
    "display(data[data.runtime == data.runtime.max()])"
   ]
  },
  {
   "cell_type": "markdown",
   "metadata": {
    "colab_type": "text",
    "id": "bapLlpW8Vp-k"
   },
   "source": [
    "# 3. Какой из фильмов самый короткий (в минутах)?\n",
    "\n",
    "\n",
    "\n"
   ]
  },
  {
   "cell_type": "code",
   "execution_count": 10,
   "metadata": {
    "colab": {},
    "colab_type": "code",
    "id": "YBxaSHuAVp-l"
   },
   "outputs": [],
   "source": [
    "answers['3'] = '3. Winnie the Pooh (tt1449283)'\n",
    "# +"
   ]
  },
  {
   "cell_type": "code",
   "execution_count": 11,
   "metadata": {},
   "outputs": [
    {
     "data": {
      "text/html": [
       "<div>\n",
       "<style scoped>\n",
       "    .dataframe tbody tr th:only-of-type {\n",
       "        vertical-align: middle;\n",
       "    }\n",
       "\n",
       "    .dataframe tbody tr th {\n",
       "        vertical-align: top;\n",
       "    }\n",
       "\n",
       "    .dataframe thead th {\n",
       "        text-align: right;\n",
       "    }\n",
       "</style>\n",
       "<table border=\"1\" class=\"dataframe\">\n",
       "  <thead>\n",
       "    <tr style=\"text-align: right;\">\n",
       "      <th></th>\n",
       "      <th>imdb_id</th>\n",
       "      <th>budget</th>\n",
       "      <th>revenue</th>\n",
       "      <th>profit</th>\n",
       "      <th>original_title</th>\n",
       "      <th>cast</th>\n",
       "      <th>director</th>\n",
       "      <th>tagline</th>\n",
       "      <th>overview</th>\n",
       "      <th>runtime</th>\n",
       "      <th>genres</th>\n",
       "      <th>production_companies</th>\n",
       "      <th>release_date</th>\n",
       "      <th>vote_average</th>\n",
       "      <th>release_year</th>\n",
       "    </tr>\n",
       "  </thead>\n",
       "  <tbody>\n",
       "    <tr>\n",
       "      <th>768</th>\n",
       "      <td>tt1449283</td>\n",
       "      <td>30000000</td>\n",
       "      <td>14460000</td>\n",
       "      <td>-15540000</td>\n",
       "      <td>Winnie the Pooh</td>\n",
       "      <td>Jim Cummings|Travis Oates|Jim Cummings|Bud Luc...</td>\n",
       "      <td>Stephen Anderson|Don Hall</td>\n",
       "      <td>Oh Pooh.</td>\n",
       "      <td>During an ordinary day in Hundred Acre Wood, W...</td>\n",
       "      <td>63</td>\n",
       "      <td>Animation|Family</td>\n",
       "      <td>Walt Disney Pictures|Walt Disney Animation Stu...</td>\n",
       "      <td>4/13/2011</td>\n",
       "      <td>6.8</td>\n",
       "      <td>2011</td>\n",
       "    </tr>\n",
       "  </tbody>\n",
       "</table>\n",
       "</div>"
      ],
      "text/plain": [
       "       imdb_id    budget   revenue    profit   original_title  \\\n",
       "768  tt1449283  30000000  14460000 -15540000  Winnie the Pooh   \n",
       "\n",
       "                                                  cast  \\\n",
       "768  Jim Cummings|Travis Oates|Jim Cummings|Bud Luc...   \n",
       "\n",
       "                      director   tagline  \\\n",
       "768  Stephen Anderson|Don Hall  Oh Pooh.   \n",
       "\n",
       "                                              overview  runtime  \\\n",
       "768  During an ordinary day in Hundred Acre Wood, W...       63   \n",
       "\n",
       "               genres                               production_companies  \\\n",
       "768  Animation|Family  Walt Disney Pictures|Walt Disney Animation Stu...   \n",
       "\n",
       "    release_date  vote_average  release_year  \n",
       "768    4/13/2011           6.8          2011  "
      ]
     },
     "metadata": {},
     "output_type": "display_data"
    }
   ],
   "source": [
    "# Код:\n",
    "display(data[data.runtime == data.runtime.min()])"
   ]
  },
  {
   "cell_type": "markdown",
   "metadata": {
    "colab_type": "text",
    "id": "TfQbxbfNVp-p"
   },
   "source": [
    "# 4. Какова средняя длительность фильмов?\n"
   ]
  },
  {
   "cell_type": "code",
   "execution_count": 12,
   "metadata": {
    "colab": {},
    "colab_type": "code",
    "id": "5K6dKZYVVp-q"
   },
   "outputs": [],
   "source": [
    "answers['4'] = '2. 110'\n",
    "# +"
   ]
  },
  {
   "cell_type": "code",
   "execution_count": 13,
   "metadata": {},
   "outputs": [
    {
     "data": {
      "text/plain": [
       "109.6585494970884"
      ]
     },
     "metadata": {},
     "output_type": "display_data"
    }
   ],
   "source": [
    "# Код:\n",
    "display(data['runtime'].mean())"
   ]
  },
  {
   "cell_type": "markdown",
   "metadata": {
    "colab_type": "text",
    "id": "r5TvbnT_Vp-u"
   },
   "source": [
    "# 5. Каково медианное значение длительности фильмов? "
   ]
  },
  {
   "cell_type": "code",
   "execution_count": 14,
   "metadata": {
    "colab": {},
    "colab_type": "code",
    "id": "iBROplKnVp-v"
   },
   "outputs": [],
   "source": [
    "answers['5'] = '1. 107'\n",
    "# +"
   ]
  },
  {
   "cell_type": "code",
   "execution_count": 15,
   "metadata": {},
   "outputs": [
    {
     "data": {
      "text/plain": [
       "107.0"
      ]
     },
     "metadata": {},
     "output_type": "display_data"
    }
   ],
   "source": [
    "# Код:\n",
    "display(data['runtime'].median())"
   ]
  },
  {
   "cell_type": "markdown",
   "metadata": {
    "colab_type": "text",
    "id": "39P-deDSVp-y"
   },
   "source": [
    "# 6. Какой самый прибыльный фильм?\n",
    "#### Внимание! Здесь и далее под «прибылью» или «убытками» понимается разность между сборами и бюджетом фильма. (прибыль = сборы - бюджет) в нашем датасете это будет (profit = revenue - budget) "
   ]
  },
  {
   "cell_type": "code",
   "execution_count": 16,
   "metadata": {},
   "outputs": [],
   "source": [
    "answers['6'] = '5. Avatar (tt0499549)'\n",
    "# +"
   ]
  },
  {
   "cell_type": "code",
   "execution_count": 17,
   "metadata": {},
   "outputs": [
    {
     "data": {
      "text/html": [
       "<div>\n",
       "<style scoped>\n",
       "    .dataframe tbody tr th:only-of-type {\n",
       "        vertical-align: middle;\n",
       "    }\n",
       "\n",
       "    .dataframe tbody tr th {\n",
       "        vertical-align: top;\n",
       "    }\n",
       "\n",
       "    .dataframe thead th {\n",
       "        text-align: right;\n",
       "    }\n",
       "</style>\n",
       "<table border=\"1\" class=\"dataframe\">\n",
       "  <thead>\n",
       "    <tr style=\"text-align: right;\">\n",
       "      <th></th>\n",
       "      <th>imdb_id</th>\n",
       "      <th>budget</th>\n",
       "      <th>revenue</th>\n",
       "      <th>profit</th>\n",
       "      <th>original_title</th>\n",
       "      <th>cast</th>\n",
       "      <th>director</th>\n",
       "      <th>tagline</th>\n",
       "      <th>overview</th>\n",
       "      <th>runtime</th>\n",
       "      <th>genres</th>\n",
       "      <th>production_companies</th>\n",
       "      <th>release_date</th>\n",
       "      <th>vote_average</th>\n",
       "      <th>release_year</th>\n",
       "    </tr>\n",
       "  </thead>\n",
       "  <tbody>\n",
       "    <tr>\n",
       "      <th>239</th>\n",
       "      <td>tt0499549</td>\n",
       "      <td>237000000</td>\n",
       "      <td>2781505847</td>\n",
       "      <td>2544505847</td>\n",
       "      <td>Avatar</td>\n",
       "      <td>Sam Worthington|Zoe Saldana|Sigourney Weaver|S...</td>\n",
       "      <td>James Cameron</td>\n",
       "      <td>Enter the World of Pandora.</td>\n",
       "      <td>In the 22nd century, a paraplegic Marine is di...</td>\n",
       "      <td>162</td>\n",
       "      <td>Action|Adventure|Fantasy|Science Fiction</td>\n",
       "      <td>Ingenious Film Partners|Twentieth Century Fox ...</td>\n",
       "      <td>12/10/2009</td>\n",
       "      <td>7.1</td>\n",
       "      <td>2009</td>\n",
       "    </tr>\n",
       "  </tbody>\n",
       "</table>\n",
       "</div>"
      ],
      "text/plain": [
       "       imdb_id     budget     revenue      profit original_title  \\\n",
       "239  tt0499549  237000000  2781505847  2544505847         Avatar   \n",
       "\n",
       "                                                  cast       director  \\\n",
       "239  Sam Worthington|Zoe Saldana|Sigourney Weaver|S...  James Cameron   \n",
       "\n",
       "                         tagline  \\\n",
       "239  Enter the World of Pandora.   \n",
       "\n",
       "                                              overview  runtime  \\\n",
       "239  In the 22nd century, a paraplegic Marine is di...      162   \n",
       "\n",
       "                                       genres  \\\n",
       "239  Action|Adventure|Fantasy|Science Fiction   \n",
       "\n",
       "                                  production_companies release_date  \\\n",
       "239  Ingenious Film Partners|Twentieth Century Fox ...   12/10/2009   \n",
       "\n",
       "     vote_average  release_year  \n",
       "239           7.1          2009  "
      ]
     },
     "metadata": {},
     "output_type": "display_data"
    }
   ],
   "source": [
    "# Код:\n",
    "display(data[data.profit == data.profit.max()])"
   ]
  },
  {
   "cell_type": "markdown",
   "metadata": {
    "colab_type": "text",
    "id": "M99JmIX4Vp-2"
   },
   "source": [
    "# 7. Какой фильм самый убыточный? "
   ]
  },
  {
   "cell_type": "code",
   "execution_count": 18,
   "metadata": {
    "colab": {},
    "colab_type": "code",
    "id": "w-D2m4XPVp-3"
   },
   "outputs": [],
   "source": [
    "answers['7'] = '5. The Lone Ranger (tt1210819)'\n",
    "# +"
   ]
  },
  {
   "cell_type": "code",
   "execution_count": 19,
   "metadata": {},
   "outputs": [
    {
     "data": {
      "text/html": [
       "<div>\n",
       "<style scoped>\n",
       "    .dataframe tbody tr th:only-of-type {\n",
       "        vertical-align: middle;\n",
       "    }\n",
       "\n",
       "    .dataframe tbody tr th {\n",
       "        vertical-align: top;\n",
       "    }\n",
       "\n",
       "    .dataframe thead th {\n",
       "        text-align: right;\n",
       "    }\n",
       "</style>\n",
       "<table border=\"1\" class=\"dataframe\">\n",
       "  <thead>\n",
       "    <tr style=\"text-align: right;\">\n",
       "      <th></th>\n",
       "      <th>imdb_id</th>\n",
       "      <th>budget</th>\n",
       "      <th>revenue</th>\n",
       "      <th>profit</th>\n",
       "      <th>original_title</th>\n",
       "      <th>cast</th>\n",
       "      <th>director</th>\n",
       "      <th>tagline</th>\n",
       "      <th>overview</th>\n",
       "      <th>runtime</th>\n",
       "      <th>genres</th>\n",
       "      <th>production_companies</th>\n",
       "      <th>release_date</th>\n",
       "      <th>vote_average</th>\n",
       "      <th>release_year</th>\n",
       "    </tr>\n",
       "  </thead>\n",
       "  <tbody>\n",
       "    <tr>\n",
       "      <th>1245</th>\n",
       "      <td>tt1210819</td>\n",
       "      <td>255000000</td>\n",
       "      <td>89289910</td>\n",
       "      <td>-165710090</td>\n",
       "      <td>The Lone Ranger</td>\n",
       "      <td>Johnny Depp|Armie Hammer|William Fichtner|Hele...</td>\n",
       "      <td>Gore Verbinski</td>\n",
       "      <td>Never Take Off the Mask</td>\n",
       "      <td>The Texas Rangers chase down a gang of outlaws...</td>\n",
       "      <td>149</td>\n",
       "      <td>Action|Adventure|Western</td>\n",
       "      <td>Walt Disney Pictures|Jerry Bruckheimer Films|I...</td>\n",
       "      <td>7/3/2013</td>\n",
       "      <td>6.0</td>\n",
       "      <td>2013</td>\n",
       "    </tr>\n",
       "  </tbody>\n",
       "</table>\n",
       "</div>"
      ],
      "text/plain": [
       "        imdb_id     budget   revenue     profit   original_title  \\\n",
       "1245  tt1210819  255000000  89289910 -165710090  The Lone Ranger   \n",
       "\n",
       "                                                   cast        director  \\\n",
       "1245  Johnny Depp|Armie Hammer|William Fichtner|Hele...  Gore Verbinski   \n",
       "\n",
       "                      tagline  \\\n",
       "1245  Never Take Off the Mask   \n",
       "\n",
       "                                               overview  runtime  \\\n",
       "1245  The Texas Rangers chase down a gang of outlaws...      149   \n",
       "\n",
       "                        genres  \\\n",
       "1245  Action|Adventure|Western   \n",
       "\n",
       "                                   production_companies release_date  \\\n",
       "1245  Walt Disney Pictures|Jerry Bruckheimer Films|I...     7/3/2013   \n",
       "\n",
       "      vote_average  release_year  \n",
       "1245           6.0          2013  "
      ]
     },
     "metadata": {},
     "output_type": "display_data"
    }
   ],
   "source": [
    "# Код:\n",
    "display(data[data.profit == data.profit.min()])"
   ]
  },
  {
   "cell_type": "markdown",
   "metadata": {
    "colab_type": "text",
    "id": "wEOM5ERVVp-6"
   },
   "source": [
    "# 8. У скольких фильмов из датасета объем сборов оказался выше бюджета?"
   ]
  },
  {
   "cell_type": "code",
   "execution_count": 20,
   "metadata": {
    "colab": {},
    "colab_type": "code",
    "id": "y00_7HD6Vp-7"
   },
   "outputs": [],
   "source": [
    "answers['8'] = '1. 1478'\n",
    "# +"
   ]
  },
  {
   "cell_type": "code",
   "execution_count": 21,
   "metadata": {},
   "outputs": [
    {
     "data": {
      "text/plain": [
       "1478"
      ]
     },
     "metadata": {},
     "output_type": "display_data"
    }
   ],
   "source": [
    "# Код:\n",
    "display(data[data.profit > 0]['imdb_id'].count())"
   ]
  },
  {
   "cell_type": "markdown",
   "metadata": {
    "colab_type": "text",
    "id": "xhpspA9KVp_A"
   },
   "source": [
    "# 9. Какой фильм оказался самым кассовым в 2008 году?"
   ]
  },
  {
   "cell_type": "code",
   "execution_count": 22,
   "metadata": {
    "colab": {},
    "colab_type": "code",
    "id": "MoUyQr9RVp_B"
   },
   "outputs": [],
   "source": [
    "answers['9'] = '4. The Dark Knight (tt0468569)'\n",
    "# +"
   ]
  },
  {
   "cell_type": "code",
   "execution_count": 23,
   "metadata": {},
   "outputs": [
    {
     "data": {
      "text/html": [
       "<div>\n",
       "<style scoped>\n",
       "    .dataframe tbody tr th:only-of-type {\n",
       "        vertical-align: middle;\n",
       "    }\n",
       "\n",
       "    .dataframe tbody tr th {\n",
       "        vertical-align: top;\n",
       "    }\n",
       "\n",
       "    .dataframe thead th {\n",
       "        text-align: right;\n",
       "    }\n",
       "</style>\n",
       "<table border=\"1\" class=\"dataframe\">\n",
       "  <thead>\n",
       "    <tr style=\"text-align: right;\">\n",
       "      <th></th>\n",
       "      <th>imdb_id</th>\n",
       "      <th>budget</th>\n",
       "      <th>revenue</th>\n",
       "      <th>profit</th>\n",
       "      <th>original_title</th>\n",
       "      <th>cast</th>\n",
       "      <th>director</th>\n",
       "      <th>tagline</th>\n",
       "      <th>overview</th>\n",
       "      <th>runtime</th>\n",
       "      <th>genres</th>\n",
       "      <th>production_companies</th>\n",
       "      <th>release_date</th>\n",
       "      <th>vote_average</th>\n",
       "      <th>release_year</th>\n",
       "    </tr>\n",
       "  </thead>\n",
       "  <tbody>\n",
       "    <tr>\n",
       "      <th>599</th>\n",
       "      <td>tt0468569</td>\n",
       "      <td>185000000</td>\n",
       "      <td>1001921825</td>\n",
       "      <td>816921825</td>\n",
       "      <td>The Dark Knight</td>\n",
       "      <td>Christian Bale|Michael Caine|Heath Ledger|Aaro...</td>\n",
       "      <td>Christopher Nolan</td>\n",
       "      <td>Why So Serious?</td>\n",
       "      <td>Batman raises the stakes in his war on crime. ...</td>\n",
       "      <td>152</td>\n",
       "      <td>Drama|Action|Crime|Thriller</td>\n",
       "      <td>DC Comics|Legendary Pictures|Warner Bros.|Syncopy</td>\n",
       "      <td>7/16/2008</td>\n",
       "      <td>8.1</td>\n",
       "      <td>2008</td>\n",
       "    </tr>\n",
       "  </tbody>\n",
       "</table>\n",
       "</div>"
      ],
      "text/plain": [
       "       imdb_id     budget     revenue     profit   original_title  \\\n",
       "599  tt0468569  185000000  1001921825  816921825  The Dark Knight   \n",
       "\n",
       "                                                  cast           director  \\\n",
       "599  Christian Bale|Michael Caine|Heath Ledger|Aaro...  Christopher Nolan   \n",
       "\n",
       "             tagline                                           overview  \\\n",
       "599  Why So Serious?  Batman raises the stakes in his war on crime. ...   \n",
       "\n",
       "     runtime                       genres  \\\n",
       "599      152  Drama|Action|Crime|Thriller   \n",
       "\n",
       "                                  production_companies release_date  \\\n",
       "599  DC Comics|Legendary Pictures|Warner Bros.|Syncopy    7/16/2008   \n",
       "\n",
       "     vote_average  release_year  \n",
       "599           8.1          2008  "
      ]
     },
     "metadata": {},
     "output_type": "display_data"
    }
   ],
   "source": [
    "# Код:\n",
    "films_2008 = data[data.release_year == 2008]\n",
    "display(films_2008[films_2008['profit'] == films_2008['profit'].max()])"
   ]
  },
  {
   "cell_type": "markdown",
   "metadata": {
    "colab_type": "text",
    "id": "Zi4hDKidVp_F"
   },
   "source": [
    "# 10. Самый убыточный фильм за период с 2012 по 2014 г. (включительно)?\n"
   ]
  },
  {
   "cell_type": "code",
   "execution_count": 24,
   "metadata": {
    "colab": {},
    "colab_type": "code",
    "id": "XqyRmufJVp_F"
   },
   "outputs": [],
   "source": [
    "answers['10'] = '5. The Lone Ranger (tt1210819)'\n",
    "# +"
   ]
  },
  {
   "cell_type": "code",
   "execution_count": 25,
   "metadata": {},
   "outputs": [
    {
     "data": {
      "text/html": [
       "<div>\n",
       "<style scoped>\n",
       "    .dataframe tbody tr th:only-of-type {\n",
       "        vertical-align: middle;\n",
       "    }\n",
       "\n",
       "    .dataframe tbody tr th {\n",
       "        vertical-align: top;\n",
       "    }\n",
       "\n",
       "    .dataframe thead th {\n",
       "        text-align: right;\n",
       "    }\n",
       "</style>\n",
       "<table border=\"1\" class=\"dataframe\">\n",
       "  <thead>\n",
       "    <tr style=\"text-align: right;\">\n",
       "      <th></th>\n",
       "      <th>imdb_id</th>\n",
       "      <th>budget</th>\n",
       "      <th>revenue</th>\n",
       "      <th>profit</th>\n",
       "      <th>original_title</th>\n",
       "      <th>cast</th>\n",
       "      <th>director</th>\n",
       "      <th>tagline</th>\n",
       "      <th>overview</th>\n",
       "      <th>runtime</th>\n",
       "      <th>genres</th>\n",
       "      <th>production_companies</th>\n",
       "      <th>release_date</th>\n",
       "      <th>vote_average</th>\n",
       "      <th>release_year</th>\n",
       "    </tr>\n",
       "  </thead>\n",
       "  <tbody>\n",
       "    <tr>\n",
       "      <th>1245</th>\n",
       "      <td>tt1210819</td>\n",
       "      <td>255000000</td>\n",
       "      <td>89289910</td>\n",
       "      <td>-165710090</td>\n",
       "      <td>The Lone Ranger</td>\n",
       "      <td>Johnny Depp|Armie Hammer|William Fichtner|Hele...</td>\n",
       "      <td>Gore Verbinski</td>\n",
       "      <td>Never Take Off the Mask</td>\n",
       "      <td>The Texas Rangers chase down a gang of outlaws...</td>\n",
       "      <td>149</td>\n",
       "      <td>Action|Adventure|Western</td>\n",
       "      <td>Walt Disney Pictures|Jerry Bruckheimer Films|I...</td>\n",
       "      <td>7/3/2013</td>\n",
       "      <td>6.0</td>\n",
       "      <td>2013</td>\n",
       "    </tr>\n",
       "  </tbody>\n",
       "</table>\n",
       "</div>"
      ],
      "text/plain": [
       "        imdb_id     budget   revenue     profit   original_title  \\\n",
       "1245  tt1210819  255000000  89289910 -165710090  The Lone Ranger   \n",
       "\n",
       "                                                   cast        director  \\\n",
       "1245  Johnny Depp|Armie Hammer|William Fichtner|Hele...  Gore Verbinski   \n",
       "\n",
       "                      tagline  \\\n",
       "1245  Never Take Off the Mask   \n",
       "\n",
       "                                               overview  runtime  \\\n",
       "1245  The Texas Rangers chase down a gang of outlaws...      149   \n",
       "\n",
       "                        genres  \\\n",
       "1245  Action|Adventure|Western   \n",
       "\n",
       "                                   production_companies release_date  \\\n",
       "1245  Walt Disney Pictures|Jerry Bruckheimer Films|I...     7/3/2013   \n",
       "\n",
       "      vote_average  release_year  \n",
       "1245           6.0          2013  "
      ]
     },
     "metadata": {},
     "output_type": "display_data"
    }
   ],
   "source": [
    "# Код:\n",
    "films = data[(data.release_year <= 2014) & (data.release_year >= 2012)]\n",
    "display(films[films['profit'] == films['profit'].min()])"
   ]
  },
  {
   "cell_type": "markdown",
   "metadata": {
    "colab_type": "text",
    "id": "EA7Sa9dkVp_I"
   },
   "source": [
    "# 11. Какого жанра фильмов больше всего?"
   ]
  },
  {
   "cell_type": "code",
   "execution_count": 26,
   "metadata": {
    "colab": {},
    "colab_type": "code",
    "id": "zsJAwJ8QVp_J"
   },
   "outputs": [],
   "source": [
    "answers['11'] = '3. Drama'\n",
    "# +"
   ]
  },
  {
   "cell_type": "code",
   "execution_count": 27,
   "metadata": {
    "colab": {},
    "colab_type": "code",
    "id": "otO3SbrSVp_N"
   },
   "outputs": [
    {
     "name": "stdout",
     "output_type": "stream",
     "text": [
      "Counter({'Drama': 782, 'Comedy': 683, 'Thriller': 596, 'Action': 582, 'Adventure': 415, 'Crime': 315, 'Romance': 308, 'Family': 260, 'Science Fiction': 248, 'Fantasy': 222, 'Horror': 176, 'Mystery': 168, 'Animation': 139, 'Music': 64, 'History': 62, 'War': 58, 'Western': 19, 'Documentary': 8, 'Foreign': 2})\n"
     ]
    }
   ],
   "source": [
    "# Код:\n",
    "separation(data.genres)\n",
    "print(c)"
   ]
  },
  {
   "cell_type": "markdown",
   "metadata": {
    "colab_type": "text",
    "id": "T9_bPWpkVp_Q"
   },
   "source": [
    "# 12. Фильмы какого жанра чаще всего становятся прибыльными? "
   ]
  },
  {
   "cell_type": "code",
   "execution_count": 28,
   "metadata": {
    "colab": {},
    "colab_type": "code",
    "id": "Tmt8MaK1Vp_R"
   },
   "outputs": [],
   "source": [
    "answers['12'] = '1. Drama'\n",
    "# +"
   ]
  },
  {
   "cell_type": "code",
   "execution_count": 29,
   "metadata": {},
   "outputs": [
    {
     "name": "stdout",
     "output_type": "stream",
     "text": [
      "Counter({'Drama': 1342, 'Comedy': 1234, 'Thriller': 1042, 'Action': 1026, 'Adventure': 752, 'Romance': 550, 'Crime': 546, 'Family': 486, 'Science Fiction': 443, 'Fantasy': 410, 'Horror': 326, 'Mystery': 287, 'Animation': 259, 'Music': 111, 'History': 108, 'War': 99, 'Western': 31, 'Documentary': 15, 'Foreign': 2})\n"
     ]
    }
   ],
   "source": [
    "# Код:\n",
    "profit_data = data[data.profit > 0]\n",
    "separation(profit_data.genres)\n",
    "print(c)"
   ]
  },
  {
   "cell_type": "markdown",
   "metadata": {
    "colab_type": "text",
    "id": "0F23bgsDVp_U"
   },
   "source": [
    "# 13. У какого режиссера самые большие суммарные кассовые сборы?"
   ]
  },
  {
   "cell_type": "code",
   "execution_count": 30,
   "metadata": {
    "colab": {},
    "colab_type": "code",
    "id": "K6Z3J8ygVp_X"
   },
   "outputs": [],
   "source": [
    "answers['13'] = '5. Peter Jackson'\n",
    "# +"
   ]
  },
  {
   "cell_type": "code",
   "execution_count": 31,
   "metadata": {},
   "outputs": [
    {
     "data": {
      "text/plain": [
       "budget          1.288000e+09\n",
       "revenue         6.490594e+09\n",
       "profit          5.202594e+09\n",
       "runtime         1.355000e+03\n",
       "vote_average    5.810000e+01\n",
       "release_year    1.605900e+04\n",
       "Name: Peter Jackson, dtype: float64"
      ]
     },
     "metadata": {},
     "output_type": "display_data"
    }
   ],
   "source": [
    "# Код:\n",
    "dir_data = data.groupby(['director']).sum().sort_values(['profit'], ascending = False)\n",
    "display(dir_data.iloc[0])"
   ]
  },
  {
   "cell_type": "markdown",
   "metadata": {
    "colab_type": "text",
    "id": "PsYC9FgRVp_a"
   },
   "source": [
    "# 14. Какой режисер снял больше всего фильмов в стиле Action?"
   ]
  },
  {
   "cell_type": "code",
   "execution_count": 32,
   "metadata": {
    "colab": {},
    "colab_type": "code",
    "id": "wd2M-wHeVp_b"
   },
   "outputs": [],
   "source": [
    "answers['14'] = '3. Robert Rodriguez'\n",
    "# +"
   ]
  },
  {
   "cell_type": "code",
   "execution_count": 33,
   "metadata": {},
   "outputs": [
    {
     "name": "stdout",
     "output_type": "stream",
     "text": [
      "Counter({'Drama': 1342, 'Comedy': 1234, 'Thriller': 1042, 'Action': 1026, 'Adventure': 752, 'Romance': 550, 'Crime': 546, 'Family': 486, 'Science Fiction': 443, 'Fantasy': 410, 'Horror': 326, 'Mystery': 287, 'Animation': 259, 'Music': 111, 'History': 108, 'War': 99, 'Western': 31, 'Documentary': 15, 'Robert Rodriguez': 9, 'Michael Bay': 7, 'Paul W.S. Anderson': 7, 'Antoine Fuqua': 6, 'Ridley Scott': 6, 'Brett Ratner': 5, 'Quentin Tarantino': 5, 'Zack Snyder': 5, 'Roland Emmerich': 5, 'Andrzej Bartkowiak': 5, 'Louis Leterrier': 5, 'Tony Scott': 5, 'Paul Greengrass': 5, 'Peter Jackson': 5, 'Lee Tamahori': 5, 'Gore Verbinski': 5, 'Rob Cohen': 5, 'Peter Berg': 5, 'J.J. Abrams': 4, 'Lana Wachowski': 4, 'Lilly Wachowski': 4, 'Olivier Megaton': 4, 'Guy Ritchie': 4, 'Bryan Singer': 4, 'Tim Story': 4, 'Renny Harlin': 4, 'Mark Neveldine': 4, 'Brian Taylor': 4, 'Dominic Sena': 4, 'Justin Lin': 4, 'Christopher Nolan': 4, 'Simon West': 4, 'John Moore': 4, 'Steven Spielberg': 4, 'Martin Campbell': 4, 'John Singleton': 4, 'Len Wiseman': 4, 'Brad Bird': 3, 'Matthew Vaughn': 3, 'Neill Blomkamp': 3, 'Jaume Collet-Serra': 3, 'Breck Eisner': 3, 'Pierre Morel': 3, 'David Ayer': 3, 'Doug Liman': 3, 'Clint Eastwood': 3, 'Phil Lord': 3, 'Christopher Miller': 3, 'McG': 3, 'Stephen Sommers': 3, 'Shawn Levy': 3, 'Jonathan Mostow': 3, 'Jon Favreau': 3, 'Jon Turteltaub': 3, 'Joe Carnahan': 3, 'M. Night Shyamalan': 3, 'Harald Zwart': 3, 'Marc Forster': 3, 'D.J. Caruso': 3, 'Edward Zwick': 3, 'Sam Raimi': 3, 'Barry Sonnenfeld': 3, 'Guillermo del Toro': 3, 'John Woo': 3, 'Uwe Boll': 3, 'David Twohy': 3, 'Foreign': 2, 'James Wan': 2, 'Alan Taylor': 2, 'Sam Mendes': 2, 'Joss Whedon': 2, 'Peyton Reed': 2, 'Brad Peyton': 2, 'Wes Ball': 2, 'Michael Mann': 2, 'Paul Feig': 2, 'Ron Howard': 2, 'Camille Delamarre': 2, 'Luc Besson': 2, 'Jonathan Liebesman': 2, 'Matt Reeves': 2, 'Marc Webb': 2, 'Evan Goldberg': 2, 'Seth Rogen': 2, 'Roger Donaldson': 2, 'J.C. Chandor': 2, 'Kenneth Branagh': 2, 'Scott Waugh': 2, 'Alex Proyas': 2, 'James McTeigue': 2, 'NimrÃ³d Antal': 2, 'Gavin Hood': 2, 'Sylvester Stallone': 2, 'Joseph Kosinski': 2, 'Edgar Wright': 2, 'Robert Schwentke': 2, 'James Mangold': 2, 'Neil Marshall': 2, 'Kevin Munroe': 2, 'Peter Howitt': 2, 'Frank Oz': 2, 'Joe Johnston': 2, 'Peter Hyams': 2, 'Timur Bekmambetov': 2, 'David Gordon Green': 2, 'Pete Travis': 2, 'Frank Miller': 2, 'Jason Friedberg': 2, 'Aaron Seltzer': 2, 'Rob Marshall': 2, 'Andrew Niccol': 2, 'Marcus Nispel': 2, 'Ruben Fleischer': 2, 'George Lucas': 2, 'Andrew Davis': 2, 'Walter Hill': 2, 'Rob Bowman': 2, 'Ang Lee': 2, 'Baltasar KormÃ¡kur': 2, 'Mark Steven Johnson': 2, 'F. Gary Gray': 2, 'David Dobkin': 2, 'Clark Johnson': 2, 'Richard Donner': 2, 'William Friedkin': 2, 'Francis Lawrence': 2, 'Courtney Solomon': 2, 'David R. Ellis': 2, 'David S. Goyer': 2, 'Colin Trevorrow': 1, 'George Miller': 1, 'Chris Columbus': 1, 'Christopher McQuarrie': 1, 'Ilya Naishuller': 1, 'Ericson Core': 1, 'Denis Villeneuve': 1, 'Josh Trank': 1, 'Aleksander Bach': 1, 'Andy Fickman': 1, 'John Erick Dowdle': 1, 'Anne Fletcher': 1, 'James Gunn': 1, 'Joe Russo': 1, 'Anthony Russo': 1, 'Chad Stahelski': 1, 'David Leitch': 1, 'Don Hall': 1, 'Chris Williams': 1, 'Neil Burger': 1, 'Gareth Edwards': 1, 'Robert Stromberg': 1, 'Dean DeBlois': 1, 'Patrick Hughes': 1, 'Gary Shore': 1, 'Noam Murro': 1, 'Vic Armstrong': 1, 'JosÃ© Padilha': 1, 'George Clooney': 1, 'Brian A Miller': 1, 'Steven Quale': 1, 'Adam Wingard': 1, 'James Cameron': 1, 'Patrick Tatopoulos': 1, 'Shane Acker': 1, 'Steve Carr': 1, 'Christian Alvart': 1, 'Hoyt Yeatman': 1, 'Kevin Macdonald': 1, 'Michael Spierig': 1, 'Peter Spierig': 1, 'Paul McGuigan': 1, 'Troy Duffy': 1, 'Paul Weitz': 1, 'David Bowers': 1, 'Daniel Barber': 1, 'Michael J. Bassett': 1, 'Pierre Coffin': 1, 'Chris Renaud': 1, 'Phillip Noyce': 1, 'Florian Henckel von Donnersmarck': 1, 'Mike Newell': 1, 'Ethan Maniquis': 1, 'Albert Hughes': 1, 'Allen Hughes': 1, 'Tom McGrath': 1, 'Adam McKay': 1, 'Miguel Sapochnik': 1, 'Andy Tennant': 1, 'Jonathan Lynn': 1, 'Jimmy Hayward': 1, 'Robert Luketic': 1, 'John Luessenhop': 1, 'Kevin Smith': 1, 'Jorma Taccone': 1, 'Brian Levant': 1, 'Stuart Beattie': 1, 'Tim Burton': 1, 'Brian Helgeland': 1, 'John A. Davis': 1, 'Chris Nahon': 1, 'Hironobu Sakaguchi': 1, 'Motonori Sakakibara': 1, 'Rod Lurie': 1, 'John Herzfeld': 1, 'Ivan Reitman': 1, 'Demian Lichtenstein': 1, 'John Carpenter': 1, 'Bobby Farrelly': 1, 'Peter Farrelly': 1, 'Barry Levinson': 1, 'Luke Greenfield': 1, 'Les Mayfield': 1, 'Henry Selick': 1, 'Rob Pritts': 1, 'Ernest R. Dickerson': 1, 'DJ Pooh': 1, 'Eric Brevig': 1, 'Ben Stiller': 1, 'Jeff Wadlow': 1, 'Lexi Alexander': 1, 'Peter Segal': 1, 'Mathieu Kassovitz': 1, 'Rob Minkoff': 1, 'Jon Avnet': 1, 'Dennis Dugan': 1, 'Howard McCain': 1, 'Oxide Pang Chun': 1, 'Danny Pang': 1, 'Craig Mazin': 1, 'Simon Hunter': 1, 'Nicolas Winding Refn': 1, 'Rupert Wyatt': 1, 'Patrick Lussier': 1, 'Gary McKendry': 1, 'Scott Stewart': 1, 'Tarsem Singh': 1, 'Chris Gorak': 1, 'Chris Miller': 1, 'Michel Gondry': 1, 'Oliver Parker': 1, 'Joe Cornish': 1, 'Joe Wright': 1, 'John Michael McDonagh': 1, 'Alister Grierson': 1, 'Sean McNamara': 1, 'John Whitesell': 1, 'Benny Chan': 1, 'Corey Yuen Kwai': 1, 'Stuart Baird': 1, 'Kurt Wimmer': 1, 'Jay Roach': 1, 'Jim Gillespie': 1, 'Chuck Russell': 1, 'Betty Thomas': 1, 'Randall Wallace': 1, 'Ron Shelton': 1, 'Simon Wells': 1, 'Roger Michell': 1, 'Michael Apted': 1, 'Tom Dey': 1, 'Joel Schumacher': 1, 'Luis Mandoki': 1, 'Tamra Davis': 1, 'Ron Underwood': 1, 'Kevin Bray': 1, 'Malcolm D. Lee': 1, 'MÃ¥ns MÃ¥rlind': 1, 'BjÃ¶rn Stein': 1, 'Tony Gilroy': 1, 'Mark Andrews': 1, 'Steve Purcell': 1, 'Brenda Chapman': 1, 'Boaz Yakin': 1, 'Andrew Stanton': 1, 'Rian Johnson': 1, 'Mike McCoy': 1, 'Stephen St. Leger': 1, 'James Mather': 1, 'Daniel Espinosa': 1, 'Asger Leth': 1, 'Mabrouk El Mechri': 1, 'Dan Bradley': 1, 'Julie Anne Robinson': 1, 'Anthony Hemingway': 1, 'David Koepp': 1, 'David Barrett': 1, 'Stephen Norrington': 1, 'Jan de Bont': 1, 'Jon Amiel': 1, 'John McTiernan': 1, 'Shane Black': 1, 'Tommy Wirkola': 1, 'Carl Rinsch': 1, 'Gary Fleder': 1, 'Mikael HÃ¥fstrÃ¶m': 1, 'Taylor Hackford': 1, 'Steven Knight': 1, 'Spike Lee': 1, 'Dito Montiel': 1, 'Keanu Reeves': 1, 'Fyodor Bondarchuk': 1, 'Karyn Kusama': 1, 'Adam Shankman': 1, 'John Stockwell': 1, 'Sydney Pollack': 1, 'Terry Gilliam': 1, 'Jay Chandrasekhar': 1, 'Richard Shepard': 1, 'John Dahl': 1, 'Bruce Hunt': 1, 'Alfonso CuarÃ³n': 1, 'Stefen Fangmeier': 1, 'Mel Gibson': 1, 'Bruce Beresford': 1, 'Wolfgang Petersen': 1, 'Jeff Tremaine': 1, 'John Bonito': 1, 'Geoffrey Sax': 1, 'Tony Bill': 1, 'Wayne Kramer': 1, 'Sanjay Gadhvi': 1, 'Phil Joanou': 1, 'Alexander Witt': 1, 'Bibo Bergeron': 1, 'Vicky Jenson': 1, 'Rob Letterman': 1, 'Kerry Conran': 1, 'Oliver Stone': 1, 'Jonathan Hensleigh': 1, 'Pitof': 1, 'Philip Kaufman': 1, 'Trey Parker': 1, 'Steven Brill': 1, 'Frank Coraci': 1, 'Paul Abascal': 1, 'Joseph Kahn': 1, 'David Mamet': 1, 'Jay Russell': 1, 'Robert Redford': 1, 'Philip G. Atwell': 1, 'Michael Davis': 1, 'Xavier Gens': 1, 'Eli Roth': 1, 'Rob Zombie': 1, 'Jason Eisener': 1, 'Dave Meyers': 1, 'Russell Mulcahy': 1, 'Andrew Dominik': 1, 'Doug Lefler': 1, 'David Leland': 1, 'Feng Xiaogang': 1, 'Ben Garant': 1, 'Joel Coen': 1, 'Donald Petrie': 1, 'Paul Verhoeven': 1, 'Roger Spottiswoode': 1, 'Antony Hoffman': 1, 'Stephen T. Kay': 1, 'Don Bluth': 1, 'Gary Goldman': 1, 'Christian Duguay': 1, 'Douglas Aarniokoski': 1, 'Gina Prince-Bythewood': 1, 'Brian Robbins': 1, 'Des McAnuff': 1})\n"
     ]
    }
   ],
   "source": [
    "# Код:\n",
    "for string in data.genres:\n",
    "    upd_string = string.split(sep = '|')\n",
    "    for element in upd_string:\n",
    "        if element == \"Action\":\n",
    "            dir_string = data.director[count]\n",
    "            upd_dir_string = dir_string.split(sep = '|')\n",
    "            for director in upd_dir_string:                 \n",
    "                c[director] += 1\n",
    "    count += 1 \n",
    "    \n",
    "print(c)"
   ]
  },
  {
   "cell_type": "markdown",
   "metadata": {
    "colab_type": "text",
    "id": "PQ0KciD7Vp_f"
   },
   "source": [
    "# 15. Фильмы с каким актером принесли самые высокие кассовые сборы в 2012 году? "
   ]
  },
  {
   "cell_type": "code",
   "execution_count": 34,
   "metadata": {
    "colab": {},
    "colab_type": "code",
    "id": "aga62oeKVp_g"
   },
   "outputs": [],
   "source": [
    "answers['15'] = '3. Chris Hemsworth'\n",
    "# +"
   ]
  },
  {
   "cell_type": "code",
   "execution_count": 35,
   "metadata": {},
   "outputs": [
    {
     "name": "stdout",
     "output_type": "stream",
     "text": [
      "Counter({'Drama': 1342, 'Comedy': 1234, 'Thriller': 1042, 'Action': 1026, 'Adventure': 752, 'Romance': 550, 'Crime': 546, 'Family': 486, 'Science Fiction': 443, 'Fantasy': 410, 'Horror': 326, 'Mystery': 287, 'Animation': 259, 'Music': 111, 'History': 108, 'War': 99, 'Western': 31, 'Documentary': 15, 'Robert Rodriguez': 9, 'Michael Bay': 7, 'Paul W.S. Anderson': 7, 'Antoine Fuqua': 6, 'Ridley Scott': 6, 'Brett Ratner': 5, 'Quentin Tarantino': 5, 'Zack Snyder': 5, 'Roland Emmerich': 5, 'Andrzej Bartkowiak': 5, 'Louis Leterrier': 5, 'Tony Scott': 5, 'Paul Greengrass': 5, 'Peter Jackson': 5, 'Lee Tamahori': 5, 'Gore Verbinski': 5, 'Rob Cohen': 5, 'Peter Berg': 5, 'J.J. Abrams': 4, 'Lana Wachowski': 4, 'Lilly Wachowski': 4, 'Olivier Megaton': 4, 'Guy Ritchie': 4, 'Bryan Singer': 4, 'Tim Story': 4, 'Renny Harlin': 4, 'Mark Neveldine': 4, 'Brian Taylor': 4, 'Dominic Sena': 4, 'Justin Lin': 4, 'Christopher Nolan': 4, 'Simon West': 4, 'John Moore': 4, 'Steven Spielberg': 4, 'Martin Campbell': 4, 'John Singleton': 4, 'Len Wiseman': 4, 'Brad Bird': 3, 'Matthew Vaughn': 3, 'Neill Blomkamp': 3, 'Jaume Collet-Serra': 3, 'Breck Eisner': 3, 'Pierre Morel': 3, 'David Ayer': 3, 'Doug Liman': 3, 'Clint Eastwood': 3, 'Phil Lord': 3, 'Christopher Miller': 3, 'McG': 3, 'Stephen Sommers': 3, 'Shawn Levy': 3, 'Jonathan Mostow': 3, 'Jon Favreau': 3, 'Jon Turteltaub': 3, 'Joe Carnahan': 3, 'M. Night Shyamalan': 3, 'Harald Zwart': 3, 'Marc Forster': 3, 'D.J. Caruso': 3, 'Edward Zwick': 3, 'Sam Raimi': 3, 'Barry Sonnenfeld': 3, 'Guillermo del Toro': 3, 'John Woo': 3, 'Uwe Boll': 3, 'David Twohy': 3, 'Foreign': 2, 'James Wan': 2, 'Alan Taylor': 2, 'Sam Mendes': 2, 'Joss Whedon': 2, 'Peyton Reed': 2, 'Brad Peyton': 2, 'Wes Ball': 2, 'Michael Mann': 2, 'Paul Feig': 2, 'Ron Howard': 2, 'Camille Delamarre': 2, 'Luc Besson': 2, 'Jonathan Liebesman': 2, 'Matt Reeves': 2, 'Marc Webb': 2, 'Evan Goldberg': 2, 'Seth Rogen': 2, 'Roger Donaldson': 2, 'J.C. Chandor': 2, 'Kenneth Branagh': 2, 'Scott Waugh': 2, 'Alex Proyas': 2, 'James McTeigue': 2, 'NimrÃ³d Antal': 2, 'Gavin Hood': 2, 'Sylvester Stallone': 2, 'Joseph Kosinski': 2, 'Edgar Wright': 2, 'Robert Schwentke': 2, 'James Mangold': 2, 'Neil Marshall': 2, 'Kevin Munroe': 2, 'Peter Howitt': 2, 'Frank Oz': 2, 'Joe Johnston': 2, 'Peter Hyams': 2, 'Timur Bekmambetov': 2, 'David Gordon Green': 2, 'Pete Travis': 2, 'Frank Miller': 2, 'Jason Friedberg': 2, 'Aaron Seltzer': 2, 'Rob Marshall': 2, 'Andrew Niccol': 2, 'Marcus Nispel': 2, 'Ruben Fleischer': 2, 'George Lucas': 2, 'Andrew Davis': 2, 'Walter Hill': 2, 'Rob Bowman': 2, 'Ang Lee': 2, 'Baltasar KormÃ¡kur': 2, 'Mark Steven Johnson': 2, 'F. Gary Gray': 2, 'David Dobkin': 2, 'Clark Johnson': 2, 'Richard Donner': 2, 'William Friedkin': 2, 'Francis Lawrence': 2, 'Courtney Solomon': 2, 'David R. Ellis': 2, 'David S. Goyer': 2, 'Colin Trevorrow': 1, 'George Miller': 1, 'Chris Columbus': 1, 'Christopher McQuarrie': 1, 'Ilya Naishuller': 1, 'Ericson Core': 1, 'Denis Villeneuve': 1, 'Josh Trank': 1, 'Aleksander Bach': 1, 'Andy Fickman': 1, 'John Erick Dowdle': 1, 'Anne Fletcher': 1, 'James Gunn': 1, 'Joe Russo': 1, 'Anthony Russo': 1, 'Chad Stahelski': 1, 'David Leitch': 1, 'Don Hall': 1, 'Chris Williams': 1, 'Neil Burger': 1, 'Gareth Edwards': 1, 'Robert Stromberg': 1, 'Dean DeBlois': 1, 'Patrick Hughes': 1, 'Gary Shore': 1, 'Noam Murro': 1, 'Vic Armstrong': 1, 'JosÃ© Padilha': 1, 'George Clooney': 1, 'Brian A Miller': 1, 'Steven Quale': 1, 'Adam Wingard': 1, 'James Cameron': 1, 'Patrick Tatopoulos': 1, 'Shane Acker': 1, 'Steve Carr': 1, 'Christian Alvart': 1, 'Hoyt Yeatman': 1, 'Kevin Macdonald': 1, 'Michael Spierig': 1, 'Peter Spierig': 1, 'Paul McGuigan': 1, 'Troy Duffy': 1, 'Paul Weitz': 1, 'David Bowers': 1, 'Daniel Barber': 1, 'Michael J. Bassett': 1, 'Pierre Coffin': 1, 'Chris Renaud': 1, 'Phillip Noyce': 1, 'Florian Henckel von Donnersmarck': 1, 'Mike Newell': 1, 'Ethan Maniquis': 1, 'Albert Hughes': 1, 'Allen Hughes': 1, 'Tom McGrath': 1, 'Adam McKay': 1, 'Miguel Sapochnik': 1, 'Andy Tennant': 1, 'Jonathan Lynn': 1, 'Jimmy Hayward': 1, 'Robert Luketic': 1, 'John Luessenhop': 1, 'Kevin Smith': 1, 'Jorma Taccone': 1, 'Brian Levant': 1, 'Stuart Beattie': 1, 'Tim Burton': 1, 'Brian Helgeland': 1, 'John A. Davis': 1, 'Chris Nahon': 1, 'Hironobu Sakaguchi': 1, 'Motonori Sakakibara': 1, 'Rod Lurie': 1, 'John Herzfeld': 1, 'Ivan Reitman': 1, 'Demian Lichtenstein': 1, 'John Carpenter': 1, 'Bobby Farrelly': 1, 'Peter Farrelly': 1, 'Barry Levinson': 1, 'Luke Greenfield': 1, 'Les Mayfield': 1, 'Henry Selick': 1, 'Rob Pritts': 1, 'Ernest R. Dickerson': 1, 'DJ Pooh': 1, 'Eric Brevig': 1, 'Ben Stiller': 1, 'Jeff Wadlow': 1, 'Lexi Alexander': 1, 'Peter Segal': 1, 'Mathieu Kassovitz': 1, 'Rob Minkoff': 1, 'Jon Avnet': 1, 'Dennis Dugan': 1, 'Howard McCain': 1, 'Oxide Pang Chun': 1, 'Danny Pang': 1, 'Craig Mazin': 1, 'Simon Hunter': 1, 'Nicolas Winding Refn': 1, 'Rupert Wyatt': 1, 'Patrick Lussier': 1, 'Gary McKendry': 1, 'Scott Stewart': 1, 'Tarsem Singh': 1, 'Chris Gorak': 1, 'Chris Miller': 1, 'Michel Gondry': 1, 'Oliver Parker': 1, 'Joe Cornish': 1, 'Joe Wright': 1, 'John Michael McDonagh': 1, 'Alister Grierson': 1, 'Sean McNamara': 1, 'John Whitesell': 1, 'Benny Chan': 1, 'Corey Yuen Kwai': 1, 'Stuart Baird': 1, 'Kurt Wimmer': 1, 'Jay Roach': 1, 'Jim Gillespie': 1, 'Chuck Russell': 1, 'Betty Thomas': 1, 'Randall Wallace': 1, 'Ron Shelton': 1, 'Simon Wells': 1, 'Roger Michell': 1, 'Michael Apted': 1, 'Tom Dey': 1, 'Joel Schumacher': 1, 'Luis Mandoki': 1, 'Tamra Davis': 1, 'Ron Underwood': 1, 'Kevin Bray': 1, 'Malcolm D. Lee': 1, 'MÃ¥ns MÃ¥rlind': 1, 'BjÃ¶rn Stein': 1, 'Tony Gilroy': 1, 'Mark Andrews': 1, 'Steve Purcell': 1, 'Brenda Chapman': 1, 'Boaz Yakin': 1, 'Andrew Stanton': 1, 'Rian Johnson': 1, 'Mike McCoy': 1, 'Stephen St. Leger': 1, 'James Mather': 1, 'Daniel Espinosa': 1, 'Asger Leth': 1, 'Mabrouk El Mechri': 1, 'Dan Bradley': 1, 'Julie Anne Robinson': 1, 'Anthony Hemingway': 1, 'David Koepp': 1, 'David Barrett': 1, 'Stephen Norrington': 1, 'Jan de Bont': 1, 'Jon Amiel': 1, 'John McTiernan': 1, 'Shane Black': 1, 'Tommy Wirkola': 1, 'Carl Rinsch': 1, 'Gary Fleder': 1, 'Mikael HÃ¥fstrÃ¶m': 1, 'Taylor Hackford': 1, 'Steven Knight': 1, 'Spike Lee': 1, 'Dito Montiel': 1, 'Keanu Reeves': 1, 'Fyodor Bondarchuk': 1, 'Karyn Kusama': 1, 'Adam Shankman': 1, 'John Stockwell': 1, 'Sydney Pollack': 1, 'Terry Gilliam': 1, 'Jay Chandrasekhar': 1, 'Richard Shepard': 1, 'John Dahl': 1, 'Bruce Hunt': 1, 'Alfonso CuarÃ³n': 1, 'Stefen Fangmeier': 1, 'Mel Gibson': 1, 'Bruce Beresford': 1, 'Wolfgang Petersen': 1, 'Jeff Tremaine': 1, 'John Bonito': 1, 'Geoffrey Sax': 1, 'Tony Bill': 1, 'Wayne Kramer': 1, 'Sanjay Gadhvi': 1, 'Phil Joanou': 1, 'Alexander Witt': 1, 'Bibo Bergeron': 1, 'Vicky Jenson': 1, 'Rob Letterman': 1, 'Kerry Conran': 1, 'Oliver Stone': 1, 'Jonathan Hensleigh': 1, 'Pitof': 1, 'Philip Kaufman': 1, 'Trey Parker': 1, 'Steven Brill': 1, 'Frank Coraci': 1, 'Paul Abascal': 1, 'Joseph Kahn': 1, 'David Mamet': 1, 'Jay Russell': 1, 'Robert Redford': 1, 'Philip G. Atwell': 1, 'Michael Davis': 1, 'Xavier Gens': 1, 'Eli Roth': 1, 'Rob Zombie': 1, 'Jason Eisener': 1, 'Dave Meyers': 1, 'Russell Mulcahy': 1, 'Andrew Dominik': 1, 'Doug Lefler': 1, 'David Leland': 1, 'Feng Xiaogang': 1, 'Ben Garant': 1, 'Joel Coen': 1, 'Donald Petrie': 1, 'Paul Verhoeven': 1, 'Roger Spottiswoode': 1, 'Antony Hoffman': 1, 'Stephen T. Kay': 1, 'Don Bluth': 1, 'Gary Goldman': 1, 'Christian Duguay': 1, 'Douglas Aarniokoski': 1, 'Gina Prince-Bythewood': 1, 'Brian Robbins': 1, 'Des McAnuff': 1, 'Robert Downey Jr.': 1, 'Chris Evans': 1, 'Mark Ruffalo': 1, 'Chris Hemsworth': 1, 'Scarlett Johansson': 1})\n"
     ]
    }
   ],
   "source": [
    "# Код:\n",
    "films = data[data.release_year == 2012]\n",
    "film = films[films.revenue == films.revenue.max()]\n",
    "separation(film.cast)\n",
    "print(c)"
   ]
  },
  {
   "cell_type": "markdown",
   "metadata": {
    "colab_type": "text",
    "id": "mWHyyL7QVp_j"
   },
   "source": [
    "# 16. Какой актер снялся в большем количестве высокобюджетных фильмов?"
   ]
  },
  {
   "cell_type": "code",
   "execution_count": 36,
   "metadata": {
    "colab": {},
    "colab_type": "code",
    "id": "qQtmHKTFVp_k"
   },
   "outputs": [],
   "source": [
    "answers['16'] = '3. Matt Damon'\n",
    "# +"
   ]
  },
  {
   "cell_type": "code",
   "execution_count": 37,
   "metadata": {},
   "outputs": [
    {
     "name": "stdout",
     "output_type": "stream",
     "text": [
      "Counter({'Drama': 1342, 'Comedy': 1234, 'Thriller': 1042, 'Action': 1026, 'Adventure': 752, 'Romance': 550, 'Crime': 546, 'Family': 486, 'Science Fiction': 443, 'Fantasy': 410, 'Horror': 326, 'Mystery': 287, 'Animation': 259, 'Music': 111, 'History': 108, 'War': 99, 'Western': 31, 'Matt Damon': 18, 'Adam Sandler': 17, 'Angelina Jolie': 16, 'Documentary': 15, 'Ben Stiller': 15, 'Tom Cruise': 15, 'Samuel L. Jackson': 15, 'Eddie Murphy': 15, 'Mark Wahlberg': 14, 'Hugh Jackman': 14, 'Jamie Foxx': 14, 'Russell Crowe': 14, 'Johnny Depp': 13, 'Jude Law': 13, 'Bruce Willis': 13, 'Will Smith': 13, 'Robert Downey Jr.': 12, 'Dwayne Johnson': 12, 'Ian McKellen': 12, 'Brad Pitt': 12, 'Owen Wilson': 12, 'Cameron Diaz': 12, 'Nicolas Cage': 12, 'Robert De Niro': 12, 'Mark Ruffalo': 11, 'Leonardo DiCaprio': 11, 'Daniel Craig': 11, 'Steve Buscemi': 11, 'Sylvester Stallone': 10, 'Vin Diesel': 10, 'Jack Black': 10, 'Denzel Washington': 10, 'Emma Watson': 10, 'Gary Oldman': 10, 'Tom Hanks': 10, 'Orlando Bloom': 10, 'George Clooney': 9, 'Robert Rodriguez': 9, 'Chris Hemsworth': 9, 'Ralph Fiennes': 9, 'Cate Blanchett': 9, 'Michael Caine': 9, 'Ewan McGregor': 9, 'Paul Bettany': 9, 'Brendan Gleeson': 9, 'Shia LaBeouf': 9, 'Nicole Kidman': 9, 'Colin Farrell': 9, 'Rachel Weisz': 9, 'Halle Berry': 9, 'Chris Evans': 8, 'Charlize Theron': 8, 'Kevin James': 8, 'Helena Bonham Carter': 8, 'Josh Hutcherson': 8, 'James Franco': 8, 'Christian Bale': 8, 'Gerard Butler': 8, 'Rosario Dawson': 8, 'Ben Kingsley': 8, 'Bill Nighy': 8, 'Daniel Radcliffe': 8, 'Rupert Grint': 8, 'Jim Carrey': 8, 'Vince Vaughn': 8, 'Alec Baldwin': 8, 'Steve Carell': 8, 'Michael Bay': 7, 'Paul W.S. Anderson': 7, 'Jon Favreau': 7, 'Keanu Reeves': 7, 'Mel Gibson': 7, 'Scarlett Johansson': 7, 'Harrison Ford': 7, 'Jason Statham': 7, 'Woody Harrelson': 7, 'Josh Brolin': 7, 'Jeff Bridges': 7, 'Anne Hathaway': 7, 'Patrick Stewart': 7, 'Jennifer Connelly': 7, 'Anthony Hopkins': 7, 'Morgan Freeman': 7, 'Billy Crudup': 7, 'Jason Lee': 7, 'Jessica Biel': 7, 'Julia Roberts': 7, 'Ryan Reynolds': 7, 'Liam Neeson': 7, 'Karl Urban': 7, 'Richard Jenkins': 7, 'Chris Rock': 7, 'Antoine Fuqua': 6, 'Seth Rogen': 6, 'Ridley Scott': 6, 'Peter Berg': 6, 'Kate Winslet': 6, 'Paul Walker': 6, 'Arnold Schwarzenegger': 6, 'Sean Bean': 6, 'Elizabeth Banks': 6, 'Ving Rhames': 6, 'Mark Strong': 6, 'Jeffrey Wright': 6, 'Gwyneth Paltrow': 6, 'Matthew McConaughey': 6, 'Rosamund Pike': 6, 'Logan Lerman': 6, 'Robin Williams': 6, 'Stanley Tucci': 6, 'Kevin Costner': 6, 'John Goodman': 6, 'Aaron Eckhart': 6, 'Justin Long': 6, 'Will Ferrell': 6, 'Seann William Scott': 6, 'Paul Giamatti': 6, 'Dustin Hoffman': 6, 'Mike Myers': 6, 'Eva Mendes': 6, 'Kate Beckinsale': 6, 'Jon Voight': 6, 'Jackie Chan': 6, 'Tobey Maguire': 6, 'Guy Pearce': 6, 'John Leguizamo': 6, 'Tommy Lee Jones': 6, 'Brett Ratner': 5, 'Kenneth Branagh': 5, 'Quentin Tarantino': 5, 'Zack Snyder': 5, 'Roland Emmerich': 5, 'Andrzej Bartkowiak': 5, 'Louis Leterrier': 5, 'Tony Scott': 5, 'Paul Greengrass': 5, 'Peter Jackson': 5, 'Lee Tamahori': 5, 'Gore Verbinski': 5, 'Rob Cohen': 5, 'Michelle Rodriguez': 5, 'Michael PeÃ±a': 5, 'Paul Rudd': 5, 'Jennifer Lawrence': 5, 'Carla Gugino': 5, 'Ioan Gruffudd': 5, 'Simon Pegg': 5, 'Giovanni Ribisi': 5, 'Frances McDormand': 5, 'Elijah Wood': 5, 'Jake Gyllenhaal': 5, 'Sam Worthington': 5, 'Delroy Lindo': 5, 'Bradley Cooper': 5, 'Donald Sutherland': 5, 'Ben Affleck': 5, 'Andy Serkis': 5, 'John Turturro': 5, 'Jonah Hill': 5, 'Julianne Moore': 5, 'John Malkovich': 5, 'Ian McShane': 5, 'Chris Pine': 5, 'Keira Knightley': 5, 'Jessica Alba': 5, 'Eric Bana': 5, 'Benjamin Bratt': 5, 'Hank Azaria': 5, 'John Travolta': 5, 'David Cross': 5, 'Clive Owen': 5, 'Sam Elliott': 5, 'Don Cheadle': 5, 'Ron Perlman': 5, 'Antonio Banderas': 5, 'Peter Sarsgaard': 5, 'Zach Galifianakis': 5, 'Nick Nolte': 5, 'Brendan Fraser': 5, 'Jennifer Aniston': 5, 'Edward Norton': 5, 'Judi Dench': 5, 'John C. Reilly': 5, 'Sacha Baron Cohen': 5, 'Kirsten Dunst': 5, 'Djimon Hounsou': 5, 'Catherine Zeta-Jones': 5, 'J.J. Abrams': 4, 'Lana Wachowski': 4, 'Lilly Wachowski': 4, 'Olivier Megaton': 4, 'Guy Ritchie': 4, 'Bryan Singer': 4, 'Clint Eastwood': 4, 'Tim Story': 4, 'Renny Harlin': 4, 'Mark Neveldine': 4, 'Brian Taylor': 4, 'Dominic Sena': 4, 'Justin Lin': 4, 'Christopher Nolan': 4, 'Simon West': 4, 'John Moore': 4, 'Steven Spielberg': 4, 'Martin Campbell': 4, 'John Singleton': 4, 'Len Wiseman': 4, 'Robert Redford': 4, 'Tom Hardy': 4, 'Kristen Wiig': 4, 'Christoph Waltz': 4, 'Michelle Monaghan': 4, 'Liam Hemsworth': 4, 'Amanda Seyfried': 4, 'Steve Martin': 4, 'Ray Winstone': 4, 'Rose Byrne': 4, 'Tom Hiddleston': 4, 'Michael Fassbender': 4, 'Megan Fox': 4, 'Will Arnett': 4, 'William Fichtner': 4, 'Marton Csokas': 4, 'Emma Stone': 4, 'Bill Paxton': 4, 'Joel Edgerton': 4, 'Bryan Cranston': 4, 'Jay Baruchel': 4, 'Eva Green': 4, 'David Wenham': 4, 'Michael Gambon': 4, 'Mickey Rourke': 4, 'Joseph Gordon-Levitt': 4, 'Bill Murray': 4, 'Carrie-Anne Moss': 4, 'Bruce Greenwood': 4, 'Patrick Wilson': 4, 'Chiwetel Ejiofor': 4, 'Thandie Newton': 4, 'Anna Faris': 4, 'Amy Adams': 4, 'Susan Sarandon': 4, 'PenÃ©lope Cruz': 4, 'Luis GuzmÃ¡n': 4, 'Jason Bateman': 4, 'Reese Witherspoon': 4, 'Tyrese Gibson': 4, 'Catherine Keener': 4, 'James Cromwell': 4, 'Julie Andrews': 4, 'Alfred Molina': 4, 'Salma Hayek': 4, 'Kristen Stewart': 4, 'Peter Facinelli': 4, 'Jason Isaacs': 4, 'Ashton Kutcher': 4, 'Jack Nicholson': 4, 'Viggo Mortensen': 4, 'Liv Tyler': 4, 'Ed Harris': 4, 'Heath Ledger': 4, 'Kurt Russell': 4, 'Angela Bassett': 4, 'TÃ©a Leoni': 4, 'Terrence Howard': 4, 'Hayden Christensen': 4, 'Terence Stamp': 4, 'Anthony Mackie': 4, 'Zooey Deschanel': 4, 'Matthew Broderick': 4, 'Ed Helms': 4, 'Hugo Weaving': 4, 'Geoffrey Rush': 4, 'Natalie Portman': 4, 'Denis Leary': 4, 'Brian Cox': 4, 'Willem Dafoe': 4, 'Joaquin Phoenix': 4, 'Famke Janssen': 4, 'Peter Stormare': 4, 'Kerry Washington': 4, 'Billy Connolly': 4, 'Drew Barrymore': 4, 'RenÃ©e Zellweger': 4, 'Christopher Walken': 4, 'Brad Bird': 3, 'Matthew Vaughn': 3, 'Neill Blomkamp': 3, 'Jaume Collet-Serra': 3, 'Breck Eisner': 3, 'Pierre Morel': 3, 'David Ayer': 3, 'Doug Liman': 3, 'Phil Lord': 3, 'Christopher Miller': 3, 'McG': 3, 'Stephen Sommers': 3, 'Shawn Levy': 3, 'Jonathan Mostow': 3, 'Jon Turteltaub': 3, 'Joe Carnahan': 3, 'M. Night Shyamalan': 3, 'Harald Zwart': 3, 'Marc Forster': 3, 'D.J. Caruso': 3, 'Edward Zwick': 3, 'Sam Raimi': 3, 'Barry Sonnenfeld': 3, 'Guillermo del Toro': 3, 'John Woo': 3, 'Uwe Boll': 3, 'David Twohy': 3, 'Bryce Dallas Howard': 3, 'Theo James': 3, 'Miles Teller': 3, 'Jason Clarke': 3, 'Jai Courtney': 3, 'Jessica Chastain': 3, 'Sandra Bullock': 3, 'Michael Keaton': 3, 'Bill Hader': 3, 'Monica Bellucci': 3, 'Mila Kunis': 3, 'Channing Tatum': 3, 'Josh Gad': 3, 'Michael Douglas': 3, 'Bobby Cannavale': 3, 'Hugh Laurie': 3, 'Alexandra Daddario': 3, 'Jeremy Renner': 3, 'Amy Ryan': 3, 'Henry Cavill': 3, 'Armie Hammer': 3, 'Kate Mara': 3, 'Jamie Bell': 3, 'Toby Kebbell': 3, 'Garrett Hedlund': 3, 'Andy Samberg': 3, 'Rachel McAdams': 3, 'Marion Cotillard': 3, 'Charlie Hunnam': 3, 'Casey Affleck': 3, 'Zoe Saldana': 3, 'Martin Freeman': 3, 'Richard Armitage': 3, 'Neil Patrick Harris': 3, 'James McAvoy': 3, 'Li Bingbing': 3, 'Colm Feore': 3, 'Sienna Miller': 3, 'Ken Watanabe': 3, 'Elle Fanning': 3, 'Sharlto Copley': 3, 'Luke Evans': 3, 'Dominic Cooper': 3, 'John Hurt': 3, 'Rufus Sewell': 3, 'Abbie Cornish': 3, 'Jesse Eisenberg': 3, 'Leslie Mann': 3, 'Andy GarcÃ\\xada': 3, 'Emily Browning': 3, 'Miranda Otto': 3, 'William Hurt': 3, 'Stephen Lang': 3, 'Christopher Plummer': 3, 'Malin Ã…kerman': 3, 'Amanda Peet': 3, 'Stellan SkarsgÃ¥rd': 3, 'Dennis Quaid': 3, 'Dakota Fanning': 3, 'Kristen Bell': 3, 'Kiefer Sutherland': 3, 'Robin Wright': 3, 'Josh Duhamel': 3, 'Meryl Streep': 3, 'Olivia Wilde': 3, 'Freddie Highmore': 3, 'Jordana Brewster': 3, 'Radha Mitchell': 3, 'Liev Schreiber': 3, 'Hugh Grant': 3, 'Sarah Jessica Parker': 3, 'Mary Steenburgen': 3, 'Russell Brand': 3, 'Emily Mortimer': 3, 'Skandar Keynes': 3, 'Georgie Henley': 3, 'Jason Flemyng': 3, 'Mary Elizabeth Winstead': 3, 'Brandon T. Jackson': 3, 'Mary-Louise Parker': 3, 'Maria Bello': 3, 'Robert Pattinson': 3, 'Taylor Lautner': 3, 'Greg Kinnear': 3, 'Kristin Davis': 3, 'Chris Noth': 3, 'James Marsden': 3, 'Dan Aykroyd': 3, 'Milla Jovovich': 3, 'Cuba Gooding Jr.': 3, 'Michael Clarke Duncan': 3, 'James Gandolfini': 3, 'Laurence Fishburne': 3, 'Billy Bob Thornton': 3, 'Teri Polo': 3, 'Lucy Liu': 3, 'Jada Pinkett Smith': 3, 'David Schwimmer': 3, 'Jeffrey Tambor': 3, 'Thomas Kretschmann': 3, 'Cliff Curtis': 3, 'Michael Chiklis': 3, 'Jaden Smith': 3, 'Sienna Guillory': 3, 'Al Pacino': 3, 'Spencer Breslin': 3, 'Paula Patton': 3, 'Tim Robbins': 3, 'Justin Bartha': 3, 'Ken Jeong': 3, 'Jane Lynch': 3, 'Isla Fisher': 3, 'CiarÃ¡n Hinds': 3, 'Lily Collins': 3, 'Kevin Bacon': 3, 'Ray Romano': 3, 'Chris Cooper': 3, 'Emma Thompson': 3, 'William Shatner': 3, 'Cole Hauser': 3, 'Randy Quaid': 3, 'Harvey Keitel': 3, 'Scott Glenn': 3, 'David Oyelowo': 3, 'Michelle Pfeiffer': 3, 'David Spade': 3, 'Marisa Tomei': 3, 'Josh Lucas': 3, 'David Thewlis': 3, 'Connie Nielsen': 3, 'Bruce McGill': 3, 'Shirley MacLaine': 3, 'Hiroyuki Sanada': 3, 'Sean Penn': 3, 'Richard Roxburgh': 3, 'Val Kilmer': 3, 'Emmy Rossum': 3, 'Miranda Richardson': 3, 'Foreign': 2, 'James Wan': 2, 'Alan Taylor': 2, 'Sam Mendes': 2, 'Joss Whedon': 2, 'Peyton Reed': 2, 'Brad Peyton': 2, 'Wes Ball': 2, 'Michael Mann': 2, 'Paul Feig': 2, 'Ron Howard': 2, 'Camille Delamarre': 2, 'Luc Besson': 2, 'Jonathan Liebesman': 2, 'Matt Reeves': 2, 'Marc Webb': 2, 'Evan Goldberg': 2, 'Roger Donaldson': 2, 'J.C. Chandor': 2, 'Scott Waugh': 2, 'Alex Proyas': 2, 'James McTeigue': 2, 'NimrÃ³d Antal': 2, 'Gavin Hood': 2, 'Joseph Kosinski': 2, 'Edgar Wright': 2, 'Robert Schwentke': 2, 'Tom McGrath': 2, 'James Mangold': 2, 'Neil Marshall': 2, 'Jorma Taccone': 2, 'Kevin Munroe': 2, 'Peter Howitt': 2, 'Frank Oz': 2, 'Joe Johnston': 2, 'Peter Hyams': 2, 'Timur Bekmambetov': 2, 'David Gordon Green': 2, 'Pete Travis': 2, 'Mathieu Kassovitz': 2, 'Frank Miller': 2, 'Jason Friedberg': 2, 'Aaron Seltzer': 2, 'Rob Marshall': 2, 'Andrew Niccol': 2, 'Chris Miller': 2, 'Marcus Nispel': 2, 'Ruben Fleischer': 2, 'George Lucas': 2, 'Andrew Davis': 2, 'Walter Hill': 2, 'Rob Bowman': 2, 'Ang Lee': 2, 'Baltasar KormÃ¡kur': 2, 'Mark Steven Johnson': 2, 'F. Gary Gray': 2, 'David Dobkin': 2, 'Clark Johnson': 2, 'Richard Donner': 2, 'William Friedkin': 2, 'Francis Lawrence': 2, 'Courtney Solomon': 2, 'David R. Ellis': 2, 'David S. Goyer': 2, 'Eli Roth': 2, 'Chris Pratt': 2, 'Irrfan Khan': 2, 'Nicholas Hoult': 2, 'Shailene Woodley': 2, 'Domhnall Gleeson': 2, 'J.K. Simmons': 2, 'Jeff Daniels': 2, 'Allison Janney': 2, 'Steve Coogan': 2, 'Amy Poehler': 2, 'LÃ©a Seydoux': 2, 'Evangeline Lilly': 2, 'Corey Stoll': 2, 'Colin Firth': 2, 'Giancarlo Esposito': 2, 'Alicia Vikander': 2, 'Elizabeth Debicki': 2, 'Rihanna': 2, 'Jennifer Lopez': 2, 'Edgar RamÃ\\xadrez': 2, 'Teresa Palmer': 2, 'Viola Davis': 2, 'Benjamin Walker': 2, 'Ben Whishaw': 2, 'Rooney Mara': 2, 'Selena Gomez': 2, 'Mia Wasikowska': 2, 'Sebastian Stan': 2, 'Ken Stott': 2, 'Graham McTavish': 2, 'Jamie Chung': 2, 'Rami Malek': 2, 'Ray Stevenson': 2, 'Nicola Peltz': 2, 'Keri Russell': 2, 'ChloÃ« Grace Moretz': 2, 'Andrew Garfield': 2, 'Emily Blunt': 2, 'Aaron Paul': 2, 'Ben Barnes': 2, 'Kit Harington': 2, 'Lena Headey': 2, 'Joel Kinnaman': 2, 'Jackie Earle Haley': 2, 'Adewale Akinnuoye-Agbaje': 2, 'RamÃ³n RodrÃ\\xadguez': 2, 'Yvonne Strahovski': 2, 'Kellan Lutz': 2, 'Sigourney Weaver': 2, 'MÃ©lanie Laurent': 2, 'Julie Walters': 2, 'Zachary Quinto': 2, 'Anton Yelchin': 2, 'Eddie Marsan': 2, 'Jeffrey Dean Morgan': 2, 'John Cusack': 2, 'Oliver Platt': 2, 'Keith David': 2, 'Marlon Wayans': 2, 'James Caan': 2, 'Saoirse Ronan': 2, 'Sam Rockwell': 2, 'Tracy Morgan': 2, 'Zachary Levi': 2, 'Mary Kay Place': 2, 'Michael Cera': 2, 'Oscar Isaac': 2, 'Danny Huston': 2, 'Lynn Collins': 2, 'Jason Segel': 2, 'Dolph Lundgren': 2, 'Michelle Williams': 2, 'Mandy Moore': 2, 'Tim Allen': 2, 'Ned Beatty': 2, 'Joan Cusack': 2, 'Timothy Dalton': 2, 'Gemma Arterton': 2, 'Anna Kendrick': 2, 'Barbra Streisand': 2, 'Helen Mirren': 2, 'Tina Fey': 2, 'Ashley Greene': 2, 'Jordi MollÃ\\xa0': 2, 'Javier Bardem': 2, 'Katherine Heigl': 2, 'Tom Selleck': 2, 'Cynthia Nixon': 2, 'Kim Cattrall': 2, 'Essie Davis': 2, 'Eric Dane': 2, 'Cam Gigandet': 2, 'Julianne Hough': 2, 'Stephanie Szostak': 2, 'Bette Midler': 2, 'Carey Mulligan': 2, 'Justin Timberlake': 2, 'John Cleese': 2, 'Billy Crystal': 2, \"Frances O'Connor\": 2, 'John Lithgow': 2, 'Josh Hartnett': 2, 'John Hannah': 2, 'Arnold Vosloo': 2, 'Michael J. Fox': 2, 'James Garner': 2, 'Noah Taylor': 2, 'Tim Roth': 2, 'Kris Kristofferson': 2, 'Tom Sizemore': 2, 'Chris Tucker': 2, 'Zhang Ziyi': 2, 'Ernie Reyes, Jr.': 2, 'Elizabeth Perkins': 2, 'Sam Shepard': 2, 'Dylan Baker': 2, 'Gene Hackman': 2, 'Dominic West': 2, 'Edward Burns': 2, 'Martin Landau': 2, 'David Ogden Stiers': 2, 'Courteney Cox': 2, 'David Hyde Pierce': 2, 'Til Schweiger': 2, 'David Andrews': 2, 'William H. Macy': 2, 'Jeff Garlin': 2, 'Olga Kurylenko': 2, 'Jet Li': 2, 'Selma Blair': 2, 'Michael Rooker': 2, 'William Moseley': 2, 'Anna Popplewell': 2, 'Kathy Bates': 2, 'Michael Ealy': 2, 'Malcolm McDowell': 2, 'Alan Arkin': 2, 'Ali Suliman': 2, 'Adam Scott': 2, 'Kate Hudson': 2, 'Ewen Bremner': 2, 'Lambert Wilson': 2, 'Charlotte Rampling': 2, 'Robert Duvall': 2, 'Christina Ricci': 2, 'Matthew Fox': 2, 'Gabriel Macht': 2, 'Paz Vega': 2, 'Kevin Kline': 2, 'Gabrielle Union': 2, 'Goran Visnjic': 2, 'Bailee Madison': 2, 'Noomi Rapace': 2, 'Larry the Cable Guy': 2, 'Eddie Izzard': 2, 'Vanessa Hudgens': 2, 'Emily Watson': 2, 'Asa Butterfield': 2, 'Dominic Purcell': 2, 'Maggie Q': 2, 'Isabel Lucas': 2, 'Katie Holmes': 2, 'Amy Sedaris': 2, 'Jason Momoa': 2, 'Lea Michele': 2, 'Johnny A. Sanchez': 2, 'Seth Green': 2, 'Queen Latifah': 2, 'Richard Harris': 2, 'Franka Potente': 2, 'Ian McDiarmid': 2, 'Max von Sydow': 2, 'Abigail Breslin': 2, 'Elias Koteas': 2, 'Liam Aiken': 2, 'Paul Newman': 2, 'BeyoncÃ© Knowles': 2, 'Mark Addy': 2, 'Adam Beach': 2, 'Izabella Scorupco': 2, 'Naomie Harris': 2, 'Idris Elba': 2, 'Martin Sheen': 2, 'Kevin McKidd': 2, 'Jim Broadbent': 2, 'Jim Sturgess': 2, 'Jonny Lee Miller': 2, 'Timothy Spall': 2, 'Taylor Kitsch': 2, 'Tadanobu Asano': 2, 'Nathan Lane': 2, 'Jack Davenport': 2, 'Claire Danes': 2, 'Jennifer Garner': 2, 'Martin Lawrence': 2, 'TchÃ©ky Karyo': 2, 'Bernie Mac': 2, 'Robert Patrick': 2, 'Steve Zahn': 2, 'Timothy Olyphant': 2, 'Diane Lane': 2, 'Jodie Foster': 2, 'Alice Braga': 2, 'Diego Luna': 2, 'James Badge Dale': 2, 'Patton Oswalt': 2, 'Cloris Leachman': 2, 'Max Martini': 2, 'Maggie Gyllenhaal': 2, 'Sung Kang': 2, 'Sophie Okonedo': 2, 'Zach Braff': 2, 'Jim Belushi': 2, 'AnnaSophia Robb': 2, 'Julian McMahon': 2, 'Lauren Graham': 2, 'Gong Li': 2, 'Amber Valletta': 2, 'Jeremy Irons': 2, 'Adrien Brody': 2, 'Lucas Black': 2, 'Donal Logue': 2, 'Paddy Considine': 2, 'Bonnie Hunt': 2, 'Yvan Attal': 2, 'Mads Mikkelsen': 2, 'Jean Reno': 2, 'Philip Seymour Hoffman': 2, 'Jonathan Rhys Meyers': 2, 'David Strathairn': 2, 'Sharon Stone': 2, 'Jacinda Barrett': 2, 'Gary Sinise': 2, 'Danny Glover': 2, 'Julia Stiles': 2, 'Diane Kruger': 2, 'Chi McBride': 2, 'Jane Krakowski': 2, 'Glenn Close': 2, 'Patrick Warburton': 2, 'John Michael Higgins': 2, 'Helen Hunt': 2, 'Colin Trevorrow': 1, 'George Miller': 1, 'Chris Columbus': 1, 'Christopher McQuarrie': 1, 'Ilya Naishuller': 1, 'Ericson Core': 1, 'Denis Villeneuve': 1, 'Josh Trank': 1, 'Aleksander Bach': 1, 'Andy Fickman': 1, 'John Erick Dowdle': 1, 'Anne Fletcher': 1, 'James Gunn': 1, 'Joe Russo': 1, 'Anthony Russo': 1, 'Chad Stahelski': 1, 'David Leitch': 1, 'Don Hall': 1, 'Chris Williams': 1, 'Neil Burger': 1, 'Gareth Edwards': 1, 'Robert Stromberg': 1, 'Dean DeBlois': 1, 'Patrick Hughes': 1, 'Gary Shore': 1, 'Noam Murro': 1, 'Vic Armstrong': 1, 'JosÃ© Padilha': 1, 'Brian A Miller': 1, 'Steven Quale': 1, 'Adam Wingard': 1, 'James Cameron': 1, 'Patrick Tatopoulos': 1, 'Shane Acker': 1, 'Steve Carr': 1, 'Christian Alvart': 1, 'Hoyt Yeatman': 1, 'Kevin Macdonald': 1, 'Michael Spierig': 1, 'Peter Spierig': 1, 'Paul McGuigan': 1, 'Troy Duffy': 1, 'Paul Weitz': 1, 'David Bowers': 1, 'Daniel Barber': 1, 'Michael J. Bassett': 1, 'Pierre Coffin': 1, 'Chris Renaud': 1, 'Phillip Noyce': 1, 'Florian Henckel von Donnersmarck': 1, 'Mike Newell': 1, 'Ethan Maniquis': 1, 'Albert Hughes': 1, 'Allen Hughes': 1, 'Adam McKay': 1, 'Miguel Sapochnik': 1, 'Andy Tennant': 1, 'Jonathan Lynn': 1, 'Jimmy Hayward': 1, 'Robert Luketic': 1, 'John Luessenhop': 1, 'Kevin Smith': 1, 'Brian Levant': 1, 'Stuart Beattie': 1, 'Tim Burton': 1, 'Brian Helgeland': 1, 'John A. Davis': 1, 'Chris Nahon': 1, 'Hironobu Sakaguchi': 1, 'Motonori Sakakibara': 1, 'Rod Lurie': 1, 'John Herzfeld': 1, 'Ivan Reitman': 1, 'Demian Lichtenstein': 1, 'John Carpenter': 1, 'Bobby Farrelly': 1, 'Peter Farrelly': 1, 'Barry Levinson': 1, 'Luke Greenfield': 1, 'Les Mayfield': 1, 'Henry Selick': 1, 'Rob Pritts': 1, 'Ernest R. Dickerson': 1, 'DJ Pooh': 1, 'Eric Brevig': 1, 'Jeff Wadlow': 1, 'Lexi Alexander': 1, 'Peter Segal': 1, 'Rob Minkoff': 1, 'Jon Avnet': 1, 'Dennis Dugan': 1, 'Howard McCain': 1, 'Oxide Pang Chun': 1, 'Danny Pang': 1, 'Craig Mazin': 1, 'Simon Hunter': 1, 'Nicolas Winding Refn': 1, 'Rupert Wyatt': 1, 'Patrick Lussier': 1, 'Gary McKendry': 1, 'Scott Stewart': 1, 'Tarsem Singh': 1, 'Chris Gorak': 1, 'Michel Gondry': 1, 'Oliver Parker': 1, 'Joe Cornish': 1, 'Joe Wright': 1, 'John Michael McDonagh': 1, 'Alister Grierson': 1, 'Sean McNamara': 1, 'John Whitesell': 1, 'Benny Chan': 1, 'Corey Yuen Kwai': 1, 'Stuart Baird': 1, 'Kurt Wimmer': 1, 'Jay Roach': 1, 'Jim Gillespie': 1, 'Chuck Russell': 1, 'Betty Thomas': 1, 'Randall Wallace': 1, 'Ron Shelton': 1, 'Simon Wells': 1, 'Roger Michell': 1, 'Michael Apted': 1, 'Tom Dey': 1, 'Joel Schumacher': 1, 'Luis Mandoki': 1, 'Tamra Davis': 1, 'Ron Underwood': 1, 'Kevin Bray': 1, 'Malcolm D. Lee': 1, 'MÃ¥ns MÃ¥rlind': 1, 'BjÃ¶rn Stein': 1, 'Tony Gilroy': 1, 'Mark Andrews': 1, 'Steve Purcell': 1, 'Brenda Chapman': 1, 'Boaz Yakin': 1, 'Andrew Stanton': 1, 'Rian Johnson': 1, 'Mike McCoy': 1, 'Stephen St. Leger': 1, 'James Mather': 1, 'Daniel Espinosa': 1, 'Asger Leth': 1, 'Mabrouk El Mechri': 1, 'Dan Bradley': 1, 'Julie Anne Robinson': 1, 'Anthony Hemingway': 1, 'David Koepp': 1, 'David Barrett': 1, 'Stephen Norrington': 1, 'Jan de Bont': 1, 'Jon Amiel': 1, 'John McTiernan': 1, 'Shane Black': 1, 'Tommy Wirkola': 1, 'Carl Rinsch': 1, 'Gary Fleder': 1, 'Mikael HÃ¥fstrÃ¶m': 1, 'Taylor Hackford': 1, 'Steven Knight': 1, 'Spike Lee': 1, 'Dito Montiel': 1, 'Fyodor Bondarchuk': 1, 'Karyn Kusama': 1, 'Adam Shankman': 1, 'John Stockwell': 1, 'Sydney Pollack': 1, 'Terry Gilliam': 1, 'Jay Chandrasekhar': 1, 'Richard Shepard': 1, 'John Dahl': 1, 'Bruce Hunt': 1, 'Alfonso CuarÃ³n': 1, 'Stefen Fangmeier': 1, 'Bruce Beresford': 1, 'Wolfgang Petersen': 1, 'Jeff Tremaine': 1, 'John Bonito': 1, 'Geoffrey Sax': 1, 'Tony Bill': 1, 'Wayne Kramer': 1, 'Sanjay Gadhvi': 1, 'Phil Joanou': 1, 'Alexander Witt': 1, 'Bibo Bergeron': 1, 'Vicky Jenson': 1, 'Rob Letterman': 1, 'Kerry Conran': 1, 'Oliver Stone': 1, 'Jonathan Hensleigh': 1, 'Pitof': 1, 'Philip Kaufman': 1, 'Trey Parker': 1, 'Steven Brill': 1, 'Frank Coraci': 1, 'Paul Abascal': 1, 'Joseph Kahn': 1, 'David Mamet': 1, 'Jay Russell': 1, 'Philip G. Atwell': 1, 'Michael Davis': 1, 'Xavier Gens': 1, 'Rob Zombie': 1, 'Jason Eisener': 1, 'Dave Meyers': 1, 'Russell Mulcahy': 1, 'Andrew Dominik': 1, 'Doug Lefler': 1, 'David Leland': 1, 'Feng Xiaogang': 1, 'Ben Garant': 1, 'Joel Coen': 1, 'Donald Petrie': 1, 'Paul Verhoeven': 1, 'Roger Spottiswoode': 1, 'Antony Hoffman': 1, 'Stephen T. Kay': 1, 'Don Bluth': 1, 'Gary Goldman': 1, 'Christian Duguay': 1, 'Douglas Aarniokoski': 1, 'Gina Prince-Bythewood': 1, 'Brian Robbins': 1, 'Des McAnuff': 1, \"Vincent D'Onofrio\": 1, 'Nick Robinson': 1, 'Hugh Keays-Byrne': 1, 'Josh Helman': 1, 'Ansel Elgort': 1, 'Mark Hamill': 1, 'Carrie Fisher': 1, 'Adam Driver': 1, 'Daisy Ridley': 1, 'Will Poulter': 1, 'Paul Anderson': 1, 'Emilia Clarke': 1, 'Jon Hamm': 1, 'Phyllis Smith': 1, 'Richard Kind': 1, 'Lewis Black': 1, 'Eddie Redmayne': 1, 'Douglas Booth': 1, 'Peter Dinklage': 1, 'Lily James': 1, 'Richard Madden': 1, 'Holliday Grainger': 1, 'Britt Robertson': 1, 'Raffey Cassidy': 1, 'Thomas Robinson': 1, 'Archie Panjabi': 1, 'Rebecca Ferguson': 1, 'Seth MacFarlane': 1, 'Jessica Barth': 1, 'Taron Egerton': 1, \"Dylan O'Brien\": 1, 'Kaya Scodelario': 1, 'Thomas Brodie-Sangster': 1, 'Aidan Gillen': 1, 'Dylan Minnette': 1, 'Odeya Rush': 1, 'Jillian Bell': 1, 'Raymond Ochoa': 1, 'Jack Bright': 1, 'Maleah Nipay-Padilla': 1, 'Rose Leslie': 1, 'Ã“lafur Darri Ã“lafsson': 1, 'Luca Calvani': 1, 'Jim Parsons': 1, 'Matt Jones': 1, 'John Hawkes': 1, 'Luke Bracey': 1, 'Olivia Munn': 1, 'Leehom Wang': 1, 'Tang Wei': 1, 'Holt McCallany': 1, 'Michael B. Jordan': 1, 'Melissa McCarthy': 1, 'Miranda Hart': 1, 'Cillian Murphy': 1, 'Levi Miller': 1, 'Noah Schnapp': 1, 'Bill Melendez': 1, 'Venus Schultheis': 1, 'Hadley Belle Miller': 1, 'Madisyn Shipman': 1, 'Jim Beaver': 1, 'Tom Kenny': 1, 'Bill Fagerbakke': 1, 'Rodger Bumpass': 1, 'Clancy Brown': 1, 'Carolyn Lawrence': 1, 'Dave Bautista': 1, 'Scott Adsit': 1, 'Ryan Potter': 1, 'Daniel Henney': 1, 'T.J. Miller': 1, 'Carrie Coon': 1, 'Tyler Perry': 1, 'Jon Bernthal': 1, 'Rebel Wilson': 1, 'Alan Ritchson': 1, 'Noel Fisher': 1, 'Jack Reynor': 1, 'Judy Greer': 1, 'David Harbour': 1, 'Haley Bennett': 1, 'Dane DeHaan': 1, 'Jonas Armstrong': 1, 'Kyle Gallner': 1, 'Cole Konis': 1, 'Ben Reed': 1, 'Ben Mendelsohn': 1, 'Aaron Taylor-Johnson': 1, 'Elizabeth Olsen': 1, 'Juliette Binoche': 1, 'Juno Temple': 1, 'Isobelle Molloy': 1, 'Craig Berry': 1, 'Alison Brie': 1, 'David Burrows': 1, 'Sarah Gadon': 1, 'Art Parkinson': 1, 'Charles Dance': 1, 'Christopher Knights': 1, 'Conrad Vernon': 1, 'Sullivan Stapleton': 1, 'Callan Mulvey': 1, 'Peter Capaldi': 1, 'Imelda Staunton': 1, 'Aksel Hennie': 1, 'Nonso Anozie': 1, 'Gemma Chan': 1, 'Rebecca Hall': 1, 'Ty Burrell': 1, 'Max Charles': 1, 'Ariel Winter': 1, 'Ellie Kemper': 1, \"Jack O'Connell\": 1, 'Takamasa Ishihara': 1, 'Finn Wittrock': 1, 'Jessica Lucas': 1, 'QuvenzhanÃ© Wallis': 1, 'Imogen Poots': 1, 'Isaac Hempstead Wright': 1, 'Dee Bradley Baker': 1, 'Steve Blum': 1, 'Jessica Brown Findlay': 1, 'Liam McIntyre': 1, 'Gaia Weiss': 1, 'Scott Adkins': 1, 'Roxanne McKee': 1, 'Tom Felton': 1, 'Ed Asner': 1, 'Jordan Nagai': 1, 'Bob Peterson': 1, 'Leonard Nimoy': 1, 'Moon Bloodgood': 1, 'Ayelet Zurer': 1, 'Pierfrancesco Favino': 1, 'Anika Noni Rose': 1, 'Bruno Campos': 1, 'Michael-Leon Wooley': 1, 'Jennifer Cody': 1, 'Mr. T': 1, 'Teri Hatcher': 1, 'Jennifer Saunders': 1, 'Dawn French': 1, 'Steve Valentine': 1, 'Daryl Sabara': 1, 'Sage Ryan': 1, 'Victor Gojcaj': 1, 'Matthew Gray Gubler': 1, 'Rainn Wilson': 1, 'Lake Bell': 1, 'Anna Friel': 1, 'Danny McBride': 1, 'Matt Lauer': 1, 'Tony Kgoroge': 1, 'Patrick Mofokeng': 1, 'Matt Stern': 1, 'Max Minghella': 1, 'Ashraf Barhom': 1, 'Michael Lonsdale': 1, 'John Ortiz': 1, 'Tom Wilkinson': 1, 'Lisa Roberts Gillan': 1, 'Nelsan Ellis': 1, 'Michael Bunin': 1, 'Natalia Klimas': 1, 'Ellen Page': 1, 'Crispin Glover': 1, 'Eric Roberts': 1, 'Randy Couture': 1, 'Craig Ferguson': 1, 'America Ferrera': 1, 'Bruce Boxleitner': 1, 'Yaya DaCosta': 1, 'Donna Murphy': 1, 'M.C. Gainey': 1, 'Daniel Olbrychski': 1, 'Gary Sweet': 1, 'Arthur Angel': 1, 'Steven Berkoff': 1, 'Steve Toussaint': 1, 'Kieran Culkin': 1, 'Jake Abel': 1, 'Ethan Suplee': 1, 'Kevin Corrigan': 1, 'Maya Rudolph': 1, 'Jennifer Beals': 1, 'Taraji P. Henson': 1, 'Jimmi Simpson': 1, 'Noah Ringer': 1, 'Jackson Rathbone': 1, 'Dev Patel': 1, 'Shaun Toub': 1, \"Chris O'Dowd\": 1, 'Juliette Lewis': 1, \"Catherine O'Hara\": 1, 'Alex Borstein': 1, 'Emily Barclay': 1, 'Deborra-Lee Furness': 1, 'Cher': 1, 'Christina Aguilera': 1, 'Jemaine Clement': 1, 'Christina Applegate': 1, 'Pascale Hutton': 1, 'Kathryn Hahn': 1, 'Frank Langella': 1, 'Tom Cavanagh': 1, 'Christine Taylor': 1, 'Shawn Roberts': 1, \"Denis O'Hare\": 1, 'Wentworth Miller': 1, 'Ali Larter': 1, 'Kim Coates': 1, 'Kacey Barnfield': 1, 'Robbie Coltrane': 1, 'Mary Gibbs': 1, 'James Coburn': 1, 'Haley Joel Osment': 1, 'Sam Robards': 1, 'Jake Thomas': 1, 'Vincent Cassel': 1, 'Oded Fehr': 1, 'Corey Burton': 1, 'Claudia Christian': 1, 'John Mahoney': 1, 'Iain Glen': 1, 'Joseph Fiennes': 1, 'Bob Hoskins': 1, 'Shannyn Sossamon': 1, 'Laura Fraser': 1, 'Roselyn SÃ¡nchez': 1, 'Jeff Goldblum': 1, 'Alexander Pollock': 1, 'Miriam Margolyes': 1, 'Catherine McCormack': 1, 'Stephen Dillane': 1, 'Larry Bryggman': 1, 'Ming-Na Wen': 1, 'Kristen Wilson': 1, 'Raven-SymonÃ©': 1, 'Kyla Pratt': 1, 'Steve Burton': 1, 'Monica Potter': 1, 'Michael Wincott': 1, 'Mika Boorem': 1, 'Jason Bonham': 1, 'Kelsey Grammer': 1, 'Avery Brooks': 1, 'David Duchovny': 1, 'Orlando Jones': 1, 'Ted Levine': 1, 'Mario Van Peebles': 1, 'Ron Silver': 1, 'Marlon Brando': 1, 'Paul Soles': 1, 'Laurie Holden': 1, 'Hal Holbrook': 1, 'Christian Slater': 1, 'Kevin Pollak': 1, 'Brandy Norwood': 1, 'Troy Garity': 1, 'William Converse-Roberts': 1, 'Kip Pardue': 1, 'Robert Sean Leonard': 1, 'Estella Warren': 1, 'Ray Liotta': 1, \"Matt O'Leary\": 1, 'Bridget Fonda': 1, 'Chris Kattan': 1, 'Sam Neill': 1, 'Trevor Morgan': 1, 'Alessandro Nivola': 1, 'Ben Burtt': 1, 'Elissa Knight': 1, 'Fred Willard': 1, 'John Ratzenberger': 1, 'Leslie Bibb': 1, 'Karen Allen': 1, 'Mathieu Amalric': 1, 'Giancarlo Giannini': 1, 'Tilda Swinton': 1, 'Julia Ormond': 1, 'Luke Ford': 1, 'Tim Blake Nelson': 1, 'Cedric the Entertainer': 1, 'Doug Jones': 1, 'Rachel Bilson': 1, 'Carice van Houten': 1, 'Steven Strait': 1, 'Camilla Belle': 1, 'Nathanael Baring': 1, 'Mo Zinal': 1, 'Jae Head': 1, 'Sarah Jane Morris': 1, 'Miley Cyrus': 1, 'Susie Essman': 1, 'Mark Walton': 1, 'Bryan Brown': 1, 'Rhys Darby': 1, 'Sasha Alexander': 1, 'Fionnula Flanagan': 1, 'Kathleen Turner': 1, 'Simon McBurney': 1, 'Eliza Bennett': 1, 'Alexis Dziena': 1, 'Lucy Lawless': 1, 'Michelle Yeoh': 1, 'MÃ©lanie Thierry': 1, 'Jeffrey Donovan': 1, 'Geoff Pierson': 1, 'Sarah Bolger': 1, 'Andrew McCarthy': 1, 'Dwight Yoakam': 1, 'Romany Malco': 1, 'Meagan Good': 1, 'Emile Hirsch': 1, 'Scott Porter': 1, 'Carol Burnett': 1, 'Michael Angarano': 1, 'Collin Chou': 1, '50 Cent': 1, 'Donnie Wahlberg': 1, 'Emmanuelle Chriqui': 1, 'Nick Swardson': 1, 'Lainie Kazan': 1, 'Harry Treadaway': 1, 'Betty Buckley': 1, 'Tracey Ullman': 1, 'Scott Caan': 1, 'Hayley Atwell': 1, 'Alan Rickman': 1, 'Maggie Smith': 1, 'Kevin McNally': 1, 'Karin Konoval': 1, 'Freida Pinto': 1, 'Anil Kapoor': 1, 'Griffin Gluck': 1, 'Dakota Goyo': 1, 'Kevin Durand': 1, 'Jared Harris': 1, 'Kelly Reilly': 1, 'Blake Lively': 1, 'Nick Frost': 1, 'Jena Malone': 1, 'Will.i.am': 1, 'Walton Goggins': 1, 'Benedict Cumberbatch': 1, 'Jeremy Irvine': 1, 'Violante Placido': 1, 'Fergus Riordan': 1, 'Johnny Whitworth': 1, 'Matthew Macfadyen': 1, 'Will Rothhaar': 1, 'Cory Hardrict': 1, 'Jim Parrack': 1, 'Eugenio Derbez': 1, 'Tim Meadows': 1, 'Jay Chou': 1, 'Edward Furlong': 1, 'Rose McGowan': 1, 'Rachel Nichols': 1, 'Alan Alda': 1, 'Pink': 1, 'E.G. Daily': 1, 'Dan Fogler': 1, 'Breckin Meyer': 1, 'Elisabeth Harnois': 1, 'Jenny Slate': 1, 'Andy Buckley': 1, 'Jayma Mays': 1, 'Alan Cumming': 1, 'Kaley Cuoco': 1, 'Winona Ryder': 1, 'Cliff Robertson': 1, 'Rip Torn': 1, 'Lara Flynn Boyle': 1, 'Johnny Knoxville': 1, 'Samantha Morton': 1, 'Lois Smith': 1, 'Chris Sanders': 1, 'Daveigh Chase': 1, 'Tia Carrere': 1, 'Kevin McDonald': 1, 'Asia Argento': 1, 'Michael Roof': 1, 'Roscoe Lee Browne': 1, 'Martin Short': 1, 'Pierce Brosnan': 1, 'Rick Yune': 1, 'Toby Stephens': 1, 'Natasha Richardson': 1, 'Tyler Posey': 1, 'Daniel Day-Lewis': 1, 'Geena Davis': 1, 'Jonathan Lipnicki': 1, 'Anna Hoelck': 1, 'Alicia Witt': 1, 'Dana Ivey': 1, 'Robert Klein': 1, 'Rory Culkin': 1, 'Cherry Jones': 1, 'Francesca Neri': 1, 'Jonathan Frakes': 1, 'LeVar Burton': 1, 'Brent Spiner': 1, 'Gates McFadden': 1, 'Tyler Hoechlin': 1, 'Jennifer Jason Leigh': 1, 'Michael York': 1, 'Mindy Sterling': 1, 'Elizabeth Mitchell': 1, 'David Krumholtz': 1, 'Eric Lloyd': 1, 'Freddie Prinze Jr.': 1, 'Sarah Michelle Gellar': 1, 'Matthew Lillard': 1, 'Linda Cardellini': 1, 'Rowan Atkinson': 1, 'Daniel Studi': 1, 'Chopper Bernet': 1, 'Jeff LeBeau': 1, 'Courtney B. Vance': 1, 'Tom Berenger': 1, 'Charles S. Dutton': 1, 'Kelly Hu': 1, 'Steven Brand': 1, 'Bernard Hill': 1, 'Keith Dallas': 1, 'Madeleine Stowe': 1, 'Chris Klein': 1, 'Samantha Mumba': 1, 'Phyllida Law': 1, 'Laura Kirk': 1, 'Noah Emmerich': 1, 'Joss Ackland': 1, 'John Shrapnel': 1, 'Alexander Siddig': 1, 'Rachael Harris': 1, 'Zaid Farid': 1, 'Marcel IureÈ™': 1, 'Joe Pantoliano': 1, 'Jay Mohr': 1, 'Joe Morton': 1, 'Ron Rifkin': 1, 'Susanna Thompson': 1, 'Stephen Rea': 1, 'India Eisley': 1, 'Stacy Keach': 1, 'Rhys Ifans': 1, 'Kelly Macdonald': 1, 'Sam Claflin': 1, 'Suraj Sharma': 1, 'Ayush Tandon': 1, 'Gautam Belur': 1, 'Adil Hussain': 1, 'Chris Wedge': 1, 'Werner Herzog': 1, 'Sarah Silverman': 1, 'Jack McBrayer': 1, 'Jamie Elman': 1, 'Michael Stuhlbarg': 1, 'James Kidnie': 1, 'Heidi Hawkins': 1, 'Zac Efron': 1, 'Danny DeVito': 1, 'Taylor Swift': 1, 'Rob Riggle': 1, 'Alexander SkarsgÃ¥rd': 1, 'Brooklyn Decker': 1, 'Martin Klebba': 1, 'Elizabeth Reaser': 1, 'Sayed Badreya': 1, 'Aasif Mandvi': 1, 'Diego Boneta': 1, 'Jeremy Piven': 1, 'Brian Blessed': 1, 'Eva Amurri Martino': 1, 'Leighton Meester': 1, 'Vera Farmiga': 1, 'Adrianne Palicki': 1, 'Kodi Smit-McPhee': 1, 'Tucker Albrizzi': 1, 'Jodelle Ferland': 1, 'Daniela Ruah': 1, 'Aryana Engineer': 1, 'Mary Alice': 1, 'Helmut Bakaitis': 1, 'Albert Brooks': 1, 'Ellen DeGeneres': 1, 'Alexander Gould': 1, 'Brad Garrett': 1, 'Philip Baker Hall': 1, 'Catherine Bell': 1, 'Lisa Ann Walter': 1, 'Nick Stahl': 1, 'Kristanna Loken': 1, 'Albert Finney': 1, 'Jessica Lange': 1, 'Jason Biggs': 1, 'Alyson Hannigan': 1, 'Eddie Kaye Thomas': 1, 'Thomas Ian Nicholas': 1, 'Sean Connery': 1, 'Peta Wilson': 1, 'Shane West': 1, 'Stuart Townsend': 1, 'Fausto Callegarini': 1, 'Jeremy Sumpter': 1, 'Rachel Hurd-Wood': 1, 'Richard Briers': 1, 'Olivia Williams': 1, 'William Atherton': 1, 'Chad Lindberg': 1, \"James D'Arcy\": 1, 'Billy Boyd': 1, 'Joseph Morgan': 1, 'January Jones': 1, 'Hilary Swank': 1, 'LL Cool J': 1, 'Josh Charles': 1, 'Eamonn Walker': 1, 'Johnny Messner': 1, 'Uma Thurman': 1, 'Diane Keaton': 1, 'Nathaniel Parker': 1, 'Marsha Thomason': 1, 'Jennifer Tilly': 1, 'Eileen Atkins': 1, 'Jenna Elfman': 1, 'Heather Locklear': 1, 'Ludacris': 1, 'Regina King': 1, 'Kevin Nealon': 1, 'David McCullough': 1, 'Thomas Jane': 1, 'Damian Lewis': 1, 'Edward Herrmann': 1, 'Benicio del Toro': 1, 'Leslie Stefanson': 1, 'John Finn': 1, 'Kevin Conway': 1, 'C. Thomas Howell': 1, 'Wen Yann Shih': 1, 'Seymour Cassel': 1, 'Idina Menzel': 1, 'Jonathan Groff': 1, 'Santino Fontana': 1, 'Orto Ignatiussen': 1, 'Phaldut Sharma': 1, 'Christopher Eccleston': 1, 'Margot Robbie': 1, 'Kyle Chandler': 1, 'Rob Reiner': 1, 'Charlie Day': 1, 'Burn Gorman': 1, 'Andrea Riseborough': 1, 'Nikolaj Coster-Waldau': 1, 'Michael Shannon': 1, 'Miranda Cosgrove': 1, 'Sebastian Koch': 1, 'Yuliya Snigir': 1, 'Joel Murray': 1, 'Mireille Enos': 1, 'Abigail Hargrove': 1, 'Sterling Jerins': 1, 'Hailee Steinfeld': 1, 'Fred Ward': 1, 'Douglas Smith': 1, 'Leven Rambin': 1, 'Kou Shibasaki': 1, 'Min Tanaka': 1, 'Jamie Campbell Bower': 1, 'Kevin Zegers': 1, 'Jemima West': 1, 'Robert Sheehan': 1, 'Jason Sudeikis': 1, 'Aziz Ansari': 1, 'Chris Mulkey': 1, 'Yul Vazquez': 1, 'Joey King': 1, 'Eleanor Tomlinson': 1, 'Sarah Shahi': 1, 'ZoÃ« Kravitz': 1, 'Glenn Morshower': 1, 'Ryan Gosling': 1, 'Will Forte': 1, 'Barry Pepper': 1, 'Charlie Rowe': 1, 'Angourie Rice': 1, 'Katy Perry': 1, 'Tao Okamoto': 1, 'Rila Fukushima': 1, 'Svetlana Khodchenkova': 1, 'George Takei': 1, 'Colm Meaney': 1, 'Hugh Dancy': 1, 'Tiya Sircar': 1, 'Julia Winter': 1, 'Max Baker': 1, 'Caroline Chikezie': 1, 'Faith Ford': 1, 'Chris Potter': 1, 'Brittany Snow': 1, 'Justin Chatwin': 1, 'Youki Kudoh': 1, 'Tsai Chin': 1, 'Suzuka Ohgo': 1, 'Garry Marshall': 1, 'Don Knotts': 1, 'Julie Ann Emery': 1, 'Naomi Watts': 1, 'Colin Hanks': 1, 'Mel Brooks': 1, 'Paula Abdul': 1, 'Ice Cube': 1, 'Scott Speedman': 1, 'Xzibit': 1, 'Adam Brody': 1, 'AdriÃ¡n Alonso Barona': 1, 'Julio Oscar Mechoso': 1, 'Nick Chinlund': 1, 'Scott MacDonald': 1, 'Dina Spybey-Waters': 1, 'Ben Shenkman': 1, 'Craig Bierko': 1, 'Jason Schwartzman': 1, 'Ben Daniels': 1, 'Deobia Oparei': 1, 'Eugene Levy': 1, 'Tom Welling': 1, 'Jonathan Bennett': 1, 'Jesper Christensen': 1, 'Mackenzie Crook': 1, 'Roger Ashton-Griffiths': 1, 'Hanns Zischler': 1, 'Angie Harmon': 1, 'Kate Beahan': 1, 'Michael Irby': 1, 'Burt Reynolds': 1, 'Michael Irvin': 1, 'Nelly': 1, 'Heike Makatsch': 1, 'Armin Rohde': 1, 'Wilfried Hochholdinger': 1, 'Lennie James': 1, 'Robert Mammone': 1, 'James Carpinello': 1, 'Mark Consuelos': 1, 'Cheech Marin': 1, 'Audrey Tautou': 1, 'Eli Wallach': 1, 'Jake Cherry': 1, 'Dick Van Dyke': 1, 'David Hasselhoff': 1, 'Henry Winkler': 1, 'Garry Shandling': 1, 'Wanda Sykes': 1, 'Kagiso Kuypers': 1, 'Lombardo Boyar': 1, 'Carlos Alazraqui': 1, 'Jeffrey Garcia': 1, 'Janeane Garofalo': 1, 'Jim Caviezel': 1, 'Adam Goldberg': 1, 'Ed Speleers': 1, 'Robert Carlyle': 1, 'Ryan Newman': 1, 'Mitchel Musso': 1, 'Sam Lerner': 1, 'Spencer Locke': 1, 'Tammy Blanchard': 1, 'Luis Tosar': 1, 'Ryan Phillippe': 1, 'Jesse Bradford': 1, 'John Benjamin Hickey': 1, 'John Slattery': 1, 'Patricia Clarkson': 1, 'David Morrissey': 1, 'Stan Collymore': 1, 'Gary Cole': 1, 'Austin Crim': 1, 'Jake Johnson': 1, 'Brian Howe': 1, 'James Karen': 1, 'Richard Dreyfuss': 1, 'Shawn Wayans': 1, 'John Witherspoon': 1, 'Jay Hernandez': 1, 'Debra Messing': 1, 'Jennifer Hudson': 1, 'Sela Ward': 1, 'Melissa Sagemiller': 1, 'Omari Hardwick': 1, 'Brian Tee': 1, 'Nathalie Kelley': 1, 'Shad Moss': 1, 'Mos Def': 1, 'David Morse': 1, 'Jenna Stern': 1, 'David Zayas': 1, 'Eva Longoria': 1, 'Martin Donovan': 1, 'Ritchie Coster': 1, 'Scott Hazell': 1, 'Mac McDonald': 1, 'Philip Winchester': 1, 'Todd Boyce': 1, 'Bob Balaban': 1, 'Sarita Choudhury': 1, 'Cindy Cheung': 1, 'Craig T. Nelson': 1, 'Holly Hunter': 1, 'Dominique Louis': 1, 'Bridget Moynahan': 1, 'Alan Tudyk': 1, 'Rob Schneider': 1, 'Sean Astin': 1, 'Lusia Strus': 1, 'Shuler Hensley': 1, 'Rupert Evans': 1, 'Michael Jeter': 1, 'Eddie Deezen': 1, 'Chris Coppola': 1, 'Nona Gaye': 1, 'Dash Mihok': 1, 'Jay O. Sanders': 1, 'Wesley Snipes': 1, 'Bai Ling': 1, 'Sanaa Lathan': 1, 'Raoul Bova': 1, 'Colin Salmon': 1, 'Tommy Flanagan': 1, 'Jared Leto': 1, 'Rosemary Harris': 1, 'Marc Anthony': 1, 'Frances Conroy': 1, 'Christina Cox': 1, 'Shelbie Bruce': 1, 'Jason Patric': 1, 'Emilio EchevarrÃ\\xada': 1, 'Kimberly Elise': 1, 'Omar Epps': 1, 'RenÃ©e Taylor': 1, 'G. W. Bailey': 1, 'Zuleikha Robinson': 1, 'Omar Sharif': 1, 'Adam Alexi-Malle': 1, 'Louise Lombard': 1, 'Snoop Dogg': 1, 'Fred Williamson': 1, 'Minnie Driver': 1, 'CÃ©cile De France': 1, 'Robert Fyfe': 1, 'MaÃ¯ Anh Le': 1, 'Oanh Nguyen': 1, \"Jaran 'See Tao' Petcharoen\": 1, 'StÃ©phanie Lagarde': 1, 'Morris Chestnut': 1, 'Ian Holm': 1, 'Lou Romano': 1, 'Brian Dennehy': 1, 'Peter Sohn': 1, 'Charlie Tahan': 1, 'Salli Richardson-Whitfield': 1, 'Willow Smith': 1, 'Thomas Haden Church': 1, 'Topher Grace': 1, 'Charlie Cox': 1, 'Vincent Regan': 1, 'Wes Bentley': 1, 'Kate Butler': 1, 'Lymari Nadal': 1, 'Cameron Richardson': 1, 'Jerry Seinfeld': 1, 'Laurie Metcalf': 1, 'Nicole Sullivan': 1, 'Harland Williams': 1, 'Patrick Dempsey': 1, 'Rachel Covey': 1, 'Anthony Edwards': 1, 'Dan Castellaneta': 1, 'Julie Kavner': 1, 'Nancy Cartwright': 1, 'Yeardley Smith': 1, 'Om Puri': 1, 'Dakota Blue Richards': 1, 'Dallas Roberts': 1, 'Peter Fonda': 1, 'Lena Olin': 1, 'Charlie Hewson': 1, 'Jimmy Bennett': 1, 'Tory Kittles': 1, 'Jerry Stiller': 1, 'Rob Corddry': 1, 'Jon Heder': 1, 'James Woods': 1, 'ZoÃ« Bell': 1, 'Vanessa Ferlito': 1, 'Sydney Tamiia Poitier': 1, 'Rachael Taylor': 1, 'Jeremy Northam': 1, 'Jackson Bond': 1, 'Richard Portnow': 1, 'Gary Dourdan': 1, 'Terry Crews': 1, 'Clifton Powell': 1, 'Lester Speight': 1, 'Aishwarya Rai Bachchan': 1, 'Peter Mullan': 1, 'Oliver Reed': 1, 'Taylor Momsen': 1, 'Christine Baranski': 1, 'Bill Irwin': 1, 'Paul Sanchez': 1, 'Lari White': 1, 'Dougray Scott': 1, 'Eartha Kitt': 1, 'Wendie Malick': 1, 'Lauren Holly': 1, 'Mark Feuerstein': 1, 'D. B. Sweeney': 1, 'Alfre Woodard': 1, 'Ossie Davis': 1, 'Max Casella': 1, 'Hayden Panettiere': 1, 'John Forsythe': 1, 'Joely Richardson': 1, 'Jon Bon Jovi': 1, 'David Keith': 1, 'Will Patton': 1, 'Blythe Danner': 1, 'Rosie Perez': 1, 'Armand Assante': 1, 'Edward James Olmos': 1, 'Elisabeth Shue': 1, 'Kim Dickens': 1, 'Rhona Mitra': 1, 'Joel Gretsch': 1, 'Saul Rubinek': 1, 'Michael Rapaport': 1, 'Tony Goldwyn': 1, 'Sarah Wynter': 1, 'Spencer Treat Clark': 1, 'John Patrick Amedori': 1, 'Patrick Fugit': 1, 'Simon Baker': 1, \"Jerry O'Connell\": 1, 'Rachael Leigh Cook': 1, 'Johnny Strong': 1, 'Stephen Baldwin': 1, 'Kristen Johnston': 1, 'Joan Collins': 1, 'Steven Culp': 1, 'Shawn Driscoll': 1, 'Bill Pullman': 1, \"Chris O'Donnell\": 1, 'Robin Tunney': 1, 'Diana Scarwid': 1, 'James Remar': 1, 'Alice Evans': 1, 'Tim McInnerny': 1, 'GÃ©rard Depardieu': 1, 'Janet Jackson': 1, 'Larry Miller': 1, 'John Ales': 1, 'Richard Gant': 1, 'James Spader': 1, 'Robert Forster': 1, 'Lou Diamond Phillips': 1, 'Lily Tomlin': 1, 'Rene Russo': 1, 'Jason Alexander': 1, 'Piper Perabo': 1})\n"
     ]
    }
   ],
   "source": [
    "# Код:\n",
    "films = data[data.budget > data.budget.mean()]\n",
    "separation(films.cast)\n",
    "print(c)"
   ]
  },
  {
   "cell_type": "markdown",
   "metadata": {
    "colab_type": "text",
    "id": "NIh6AaW5Vp_n"
   },
   "source": [
    "# 17. В фильмах какого жанра больше всего снимался Nicolas Cage? "
   ]
  },
  {
   "cell_type": "code",
   "execution_count": 38,
   "metadata": {
    "colab": {},
    "colab_type": "code",
    "id": "H74SJDIBVp_n"
   },
   "outputs": [],
   "source": [
    "answers['17'] = '2. Action'\n",
    "# +"
   ]
  },
  {
   "cell_type": "code",
   "execution_count": 41,
   "metadata": {},
   "outputs": [
    {
     "name": "stdout",
     "output_type": "stream",
     "text": [
      "Counter({'Drama': 1378, 'Comedy': 1252, 'Thriller': 1087, 'Action': 1077, 'Adventure': 773, 'Crime': 576, 'Romance': 553, 'Family': 495, 'Science Fiction': 455, 'Fantasy': 434, 'Horror': 329, 'Mystery': 296, 'Animation': 268, 'History': 114, 'Music': 111, 'War': 102, 'Western': 31, 'Matt Damon': 18, 'Adam Sandler': 17, 'Angelina Jolie': 16, 'Documentary': 15, 'Ben Stiller': 15, 'Tom Cruise': 15, 'Samuel L. Jackson': 15, 'Eddie Murphy': 15, 'Mark Wahlberg': 14, 'Hugh Jackman': 14, 'Jamie Foxx': 14, 'Russell Crowe': 14, 'Johnny Depp': 13, 'Jude Law': 13, 'Bruce Willis': 13, 'Will Smith': 13, 'Robert Downey Jr.': 12, 'Dwayne Johnson': 12, 'Ian McKellen': 12, 'Brad Pitt': 12, 'Owen Wilson': 12, 'Cameron Diaz': 12, 'Nicolas Cage': 12, 'Robert De Niro': 12, 'Mark Ruffalo': 11, 'Leonardo DiCaprio': 11, 'Daniel Craig': 11, 'Steve Buscemi': 11, 'Sylvester Stallone': 10, 'Vin Diesel': 10, 'Jack Black': 10, 'Denzel Washington': 10, 'Emma Watson': 10, 'Gary Oldman': 10, 'Tom Hanks': 10, 'Orlando Bloom': 10, 'George Clooney': 9, 'Robert Rodriguez': 9, 'Chris Hemsworth': 9, 'Ralph Fiennes': 9, 'Cate Blanchett': 9, 'Michael Caine': 9, 'Ewan McGregor': 9, 'Paul Bettany': 9, 'Brendan Gleeson': 9, 'Shia LaBeouf': 9, 'Nicole Kidman': 9, 'Colin Farrell': 9, 'Rachel Weisz': 9, 'Halle Berry': 9, 'Chris Evans': 8, 'Charlize Theron': 8, 'Kevin James': 8, 'Helena Bonham Carter': 8, 'Josh Hutcherson': 8, 'James Franco': 8, 'Christian Bale': 8, 'Gerard Butler': 8, 'Rosario Dawson': 8, 'Ben Kingsley': 8, 'Bill Nighy': 8, 'Daniel Radcliffe': 8, 'Rupert Grint': 8, 'Jim Carrey': 8, 'Vince Vaughn': 8, 'Alec Baldwin': 8, 'Steve Carell': 8, 'Michael Bay': 7, 'Paul W.S. Anderson': 7, 'Jon Favreau': 7, 'Keanu Reeves': 7, 'Mel Gibson': 7, 'Scarlett Johansson': 7, 'Harrison Ford': 7, 'Jason Statham': 7, 'Woody Harrelson': 7, 'Josh Brolin': 7, 'Jeff Bridges': 7, 'Anne Hathaway': 7, 'Patrick Stewart': 7, 'Jennifer Connelly': 7, 'Anthony Hopkins': 7, 'Morgan Freeman': 7, 'Billy Crudup': 7, 'Jason Lee': 7, 'Jessica Biel': 7, 'Julia Roberts': 7, 'Ryan Reynolds': 7, 'Liam Neeson': 7, 'Karl Urban': 7, 'Richard Jenkins': 7, 'Chris Rock': 7, 'Antoine Fuqua': 6, 'Seth Rogen': 6, 'Ridley Scott': 6, 'Peter Berg': 6, 'Kate Winslet': 6, 'Paul Walker': 6, 'Arnold Schwarzenegger': 6, 'Sean Bean': 6, 'Elizabeth Banks': 6, 'Ving Rhames': 6, 'Mark Strong': 6, 'Jeffrey Wright': 6, 'Gwyneth Paltrow': 6, 'Matthew McConaughey': 6, 'Rosamund Pike': 6, 'Logan Lerman': 6, 'Robin Williams': 6, 'Stanley Tucci': 6, 'Kevin Costner': 6, 'John Goodman': 6, 'Aaron Eckhart': 6, 'Justin Long': 6, 'Will Ferrell': 6, 'Seann William Scott': 6, 'Paul Giamatti': 6, 'Dustin Hoffman': 6, 'Mike Myers': 6, 'Eva Mendes': 6, 'Kate Beckinsale': 6, 'Jon Voight': 6, 'Jackie Chan': 6, 'Tobey Maguire': 6, 'Guy Pearce': 6, 'John Leguizamo': 6, 'Tommy Lee Jones': 6, 'Brett Ratner': 5, 'Kenneth Branagh': 5, 'Quentin Tarantino': 5, 'Zack Snyder': 5, 'Roland Emmerich': 5, 'Andrzej Bartkowiak': 5, 'Louis Leterrier': 5, 'Tony Scott': 5, 'Paul Greengrass': 5, 'Peter Jackson': 5, 'Lee Tamahori': 5, 'Gore Verbinski': 5, 'Rob Cohen': 5, 'Michelle Rodriguez': 5, 'Michael PeÃ±a': 5, 'Paul Rudd': 5, 'Jennifer Lawrence': 5, 'Carla Gugino': 5, 'Ioan Gruffudd': 5, 'Simon Pegg': 5, 'Giovanni Ribisi': 5, 'Frances McDormand': 5, 'Elijah Wood': 5, 'Jake Gyllenhaal': 5, 'Sam Worthington': 5, 'Delroy Lindo': 5, 'Bradley Cooper': 5, 'Donald Sutherland': 5, 'Ben Affleck': 5, 'Andy Serkis': 5, 'John Turturro': 5, 'Jonah Hill': 5, 'Julianne Moore': 5, 'John Malkovich': 5, 'Ian McShane': 5, 'Chris Pine': 5, 'Keira Knightley': 5, 'Jessica Alba': 5, 'Eric Bana': 5, 'Benjamin Bratt': 5, 'Hank Azaria': 5, 'John Travolta': 5, 'David Cross': 5, 'Clive Owen': 5, 'Sam Elliott': 5, 'Don Cheadle': 5, 'Ron Perlman': 5, 'Antonio Banderas': 5, 'Peter Sarsgaard': 5, 'Zach Galifianakis': 5, 'Nick Nolte': 5, 'Brendan Fraser': 5, 'Jennifer Aniston': 5, 'Edward Norton': 5, 'Judi Dench': 5, 'John C. Reilly': 5, 'Sacha Baron Cohen': 5, 'Kirsten Dunst': 5, 'Djimon Hounsou': 5, 'Catherine Zeta-Jones': 5, 'J.J. Abrams': 4, 'Lana Wachowski': 4, 'Lilly Wachowski': 4, 'Olivier Megaton': 4, 'Guy Ritchie': 4, 'Bryan Singer': 4, 'Clint Eastwood': 4, 'Tim Story': 4, 'Renny Harlin': 4, 'Mark Neveldine': 4, 'Brian Taylor': 4, 'Dominic Sena': 4, 'Justin Lin': 4, 'Christopher Nolan': 4, 'Simon West': 4, 'John Moore': 4, 'Steven Spielberg': 4, 'Martin Campbell': 4, 'John Singleton': 4, 'Len Wiseman': 4, 'Robert Redford': 4, 'Tom Hardy': 4, 'Kristen Wiig': 4, 'Christoph Waltz': 4, 'Michelle Monaghan': 4, 'Liam Hemsworth': 4, 'Amanda Seyfried': 4, 'Steve Martin': 4, 'Ray Winstone': 4, 'Rose Byrne': 4, 'Tom Hiddleston': 4, 'Michael Fassbender': 4, 'Megan Fox': 4, 'Will Arnett': 4, 'William Fichtner': 4, 'Marton Csokas': 4, 'Emma Stone': 4, 'Bill Paxton': 4, 'Joel Edgerton': 4, 'Bryan Cranston': 4, 'Jay Baruchel': 4, 'Eva Green': 4, 'David Wenham': 4, 'Michael Gambon': 4, 'Mickey Rourke': 4, 'Joseph Gordon-Levitt': 4, 'Bill Murray': 4, 'Carrie-Anne Moss': 4, 'Bruce Greenwood': 4, 'Patrick Wilson': 4, 'Chiwetel Ejiofor': 4, 'Thandie Newton': 4, 'Anna Faris': 4, 'Amy Adams': 4, 'Susan Sarandon': 4, 'PenÃ©lope Cruz': 4, 'Luis GuzmÃ¡n': 4, 'Jason Bateman': 4, 'Reese Witherspoon': 4, 'Tyrese Gibson': 4, 'Catherine Keener': 4, 'James Cromwell': 4, 'Julie Andrews': 4, 'Alfred Molina': 4, 'Salma Hayek': 4, 'Kristen Stewart': 4, 'Peter Facinelli': 4, 'Jason Isaacs': 4, 'Ashton Kutcher': 4, 'Jack Nicholson': 4, 'Viggo Mortensen': 4, 'Liv Tyler': 4, 'Ed Harris': 4, 'Heath Ledger': 4, 'Kurt Russell': 4, 'Angela Bassett': 4, 'TÃ©a Leoni': 4, 'Terrence Howard': 4, 'Hayden Christensen': 4, 'Terence Stamp': 4, 'Anthony Mackie': 4, 'Zooey Deschanel': 4, 'Matthew Broderick': 4, 'Ed Helms': 4, 'Hugo Weaving': 4, 'Geoffrey Rush': 4, 'Natalie Portman': 4, 'Denis Leary': 4, 'Brian Cox': 4, 'Willem Dafoe': 4, 'Joaquin Phoenix': 4, 'Famke Janssen': 4, 'Peter Stormare': 4, 'Kerry Washington': 4, 'Billy Connolly': 4, 'Drew Barrymore': 4, 'RenÃ©e Zellweger': 4, 'Christopher Walken': 4, 'Brad Bird': 3, 'Matthew Vaughn': 3, 'Neill Blomkamp': 3, 'Jaume Collet-Serra': 3, 'Breck Eisner': 3, 'Pierre Morel': 3, 'David Ayer': 3, 'Doug Liman': 3, 'Phil Lord': 3, 'Christopher Miller': 3, 'McG': 3, 'Stephen Sommers': 3, 'Shawn Levy': 3, 'Jonathan Mostow': 3, 'Jon Turteltaub': 3, 'Joe Carnahan': 3, 'M. Night Shyamalan': 3, 'Harald Zwart': 3, 'Marc Forster': 3, 'D.J. Caruso': 3, 'Edward Zwick': 3, 'Sam Raimi': 3, 'Barry Sonnenfeld': 3, 'Guillermo del Toro': 3, 'John Woo': 3, 'Uwe Boll': 3, 'David Twohy': 3, 'Bryce Dallas Howard': 3, 'Theo James': 3, 'Miles Teller': 3, 'Jason Clarke': 3, 'Jai Courtney': 3, 'Jessica Chastain': 3, 'Sandra Bullock': 3, 'Michael Keaton': 3, 'Bill Hader': 3, 'Monica Bellucci': 3, 'Mila Kunis': 3, 'Channing Tatum': 3, 'Josh Gad': 3, 'Michael Douglas': 3, 'Bobby Cannavale': 3, 'Hugh Laurie': 3, 'Alexandra Daddario': 3, 'Jeremy Renner': 3, 'Amy Ryan': 3, 'Henry Cavill': 3, 'Armie Hammer': 3, 'Kate Mara': 3, 'Jamie Bell': 3, 'Toby Kebbell': 3, 'Garrett Hedlund': 3, 'Andy Samberg': 3, 'Rachel McAdams': 3, 'Marion Cotillard': 3, 'Charlie Hunnam': 3, 'Casey Affleck': 3, 'Zoe Saldana': 3, 'Martin Freeman': 3, 'Richard Armitage': 3, 'Neil Patrick Harris': 3, 'James McAvoy': 3, 'Li Bingbing': 3, 'Colm Feore': 3, 'Sienna Miller': 3, 'Ken Watanabe': 3, 'Elle Fanning': 3, 'Sharlto Copley': 3, 'Luke Evans': 3, 'Dominic Cooper': 3, 'John Hurt': 3, 'Rufus Sewell': 3, 'Abbie Cornish': 3, 'Jesse Eisenberg': 3, 'Leslie Mann': 3, 'Andy GarcÃ\\xada': 3, 'Emily Browning': 3, 'Miranda Otto': 3, 'William Hurt': 3, 'Stephen Lang': 3, 'Christopher Plummer': 3, 'Malin Ã…kerman': 3, 'Amanda Peet': 3, 'Stellan SkarsgÃ¥rd': 3, 'Dennis Quaid': 3, 'Dakota Fanning': 3, 'Kristen Bell': 3, 'Kiefer Sutherland': 3, 'Robin Wright': 3, 'Josh Duhamel': 3, 'Meryl Streep': 3, 'Olivia Wilde': 3, 'Freddie Highmore': 3, 'Jordana Brewster': 3, 'Radha Mitchell': 3, 'Liev Schreiber': 3, 'Hugh Grant': 3, 'Sarah Jessica Parker': 3, 'Mary Steenburgen': 3, 'Russell Brand': 3, 'Emily Mortimer': 3, 'Skandar Keynes': 3, 'Georgie Henley': 3, 'Jason Flemyng': 3, 'Mary Elizabeth Winstead': 3, 'Brandon T. Jackson': 3, 'Mary-Louise Parker': 3, 'Maria Bello': 3, 'Robert Pattinson': 3, 'Taylor Lautner': 3, 'Greg Kinnear': 3, 'Kristin Davis': 3, 'Chris Noth': 3, 'James Marsden': 3, 'Dan Aykroyd': 3, 'Milla Jovovich': 3, 'Cuba Gooding Jr.': 3, 'Michael Clarke Duncan': 3, 'James Gandolfini': 3, 'Laurence Fishburne': 3, 'Billy Bob Thornton': 3, 'Teri Polo': 3, 'Lucy Liu': 3, 'Jada Pinkett Smith': 3, 'David Schwimmer': 3, 'Jeffrey Tambor': 3, 'Thomas Kretschmann': 3, 'Cliff Curtis': 3, 'Michael Chiklis': 3, 'Jaden Smith': 3, 'Sienna Guillory': 3, 'Al Pacino': 3, 'Spencer Breslin': 3, 'Paula Patton': 3, 'Tim Robbins': 3, 'Justin Bartha': 3, 'Ken Jeong': 3, 'Jane Lynch': 3, 'Isla Fisher': 3, 'CiarÃ¡n Hinds': 3, 'Lily Collins': 3, 'Kevin Bacon': 3, 'Ray Romano': 3, 'Chris Cooper': 3, 'Emma Thompson': 3, 'William Shatner': 3, 'Cole Hauser': 3, 'Randy Quaid': 3, 'Harvey Keitel': 3, 'Scott Glenn': 3, 'David Oyelowo': 3, 'Michelle Pfeiffer': 3, 'David Spade': 3, 'Marisa Tomei': 3, 'Josh Lucas': 3, 'David Thewlis': 3, 'Connie Nielsen': 3, 'Bruce McGill': 3, 'Shirley MacLaine': 3, 'Hiroyuki Sanada': 3, 'Sean Penn': 3, 'Richard Roxburgh': 3, 'Val Kilmer': 3, 'Emmy Rossum': 3, 'Miranda Richardson': 3, 'Foreign': 2, 'James Wan': 2, 'Alan Taylor': 2, 'Sam Mendes': 2, 'Joss Whedon': 2, 'Peyton Reed': 2, 'Brad Peyton': 2, 'Wes Ball': 2, 'Michael Mann': 2, 'Paul Feig': 2, 'Ron Howard': 2, 'Camille Delamarre': 2, 'Luc Besson': 2, 'Jonathan Liebesman': 2, 'Matt Reeves': 2, 'Marc Webb': 2, 'Evan Goldberg': 2, 'Roger Donaldson': 2, 'J.C. Chandor': 2, 'Scott Waugh': 2, 'Alex Proyas': 2, 'James McTeigue': 2, 'NimrÃ³d Antal': 2, 'Gavin Hood': 2, 'Joseph Kosinski': 2, 'Edgar Wright': 2, 'Robert Schwentke': 2, 'Tom McGrath': 2, 'James Mangold': 2, 'Neil Marshall': 2, 'Jorma Taccone': 2, 'Kevin Munroe': 2, 'Peter Howitt': 2, 'Frank Oz': 2, 'Joe Johnston': 2, 'Peter Hyams': 2, 'Timur Bekmambetov': 2, 'David Gordon Green': 2, 'Pete Travis': 2, 'Mathieu Kassovitz': 2, 'Frank Miller': 2, 'Jason Friedberg': 2, 'Aaron Seltzer': 2, 'Rob Marshall': 2, 'Andrew Niccol': 2, 'Chris Miller': 2, 'Marcus Nispel': 2, 'Ruben Fleischer': 2, 'George Lucas': 2, 'Andrew Davis': 2, 'Walter Hill': 2, 'Rob Bowman': 2, 'Ang Lee': 2, 'Baltasar KormÃ¡kur': 2, 'Mark Steven Johnson': 2, 'F. Gary Gray': 2, 'David Dobkin': 2, 'Clark Johnson': 2, 'Richard Donner': 2, 'William Friedkin': 2, 'Francis Lawrence': 2, 'Courtney Solomon': 2, 'David R. Ellis': 2, 'David S. Goyer': 2, 'Eli Roth': 2, 'Chris Pratt': 2, 'Irrfan Khan': 2, 'Nicholas Hoult': 2, 'Shailene Woodley': 2, 'Domhnall Gleeson': 2, 'J.K. Simmons': 2, 'Jeff Daniels': 2, 'Allison Janney': 2, 'Steve Coogan': 2, 'Amy Poehler': 2, 'LÃ©a Seydoux': 2, 'Evangeline Lilly': 2, 'Corey Stoll': 2, 'Colin Firth': 2, 'Giancarlo Esposito': 2, 'Alicia Vikander': 2, 'Elizabeth Debicki': 2, 'Rihanna': 2, 'Jennifer Lopez': 2, 'Edgar RamÃ\\xadrez': 2, 'Teresa Palmer': 2, 'Viola Davis': 2, 'Benjamin Walker': 2, 'Ben Whishaw': 2, 'Rooney Mara': 2, 'Selena Gomez': 2, 'Mia Wasikowska': 2, 'Sebastian Stan': 2, 'Ken Stott': 2, 'Graham McTavish': 2, 'Jamie Chung': 2, 'Rami Malek': 2, 'Ray Stevenson': 2, 'Nicola Peltz': 2, 'Keri Russell': 2, 'ChloÃ« Grace Moretz': 2, 'Andrew Garfield': 2, 'Emily Blunt': 2, 'Aaron Paul': 2, 'Ben Barnes': 2, 'Kit Harington': 2, 'Lena Headey': 2, 'Joel Kinnaman': 2, 'Jackie Earle Haley': 2, 'Adewale Akinnuoye-Agbaje': 2, 'RamÃ³n RodrÃ\\xadguez': 2, 'Yvonne Strahovski': 2, 'Kellan Lutz': 2, 'Sigourney Weaver': 2, 'MÃ©lanie Laurent': 2, 'Julie Walters': 2, 'Zachary Quinto': 2, 'Anton Yelchin': 2, 'Eddie Marsan': 2, 'Jeffrey Dean Morgan': 2, 'John Cusack': 2, 'Oliver Platt': 2, 'Keith David': 2, 'Marlon Wayans': 2, 'James Caan': 2, 'Saoirse Ronan': 2, 'Sam Rockwell': 2, 'Tracy Morgan': 2, 'Zachary Levi': 2, 'Mary Kay Place': 2, 'Michael Cera': 2, 'Oscar Isaac': 2, 'Danny Huston': 2, 'Lynn Collins': 2, 'Jason Segel': 2, 'Dolph Lundgren': 2, 'Michelle Williams': 2, 'Mandy Moore': 2, 'Tim Allen': 2, 'Ned Beatty': 2, 'Joan Cusack': 2, 'Timothy Dalton': 2, 'Gemma Arterton': 2, 'Anna Kendrick': 2, 'Barbra Streisand': 2, 'Helen Mirren': 2, 'Tina Fey': 2, 'Ashley Greene': 2, 'Jordi MollÃ\\xa0': 2, 'Javier Bardem': 2, 'Katherine Heigl': 2, 'Tom Selleck': 2, 'Cynthia Nixon': 2, 'Kim Cattrall': 2, 'Essie Davis': 2, 'Eric Dane': 2, 'Cam Gigandet': 2, 'Julianne Hough': 2, 'Stephanie Szostak': 2, 'Bette Midler': 2, 'Carey Mulligan': 2, 'Justin Timberlake': 2, 'John Cleese': 2, 'Billy Crystal': 2, \"Frances O'Connor\": 2, 'John Lithgow': 2, 'Josh Hartnett': 2, 'John Hannah': 2, 'Arnold Vosloo': 2, 'Michael J. Fox': 2, 'James Garner': 2, 'Noah Taylor': 2, 'Tim Roth': 2, 'Kris Kristofferson': 2, 'Tom Sizemore': 2, 'Chris Tucker': 2, 'Zhang Ziyi': 2, 'Ernie Reyes, Jr.': 2, 'Elizabeth Perkins': 2, 'Sam Shepard': 2, 'Dylan Baker': 2, 'Gene Hackman': 2, 'Dominic West': 2, 'Edward Burns': 2, 'Martin Landau': 2, 'David Ogden Stiers': 2, 'Courteney Cox': 2, 'David Hyde Pierce': 2, 'Til Schweiger': 2, 'David Andrews': 2, 'William H. Macy': 2, 'Jeff Garlin': 2, 'Olga Kurylenko': 2, 'Jet Li': 2, 'Selma Blair': 2, 'Michael Rooker': 2, 'William Moseley': 2, 'Anna Popplewell': 2, 'Kathy Bates': 2, 'Michael Ealy': 2, 'Malcolm McDowell': 2, 'Alan Arkin': 2, 'Ali Suliman': 2, 'Adam Scott': 2, 'Kate Hudson': 2, 'Ewen Bremner': 2, 'Lambert Wilson': 2, 'Charlotte Rampling': 2, 'Robert Duvall': 2, 'Christina Ricci': 2, 'Matthew Fox': 2, 'Gabriel Macht': 2, 'Paz Vega': 2, 'Kevin Kline': 2, 'Gabrielle Union': 2, 'Goran Visnjic': 2, 'Bailee Madison': 2, 'Noomi Rapace': 2, 'Larry the Cable Guy': 2, 'Eddie Izzard': 2, 'Vanessa Hudgens': 2, 'Emily Watson': 2, 'Asa Butterfield': 2, 'Dominic Purcell': 2, 'Maggie Q': 2, 'Isabel Lucas': 2, 'Katie Holmes': 2, 'Amy Sedaris': 2, 'Jason Momoa': 2, 'Lea Michele': 2, 'Johnny A. Sanchez': 2, 'Seth Green': 2, 'Queen Latifah': 2, 'Richard Harris': 2, 'Franka Potente': 2, 'Ian McDiarmid': 2, 'Max von Sydow': 2, 'Abigail Breslin': 2, 'Elias Koteas': 2, 'Liam Aiken': 2, 'Paul Newman': 2, 'BeyoncÃ© Knowles': 2, 'Mark Addy': 2, 'Adam Beach': 2, 'Izabella Scorupco': 2, 'Naomie Harris': 2, 'Idris Elba': 2, 'Martin Sheen': 2, 'Kevin McKidd': 2, 'Jim Broadbent': 2, 'Jim Sturgess': 2, 'Jonny Lee Miller': 2, 'Timothy Spall': 2, 'Taylor Kitsch': 2, 'Tadanobu Asano': 2, 'Nathan Lane': 2, 'Jack Davenport': 2, 'Claire Danes': 2, 'Jennifer Garner': 2, 'Martin Lawrence': 2, 'TchÃ©ky Karyo': 2, 'Bernie Mac': 2, 'Robert Patrick': 2, 'Steve Zahn': 2, 'Timothy Olyphant': 2, 'Diane Lane': 2, 'Jodie Foster': 2, 'Alice Braga': 2, 'Diego Luna': 2, 'James Badge Dale': 2, 'Patton Oswalt': 2, 'Cloris Leachman': 2, 'Max Martini': 2, 'Maggie Gyllenhaal': 2, 'Sung Kang': 2, 'Sophie Okonedo': 2, 'Zach Braff': 2, 'Jim Belushi': 2, 'AnnaSophia Robb': 2, 'Julian McMahon': 2, 'Lauren Graham': 2, 'Gong Li': 2, 'Amber Valletta': 2, 'Jeremy Irons': 2, 'Adrien Brody': 2, 'Lucas Black': 2, 'Donal Logue': 2, 'Paddy Considine': 2, 'Bonnie Hunt': 2, 'Yvan Attal': 2, 'Mads Mikkelsen': 2, 'Jean Reno': 2, 'Philip Seymour Hoffman': 2, 'Jonathan Rhys Meyers': 2, 'David Strathairn': 2, 'Sharon Stone': 2, 'Jacinda Barrett': 2, 'Gary Sinise': 2, 'Danny Glover': 2, 'Julia Stiles': 2, 'Diane Kruger': 2, 'Chi McBride': 2, 'Jane Krakowski': 2, 'Glenn Close': 2, 'Patrick Warburton': 2, 'John Michael Higgins': 2, 'Helen Hunt': 2, 'Colin Trevorrow': 1, 'George Miller': 1, 'Chris Columbus': 1, 'Christopher McQuarrie': 1, 'Ilya Naishuller': 1, 'Ericson Core': 1, 'Denis Villeneuve': 1, 'Josh Trank': 1, 'Aleksander Bach': 1, 'Andy Fickman': 1, 'John Erick Dowdle': 1, 'Anne Fletcher': 1, 'James Gunn': 1, 'Joe Russo': 1, 'Anthony Russo': 1, 'Chad Stahelski': 1, 'David Leitch': 1, 'Don Hall': 1, 'Chris Williams': 1, 'Neil Burger': 1, 'Gareth Edwards': 1, 'Robert Stromberg': 1, 'Dean DeBlois': 1, 'Patrick Hughes': 1, 'Gary Shore': 1, 'Noam Murro': 1, 'Vic Armstrong': 1, 'JosÃ© Padilha': 1, 'Brian A Miller': 1, 'Steven Quale': 1, 'Adam Wingard': 1, 'James Cameron': 1, 'Patrick Tatopoulos': 1, 'Shane Acker': 1, 'Steve Carr': 1, 'Christian Alvart': 1, 'Hoyt Yeatman': 1, 'Kevin Macdonald': 1, 'Michael Spierig': 1, 'Peter Spierig': 1, 'Paul McGuigan': 1, 'Troy Duffy': 1, 'Paul Weitz': 1, 'David Bowers': 1, 'Daniel Barber': 1, 'Michael J. Bassett': 1, 'Pierre Coffin': 1, 'Chris Renaud': 1, 'Phillip Noyce': 1, 'Florian Henckel von Donnersmarck': 1, 'Mike Newell': 1, 'Ethan Maniquis': 1, 'Albert Hughes': 1, 'Allen Hughes': 1, 'Adam McKay': 1, 'Miguel Sapochnik': 1, 'Andy Tennant': 1, 'Jonathan Lynn': 1, 'Jimmy Hayward': 1, 'Robert Luketic': 1, 'John Luessenhop': 1, 'Kevin Smith': 1, 'Brian Levant': 1, 'Stuart Beattie': 1, 'Tim Burton': 1, 'Brian Helgeland': 1, 'John A. Davis': 1, 'Chris Nahon': 1, 'Hironobu Sakaguchi': 1, 'Motonori Sakakibara': 1, 'Rod Lurie': 1, 'John Herzfeld': 1, 'Ivan Reitman': 1, 'Demian Lichtenstein': 1, 'John Carpenter': 1, 'Bobby Farrelly': 1, 'Peter Farrelly': 1, 'Barry Levinson': 1, 'Luke Greenfield': 1, 'Les Mayfield': 1, 'Henry Selick': 1, 'Rob Pritts': 1, 'Ernest R. Dickerson': 1, 'DJ Pooh': 1, 'Eric Brevig': 1, 'Jeff Wadlow': 1, 'Lexi Alexander': 1, 'Peter Segal': 1, 'Rob Minkoff': 1, 'Jon Avnet': 1, 'Dennis Dugan': 1, 'Howard McCain': 1, 'Oxide Pang Chun': 1, 'Danny Pang': 1, 'Craig Mazin': 1, 'Simon Hunter': 1, 'Nicolas Winding Refn': 1, 'Rupert Wyatt': 1, 'Patrick Lussier': 1, 'Gary McKendry': 1, 'Scott Stewart': 1, 'Tarsem Singh': 1, 'Chris Gorak': 1, 'Michel Gondry': 1, 'Oliver Parker': 1, 'Joe Cornish': 1, 'Joe Wright': 1, 'John Michael McDonagh': 1, 'Alister Grierson': 1, 'Sean McNamara': 1, 'John Whitesell': 1, 'Benny Chan': 1, 'Corey Yuen Kwai': 1, 'Stuart Baird': 1, 'Kurt Wimmer': 1, 'Jay Roach': 1, 'Jim Gillespie': 1, 'Chuck Russell': 1, 'Betty Thomas': 1, 'Randall Wallace': 1, 'Ron Shelton': 1, 'Simon Wells': 1, 'Roger Michell': 1, 'Michael Apted': 1, 'Tom Dey': 1, 'Joel Schumacher': 1, 'Luis Mandoki': 1, 'Tamra Davis': 1, 'Ron Underwood': 1, 'Kevin Bray': 1, 'Malcolm D. Lee': 1, 'MÃ¥ns MÃ¥rlind': 1, 'BjÃ¶rn Stein': 1, 'Tony Gilroy': 1, 'Mark Andrews': 1, 'Steve Purcell': 1, 'Brenda Chapman': 1, 'Boaz Yakin': 1, 'Andrew Stanton': 1, 'Rian Johnson': 1, 'Mike McCoy': 1, 'Stephen St. Leger': 1, 'James Mather': 1, 'Daniel Espinosa': 1, 'Asger Leth': 1, 'Mabrouk El Mechri': 1, 'Dan Bradley': 1, 'Julie Anne Robinson': 1, 'Anthony Hemingway': 1, 'David Koepp': 1, 'David Barrett': 1, 'Stephen Norrington': 1, 'Jan de Bont': 1, 'Jon Amiel': 1, 'John McTiernan': 1, 'Shane Black': 1, 'Tommy Wirkola': 1, 'Carl Rinsch': 1, 'Gary Fleder': 1, 'Mikael HÃ¥fstrÃ¶m': 1, 'Taylor Hackford': 1, 'Steven Knight': 1, 'Spike Lee': 1, 'Dito Montiel': 1, 'Fyodor Bondarchuk': 1, 'Karyn Kusama': 1, 'Adam Shankman': 1, 'John Stockwell': 1, 'Sydney Pollack': 1, 'Terry Gilliam': 1, 'Jay Chandrasekhar': 1, 'Richard Shepard': 1, 'John Dahl': 1, 'Bruce Hunt': 1, 'Alfonso CuarÃ³n': 1, 'Stefen Fangmeier': 1, 'Bruce Beresford': 1, 'Wolfgang Petersen': 1, 'Jeff Tremaine': 1, 'John Bonito': 1, 'Geoffrey Sax': 1, 'Tony Bill': 1, 'Wayne Kramer': 1, 'Sanjay Gadhvi': 1, 'Phil Joanou': 1, 'Alexander Witt': 1, 'Bibo Bergeron': 1, 'Vicky Jenson': 1, 'Rob Letterman': 1, 'Kerry Conran': 1, 'Oliver Stone': 1, 'Jonathan Hensleigh': 1, 'Pitof': 1, 'Philip Kaufman': 1, 'Trey Parker': 1, 'Steven Brill': 1, 'Frank Coraci': 1, 'Paul Abascal': 1, 'Joseph Kahn': 1, 'David Mamet': 1, 'Jay Russell': 1, 'Philip G. Atwell': 1, 'Michael Davis': 1, 'Xavier Gens': 1, 'Rob Zombie': 1, 'Jason Eisener': 1, 'Dave Meyers': 1, 'Russell Mulcahy': 1, 'Andrew Dominik': 1, 'Doug Lefler': 1, 'David Leland': 1, 'Feng Xiaogang': 1, 'Ben Garant': 1, 'Joel Coen': 1, 'Donald Petrie': 1, 'Paul Verhoeven': 1, 'Roger Spottiswoode': 1, 'Antony Hoffman': 1, 'Stephen T. Kay': 1, 'Don Bluth': 1, 'Gary Goldman': 1, 'Christian Duguay': 1, 'Douglas Aarniokoski': 1, 'Gina Prince-Bythewood': 1, 'Brian Robbins': 1, 'Des McAnuff': 1, \"Vincent D'Onofrio\": 1, 'Nick Robinson': 1, 'Hugh Keays-Byrne': 1, 'Josh Helman': 1, 'Ansel Elgort': 1, 'Mark Hamill': 1, 'Carrie Fisher': 1, 'Adam Driver': 1, 'Daisy Ridley': 1, 'Will Poulter': 1, 'Paul Anderson': 1, 'Emilia Clarke': 1, 'Jon Hamm': 1, 'Phyllis Smith': 1, 'Richard Kind': 1, 'Lewis Black': 1, 'Eddie Redmayne': 1, 'Douglas Booth': 1, 'Peter Dinklage': 1, 'Lily James': 1, 'Richard Madden': 1, 'Holliday Grainger': 1, 'Britt Robertson': 1, 'Raffey Cassidy': 1, 'Thomas Robinson': 1, 'Archie Panjabi': 1, 'Rebecca Ferguson': 1, 'Seth MacFarlane': 1, 'Jessica Barth': 1, 'Taron Egerton': 1, \"Dylan O'Brien\": 1, 'Kaya Scodelario': 1, 'Thomas Brodie-Sangster': 1, 'Aidan Gillen': 1, 'Dylan Minnette': 1, 'Odeya Rush': 1, 'Jillian Bell': 1, 'Raymond Ochoa': 1, 'Jack Bright': 1, 'Maleah Nipay-Padilla': 1, 'Rose Leslie': 1, 'Ã“lafur Darri Ã“lafsson': 1, 'Luca Calvani': 1, 'Jim Parsons': 1, 'Matt Jones': 1, 'John Hawkes': 1, 'Luke Bracey': 1, 'Olivia Munn': 1, 'Leehom Wang': 1, 'Tang Wei': 1, 'Holt McCallany': 1, 'Michael B. Jordan': 1, 'Melissa McCarthy': 1, 'Miranda Hart': 1, 'Cillian Murphy': 1, 'Levi Miller': 1, 'Noah Schnapp': 1, 'Bill Melendez': 1, 'Venus Schultheis': 1, 'Hadley Belle Miller': 1, 'Madisyn Shipman': 1, 'Jim Beaver': 1, 'Tom Kenny': 1, 'Bill Fagerbakke': 1, 'Rodger Bumpass': 1, 'Clancy Brown': 1, 'Carolyn Lawrence': 1, 'Dave Bautista': 1, 'Scott Adsit': 1, 'Ryan Potter': 1, 'Daniel Henney': 1, 'T.J. Miller': 1, 'Carrie Coon': 1, 'Tyler Perry': 1, 'Jon Bernthal': 1, 'Rebel Wilson': 1, 'Alan Ritchson': 1, 'Noel Fisher': 1, 'Jack Reynor': 1, 'Judy Greer': 1, 'David Harbour': 1, 'Haley Bennett': 1, 'Dane DeHaan': 1, 'Jonas Armstrong': 1, 'Kyle Gallner': 1, 'Cole Konis': 1, 'Ben Reed': 1, 'Ben Mendelsohn': 1, 'Aaron Taylor-Johnson': 1, 'Elizabeth Olsen': 1, 'Juliette Binoche': 1, 'Juno Temple': 1, 'Isobelle Molloy': 1, 'Craig Berry': 1, 'Alison Brie': 1, 'David Burrows': 1, 'Sarah Gadon': 1, 'Art Parkinson': 1, 'Charles Dance': 1, 'Christopher Knights': 1, 'Conrad Vernon': 1, 'Sullivan Stapleton': 1, 'Callan Mulvey': 1, 'Peter Capaldi': 1, 'Imelda Staunton': 1, 'Aksel Hennie': 1, 'Nonso Anozie': 1, 'Gemma Chan': 1, 'Rebecca Hall': 1, 'Ty Burrell': 1, 'Max Charles': 1, 'Ariel Winter': 1, 'Ellie Kemper': 1, \"Jack O'Connell\": 1, 'Takamasa Ishihara': 1, 'Finn Wittrock': 1, 'Jessica Lucas': 1, 'QuvenzhanÃ© Wallis': 1, 'Imogen Poots': 1, 'Isaac Hempstead Wright': 1, 'Dee Bradley Baker': 1, 'Steve Blum': 1, 'Jessica Brown Findlay': 1, 'Liam McIntyre': 1, 'Gaia Weiss': 1, 'Scott Adkins': 1, 'Roxanne McKee': 1, 'Tom Felton': 1, 'Ed Asner': 1, 'Jordan Nagai': 1, 'Bob Peterson': 1, 'Leonard Nimoy': 1, 'Moon Bloodgood': 1, 'Ayelet Zurer': 1, 'Pierfrancesco Favino': 1, 'Anika Noni Rose': 1, 'Bruno Campos': 1, 'Michael-Leon Wooley': 1, 'Jennifer Cody': 1, 'Mr. T': 1, 'Teri Hatcher': 1, 'Jennifer Saunders': 1, 'Dawn French': 1, 'Steve Valentine': 1, 'Daryl Sabara': 1, 'Sage Ryan': 1, 'Victor Gojcaj': 1, 'Matthew Gray Gubler': 1, 'Rainn Wilson': 1, 'Lake Bell': 1, 'Anna Friel': 1, 'Danny McBride': 1, 'Matt Lauer': 1, 'Tony Kgoroge': 1, 'Patrick Mofokeng': 1, 'Matt Stern': 1, 'Max Minghella': 1, 'Ashraf Barhom': 1, 'Michael Lonsdale': 1, 'John Ortiz': 1, 'Tom Wilkinson': 1, 'Lisa Roberts Gillan': 1, 'Nelsan Ellis': 1, 'Michael Bunin': 1, 'Natalia Klimas': 1, 'Ellen Page': 1, 'Crispin Glover': 1, 'Eric Roberts': 1, 'Randy Couture': 1, 'Craig Ferguson': 1, 'America Ferrera': 1, 'Bruce Boxleitner': 1, 'Yaya DaCosta': 1, 'Donna Murphy': 1, 'M.C. Gainey': 1, 'Daniel Olbrychski': 1, 'Gary Sweet': 1, 'Arthur Angel': 1, 'Steven Berkoff': 1, 'Steve Toussaint': 1, 'Kieran Culkin': 1, 'Jake Abel': 1, 'Ethan Suplee': 1, 'Kevin Corrigan': 1, 'Maya Rudolph': 1, 'Jennifer Beals': 1, 'Taraji P. Henson': 1, 'Jimmi Simpson': 1, 'Noah Ringer': 1, 'Jackson Rathbone': 1, 'Dev Patel': 1, 'Shaun Toub': 1, \"Chris O'Dowd\": 1, 'Juliette Lewis': 1, \"Catherine O'Hara\": 1, 'Alex Borstein': 1, 'Emily Barclay': 1, 'Deborra-Lee Furness': 1, 'Cher': 1, 'Christina Aguilera': 1, 'Jemaine Clement': 1, 'Christina Applegate': 1, 'Pascale Hutton': 1, 'Kathryn Hahn': 1, 'Frank Langella': 1, 'Tom Cavanagh': 1, 'Christine Taylor': 1, 'Shawn Roberts': 1, \"Denis O'Hare\": 1, 'Wentworth Miller': 1, 'Ali Larter': 1, 'Kim Coates': 1, 'Kacey Barnfield': 1, 'Robbie Coltrane': 1, 'Mary Gibbs': 1, 'James Coburn': 1, 'Haley Joel Osment': 1, 'Sam Robards': 1, 'Jake Thomas': 1, 'Vincent Cassel': 1, 'Oded Fehr': 1, 'Corey Burton': 1, 'Claudia Christian': 1, 'John Mahoney': 1, 'Iain Glen': 1, 'Joseph Fiennes': 1, 'Bob Hoskins': 1, 'Shannyn Sossamon': 1, 'Laura Fraser': 1, 'Roselyn SÃ¡nchez': 1, 'Jeff Goldblum': 1, 'Alexander Pollock': 1, 'Miriam Margolyes': 1, 'Catherine McCormack': 1, 'Stephen Dillane': 1, 'Larry Bryggman': 1, 'Ming-Na Wen': 1, 'Kristen Wilson': 1, 'Raven-SymonÃ©': 1, 'Kyla Pratt': 1, 'Steve Burton': 1, 'Monica Potter': 1, 'Michael Wincott': 1, 'Mika Boorem': 1, 'Jason Bonham': 1, 'Kelsey Grammer': 1, 'Avery Brooks': 1, 'David Duchovny': 1, 'Orlando Jones': 1, 'Ted Levine': 1, 'Mario Van Peebles': 1, 'Ron Silver': 1, 'Marlon Brando': 1, 'Paul Soles': 1, 'Laurie Holden': 1, 'Hal Holbrook': 1, 'Christian Slater': 1, 'Kevin Pollak': 1, 'Brandy Norwood': 1, 'Troy Garity': 1, 'William Converse-Roberts': 1, 'Kip Pardue': 1, 'Robert Sean Leonard': 1, 'Estella Warren': 1, 'Ray Liotta': 1, \"Matt O'Leary\": 1, 'Bridget Fonda': 1, 'Chris Kattan': 1, 'Sam Neill': 1, 'Trevor Morgan': 1, 'Alessandro Nivola': 1, 'Ben Burtt': 1, 'Elissa Knight': 1, 'Fred Willard': 1, 'John Ratzenberger': 1, 'Leslie Bibb': 1, 'Karen Allen': 1, 'Mathieu Amalric': 1, 'Giancarlo Giannini': 1, 'Tilda Swinton': 1, 'Julia Ormond': 1, 'Luke Ford': 1, 'Tim Blake Nelson': 1, 'Cedric the Entertainer': 1, 'Doug Jones': 1, 'Rachel Bilson': 1, 'Carice van Houten': 1, 'Steven Strait': 1, 'Camilla Belle': 1, 'Nathanael Baring': 1, 'Mo Zinal': 1, 'Jae Head': 1, 'Sarah Jane Morris': 1, 'Miley Cyrus': 1, 'Susie Essman': 1, 'Mark Walton': 1, 'Bryan Brown': 1, 'Rhys Darby': 1, 'Sasha Alexander': 1, 'Fionnula Flanagan': 1, 'Kathleen Turner': 1, 'Simon McBurney': 1, 'Eliza Bennett': 1, 'Alexis Dziena': 1, 'Lucy Lawless': 1, 'Michelle Yeoh': 1, 'MÃ©lanie Thierry': 1, 'Jeffrey Donovan': 1, 'Geoff Pierson': 1, 'Sarah Bolger': 1, 'Andrew McCarthy': 1, 'Dwight Yoakam': 1, 'Romany Malco': 1, 'Meagan Good': 1, 'Emile Hirsch': 1, 'Scott Porter': 1, 'Carol Burnett': 1, 'Michael Angarano': 1, 'Collin Chou': 1, '50 Cent': 1, 'Donnie Wahlberg': 1, 'Emmanuelle Chriqui': 1, 'Nick Swardson': 1, 'Lainie Kazan': 1, 'Harry Treadaway': 1, 'Betty Buckley': 1, 'Tracey Ullman': 1, 'Scott Caan': 1, 'Hayley Atwell': 1, 'Alan Rickman': 1, 'Maggie Smith': 1, 'Kevin McNally': 1, 'Karin Konoval': 1, 'Freida Pinto': 1, 'Anil Kapoor': 1, 'Griffin Gluck': 1, 'Dakota Goyo': 1, 'Kevin Durand': 1, 'Jared Harris': 1, 'Kelly Reilly': 1, 'Blake Lively': 1, 'Nick Frost': 1, 'Jena Malone': 1, 'Will.i.am': 1, 'Walton Goggins': 1, 'Benedict Cumberbatch': 1, 'Jeremy Irvine': 1, 'Violante Placido': 1, 'Fergus Riordan': 1, 'Johnny Whitworth': 1, 'Matthew Macfadyen': 1, 'Will Rothhaar': 1, 'Cory Hardrict': 1, 'Jim Parrack': 1, 'Eugenio Derbez': 1, 'Tim Meadows': 1, 'Jay Chou': 1, 'Edward Furlong': 1, 'Rose McGowan': 1, 'Rachel Nichols': 1, 'Alan Alda': 1, 'Pink': 1, 'E.G. Daily': 1, 'Dan Fogler': 1, 'Breckin Meyer': 1, 'Elisabeth Harnois': 1, 'Jenny Slate': 1, 'Andy Buckley': 1, 'Jayma Mays': 1, 'Alan Cumming': 1, 'Kaley Cuoco': 1, 'Winona Ryder': 1, 'Cliff Robertson': 1, 'Rip Torn': 1, 'Lara Flynn Boyle': 1, 'Johnny Knoxville': 1, 'Samantha Morton': 1, 'Lois Smith': 1, 'Chris Sanders': 1, 'Daveigh Chase': 1, 'Tia Carrere': 1, 'Kevin McDonald': 1, 'Asia Argento': 1, 'Michael Roof': 1, 'Roscoe Lee Browne': 1, 'Martin Short': 1, 'Pierce Brosnan': 1, 'Rick Yune': 1, 'Toby Stephens': 1, 'Natasha Richardson': 1, 'Tyler Posey': 1, 'Daniel Day-Lewis': 1, 'Geena Davis': 1, 'Jonathan Lipnicki': 1, 'Anna Hoelck': 1, 'Alicia Witt': 1, 'Dana Ivey': 1, 'Robert Klein': 1, 'Rory Culkin': 1, 'Cherry Jones': 1, 'Francesca Neri': 1, 'Jonathan Frakes': 1, 'LeVar Burton': 1, 'Brent Spiner': 1, 'Gates McFadden': 1, 'Tyler Hoechlin': 1, 'Jennifer Jason Leigh': 1, 'Michael York': 1, 'Mindy Sterling': 1, 'Elizabeth Mitchell': 1, 'David Krumholtz': 1, 'Eric Lloyd': 1, 'Freddie Prinze Jr.': 1, 'Sarah Michelle Gellar': 1, 'Matthew Lillard': 1, 'Linda Cardellini': 1, 'Rowan Atkinson': 1, 'Daniel Studi': 1, 'Chopper Bernet': 1, 'Jeff LeBeau': 1, 'Courtney B. Vance': 1, 'Tom Berenger': 1, 'Charles S. Dutton': 1, 'Kelly Hu': 1, 'Steven Brand': 1, 'Bernard Hill': 1, 'Keith Dallas': 1, 'Madeleine Stowe': 1, 'Chris Klein': 1, 'Samantha Mumba': 1, 'Phyllida Law': 1, 'Laura Kirk': 1, 'Noah Emmerich': 1, 'Joss Ackland': 1, 'John Shrapnel': 1, 'Alexander Siddig': 1, 'Rachael Harris': 1, 'Zaid Farid': 1, 'Marcel IureÈ™': 1, 'Joe Pantoliano': 1, 'Jay Mohr': 1, 'Joe Morton': 1, 'Ron Rifkin': 1, 'Susanna Thompson': 1, 'Stephen Rea': 1, 'India Eisley': 1, 'Stacy Keach': 1, 'Rhys Ifans': 1, 'Kelly Macdonald': 1, 'Sam Claflin': 1, 'Suraj Sharma': 1, 'Ayush Tandon': 1, 'Gautam Belur': 1, 'Adil Hussain': 1, 'Chris Wedge': 1, 'Werner Herzog': 1, 'Sarah Silverman': 1, 'Jack McBrayer': 1, 'Jamie Elman': 1, 'Michael Stuhlbarg': 1, 'James Kidnie': 1, 'Heidi Hawkins': 1, 'Zac Efron': 1, 'Danny DeVito': 1, 'Taylor Swift': 1, 'Rob Riggle': 1, 'Alexander SkarsgÃ¥rd': 1, 'Brooklyn Decker': 1, 'Martin Klebba': 1, 'Elizabeth Reaser': 1, 'Sayed Badreya': 1, 'Aasif Mandvi': 1, 'Diego Boneta': 1, 'Jeremy Piven': 1, 'Brian Blessed': 1, 'Eva Amurri Martino': 1, 'Leighton Meester': 1, 'Vera Farmiga': 1, 'Adrianne Palicki': 1, 'Kodi Smit-McPhee': 1, 'Tucker Albrizzi': 1, 'Jodelle Ferland': 1, 'Daniela Ruah': 1, 'Aryana Engineer': 1, 'Mary Alice': 1, 'Helmut Bakaitis': 1, 'Albert Brooks': 1, 'Ellen DeGeneres': 1, 'Alexander Gould': 1, 'Brad Garrett': 1, 'Philip Baker Hall': 1, 'Catherine Bell': 1, 'Lisa Ann Walter': 1, 'Nick Stahl': 1, 'Kristanna Loken': 1, 'Albert Finney': 1, 'Jessica Lange': 1, 'Jason Biggs': 1, 'Alyson Hannigan': 1, 'Eddie Kaye Thomas': 1, 'Thomas Ian Nicholas': 1, 'Sean Connery': 1, 'Peta Wilson': 1, 'Shane West': 1, 'Stuart Townsend': 1, 'Fausto Callegarini': 1, 'Jeremy Sumpter': 1, 'Rachel Hurd-Wood': 1, 'Richard Briers': 1, 'Olivia Williams': 1, 'William Atherton': 1, 'Chad Lindberg': 1, \"James D'Arcy\": 1, 'Billy Boyd': 1, 'Joseph Morgan': 1, 'January Jones': 1, 'Hilary Swank': 1, 'LL Cool J': 1, 'Josh Charles': 1, 'Eamonn Walker': 1, 'Johnny Messner': 1, 'Uma Thurman': 1, 'Diane Keaton': 1, 'Nathaniel Parker': 1, 'Marsha Thomason': 1, 'Jennifer Tilly': 1, 'Eileen Atkins': 1, 'Jenna Elfman': 1, 'Heather Locklear': 1, 'Ludacris': 1, 'Regina King': 1, 'Kevin Nealon': 1, 'David McCullough': 1, 'Thomas Jane': 1, 'Damian Lewis': 1, 'Edward Herrmann': 1, 'Benicio del Toro': 1, 'Leslie Stefanson': 1, 'John Finn': 1, 'Kevin Conway': 1, 'C. Thomas Howell': 1, 'Wen Yann Shih': 1, 'Seymour Cassel': 1, 'Idina Menzel': 1, 'Jonathan Groff': 1, 'Santino Fontana': 1, 'Orto Ignatiussen': 1, 'Phaldut Sharma': 1, 'Christopher Eccleston': 1, 'Margot Robbie': 1, 'Kyle Chandler': 1, 'Rob Reiner': 1, 'Charlie Day': 1, 'Burn Gorman': 1, 'Andrea Riseborough': 1, 'Nikolaj Coster-Waldau': 1, 'Michael Shannon': 1, 'Miranda Cosgrove': 1, 'Sebastian Koch': 1, 'Yuliya Snigir': 1, 'Joel Murray': 1, 'Mireille Enos': 1, 'Abigail Hargrove': 1, 'Sterling Jerins': 1, 'Hailee Steinfeld': 1, 'Fred Ward': 1, 'Douglas Smith': 1, 'Leven Rambin': 1, 'Kou Shibasaki': 1, 'Min Tanaka': 1, 'Jamie Campbell Bower': 1, 'Kevin Zegers': 1, 'Jemima West': 1, 'Robert Sheehan': 1, 'Jason Sudeikis': 1, 'Aziz Ansari': 1, 'Chris Mulkey': 1, 'Yul Vazquez': 1, 'Joey King': 1, 'Eleanor Tomlinson': 1, 'Sarah Shahi': 1, 'ZoÃ« Kravitz': 1, 'Glenn Morshower': 1, 'Ryan Gosling': 1, 'Will Forte': 1, 'Barry Pepper': 1, 'Charlie Rowe': 1, 'Angourie Rice': 1, 'Katy Perry': 1, 'Tao Okamoto': 1, 'Rila Fukushima': 1, 'Svetlana Khodchenkova': 1, 'George Takei': 1, 'Colm Meaney': 1, 'Hugh Dancy': 1, 'Tiya Sircar': 1, 'Julia Winter': 1, 'Max Baker': 1, 'Caroline Chikezie': 1, 'Faith Ford': 1, 'Chris Potter': 1, 'Brittany Snow': 1, 'Justin Chatwin': 1, 'Youki Kudoh': 1, 'Tsai Chin': 1, 'Suzuka Ohgo': 1, 'Garry Marshall': 1, 'Don Knotts': 1, 'Julie Ann Emery': 1, 'Naomi Watts': 1, 'Colin Hanks': 1, 'Mel Brooks': 1, 'Paula Abdul': 1, 'Ice Cube': 1, 'Scott Speedman': 1, 'Xzibit': 1, 'Adam Brody': 1, 'AdriÃ¡n Alonso Barona': 1, 'Julio Oscar Mechoso': 1, 'Nick Chinlund': 1, 'Scott MacDonald': 1, 'Dina Spybey-Waters': 1, 'Ben Shenkman': 1, 'Craig Bierko': 1, 'Jason Schwartzman': 1, 'Ben Daniels': 1, 'Deobia Oparei': 1, 'Eugene Levy': 1, 'Tom Welling': 1, 'Jonathan Bennett': 1, 'Jesper Christensen': 1, 'Mackenzie Crook': 1, 'Roger Ashton-Griffiths': 1, 'Hanns Zischler': 1, 'Angie Harmon': 1, 'Kate Beahan': 1, 'Michael Irby': 1, 'Burt Reynolds': 1, 'Michael Irvin': 1, 'Nelly': 1, 'Heike Makatsch': 1, 'Armin Rohde': 1, 'Wilfried Hochholdinger': 1, 'Lennie James': 1, 'Robert Mammone': 1, 'James Carpinello': 1, 'Mark Consuelos': 1, 'Cheech Marin': 1, 'Audrey Tautou': 1, 'Eli Wallach': 1, 'Jake Cherry': 1, 'Dick Van Dyke': 1, 'David Hasselhoff': 1, 'Henry Winkler': 1, 'Garry Shandling': 1, 'Wanda Sykes': 1, 'Kagiso Kuypers': 1, 'Lombardo Boyar': 1, 'Carlos Alazraqui': 1, 'Jeffrey Garcia': 1, 'Janeane Garofalo': 1, 'Jim Caviezel': 1, 'Adam Goldberg': 1, 'Ed Speleers': 1, 'Robert Carlyle': 1, 'Ryan Newman': 1, 'Mitchel Musso': 1, 'Sam Lerner': 1, 'Spencer Locke': 1, 'Tammy Blanchard': 1, 'Luis Tosar': 1, 'Ryan Phillippe': 1, 'Jesse Bradford': 1, 'John Benjamin Hickey': 1, 'John Slattery': 1, 'Patricia Clarkson': 1, 'David Morrissey': 1, 'Stan Collymore': 1, 'Gary Cole': 1, 'Austin Crim': 1, 'Jake Johnson': 1, 'Brian Howe': 1, 'James Karen': 1, 'Richard Dreyfuss': 1, 'Shawn Wayans': 1, 'John Witherspoon': 1, 'Jay Hernandez': 1, 'Debra Messing': 1, 'Jennifer Hudson': 1, 'Sela Ward': 1, 'Melissa Sagemiller': 1, 'Omari Hardwick': 1, 'Brian Tee': 1, 'Nathalie Kelley': 1, 'Shad Moss': 1, 'Mos Def': 1, 'David Morse': 1, 'Jenna Stern': 1, 'David Zayas': 1, 'Eva Longoria': 1, 'Martin Donovan': 1, 'Ritchie Coster': 1, 'Scott Hazell': 1, 'Mac McDonald': 1, 'Philip Winchester': 1, 'Todd Boyce': 1, 'Bob Balaban': 1, 'Sarita Choudhury': 1, 'Cindy Cheung': 1, 'Craig T. Nelson': 1, 'Holly Hunter': 1, 'Dominique Louis': 1, 'Bridget Moynahan': 1, 'Alan Tudyk': 1, 'Rob Schneider': 1, 'Sean Astin': 1, 'Lusia Strus': 1, 'Shuler Hensley': 1, 'Rupert Evans': 1, 'Michael Jeter': 1, 'Eddie Deezen': 1, 'Chris Coppola': 1, 'Nona Gaye': 1, 'Dash Mihok': 1, 'Jay O. Sanders': 1, 'Wesley Snipes': 1, 'Bai Ling': 1, 'Sanaa Lathan': 1, 'Raoul Bova': 1, 'Colin Salmon': 1, 'Tommy Flanagan': 1, 'Jared Leto': 1, 'Rosemary Harris': 1, 'Marc Anthony': 1, 'Frances Conroy': 1, 'Christina Cox': 1, 'Shelbie Bruce': 1, 'Jason Patric': 1, 'Emilio EchevarrÃ\\xada': 1, 'Kimberly Elise': 1, 'Omar Epps': 1, 'RenÃ©e Taylor': 1, 'G. W. Bailey': 1, 'Zuleikha Robinson': 1, 'Omar Sharif': 1, 'Adam Alexi-Malle': 1, 'Louise Lombard': 1, 'Snoop Dogg': 1, 'Fred Williamson': 1, 'Minnie Driver': 1, 'CÃ©cile De France': 1, 'Robert Fyfe': 1, 'MaÃ¯ Anh Le': 1, 'Oanh Nguyen': 1, \"Jaran 'See Tao' Petcharoen\": 1, 'StÃ©phanie Lagarde': 1, 'Morris Chestnut': 1, 'Ian Holm': 1, 'Lou Romano': 1, 'Brian Dennehy': 1, 'Peter Sohn': 1, 'Charlie Tahan': 1, 'Salli Richardson-Whitfield': 1, 'Willow Smith': 1, 'Thomas Haden Church': 1, 'Topher Grace': 1, 'Charlie Cox': 1, 'Vincent Regan': 1, 'Wes Bentley': 1, 'Kate Butler': 1, 'Lymari Nadal': 1, 'Cameron Richardson': 1, 'Jerry Seinfeld': 1, 'Laurie Metcalf': 1, 'Nicole Sullivan': 1, 'Harland Williams': 1, 'Patrick Dempsey': 1, 'Rachel Covey': 1, 'Anthony Edwards': 1, 'Dan Castellaneta': 1, 'Julie Kavner': 1, 'Nancy Cartwright': 1, 'Yeardley Smith': 1, 'Om Puri': 1, 'Dakota Blue Richards': 1, 'Dallas Roberts': 1, 'Peter Fonda': 1, 'Lena Olin': 1, 'Charlie Hewson': 1, 'Jimmy Bennett': 1, 'Tory Kittles': 1, 'Jerry Stiller': 1, 'Rob Corddry': 1, 'Jon Heder': 1, 'James Woods': 1, 'ZoÃ« Bell': 1, 'Vanessa Ferlito': 1, 'Sydney Tamiia Poitier': 1, 'Rachael Taylor': 1, 'Jeremy Northam': 1, 'Jackson Bond': 1, 'Richard Portnow': 1, 'Gary Dourdan': 1, 'Terry Crews': 1, 'Clifton Powell': 1, 'Lester Speight': 1, 'Aishwarya Rai Bachchan': 1, 'Peter Mullan': 1, 'Oliver Reed': 1, 'Taylor Momsen': 1, 'Christine Baranski': 1, 'Bill Irwin': 1, 'Paul Sanchez': 1, 'Lari White': 1, 'Dougray Scott': 1, 'Eartha Kitt': 1, 'Wendie Malick': 1, 'Lauren Holly': 1, 'Mark Feuerstein': 1, 'D. B. Sweeney': 1, 'Alfre Woodard': 1, 'Ossie Davis': 1, 'Max Casella': 1, 'Hayden Panettiere': 1, 'John Forsythe': 1, 'Joely Richardson': 1, 'Jon Bon Jovi': 1, 'David Keith': 1, 'Will Patton': 1, 'Blythe Danner': 1, 'Rosie Perez': 1, 'Armand Assante': 1, 'Edward James Olmos': 1, 'Elisabeth Shue': 1, 'Kim Dickens': 1, 'Rhona Mitra': 1, 'Joel Gretsch': 1, 'Saul Rubinek': 1, 'Michael Rapaport': 1, 'Tony Goldwyn': 1, 'Sarah Wynter': 1, 'Spencer Treat Clark': 1, 'John Patrick Amedori': 1, 'Patrick Fugit': 1, 'Simon Baker': 1, \"Jerry O'Connell\": 1, 'Rachael Leigh Cook': 1, 'Johnny Strong': 1, 'Stephen Baldwin': 1, 'Kristen Johnston': 1, 'Joan Collins': 1, 'Steven Culp': 1, 'Shawn Driscoll': 1, 'Bill Pullman': 1, \"Chris O'Donnell\": 1, 'Robin Tunney': 1, 'Diana Scarwid': 1, 'James Remar': 1, 'Alice Evans': 1, 'Tim McInnerny': 1, 'GÃ©rard Depardieu': 1, 'Janet Jackson': 1, 'Larry Miller': 1, 'John Ales': 1, 'Richard Gant': 1, 'James Spader': 1, 'Robert Forster': 1, 'Lou Diamond Phillips': 1, 'Lily Tomlin': 1, 'Rene Russo': 1, 'Jason Alexander': 1, 'Piper Perabo': 1})\n"
     ]
    }
   ],
   "source": [
    "# Код:\n",
    "count = 0\n",
    "\n",
    "for string in data.cast:\n",
    "    upd_string = string.split(sep = '|')\n",
    "    for actor in upd_string:\n",
    "        if actor == \"Nicolas Cage\":\n",
    "            genre = data.genres[count].split(sep = '|')\n",
    "            for element in genre:\n",
    "                c[element] += 1\n",
    "    count += 1\n",
    "print(c)"
   ]
  },
  {
   "cell_type": "markdown",
   "metadata": {
    "colab_type": "text",
    "id": "RqOmPRfWVp_q"
   },
   "source": [
    "# 18. Самый убыточный фильм от Paramount Pictures"
   ]
  },
  {
   "cell_type": "code",
   "execution_count": 38,
   "metadata": {
    "colab": {},
    "colab_type": "code",
    "id": "9E_B0Y96Vp_r"
   },
   "outputs": [],
   "source": [
    "answers['18'] = '1. K-19: The Widowmaker (tt0267626)'\n",
    "# +"
   ]
  },
  {
   "cell_type": "code",
   "execution_count": 42,
   "metadata": {},
   "outputs": [
    {
     "name": "stderr",
     "output_type": "stream",
     "text": [
      "<ipython-input-42-91762f72db01>:11: SettingWithCopyWarning: \n",
      "A value is trying to be set on a copy of a slice from a DataFrame\n",
      "\n",
      "See the caveats in the documentation: https://pandas.pydata.org/pandas-docs/stable/user_guide/indexing.html#returning-a-view-versus-a-copy\n",
      "  films['Profit'][f] = data['profit'][count]\n",
      "<ipython-input-42-91762f72db01>:10: SettingWithCopyWarning: \n",
      "A value is trying to be set on a copy of a slice from a DataFrame\n",
      "\n",
      "See the caveats in the documentation: https://pandas.pydata.org/pandas-docs/stable/user_guide/indexing.html#returning-a-view-versus-a-copy\n",
      "  films['Name'][f] = data['original_title'][count]\n"
     ]
    },
    {
     "data": {
      "text/html": [
       "<div>\n",
       "<style scoped>\n",
       "    .dataframe tbody tr th:only-of-type {\n",
       "        vertical-align: middle;\n",
       "    }\n",
       "\n",
       "    .dataframe tbody tr th {\n",
       "        vertical-align: top;\n",
       "    }\n",
       "\n",
       "    .dataframe thead th {\n",
       "        text-align: right;\n",
       "    }\n",
       "</style>\n",
       "<table border=\"1\" class=\"dataframe\">\n",
       "  <thead>\n",
       "    <tr style=\"text-align: right;\">\n",
       "      <th></th>\n",
       "      <th>Name</th>\n",
       "      <th>Profit</th>\n",
       "    </tr>\n",
       "  </thead>\n",
       "  <tbody>\n",
       "    <tr>\n",
       "      <th>54</th>\n",
       "      <td>K-19: The Widowmaker</td>\n",
       "      <td>-64831034.0</td>\n",
       "    </tr>\n",
       "  </tbody>\n",
       "</table>\n",
       "</div>"
      ],
      "text/plain": [
       "                    Name      Profit\n",
       "54  K-19: The Widowmaker -64831034.0"
      ]
     },
     "metadata": {},
     "output_type": "display_data"
    }
   ],
   "source": [
    "# Код:\n",
    "f = 0\n",
    "count = 0\n",
    "films = pd.DataFrame(data, columns = ['Name', 'Profit'])\n",
    "\n",
    "for string in data.production_companies:\n",
    "    upd_string = string.split(sep = '|')\n",
    "    for company in upd_string:\n",
    "        if company == \"Paramount Pictures\":          \n",
    "            films['Name'][f] = data['original_title'][count]\n",
    "            films['Profit'][f] = data['profit'][count]\n",
    "            f += 1\n",
    "    count += 1\n",
    "display(films[films.Profit == films.Profit.min()])"
   ]
  },
  {
   "cell_type": "markdown",
   "metadata": {
    "colab_type": "text",
    "id": "vS8Ur6ddVp_u"
   },
   "source": [
    "# 19. Какой год стал самым успешным по суммарным кассовым сборам?"
   ]
  },
  {
   "cell_type": "code",
   "execution_count": 43,
   "metadata": {
    "colab": {},
    "colab_type": "code",
    "id": "Dnbt4GdIVp_v"
   },
   "outputs": [],
   "source": [
    "answers['19'] = '5. 2015'\n",
    "# +"
   ]
  },
  {
   "cell_type": "code",
   "execution_count": 44,
   "metadata": {},
   "outputs": [
    {
     "data": {
      "text/html": [
       "<div>\n",
       "<style scoped>\n",
       "    .dataframe tbody tr th:only-of-type {\n",
       "        vertical-align: middle;\n",
       "    }\n",
       "\n",
       "    .dataframe tbody tr th {\n",
       "        vertical-align: top;\n",
       "    }\n",
       "\n",
       "    .dataframe thead th {\n",
       "        text-align: right;\n",
       "    }\n",
       "</style>\n",
       "<table border=\"1\" class=\"dataframe\">\n",
       "  <thead>\n",
       "    <tr style=\"text-align: right;\">\n",
       "      <th></th>\n",
       "      <th>budget</th>\n",
       "      <th>revenue</th>\n",
       "      <th>profit</th>\n",
       "      <th>runtime</th>\n",
       "      <th>vote_average</th>\n",
       "    </tr>\n",
       "    <tr>\n",
       "      <th>release_year</th>\n",
       "      <th></th>\n",
       "      <th></th>\n",
       "      <th></th>\n",
       "      <th></th>\n",
       "      <th></th>\n",
       "    </tr>\n",
       "  </thead>\n",
       "  <tbody>\n",
       "    <tr>\n",
       "      <th>2015</th>\n",
       "      <td>6780630004</td>\n",
       "      <td>25449202382</td>\n",
       "      <td>18668572378</td>\n",
       "      <td>13355</td>\n",
       "      <td>755.2</td>\n",
       "    </tr>\n",
       "  </tbody>\n",
       "</table>\n",
       "</div>"
      ],
      "text/plain": [
       "                  budget      revenue       profit  runtime  vote_average\n",
       "release_year                                                             \n",
       "2015          6780630004  25449202382  18668572378    13355         755.2"
      ]
     },
     "metadata": {},
     "output_type": "display_data"
    }
   ],
   "source": [
    "# Код:\n",
    "films = data.groupby(data.release_year).sum()\n",
    "display(films[films.revenue == films.revenue.max()])"
   ]
  },
  {
   "cell_type": "markdown",
   "metadata": {
    "colab_type": "text",
    "id": "JAzJh4QAVp_z"
   },
   "source": [
    "# 20. Какой самый прибыльный год для студии Warner Bros?"
   ]
  },
  {
   "cell_type": "code",
   "execution_count": 45,
   "metadata": {
    "colab": {},
    "colab_type": "code",
    "id": "wgVu02DEVp_0"
   },
   "outputs": [],
   "source": [
    "answers['20'] = '1. 2014'\n",
    "# +"
   ]
  },
  {
   "cell_type": "code",
   "execution_count": 46,
   "metadata": {},
   "outputs": [
    {
     "data": {
      "text/html": [
       "<div>\n",
       "<style scoped>\n",
       "    .dataframe tbody tr th:only-of-type {\n",
       "        vertical-align: middle;\n",
       "    }\n",
       "\n",
       "    .dataframe tbody tr th {\n",
       "        vertical-align: top;\n",
       "    }\n",
       "\n",
       "    .dataframe thead th {\n",
       "        text-align: right;\n",
       "    }\n",
       "</style>\n",
       "<table border=\"1\" class=\"dataframe\">\n",
       "  <thead>\n",
       "    <tr style=\"text-align: right;\">\n",
       "      <th></th>\n",
       "      <th>budget</th>\n",
       "      <th>revenue</th>\n",
       "      <th>profit</th>\n",
       "      <th>runtime</th>\n",
       "      <th>vote_average</th>\n",
       "    </tr>\n",
       "    <tr>\n",
       "      <th>release_year</th>\n",
       "      <th></th>\n",
       "      <th></th>\n",
       "      <th></th>\n",
       "      <th></th>\n",
       "      <th></th>\n",
       "    </tr>\n",
       "  </thead>\n",
       "  <tbody>\n",
       "    <tr>\n",
       "      <th>2014</th>\n",
       "      <td>947600000</td>\n",
       "      <td>3243064519</td>\n",
       "      <td>2295464519</td>\n",
       "      <td>1576</td>\n",
       "      <td>88.9</td>\n",
       "    </tr>\n",
       "  </tbody>\n",
       "</table>\n",
       "</div>"
      ],
      "text/plain": [
       "                 budget     revenue      profit  runtime  vote_average\n",
       "release_year                                                          \n",
       "2014          947600000  3243064519  2295464519     1576          88.9"
      ]
     },
     "metadata": {},
     "output_type": "display_data"
    }
   ],
   "source": [
    "# Код:\n",
    "films = data[data['production_companies'].str.contains('Warner Bros')]\n",
    "years = films.groupby(films.release_year).sum()\n",
    "display(years[years.profit == years.profit.max()])"
   ]
  },
  {
   "cell_type": "markdown",
   "metadata": {
    "colab_type": "text",
    "id": "8Im1S2HRVp_4"
   },
   "source": [
    "# 21. В каком месяце за все годы суммарно вышло больше всего фильмов?"
   ]
  },
  {
   "cell_type": "code",
   "execution_count": 47,
   "metadata": {
    "colab": {},
    "colab_type": "code",
    "id": "lev6TH7gVp_4"
   },
   "outputs": [],
   "source": [
    "answers['21'] = '4. Сентябрь верно'\n",
    "# +"
   ]
  },
  {
   "cell_type": "code",
   "execution_count": 48,
   "metadata": {},
   "outputs": [
    {
     "name": "stdout",
     "output_type": "stream",
     "text": [
      "110\n",
      "135\n",
      "156\n",
      "149\n",
      "140\n",
      "147\n",
      "142\n",
      "161\n",
      "227\n",
      "186\n",
      "146\n",
      "190\n"
     ]
    }
   ],
   "source": [
    "# Код:\n",
    "films = []\n",
    "\n",
    "months()\n",
    "\n",
    "for i in range(1,13):\n",
    "    j = str(i)\n",
    "    print(films.count(j))"
   ]
  },
  {
   "cell_type": "markdown",
   "metadata": {
    "colab_type": "text",
    "id": "uAJsZ_NeVp_7"
   },
   "source": [
    "# 22. Сколько суммарно вышло фильмов летом? (за июнь, июль, август)"
   ]
  },
  {
   "cell_type": "code",
   "execution_count": 49,
   "metadata": {
    "colab": {},
    "colab_type": "code",
    "id": "Aa-hEREoVp_8"
   },
   "outputs": [],
   "source": [
    "answers['22'] = '2. 450'\n",
    "# +"
   ]
  },
  {
   "cell_type": "code",
   "execution_count": 50,
   "metadata": {},
   "outputs": [
    {
     "name": "stdout",
     "output_type": "stream",
     "text": [
      "450\n"
     ]
    }
   ],
   "source": [
    "# Код:\n",
    "films = []\n",
    "\n",
    "months()\n",
    "\n",
    "print(films.count('6') + films.count('7') + films.count('8'))"
   ]
  },
  {
   "cell_type": "markdown",
   "metadata": {
    "colab_type": "text",
    "id": "G94ppOY1VqAA"
   },
   "source": [
    "# 23. Для какого режиссера зима – самое продуктивное время года? "
   ]
  },
  {
   "cell_type": "code",
   "execution_count": 51,
   "metadata": {
    "colab": {},
    "colab_type": "code",
    "id": "RhNTsamuVqAB"
   },
   "outputs": [],
   "source": [
    "answers['23'] = '5. Peter Jackson'\n",
    "# +"
   ]
  },
  {
   "cell_type": "code",
   "execution_count": 52,
   "metadata": {},
   "outputs": [
    {
     "name": "stderr",
     "output_type": "stream",
     "text": [
      "E:\\Python\\lib\\site-packages\\pandas\\core\\indexing.py:671: SettingWithCopyWarning: \n",
      "A value is trying to be set on a copy of a slice from a DataFrame\n",
      "\n",
      "See the caveats in the documentation: https://pandas.pydata.org/pandas-docs/stable/user_guide/indexing.html#returning-a-view-versus-a-copy\n",
      "  self._setitem_with_indexer(indexer, value)\n"
     ]
    },
    {
     "data": {
      "text/html": [
       "<div>\n",
       "<style scoped>\n",
       "    .dataframe tbody tr th:only-of-type {\n",
       "        vertical-align: middle;\n",
       "    }\n",
       "\n",
       "    .dataframe tbody tr th {\n",
       "        vertical-align: top;\n",
       "    }\n",
       "\n",
       "    .dataframe thead th {\n",
       "        text-align: right;\n",
       "    }\n",
       "</style>\n",
       "<table border=\"1\" class=\"dataframe\">\n",
       "  <thead>\n",
       "    <tr style=\"text-align: right;\">\n",
       "      <th></th>\n",
       "      <th>winter</th>\n",
       "    </tr>\n",
       "    <tr>\n",
       "      <th>director</th>\n",
       "      <th></th>\n",
       "    </tr>\n",
       "  </thead>\n",
       "  <tbody>\n",
       "    <tr>\n",
       "      <th>Peter Jackson</th>\n",
       "      <td>7.0</td>\n",
       "    </tr>\n",
       "  </tbody>\n",
       "</table>\n",
       "</div>"
      ],
      "text/plain": [
       "               winter\n",
       "director             \n",
       "Peter Jackson     7.0"
      ]
     },
     "metadata": {},
     "output_type": "display_data"
    }
   ],
   "source": [
    "# Код:\n",
    "count = 0\n",
    "films = pd.DataFrame(data, columns = ['director', 'month', 'winter'])\n",
    "\n",
    "for string in data.release_date:\n",
    "    if '/' in string[0:2]:\n",
    "        films.month.iloc[count] = string[0:1]\n",
    "    else:\n",
    "        films.month.iloc[count] = string[0:2]\n",
    "    count += 1\n",
    "    \n",
    "count = 0\n",
    "\n",
    "for month in films.month:\n",
    "    if (month == '12') | (month == '1') | (month == '2'):\n",
    "        films.winter.iloc[count] = 1\n",
    "    count += 1\n",
    "    \n",
    "directors = films.groupby(films.director).sum()\n",
    "display(directors[directors.winter == directors.winter.max()])"
   ]
  },
  {
   "cell_type": "markdown",
   "metadata": {
    "colab_type": "text",
    "id": "RBo0JVjVVqAF"
   },
   "source": [
    "# 24. Какая студия дает самые длинные названия своим фильмам по количеству символов?"
   ]
  },
  {
   "cell_type": "code",
   "execution_count": 53,
   "metadata": {
    "colab": {},
    "colab_type": "code",
    "id": "QRGS8L0iVqAG"
   },
   "outputs": [],
   "source": [
    "answers['24'] = '2. Warner Bros'\n",
    "# -"
   ]
  },
  {
   "cell_type": "code",
   "execution_count": 54,
   "metadata": {},
   "outputs": [
    {
     "name": "stdout",
     "output_type": "stream",
     "text": [
      "Counter({'Warner Bros.': 2319, 'Universal Pictures': 2267, 'Paramount Pictures': 1850, 'Twentieth Century Fox Film Corporation': 1580, 'Columbia Pictures': 1519, 'Drama': 1378, 'New Line Cinema': 1332, 'Comedy': 1252, 'Walt Disney Pictures': 1238, 'Relativity Media': 1166, 'Thriller': 1087, 'Action': 1077, 'Village Roadshow Pictures': 843, 'Adventure': 773, 'DreamWorks SKG': 764, 'Touchstone Pictures': 714, 'Dune Entertainment': 663, 'Metro-Goldwyn-Mayer (MGM)': 639, 'Columbia Pictures Corporation': 615, 'Regency Enterprises': 583, 'Crime': 576, 'Fox 2000 Pictures': 562, 'Romance': 553, 'Summit Entertainment': 528, 'Miramax Films': 521, 'Family': 495, 'Dimension Films': 471, 'Lionsgate': 457, 'Science Fiction': 455, 'Fantasy': 434, 'Legendary Pictures': 406, 'Screen Gems': 406, 'Spyglass Entertainment': 398, 'Jerry Bruckheimer Films': 391, 'Scott Rudin Productions': 389, 'DreamWorks Animation': 368, 'Amblin Entertainment': 364, 'Working Title Films': 360, 'The Weinstein Company': 353, 'Imagine Entertainment': 346, 'Original Film': 334, 'Studio Babelsberg': 331, 'Walden Media': 330, 'Horror': 329, 'Lakeshore Entertainment': 327, 'Heyday Films': 323, 'Fox Searchlight Pictures': 318, 'New Regency Pictures': 316, '1492 Pictures': 315, 'Apatow Productions': 314, 'Revolution Studios': 304, 'Scott Free Productions': 303, 'Mystery': 296, 'StudioCanal': 284, 'Happy Madison Productions': 278, 'Epsilon Motion Pictures': 274, 'Ingenious Film Partners': 269, 'Animation': 268, 'Focus Features': 266, 'TSG Entertainment': 259, 'Nickelodeon Movies': 257, 'NPV Entertainment': 256, 'WingNut Films': 251, 'UK Film Council': 250, 'Lions Gate Films': 245, 'Dune Entertainment III': 240, 'Davis Entertainment': 237, 'Castle Rock Entertainment': 237, 'BBC Films': 234, 'Millennium Films': 231, '20th Century Fox': 225, 'Silver Pictures': 224, 'Alcon Entertainment': 220, 'Saturn Films': 215, 'Platinum Dunes': 214, 'Sunswept Entertainment': 213, 'Canal+': 211, '21 Laps Entertainment': 206, 'EuropaCorp': 202, 'Moving Picture Company (MPC)': 201, 'Di Bonaventura Pictures': 198, 'Participant Media': 194, 'MTV Films': 181, 'Marvel Studios': 180, 'Tim Burton Productions': 178, 'Studio Canal': 177, 'TriStar Pictures': 175, 'Blumhouse Productions': 175, 'Vertigo Entertainment': 174, 'Davis-Films': 173, 'Imagenation Abu Dhabi FZ': 171, 'Ingenious Media': 167, 'Constantin Film Produktion': 167, 'Color Force': 166, 'Film4': 165, 'Escape Artists': 164, 'Plan B Entertainment': 162, 'Nu Image Films': 161, 'Intermedia Films': 161, 'Temple Hill Entertainment': 159, 'Skydance Productions': 156, 'Franchise Pictures': 155, 'DreamWorks Pictures': 155, 'Sony Pictures Animation': 151, 'Scion Films': 151, 'Morgan Creek Productions': 151, 'Bad Robot': 150, 'Dentsu': 147, 'Malpaso Productions': 142, 'Impact Pictures': 142, 'Walt Disney': 139, 'Lucasfilm': 138, 'Cruise/Wagner Productions': 138, 'Double Feature Films': 135, 'Radar Pictures': 135, 'Warner Bros. Pictures': 135, 'Stillking Films': 133, 'Anonymous Content': 131, 'Edward R. Pressman Film': 130, 'Marc Platt Productions': 128, 'CBS Films': 128, 'Mandate Pictures': 128, 'Marvel Enterprises': 127, 'Pixar Animation Studios': 123, 'Robert Simonds Productions': 122, 'Appian Way': 120, 'DNA Films': 119, 'Media Rights Capital': 117, 'Mosaic Media Group': 117, 'Sidney Kimmel Entertainment': 115, 'Dark Castle Entertainment': 115, 'History': 114, 'Roth Films': 113, 'Endgame Entertainment': 112, 'Music': 111, 'Paramount Vantage': 111, 'Twentieth Century Fox Animation': 110, 'Phoenix Pictures': 110, 'Kennedy/Marshall Company, The': 110, 'Exclusive Media Group': 109, 'United Artists': 109, 'Walt Disney Animation Studios': 107, \"Donners' Company\": 106, 'GK Films': 106, 'De Line Pictures': 104, 'Virtual Studios': 104, 'Walt Disney Feature Animation': 103, 'War': 102, 'Gary Sanchez Productions': 102, 'Rogue Pictures': 102, 'Overbrook Entertainment': 101, 'Maverick Films': 101, 'Marvel Entertainment': 99, 'TF1 Films Production': 99, 'Syncopy': 98, 'DC Comics': 98, 'Lawrence Gordon Productions': 98, 'Blue Sky Studios': 95, 'Ghost House Pictures': 95, 'River Road Entertainment': 95, 'BenderSpink': 94, 'Reliance Entertainment': 94, 'Hyde Park Films': 92, 'Tribeca Productions': 92, 'Hasbro': 91, 'Section Eight': 91, 'Spring Creek Productions': 90, 'Emmett/Furla Films': 89, 'Contrafilm': 88, 'Chernin Entertainment': 87, 'Mandalay Pictures': 87, 'Cheyenne Enterprises': 87, 'Big Screen Productions': 87, 'Blinding Edge Pictures': 86, 'Flower Films (II)': 86, 'Zide-Perry Productions': 86, 'Thunder Road Pictures': 85, 'The Zanuck Company': 84, 'Alphaville Films': 84, 'Mutual Film Company': 84, 'China Film Co-Production Corporation': 84, 'Aardman Animations': 84, 'Revolution Sun Studios': 83, 'Troublemaker Studios': 83, 'Open Road Films': 82, 'Atmosphere Entertainment MM': 82, 'Red Hour Films': 82, 'Rising Star': 81, 'Indian Paintbrush': 80, 'Stage 6 Films': 80, 'Atlas Entertainment': 80, 'Universal Studios': 79, 'RatPac-Dune Entertainment': 79, 'Lin Pictures': 79, 'Stuber Productions': 79, 'Firm Films': 79, 'Jersey Films': 78, 'Tapestry Films': 78, 'Miramax': 78, \"Mel's Cite du Cinema\": 78, 'Major Studio Partners': 78, 'Weed Road Pictures': 77, 'Gold Circle Films': 76, 'Wonderland Sound and Vision': 76, 'Conundrum Entertainment': 76, 'Warner Independent Pictures (WIP)': 76, '1984 Private Defense Contractors': 75, 'Everyman Pictures': 75, 'Toho-Towa': 75, 'IM Global': 74, 'Annapurna Pictures': 74, 'TC Productions': 73, 'ImageMovers': 73, 'Gran Via Productions': 73, 'Goldcrest Pictures': 73, 'France 2 CinÃ©ma': 73, 'Cross Creek Pictures': 72, 'Cruel and Unusual Films': 72, 'Four By Two Productions': 72, 'Mike Zoss Productions': 71, 'Zanuck Company, The': 71, 'Sony Pictures Entertainment (SPE)': 70, 'The Saul Zaentz Company': 70, 'Paramount Animation': 70, 'American Zoetrope': 70, 'Room 101': 70, 'Solana Films': 70, 'Second Mate Productions': 70, 'Bazelevs Production': 69, 'Province of British Columbia Production Services Tax Credit': 69, 'Offspring Entertainment': 69, 'Junction Entertainment': 69, 'Valhalla Motion Pictures': 69, 'The Kennedy/Marshall Company': 69, 'Centropolis Entertainment': 68, '2929 Productions': 68, 'Dark Horse Entertainment': 68, 'Smokehouse Pictures': 67, 'Warner Bros. Animation': 67, 'Canal Plus': 66, 'Lawrence Bender Productions': 66, 'Alberta Film Entertainment': 66, 'Mad Chance': 65, 'LStar Capital': 65, 'FilmDistrict': 65, 'Samuel Goldwyn Films': 65, 'Mid Atlantic Films': 64, 'Michael De Luca Productions': 64, 'Wildwood Enterprises': 64, 'Current Entertainment': 64, 'Marv Films': 63, 'Wigram Productions': 63, 'Karz Entertainment': 63, 'Wild West Picture Show Productions': 63, 'Dylan Sellers Productions': 63, 'Section Eight Productions': 63, 'One Race Productions': 62, 'Bel Air Entertainment': 62, 'International Production Company': 62, 'Splendid Pictures': 62, 'Anarchos Productions': 61, 'Green Hat Films': 61, 'Grosvenor Park Media Ltd.': 61, 'Artisan Entertainment': 61, 'Beacon Pictures': 61, 'Red Granite Pictures': 60, 'Depth of Field': 60, 'Paradox Entertainment': 60, 'Mandeville Films': 59, '3 Arts Entertainment': 59, 'Broken Road Productions': 59, 'Nick Wechsler Productions': 59, 'Isle of Man Film': 59, 'Film Rites': 59, 'Sony Pictures': 58, 'Insurge Pictures': 58, 'QED International': 58, 'Neal Street Productions': 58, 'Parkes+MacDonald Image Nation': 58, 'Initial Entertainment Group (IEG)': 58, 'Laura Ziskin Productions': 58, 'Red Wagon Entertainment': 57, 'Forward Pass': 57, 'Wintergreen Productions': 57, 'Gunn Films': 57, 'Icon Entertainment International': 56, 'DC Entertainment': 55, 'British Broadcasting Corporation (BBC)': 55, 'Dino De Laurentiis Company': 55, 'Goldmann Pictures': 54, 'Waverly Films': 54, 'Rainforest Films': 54, 'Imprint Entertainment': 54, 'Bagdasarian Productions': 54, 'Three Strange Angels': 54, 'View Askew Productions': 54, 'Kumar Mobiliengesellschaft mbH & Co. Projekt Nr. 2 KG': 54, 'Don Carmody Productions': 53, 'Jerry Weintraub Productions': 53, 'Kanzaman': 53, 'VIP Medienfonds 4': 53, 'PathÃ©': 52, 'Vinyl Films': 52, 'This Is That Productions': 52, 'Walt Disney Studios Motion Pictures': 51, 'Sony Pictures Releasing': 51, 'Fox Atomic': 51, 'Laurence Mark Productions': 51, 'Dune Films': 50, 'Jim Henson Company, The': 50, 'Josephson Entertainment': 50, 'Pacific Data Images (PDI)': 50, 'Intrepid Pictures': 50, 'Virgin Produced': 50, 'DiNovi Pictures': 50, 'Good Universe': 49, 'Alliance Films': 49, 'Clinica Estetico': 49, 'Bad Hat Harry Productions': 49, 'DisneyToon Studios': 49, 'Icon Productions': 49, 'Reliance BIG Entertainment': 49, 'Industry Entertainment': 49, 'Ecosse Films': 49, 'Allied Filmmakers': 49, 'Baltimore Spring Creek Productions': 49, 'Gotham Group': 48, 'Infinitum Nihil': 48, 'Mace Neufeld Productions': 48, 'FilmNation Entertainment': 48, 'Team Todd': 48, 'IMF Internationale Medien und Film GmbH & Co. 3. Produktions KG': 48, 'Hyde Park Entertainment': 48, 'Avery Pix': 48, 'Shangri-La Entertainment': 47, 'Treehouse Pictures': 47, 'Strike Entertainment': 47, 'Grindstone Entertainment Group': 47, 'A Band Apart': 47, 'Bona Fide Productions': 47, 'Animal Logic': 47, 'Lonely Film Productions GmbH & Co. KG.': 47, 'Brightlight Pictures': 47, 'Madacy Entertainment': 47, 'Sony Pictures Entertainment': 46, 'Disruption Entertainment': 46, 'Bluegrass Films': 46, 'Sketch Films': 46, 'Type A Films': 46, 'FilmEngine': 46, 'Quinta Communications': 46, 'Silver Reel': 46, 'Capitol Films': 46, 'Moonlighting Films': 45, 'Prana Animation Studios': 45, 'The Montecito Picture Company': 45, 'Metropolitan Filmexport': 45, 'Nouvelles Ã‰ditions de Films (NEF)': 45, 'Prospero Pictures': 45, 'Next Entertainment': 45, 'Buena Vista': 44, 'Groundswell Productions': 44, 'Nimar Studios': 44, 'Affirm Films': 44, 'Brad Grey Pictures': 44, 'Marvel Knights': 44, 'Mediastream Dritte Film GmbH & Co. Beteiligungs KG': 44, 'WV Films III': 44, 'Illumination Entertainment': 43, 'Cube Vision': 43, 'Harpo Films': 43, 'Fortis Films': 43, 'Rat Entertainment': 43, 'Playtone': 43, 'C-2 Pictures': 43, 'Angry Films': 43, 'Weinstein Company, The': 43, 'Katalyst Films': 42, 'Grive Productions': 42, 'Konrad Pictures': 42, 'Shady Acres Entertainment': 42, 'Zephyr Films': 42, 'Closest to the Hole Productions': 41, 'Mad Hatter Entertainment': 41, 'Laika Entertainment': 41, 'Canal+ EspaÃ±a': 41, 'Wayans Bros. Entertainment': 41, 'Sommers Company, The': 41, 'Hypnotic': 41, 'GreeneStreet Films': 41, 'Kalima Productions GmbH & Co. KG': 41, 'Amen Ra Films': 41, 'Parkes/MacDonald Productions': 41, 'Global Entertainment Productions GmbH & Company Medien KG': 41, 'Montecito Picture Company, The': 40, 'WWE Studios': 40, 'LivePlanet': 40, 'Eon Productions': 40, 'Voltage Pictures': 40, 'Marty Katz Productions': 40, 'Mirage Enterprises': 40, 'Internationale Filmproduktion Blackbird Dritte': 39, 'Museum Canada Productions': 39, 'CinÃ©CinÃ©ma': 39, 'Casey Silver Productions': 39, 'Fox Searchlight': 39, 'Dos Corazones': 39, 'Aldamisa Entertainment': 38, 'Big Kid Pictures': 38, 'Olive Bridge Entertainment': 38, 'Misher Films': 38, 'Polsky Films': 38, 'Spectacle Entertainment Group': 38, 'PathÃ© Renn Productions': 38, 'Gerber Pictures': 38, 'Cheetah Vision': 38, 'NeoReel': 37, 'Ghoulardi Film Company': 37, 'HanWay Films': 37, 'Gracie Films': 37, 'Chris Lee Productions': 37, 'Fuji Television Network': 36, 'Origin Pictures': 36, 'Practical Pictures': 36, 'Parallel Zide': 36, 'Twisted Pictures': 36, 'Bedford Falls Productions': 36, 'Indochina Productions': 36, 'Tall Trees Productions': 36, 'Pathe': 36, 'Ludlum Entertainment': 36, 'Point Grey Pictures': 35, 'RatPac Entertainment': 35, 'Why Not Productions': 35, 'Protozoa Pictures': 35, 'Omnilab Media': 35, 'Ambience Entertainment': 35, 'Bazmark Films': 35, 'Newmarket Capital Group': 35, 'Ozumi Films': 35, 'Propeler': 35, 'Ascendant Pictures': 35, 'Runteldat Entertainment': 35, 'World 2000 Entertainment': 35, 'Universal': 35, 'Craven-Maddalena Films': 35, 'Iron Film': 35, 'Mediastream Vierte Film GmbH & Co. Vermarktungs KG': 35, 'Nickelodeon Animation Studios': 34, 'United Plankton Pictures': 34, '3Foot7': 34, 'AR Films': 34, 'Demarest Films': 34, 'Canadian Film or Video Production Tax Credit (CPTC)': 34, 'Cold Spring Pictures': 34, 'Peninsula Films': 34, 'Linson Entertainment': 34, 'platinum studios': 34, 'Little Bird': 34, 'Art Linson Productions': 34, 'Total Entertainment': 34, 'TSBD Canada Productions': 34, 'Zohar International': 34, 'Baldwin Entertainment Group': 34, 'The Javelina Film Company': 34, 'P of A Productions Limited': 34, 'Cool Music': 34, 'Harry Potter Publishing Rights': 34, 'Scottish Screen': 33, 'Tree Line Films': 33, 'HBO Films': 33, 'Ardustry Entertainment': 33, 'Tollin/Robbins Productions': 33, 'Hammerhead Productions': 33, 'MIRACLE Productions GmbH & Co. KG': 33, 'JD Productions': 33, 'Hard Eight Pictures': 33, 'Route One Films': 32, 'Instituto de la CinematografÃ\\xada y de las Artes Audiovisuales (ICAA)': 32, 'Screen Australia': 32, 'Celador Films': 32, 'Chris Brinker Productions': 32, 'Sikelia Productions': 32, 'Mayhem Pictures': 32, 'MHF Zweite Academy Film': 32, 'David Foster Productions': 32, 'Unique Features': 32, 'Mr. Smith Productions': 32, 'Alloy Entertainment': 32, 'Western': 31, 'Babieka': 31, 'A24': 31, 'Sony Pictures Home Entertainment': 31, 'Bold Films': 31, 'Lynda Obst Productions': 31, 'Kurtzman/Orci': 31, 'Chockstone Pictures': 31, 'DreamWorks': 31, 'Seed Productions': 31, 'Blue Star Pictures': 31, '2 Entertain': 31, 'Odyssey Entertainment': 31, 'Intandem Films': 31, 'Aramid Entertainment Fund': 31, 'Lipsync Productions': 31, 'Playtone Productions': 31, 'Walt Disney Television Animation': 31, 'Walt Disney Animation Australia': 31, 'What to Expect Productions': 31, 'Jinks/Cohen Company': 31, 'Hammer & Tongs': 31, 'Kumar Mobiliengesellschaft mbH & Co. Projekt Nr. 1 KG': 31, 'Natural Nylon Entertainment': 31, 'Riff Raff Film Productions': 31, 'Filmauro': 31, 'Blue Flower Productions': 31, 'Capella International': 31, 'KC Medien AG': 31, 'FilmColony': 30, 'CinÃ©+': 30, 'China Movie Channel': 30, 'The Safran Company': 30, 'Focus Films': 30, 'American Empirical Pictures': 30, 'Serendipity Point Films': 30, 'K/O Paper Products': 30, 'New Legacy': 30, 'Good Machine': 30, 'Hemisphere Media Capital': 30, 'Tig Productions': 30, 'Kernos Filmproduktionsgesellschaft & Company': 30, 'Sparkler Entertainment': 30, 'DMG Entertainment': 29, 'Ram Bergman Productions': 29, 'Electric City Entertainment': 29, 'Prana Studios': 29, 'Hopscotch Features': 29, 'The Mark Gordon Company': 29, 'Radical Media': 29, 'Telecinco Cinema': 29, 'Square USA': 29, 'Cinerenta Medienbeteiligungs KG': 29, 'Bedford Falls Company, The': 29, 'Management 360': 29, 'Mark Canton Productions': 29, 'Sony': 29, 'Patalex IV Productions Limited': 29, 'Playtone Production': 29, 'Linsefilm': 29, 'Unity Productions': 29, 'Michael Cerenzie Productions': 29, 'Funky Buddha Productions': 29, 'Prime Focus': 28, 'M6 Films': 28, 'Genre Films': 28, 'Automatik Entertainment': 28, 'Columbia TriStar': 28, 'LionsGate': 28, 'Prescience': 28, 'Penn Station Entertainment': 28, 'The Collective Studios': 28, 'Material': 28, 'Abraham Productions': 28, 'Location Gourmet': 28, 'Yucaipa Films': 28, 'Super Cool ManChu': 28, 'Boll Kino Beteiligungs GmbH & Co. KG': 28, 'Herold Productions': 28, 'Muse Productions': 28, 'Benderspink': 28, 'Carousel Productions': 28, 'The Ladd Company': 28, 'Biscayne Pictures': 28, 'Atlantic Television': 28, 'Skylark Productions': 27, 'Rogue': 27, '26 Films': 27, 'Home Box Office (HBO)': 27, 'Maguire Entertainment': 27, 'Lucky Red': 27, 'Bungalow Productions': 27, 'Silver Lion Films': 27, 'Vision View Entertainment': 27, 'Wild Bunch': 27, 'The Jacobson Company': 27, 'Mikona Productions GmbH & Co. KG': 27, 'Propaganda Films': 27, 'Birnbaum / Barber Productions': 27, 'Summertime Entertainment': 27, 'MacDonald/Parkes Productions': 27, 'Ikiru Films': 27, 'Radiant Productions': 27, 'Clifford Werber Productions': 27, 'Tiger Aspect Productions': 27, 'One Race Films': 26, 'Energy Entertainment': 26, 'Iron Horse Entertainment (II)': 26, 'UW3 Film Productions': 26, 'Palomar Pictures (II)': 26, 'X-Filme Creative Pool': 26, 'CinemaNX': 26, 'Banter': 26, 'Stanley Kubrick Productions': 26, 'Yellow Bird': 26, 'Magical Elves Productions': 26, 'Scooter Braun Films': 26, 'Mr. Mudd Production': 26, 'Two Ton Films': 26, 'Dickhouse Productions': 26, 'Babelsberg Film': 26, 'Bob Yari Productions': 26, 'Cloudy Productions': 25, 'Brownstone Productions': 25, 'Onyx Films': 25, 'Living Films': 25, 'Ruby Films': 25, 'Before the Door Pictures': 25, 'Washington Square Films': 25, 'Albert S. Ruddy Productions': 25, 'Screen Gems, Inc.': 25, 'Pure Flix Entertainment': 25, 'Starz Animation': 25, 'Buckaroo Entertainment': 25, 'Aegis Film Fund': 25, 'Castelao Producciones': 25, 'Odd Lot Entertainment': 25, 'Participant Productions': 25, 'HW Two': 25, 'Blue Tulip Productions': 25, 'TÃ©lÃ©film Canada': 25, 'Picturehouse Entertainment': 25, 'Distant Horizons': 25, 'Film Afrika Worldwide': 25, 'Videovision Entertainment': 25, 'Havana Nights LLC': 25, 'Hal Lieberman Company': 25, 'Kennedy Miller Productions': 24, 'Truenorth Productions': 24, 'Fox International Productions': 24, 'Boxing Cat Films': 24, 'Andell Entertainment': 24, 'Pictures in Paradise': 24, 'Madhouse Entertainment': 24, 'Gold/Miller Productions': 24, 'Beacon Communications': 24, 'David Brown Productions': 24, 'Earth Canada Productions': 24, 'Blueprint Pictures': 24, 'Ten Thirteen Productions': 24, 'Crying Box Productions': 24, 'Deep River Productions': 24, 'Out of the Blue... Entertainment': 24, \"Eric's Boy\": 24, 'Moving Pictures': 24, 'Gratitude International': 24, 'Signature Pictures': 24, 'Tim Burton Animation Company': 24, 'Storefront Pictures': 24, 'Irish Film Board': 23, 'Worldview Entertainment': 23, 'Key Creatives': 23, 'Inferno Distribution': 23, 'Lions Gate': 23, 'Road Rebel': 23, 'WV Films II': 23, 'Red Wagon Productions': 23, 'China Film Group Corporation (CFGC)': 23, 'Bac Films': 23, 'Konami Corporation Ltd.': 23, 'Pariah Entertainment Group': 23, 'Big Beach Productions': 23, 'Telegraph Films': 23, 'Constantin Film Ltd.': 23, 'Resident Evil Productions': 23, 'Crave Films': 22, 'Etalon film': 22, 'Bandito Brothers': 22, 'Internationale Filmproduktion Blackswan': 22, 'Kontsept Film Company': 22, 'Kaplan/Perrone Entertainment': 22, \"It's a Laugh Productions\": 22, 'Millar Gough Ink': 22, 'Necropia': 22, 'Tequila Gang': 22, 'Hammer Film Productions': 22, 'PathÃ© Pictures International': 22, 'Universal Cartoon Studios': 22, 'ApolloMedia Distribution': 22, 'Gravier Productions': 22, 'Antena 3 Films': 22, 'TelevisiÃ³ de Catalunya (TV3)': 22, 'Antena 3 TelevisiÃ³n': 22, 'Evolution Entertainment': 22, 'Leverage Management': 22, 'Stoller Global Solutions': 22, 'Wessler Entertainment': 22, 'Verisimilitude': 22, 'After Dark Films': 22, 'MFPV Film': 22, 'Michael London Productions': 22, 'BIM Distribuzione': 22, 'Blackfriars Bridge Films': 22, 'Primal Foe Productions': 22, 'Mostow/Lieberman Productions': 22, '80 Days Productions': 22, 'I Could Never Ltd.': 22, 'Bauer Martinez Studios': 22, 'International Traders': 21, 'Trigger Street Productions': 21, 'Avi Arad Productions': 21, 'Matt Tolmach Productions': 21, 'WideAwake': 21, 'Hollywood Gang Productions': 21, 'Evergreen Media Group': 21, 'Australian Film Finance Corporation (AFFC)': 21, 'Smoke House': 21, 'The Tyler Perry Company': 21, 'KMP Film Invest': 21, 'Blue Askew': 21, 'Vendome Pictures': 21, 'British Film Institute (BFI)': 21, '40 Acres & A Mule Filmworks': 21, 'Rainmaker Entertainment': 21, 'Mainframe Entertainment': 21, 'Mars Media Beteiligungs': 21, 'MI 3 Film': 21, 'Cowboy Films': 21, 'Eyetronics': 21, 'Jon Shestack Productions': 21, 'Hollywood Pictures': 21, 'Bird and a Bear Entertainment': 21, 'Hallway Pictures': 21, 'Catch Productions': 21, 'Broken Chair Flickz': 20, 'Entertainment One': 20, 'Bulletproof Cupid': 20, 'Likely Story': 20, 'Scope Pictures': 20, 'Pacific Film and Television Commission': 20, 'Paul Schiff Productions': 20, 'Long Distance Films': 20, 'Sean S. Cunningham Films': 20, 'Crystal Lake Entertainment': 20, 'Kopelson Entertainment': 20, 'Mediastream Film GmbH & Co. Productions KG': 20, 'Grosvenor Park Productions': 20, 'Media Magik Entertainment': 20, 'Midnight Picture Show': 20, 'Imaginary Forces': 20, 'MPH Entertainment': 20, 'Colombia Pictures': 20, 'Storyline Entertainment': 20, 'UW4 Productions': 20, 'Film i VÃ¤st': 20, 'Art Pictures Studio': 20, 'VIP 3 Medienfonds': 20, 'Milkshake Films': 20, 'Hargitay & Hargitay Pictures in Motion': 20, 'Nu Image Entertainment': 20, 'Egmond Film & Television': 20, 'Really Useful Films': 20, 'Figment Films': 20, 'Munich Film Partners & Company (MFP) MI2 Productions': 20, 'Volcano Films': 19, 'Outlaw Sinema': 19, 'Cloud Eight Films': 19, 'Zehnte Babelsberg': 19, 'Visiona Romantica': 19, 'The Halcyon Company': 19, 'Overnight Films': 19, 'Intellectual Properties Worldwide': 19, 'Neal H. Moritz Productions': 19, 'Castel Film Romania': 19, 'Huayi Brothers': 19, 'South Pacific Pictures': 19, 'Spice Factory': 19, 'The Australian Film Commission': 19, 'Universal Pictures Corporation': 19, 'Nu Image Entertainment GmbH': 19, 'Studio 37': 19, 'Jouror Productions': 19, 'Gambit Pictures': 19, 'Electric Shepherd Productions': 19, 'Kerner Entertainment Company': 19, 'Lion Rock Productions': 19, 'Monarch Pictures': 19, 'EMJAG Productions': 19, 'Yari Film Group': 19, 'Liaison Films': 19, \"Bull's Eye Entertainment\": 19, 'Rocket Pictures': 19, 'Alliance Atlantis Motion Picture Production': 19, 'Mark Gordon Productions': 19, 'Matt Damon': 18, 'Flynn Picture Company': 18, 'Wildgaze Films': 18, 'Feigco Entertainment': 18, 'K. JAM Media': 18, 'Pacific Standard': 18, 'Hasbro Studios': 18, 'Allspark Pictures': 18, 'Crescendo Productions': 18, 'Fake Empire': 18, 'Winkler Films': 18, 'Virtual Films': 18, 'Mosaic': 18, 'BrownHouse Productions': 18, 'Bottom of the Ninth Productions': 18, 'USA Films': 18, 'Darkwoods Productions': 18, 'New Wave Entertainment': 18, 'Terra Firma Films': 18, 'Superfinger Entertainment': 18, 'France 3 CinÃ©ma': 18, 'Mpower Pictures': 18, 'Atlas Productions': 18, 'ARP SÃ©lection': 18, 'Indigo Film': 18, 'Medusa Film': 18, 'National Geographic Society': 18, 'David Ladd Films': 18, 'Mutant Enemy Productions': 18, 'Alphaville Productions': 18, 'Jean Doumanian Productions': 18, 'Room 9 Entertainment': 18, 'JC 23 Entertainment': 18, 'Cent Productions Inc.': 18, 'Senator International': 18, 'Big Beach Films': 18, 'Motion Picture THETA Produktionsgesellschaft': 18, 'Aldrich Group': 18, 'Optional Pictures': 18, 'Motion Picture BETA Produktionsgesellschaft': 18, 'Bourne Again': 18, 'Lauren Levine Productions Inc.': 18, 'Tyler Perry Company, The': 18, 'The Canton Company': 18, 'Davis-Panzer Productions': 18, 'Adam Sandler': 17, 'Killer Films': 17, 'David Dobkin Productions': 17, 'Disney': 17, 'Max Films Productions': 17, 'Morag Loves Company': 17, 'Watermark': 17, 'Film Department, The': 17, 'Evil Twins': 17, 'Warp Films': 17, 'Medienproduktion Prometheus Filmgesellschaft': 17, 'Portobello Studios': 17, 'New Crime Productions': 17, 'Overture Films': 17, 'Dee Gee Entertainment': 17, 'Prufrock Pictures': 17, 'Merlin Films': 17, 'TPS Star': 17, 'MVL Incredible Productions': 17, 'Evamere Entertainment': 17, 'Lip Sync Post': 17, 'Trademark Films': 17, 'LD Entertainment': 17, 'Wild Ocean Films': 17, '2S Films': 17, 'Fierce Entertainment': 17, 'Flashpoint Entertainment': 17, 'Walt Disney Animation Canada': 17, 'Inferno Entertainment': 17, 'Galavis Film': 17, 'Picture Machine': 17, 'Heineken Branded Entertainment': 17, 'Cobalt Media Group': 17, 'Doom Buggy Productions': 17, 'Paco Cinematografica': 17, 'Regione Lazio': 17, 'Business Location Sudtirol Alto Adige': 17, 'Friuli Venezia Giulia Film Commission': 17, 'FilmWorks': 17, 'Matinee Pictures': 17, 'Landscape Entertainment': 17, 'John US Productions': 17, 'Friday Night Lights LLC': 17, 'MDBF Filmgesellschaft mbH & Company KG': 17, 'NALA Films': 17, 'Samuels Media': 17, 'Block 2 Pictures': 17, 'Jet Tone Production': 17, 'Lou Yi Inc.': 17, 'Technical Black': 17, 'Run It Up Productions Inc.': 17, 'Nine Yards Productions': 17, 'Rational Packaging Company': 17, 'Seven Arts Pictures': 17, 'Munich Film Partners & Company (MFP) ROE Production': 17, 'Angelina Jolie': 16, 'Free State Pictures': 16, 'Chartoff-Winkler Productions': 16, 'Black Bear Pictures': 16, 'Bristol Automotive': 16, '5150 Action': 16, 'Radical Studios': 16, 'The Combine': 16, 'Grand Army Entertainment': 16, 'Hachiko': 16, 'Langley Productions': 16, 'Thunder Road Productions': 16, 'Fuqua Films': 16, 'New Upstairs Productions': 16, 'Upstairs Canada Productions': 16, 'Mark Johnson Productions': 16, 'Curmudgeon Films': 16, 'Freestyle Releasing': 16, 'Industrial Light & Magic (ILM)': 16, 'FidÃ©litÃ© Films': 16, 'Hwy61': 16, 'Birdsong Pictures': 16, 'AZL Productions KG': 16, 'MFP Munich Film Partners': 16, 'Phase 1 Productions': 16, 'David Kirschner Productions': 16, 'Cort/Madden Productions': 16, 'Rogue Marble': 16, 'SGF Entertainment': 16, 'Twins Financing': 16, 'Initial Entertainment Group': 16, 'First Foot Films': 16, 'Recorded Pictures Company': 16, 'The Movie Network': 16, 'Millbrook Pictures': 16, 'Lago Film': 16, 'DJ Films': 16, 'Corrino Media Corporation': 16, 'Corsan': 16, 'Staccato Films': 16, 'Hacienda Productions': 16, 'WV Films LLC': 16, 'Cott Productions': 16, 'Furia de Titanes II, A.I.E.': 16, 'Vanguard Films': 16, 'Myriad Pictures': 16, 'Jeepers Creepers II': 16, 'Earthship Productions': 16, 'Envision Entertainment Corporation': 16, 'Revolution Films': 16, 'Truth Entertainment': 16, 'John Wells Productions': 16, 'Reforma Films': 16, 'Persistent Entertainment': 16, 'Starbucks Entertainment': 16, 'Cinema Gypsy Productions': 16, 'Film Colony': 16, 'Gaylord Films': 16, 'Eclipse Catering': 16, 'Nine Yards Two Productions': 16, 'Scholastic Productions': 16, '360 Pictures': 16, 'Land Films Inc.': 16, 'Marshall Production': 16, 'Fountainbridge Films': 16, 'Finding Forrester Productions': 16, 'Sweetpea Entertainment': 16, 'Documentary': 15, 'Ben Stiller': 15, 'Tom Cruise': 15, 'Samuel L. Jackson': 15, 'Eddie Murphy': 15, 'Sierra/Affinity': 15, 'Blue-Tongue Films': 15, 'Orange Studios': 15, 'CityMation': 15, 'On Entertainment': 15, 'Zippcast Films': 15, 'TriStar Productions': 15, 'Ex3 Productions': 15, 'Obelisk Productions': 15, 'Qwerty Films': 15, 'TF1 Droits Audiovisuels': 15, 'Seven West Media': 15, 'Fear of God Films': 15, 'Seven Group Holdings': 15, 'Tooley Productions': 15, 'Great Scott Productions Pty. Ltd.': 15, 'Bedlam Productions': 15, 'See-Saw Films': 15, 'Henceforth': 15, 'Projection Pictures': 15, 'London Boulevard': 15, 'Parabolic Pictures': 15, 'Asymmetrical Productions': 15, 'Les Films Alain Sarde': 15, 'Babbo Inc.': 15, 'The Picture Factory': 15, 'Imhotep Productions': 15, 'Swanford Films': 15, 'KC Medien': 15, 'Immortal Entertainment': 15, 'Cinerenta-Cinebeta': 15, 'VCL Communications': 15, 'Ufland': 15, 'Ott Medien': 15, 'Sony Pictures Worldwide Acquisitions (SPWA)': 15, 'TDJ Enterprises / New Dimensions Entertainment': 15, 'Our Stories Films': 15, 'Kemp Company': 15, 'Hughes Entertainment': 15, 'Shoelace Productions': 15, 'Pandora Pictures': 15, 'World Wrestling Entertainment (WWE)': 15, 'Schroeder Hoffman Productions': 15, 'Jaffilms Inc.': 15, 'Sony Pictures Classics': 15, 'Captivate Entertainment': 15, 'Moonrise': 15, 'Talisman Productions': 15, 'Loumolo & Co.': 15, 'Jackie Chan Films Limited': 15, 'All Knight Productions': 15, 'Artists Production Group (APG)': 15, 'Turner Pictures': 15, 'Antietam Filmworks': 15, 'K5 International': 15, 'Dante Entertainment': 15, 'Crusader Entertainment': 15, 'O.N.C. Entertainment': 15, 'Failure to Launch Productions': 15, 'VIP 4 Medienfonds': 15, 'Pricel': 15, 'Tohokushinsha Film': 15, 'Commission du Film France': 15, 'MMCB Film Produktion 2004': 15, 'Golden Mean': 15, 'Universal CGI': 15, 'Daybreak': 15, 'Astral Media': 15, 'Dino de Laurentiis Cinematografica': 15, 'Red Lion Sarl': 15, 'Fine Line Features': 15, 'Zentropa Entertainments': 15, 'Danmarks Radio (DR)': 15, 'SVT Drama': 15, 'Arte': 15, 'Triple Threat Talent': 15, 'Mark Wahlberg': 14, 'Hugh Jackman': 14, 'Jamie Foxx': 14, 'Russell Crowe': 14, 'Alpha Core': 14, 'Infinite Frameworks Studios': 14, 'Anton Capital Entertainment (ACE)': 14, 'Viz Media': 14, 'Mad Chance Productions': 14, 'Irish Dreamtime': 14, 'SPD Films': 14, 'Screen Queensland': 14, 'Blacklab Entertainment': 14, 'Wolfhound Pictures': 14, 'Hopscotch Films': 14, 'Rice Films': 14, 'Runteam Ltd.': 14, 'R.P. Productions': 14, 'Village Roadshow Pictures Asia': 14, 'Spy Next Door': 14, 'American Film Company': 14, 'Furry Vengeance Productions': 14, 'HighRoad Entertainment': 14, 'Prelude Pictures': 14, 'Lone Runner Entertainment': 14, 'Kenio Films': 14, 'Perfect Game, The': 14, 'Emperor Motion Pictures': 14, 'Big Talk Productions': 14, 'Ad Hominem Enterprises': 14, 'Crystal City Entertainment': 14, 'Aura Film Partnership': 14, 'TF1 Films Productions': 14, 'British Film Council': 14, 'Alberto Grimaldi Productions': 14, 'Wheelhouse Entertainment': 14, 'Motion Picture Production GmbH & Co. Erste KG': 14, 'CAMERON MACKINTOSH': 14, 'First Light Production': 14, 'Varsity Pictures': 14, 'Cecchi Gori Group Tiger Cinematografica': 14, 'Mindfire Entertainment': 14, 'A&E Television Networks': 14, 'H2F Entertainment': 14, 'RabbitBandini Productions': 14, 'Division Films': 14, 'Pop Films': 14, 'Mythology Entertainment (II)': 14, 'Essential Media & Entertainment': 14, 'ShadowCatcher Entertainment': 14, 'Daniel Bobker Productions': 14, 'Callahan Filmworks': 14, 'Infogrames Entertainment': 14, 'Government of Malta': 14, 'Contagious Entertainment': 14, 'Thousand Words': 14, 'Detour Filmproduction': 14, 'Paramount Classics': 14, 'Loofah Productions': 14, 'Fellowship Adventure Group': 14, 'Reserve Room': 14, 'ETIC Films': 14, 'Nancy Tenenbaum Films': 14, 'Johnny Depp': 13, 'Jude Law': 13, 'Bruce Willis': 13, 'Will Smith': 13, 'Versus Pictures': 13, 'Huayi Brothers Media': 13, 'Pretty Pictures': 13, 'ArtÃ©mis Productions': 13, 'Le Tax Shelter du Gouvernement FÃ©dÃ©ral de Belgique': 13, 'Taxshelter. be': 13, 'Constantin Film.': 13, 'Amazon Studios': 13, 'Film Art Media': 13, 'Apollo Media': 13, 'Venture Forth': 13, 'Dayday Films': 13, 'Echo Films': 13, 'Straight Up Films': 13, 'LBI Productions': 13, 'D8': 13, 'Provident Films': 13, 'FourBoys Entertainment': 13, 'Lightstorm Entertainment': 13, 'Panorama Films': 13, 'Jaffe / Braunstein Enterprise': 13, 'Sid & Marty Krofft Pictures': 13, 'Stars Road Entertainment': 13, 'Saga Film': 13, 'Chambara Pictures': 13, 'Dreamworks Pictures': 13, 'Battle Mountain Films': 13, 'Lions Gate Family Entertainment': 13, 'Crest Animation Productions': 13, 'PVR Cinemas': 13, 'Hari Om Entertainment Co.': 13, 'Blockbuster Movie Entertainers': 13, 'Black and Blu Entertainment': 13, 'Finestkind': 13, 'Kingsgate Films': 13, 'Film Capital Europe Funds (FCEF )': 13, 'Internationale Filmproduktion Stella-del-Sud Second': 13, 'Baumgarten Management and Productions (BMP)': 13, 'Alta Loma Entertainment': 13, 'InVenture Entertainment': 13, 'Nu-Image Films': 13, 'Lietuvos Kinostudija': 13, 'Scout Productions': 13, 'Darren Star Productions': 13, '3 in the Box': 13, 'Random Films': 13, 'Bay Films': 13, 'Clear Blue Sky Productions': 13, 'North Box Productions': 13, 'Studio Mir': 13, 'Studio Babelsberg Motion Pictures': 13, 'Pit Bull Productions': 13, 'Michael Lobell Productions': 13, 'Harbour Pictures': 13, 'Millenium Films': 13, 'Silver Bullet Productions (II)': 13, 'Blind Wink Productions': 13, 'Langley Park Production': 13, 'Aggregate Films': 13, 'DumbDumb': 13, 'Archer Street Productions': 13, 'Latitude Media': 13, 'Kumar Mobiliengesellschaft mbH & Co. Projekt Nr. 3 KG': 13, 'Dutch Oven': 13, 'New Regency Productions': 13, 'Parkway Pictures (I)': 13, 'Five Roses': 13, 'Romero-Grunwald Productions': 13, 'Exception Wild Bunch': 13, 'Hit & Run Productions': 13, 'Universal Animation Studios': 13, 'Sunset Gower Studios': 13, 'True Grit Productions': 13, 'Zero Gravity Management': 13, 'Pierce/Williams Entertainment': 13, 'Shawn Danielle Productions Ltd.': 13, 'New Amsterdam Entertainment': 13, 'AR-TL': 13, 'HorrorFlix': 13, 'Zadan / Meron Productions': 13, 'Brass Hat Films': 13, 'Wind Dancer Productions': 13, 'Red Horizon Productions': 13, 'Cruella Productions': 13, 'Robert Downey Jr.': 12, 'Dwayne Johnson': 12, 'Ian McKellen': 12, 'Brad Pitt': 12, 'Owen Wilson': 12, 'Cameron Diaz': 12, 'Nicolas Cage': 12, 'Robert De Niro': 12, 'A113': 12, 'Element Pictures': 12, '87Eleven': 12, 'Sierra / Affinity': 12, 'Lucamar Productions': 12, 'Cannell Studios': 12, 'Electronic Arts': 12, 'Creative Scotland': 12, 'Warner Bros. Interactive Entertainment': 12, 'Rob Thomas Productions': 12, 'Arc Productions': 12, 'Left Tackle Pictures': 12, 'Zucker/Netter Productions': 12, 'Curse Productions': 12, 'Bernard Gayle Productions': 12, 'Imagi Animation Studios': 12, 'Dentsu Inc.': 12, 'Pink Machine': 12, 'China Film Group': 12, 'Liveplanet': 12, 'Storm King Productions': 12, 'Animationwerks': 12, 'Crystal Sky Worldwide': 12, 'MDP Worldwide': 12, 'Carousel Picture Company, The': 12, 'Signature Entertainment': 12, 'Dan Films': 12, 'CP Medien AG': 12, 'Europa Corp': 12, 'Art In Motion': 12, 'UTV Motion Pictures': 12, 'LBI Entertainment': 12, 'Dr D Studios': 12, 'Kennedy Miller Mitchell': 12, 'Catch 23 Entertainment': 12, 'Sea Breeze Productions Inc.': 12, 'Stephen J. Cannell Productions': 12, 'Media Farm': 12, 'Sunday Night': 12, 'Mandalay Vision': 12, 'Cattleya': 12, 'Kasdan Pictures': 12, 'Mediastream Dritte Film': 12, 'FidÃ©litÃ© Productions': 12, 'Gimages': 12, 'FOZ': 12, 'Herrick Entertainment': 12, 'Stone Village Pictures': 12, 'PathÃ© Distribution': 12, 'Sneak Preview Productions': 12, 'TF 1 Film Productions': 12, 'Mile High Productions': 12, 'Kevin Messick Productions': 12, 'Sound for Film': 12, 'Samuelson Productions': 12, 'Grand Slam Productions': 12, 'Filmax Entertainment': 12, 'ICF': 12, 'Visual Arts Entertainment': 12, 'Taormina Productions': 12, 'Wendy Finerman Productions': 12, 'Sociedad General de Cine S.A.': 12, 'Entertainment Films': 12, 'Material Entertainment': 12, 'Beech Hill Films': 12, 'Bueprint Pictures': 12, 'Underground': 12, 'Dreamachine': 12, 'Clipsal Films': 12, 'SNL Studios': 12, 'Mark Ruffalo': 11, 'Leonardo DiCaprio': 11, 'Daniel Craig': 11, 'Steve Buscemi': 11, 'CatchPlay': 11, 'Raindog Films': 11, 'Panay Films': 11, 'IFP Westcoast Erste': 11, 'Easy There Tiger Productions': 11, 'Furst Films': 11, 'Camp / Thompson Pictures': 11, 'Trancas International Films': 11, 'Smartest Man Productions': 11, 'Czech Anglo Productions': 11, 'Wandering Star Pictures': 11, 'Sean Bailey Productions': 11, 'Prospect Park': 11, 'Millbrook Farm Productions': 11, 'Red Om Films': 11, 'Fast Track Productions': 11, 'Outlaw Productions (I)': 11, 'Simon Fields Productions': 11, 'Top Rope': 11, 'Babylon': 11, 'Internationale Filmproduktion': 11, 'Cohen/Pearl Productions': 11, 'Guy Walks into a Bar Productions': 11, 'Starz Media': 11, 'Studiopolis': 11, 'Vanguard Animation': 11, 'Sherazade Film Development': 11, 'Corduroy Films': 11, 'Scared Productions': 11, 'Lennox House Films': 11, 'Chrysalis Films': 11, 'Hungry Eye Lowland Pictures B.V.': 11, 'Flan de Coco Films': 11, 'Beverly Detroit': 11, 'Intermedia': 11, 'Tripod Entertainment': 11, 'Apaches Entertainment': 11, 'Di Bonaventura Picture': 11, 'Disney Enterprises': 11, 'SOIXAN7E QUIN5E': 11, 'See Me Louisiana': 11, 'Chartoff Productions': 11, 'Digital Domain': 11, 'Perdido Productions': 11, 'Company Films': 11, 'Dalian Wanda Group': 11, 'Branded Entertainment/Batfilm Productions': 11, 'Will Vinton Studios': 11, 'Kanbar Entertainment': 11, 'Blue Yonder Films': 11, 'MBC Beteiligungs Filmproduktion': 11, 'Catfish Productions': 11, 'Media Asia Films': 11, 'Muse Entertainment Enterprises': 11, '3L Filmverleih': 11, 'Tiara Blu Films': 11, 'Mirabai Films': 11, 'Thirteen Productions': 11, 'VIP 2 Medienfonds': 11, 'Gone North Productions': 11, 'Industrial Development Corporation of South Africa': 11, 'Miracle Pictures': 11, 'Two Brothers Productions': 11, 'Avenue Pictures Productions': 11, 'Into the Wild': 11, 'Monkey Dance Productions': 11, 'SW7D Productions': 11, 'Sunlight Productions': 11, 'Madison 23': 11, 'Arts Council of England': 11, 'Limited Edition Productions Inc.': 11, 'Barry Mendel Productions': 11, 'Neo Art & Logic': 11, 'Wes Craven Films': 11, 'Sylvester Stallone': 10, 'Vin Diesel': 10, 'Jack Black': 10, 'Denzel Washington': 10, 'Emma Watson': 10, 'Gary Oldman': 10, 'Tom Hanks': 10, 'Orlando Bloom': 10, 'Beagle Pug Films': 10, 'Allison Shearmur Productions': 10, 'Scholastic Entertainment': 10, 'No Trace Camping': 10, 'Ehman Productions': 10, 'The Cantillon Company': 10, 'The Shuman Company': 10, 'Pendle Mountain Productions': 10, 'Stoney Lake Entertainment': 10, 'Goldenlight Films': 10, 'Sahara Productions': 10, 'Silvatar Media': 10, 'Top Shelf Productions': 10, 'Echo Lake Productions': 10, 'Premiere Picture': 10, \"Butcher's Run Films\": 10, 'Informant Media': 10, 'Ozla Pictures': 10, 'Italian Tax Credit': 10, 'Polish Film Institute': 10, 'Exclusive Films': 10, 'Monolith Films': 10, 'On the Road': 10, 'Matador Pictures': 10, 'Magic Light Pictures': 10, 'Cinema Four': 10, 'Oceana Media Finance': 10, 'Pantheon Entertainment Corporation': 10, 'Innocence Productions': 10, 'Omega Entertainment': 10, 'Twentieth Century Fox': 10, 'Ealing Studios': 10, 'Fragile Films': 10, 'Quickfire Films': 10, 'Cruise-Wagner Productions': 10, 'Pistolero Productions LLC': 10, 'Double Nickel Entertainment': 10, 'Internationale Filmproduktion Stella-del-SÃ¼d': 10, 'Toff Guy Films': 10, 'Andale Pictures': 10, 'IDEA Filmproduktions': 10, 'Denver and Delilah Productions': 10, 'Deuce Three Productions': 10, 'Image Entertainment': 10, 'Brookwell-McNamara Entertainment': 10, 'Cliffjack Motion Pictures': 10, 'Incentive Filmed Entertainment': 10, 'Canal+Polska': 10, 'Heritage Films': 10, 'Agencja Produkcji Filmowej': 10, 'Unfaithful Filmproduktion GmbH & Co. KG': 10, 'Milagro Films': 10, 'DoRo Fiction Film': 10, 'Brandywine Productions': 10, 'Ascension Pictures': 10, 'ARD Degeto Film': 10, 'Cloud Atlas Productions': 10, 'Transfilm': 10, 'Film 44': 10, 'Hedge Fund Film Partners': 10, 'Knightsbridge Entertainment': 10, 'Corner Store Entertainment': 10, 'A Hot Dog': 10, 'Liddell Entertainment': 10, 'Wonderful Films PLC': 10, 'Rai Cinema': 10, 'Alfama Films': 10, 'Laurinfilm': 10, 'Subterranean Productions LLC': 10, 'Subterranean Productions UK Ltd.': 10, 'Underworld Produktions GmbH': 10, 'Disney Double Dare You (DDY)': 10, 'Envision Entertainment': 10, 'Sycamore Pictures': 10, 'Inferno International': 10, 'Alan Greenspan Productions': 10, 'Boll KG': 10, 'The Movie Network (TMN)': 10, 'Silent Hill DCP Inc.': 10, 'Konami': 10, 'Black & White Productions': 10, 'Tessalit Productions': 10, 'Cappa Productions': 10, 'Edge City': 10, 'Green Hills Productions': 10, 'Crystal Sky Pictures': 10, 'MDBF Zweite Filmgesellschaft': 10, 'Yuma': 10, 'CJ Entertainment': 10, 'Southpaw Entertainment': 10, 'Yer Dead Productions': 10, 'Halcyon Pictures': 10, 'Kinematograf Wien': 10, 'Chime Films': 10, 'Interscope Communications': 10, 'Polygram Filmed Entertainment': 10, 'JLT Productions': 10, 'George Clooney': 9, 'Robert Rodriguez': 9, 'Chris Hemsworth': 9, 'Ralph Fiennes': 9, 'Cate Blanchett': 9, 'Michael Caine': 9, 'Ewan McGregor': 9, 'Paul Bettany': 9, 'Brendan Gleeson': 9, 'Shia LaBeouf': 9, 'Nicole Kidman': 9, 'Colin Farrell': 9, 'Rachel Weisz': 9, 'Halle Berry': 9, 'Universal Pictures International (UPI)': 9, 'Rocklin / Faust': 9, 'Entertainment One Features': 9, 'OddLot Entertainment': 9, 'Head Gear Films': 9, 'Metanoia Films': 9, 'Oasis Films': 9, 'Aperture Entertainment': 9, 'Block / Hanson': 9, 'Pan EuropÃ©enne Production': 9, 'Phantom Four': 9, 'Laura Bickford Productions': 9, 'Medienproduktion Poseidon Filmgesellschaft': 9, 'Edmonds Entertainment Group (EEG)': 9, 'Epidemic Pictures': 9, 'Chako Film Company': 9, 'Red Hour Productions': 9, 'Sogecine': 9, 'Las Producciones del Escorpion': 9, 'Jonathan Krane Group': 9, 'New Redemption Pictures': 9, 'Internationale Filmproduktion Richter': 9, 'Littlestar': 9, 'ScreenWest': 9, 'Outlander Productions': 9, 'Rifkin-Eberts': 9, 'Dark Lot Entertainment': 9, 'Many Rivers Productions': 9, 'Boy of the Year': 9, 'La Petite Reine': 9, 'uFilm': 9, 'Tailor Made': 9, 'Mango Farms': 9, 'Battleplan Productions': 9, 'Voltage pictures': 9, 'ANA Media': 9, 'Picture Perfect (I)': 9, 'Hofflund/Polone': 9, 'Indelible Productions': 9, 'Ghost Ship Films Pty. Ltd.': 9, 'Shutt/Jones Productions': 9, '98 MPH Productions': 9, 'Extension 765': 9, 'Adam Schroeder Productions': 9, 'Artina Films': 9, 'Lucky Monkey Pictures': 9, 'Green Room Films': 9, 'VideoFilmes': 9, 'Newman/Tooley Films': 9, 'Joseph Nittolo Entertainment': 9, '\"DIA\" Productions GmbH & Co. KG': 9, 'Don Simpson/Jerry Bruckheimer Films': 9, 'Stan Winston Studio': 9, 'Recorded Picture Company (RPC)': 9, 'Reiner-Greisman': 9, 'Apparatus Productions': 9, '8:38 Productions': 9, 'Gidden Media': 9, 'Sudden Storm Productions': 9, 'Lee Daniels Entertainment': 9, 'Follow Through Productions': 9, 'Salamander Pictures': 9, 'Pam Williams Productions': 9, 'Temple Hill Productions': 9, 'LGM Productions': 9, 'Les Productions du TrÃ©sor': 9, 'Mars Distribution': 9, 'Reel FX Creative Studios': 9, 'Baby Cow Productions': 9, 'Entertainment Manufacturing Company': 9, 'Bewitched': 9, 'Clubdeal': 9, 'Pacific Renaissance Pictures Ltd.': 9, 'Post No Bills Films': 9, 'Pandemonium Productions': 9, 'Kingdom Feature Productions': 9, 'Motion Picture ETA Produktionsgesellschaft': 9, 'Foqus Arte Digital': 9, 'Metropolis Films': 9, 'Raygun Productions': 9, 'Rosey Film Productions LLC': 9, 'Fellah Pictures': 9, 'Broken Lizard Industries': 9, 'Coconut Pete Productions': 9, 'Andalasia Productions': 9, 'Right Coast Productions': 9, 'Eden Rock Media': 9, 'Element Films': 9, 'Jessie Nelson Productions': 9, 'Nightfall Productions': 9, 'Level 1 Entertainment': 9, 'MID Foundation': 9, 'Foresight Unlimited': 9, 'RAMCO': 9, 'Captivity Productions': 9, 'Mill Film': 9, 'KirchMedia': 9, 'Cranium Films': 9, 'Mars Production Pty. Ltd.': 9, 'Fox Animation Studios': 9, 'Screenland Pictures': 9, 'Nora Ephron Productions': 9, 'Chris Evans': 8, 'Charlize Theron': 8, 'Kevin James': 8, 'Helena Bonham Carter': 8, 'Josh Hutcherson': 8, 'James Franco': 8, 'Christian Bale': 8, 'Gerard Butler': 8, 'Rosario Dawson': 8, 'Ben Kingsley': 8, 'Bill Nighy': 8, 'Daniel Radcliffe': 8, 'Rupert Grint': 8, 'Jim Carrey': 8, 'Vince Vaughn': 8, 'Alec Baldwin': 8, 'Steve Carell': 8, 'Riche-Ludwig Productions': 8, 'Item 7': 8, 'Parallel Film Productions': 8, 'Brothers Dowdle Productions': 8, 'DefyNite Films': 8, 'MJW Films': 8, 'Toho Company': 8, 'Tonik Productions': 8, 'Asis Productions': 8, 'Team Downey': 8, 'Jolie Pas': 8, 'Porchlight Films': 8, 'Screen NSW': 8, 'Snoot Entertainment': 8, 'Hearst Entertainment Productions': 8, 'LightWorkers Media': 8, 'MavroCine Pictures GmbH & Co. KG': 8, 'Sighvatsson Films': 8, 'Smokewood Entertainment Group': 8, '20th Century Fox Home Entertainment': 8, 'Midnight Sun Pictures': 8, 'Goldsmith-Thomas Productions': 8, 'Revelations Entertainment': 8, 'Ilion Animation Studios': 8, 'Hand Made Films': 8, 'Tezuka Production Company Ltd.': 8, 'Darlow Smithson Productions': 8, 'Octagon Films': 8, 'Birnbaum/Barber': 8, 'Oops Doughnuts Productions': 8, 'Frontier Pictures': 8, 'Rhythm and Hues': 8, 'Picnic Basket': 8, 'Underworld Entertainment': 8, 'GHS Productions KG': 8, 'Munich Film Partners & Company (MFP) GHS Productions': 8, 'Nides/McCormick Productions': 8, 'Horseshoe Bay Productions': 8, 'Achte Babelsberg Film': 8, 'The Department of Trade and Industry of South Africa': 8, 'Internationale Filmproduktion Blackbird Erste': 8, 'Collision Entertainment': 8, 'Abandon Entertainment': 8, 'Foxtor Productions': 8, 'Defiance Productions': 8, 'Pistachio Pictures': 8, 'Michaels-Goldwyn': 8, 'Bekmambetov Projects Ltd.': 8, 'Toledo Productions': 8, 'Witt/Thomas Productions': 8, 'IM Filmproduktion': 8, 'Cosmic Pictures': 8, 'Motion Picture Corporation of America': 8, 'Lucasfilm Ltd.': 8, 'Partnership Pictures': 8, 'Serenade Films': 8, 'Also Known As Pictures': 8, 'Dimension Films (US version)': 8, 'Camelot Pictures': 8, 'Illusion Entertainment': 8, 'Province of British Columbia Film Incentive BC': 8, 'N1 European Film Produktions GmbH & Co. KG': 8, 'Baumgarten Merims Productions': 8, 'Monolith Pictures (III)': 8, 'Gaumont': 8, 'Kintop Pictures': 8, 'Colossal Pictures': 8, 'Big Primate Pictures': 8, 'Patalex V Productions Limited': 8, 'Irwin Allen Productions': 8, 'Granada Film Productions': 8, 'Blue Sea Productions': 8, 'Frantic Films': 8, 'Maple Shade Films': 8, 'Sideways Productions Inc.': 8, 'Fantail Films Inc.': 8, 'Vaughn Productions': 8, 'Columbus 81 Productions': 8, 'Huayi Brothers Media Corporation': 8, 'Fat Free': 8, 'Michael Bay': 7, 'Paul W.S. Anderson': 7, 'Jon Favreau': 7, 'Keanu Reeves': 7, 'Mel Gibson': 7, 'Scarlett Johansson': 7, 'Harrison Ford': 7, 'Jason Statham': 7, 'Woody Harrelson': 7, 'Josh Brolin': 7, 'Jeff Bridges': 7, 'Anne Hathaway': 7, 'Patrick Stewart': 7, 'Jennifer Connelly': 7, 'Anthony Hopkins': 7, 'Morgan Freeman': 7, 'Billy Crudup': 7, 'Jason Lee': 7, 'Jessica Biel': 7, 'Julia Roberts': 7, 'Ryan Reynolds': 7, 'Liam Neeson': 7, 'Karl Urban': 7, 'Richard Jenkins': 7, 'Chris Rock': 7, 'Danjaq': 7, 'B24': 7, 'Fuzzy Door Productions': 7, 'Black Label Media': 7, 'STX Entertainment': 7, 'Ahimsa Films': 7, 'Vast Entertainment': 7, 'Little Stranger': 7, 'Le Grisbi Productions': 7, 'M Productions': 7, 'Gulfstream Pictures': 7, 'Constantin Film International': 7, 'Silverwood Films': 7, 'Mystery Clock Cinema': 7, 'Whamaphram Productions': 7, 'Vidhu Vinod Chopra Productions': 7, 'Ocean Pictures': 7, 'Farah Films & Management': 7, 'Aversano Films': 7, 'EFTI': 7, 'Hydraulx': 7, 'Transmission Pictures': 7, 'Pioneer Pictures': 7, 'Fireworks Pictures': 7, 'American Entertainment Partners L.P.': 7, 'Native Pictures Productions': 7, 'Empire Pictures': 7, 'ASAF': 7, 'Luna Pictures': 7, 'Hungarian National Film Office': 7, 'Lazio Film Commission': 7, 'Storefront Films': 7, 'Zanagar Films': 7, 'Wayfare Entertainment': 7, 'Sanctum Australia': 7, 'Great Wight Productions/ Osford Films': 7, 'Marvel Entertainment, LLC': 7, 'Milk & Honey': 7, 'Producers Circle': 7, 'Senator Film Produktion': 7, 'Benaroya Pictures': 7, 'Pie Films Inc.': 7, 'Ixtlan': 7, 'Onda Entertainment': 7, 'Headline Pictures': 7, 'Akil Production Company': 7, 'Horsepower Films': 7, 'Core Productions': 7, 'Y Productions': 7, 'Mediana Productions Filmgesellschaft': 7, 'Newmarket Films': 7, 'Esperanto Filmoj': 7, 'Riddick Canada Productions': 7, 'Troika Pictures': 7, 'Emergency Films': 7, 'Apotheosis Media Group': 7, 'Greenestreet Films': 7, 'Witness Protection Films': 7, 'SkyLand Entertainment': 7, 'Saints LA': 7, 'Motion Picture KAPPA Produktionsgesellschaft': 7, 'Stratus Film Co.': 7, 'Syndicate Films International': 7, '4M': 7, 'AFG Talons Productions': 7, 'Scanbox': 7, 'Max Stronghold Productions Inc.': 7, 'Cineblue Internationale Filmproduktionsgesellschaft': 7, 'City Productions': 7, 'C.O.R.E. Feature Animation': 7, 'Hoytyboy Pictures': 7, 'Nigel Productions': 7, '11:11 Mediaworks': 7, 'Electric Entertainment': 7, 'Flyboys Films': 7, 'Starlite Films': 7, 'Harlequin Pictures': 7, 'Intertainment AG': 7, 'Blackout Productions Inc.': 7, 'Blue Productions': 7, 'Grosvenor Park Impact Productions': 7, 'I Remember Productions': 7, 'Compulsion Inc.': 7, 'Splendid Medien AG': 7, 'Katira Productions GmbH & Co. KG': 7, 'Caro-McLeod': 7, 'Antoine Fuqua': 6, 'Seth Rogen': 6, 'Ridley Scott': 6, 'Peter Berg': 6, 'Kate Winslet': 6, 'Paul Walker': 6, 'Arnold Schwarzenegger': 6, 'Sean Bean': 6, 'Elizabeth Banks': 6, 'Ving Rhames': 6, 'Mark Strong': 6, 'Jeffrey Wright': 6, 'Gwyneth Paltrow': 6, 'Matthew McConaughey': 6, 'Rosamund Pike': 6, 'Logan Lerman': 6, 'Robin Williams': 6, 'Stanley Tucci': 6, 'Kevin Costner': 6, 'John Goodman': 6, 'Aaron Eckhart': 6, 'Justin Long': 6, 'Will Ferrell': 6, 'Seann William Scott': 6, 'Paul Giamatti': 6, 'Dustin Hoffman': 6, 'Mike Myers': 6, 'Eva Mendes': 6, 'Kate Beckinsale': 6, 'Jon Voight': 6, 'Jackie Chan': 6, 'Tobey Maguire': 6, 'Guy Pearce': 6, 'John Leguizamo': 6, 'Tommy Lee Jones': 6, 'Inimitable Pictures': 6, 'ShivHans Pictures': 6, 'Darko Entertainment': 6, 'Studio Babelsberg StudioBabelsberg Motion Pictures': 6, 'Case 39 Productions': 6, 'Trackform Film Productions': 6, 'Kickstart Productions': 6, 'Heyday films': 6, 'VN Productions': 6, 'K/O Camera Toys': 6, 'Film 4': 6, 'TOKYOPOP': 6, 'Fastnet Films': 6, 'Caramel Film': 6, 'SND': 6, 'MICA Entertainment': 6, 'Decibel Films': 6, 'OB Productions': 6, 'Front Street Productions': 6, 'Spitfire Pictures': 6, 'Triggerfish Animation': 6, 'Nina Saxon Film Design': 6, 'Alliance Atlantis Communications': 6, 'Outerbanks Entertainment': 6, 'Kalis Productions GmbH & Co. Zweite KG': 6, 'Debra Hill Productions': 6, 'Bristol Bay Productions': 6, 'Desertlands Entertainment': 6, \"Cooper's Town Productions\": 6, 'Eagle Vision Inc.': 6, 'Manitoba Film and Video Production Tax Credit': 6, 'Domino 17521': 6, 'Eketahuna LLC': 6, 'Yash Raj Films': 6, 'Anka Film': 6, 'Daybreak Productions': 6, 'SKA Films': 6, 'Walrus & Associates': 6, 'Hollywood Partners': 6, 'Charenton Productions': 6, 'Brett Ratner': 5, 'Kenneth Branagh': 5, 'Quentin Tarantino': 5, 'Zack Snyder': 5, 'Roland Emmerich': 5, 'Andrzej Bartkowiak': 5, 'Louis Leterrier': 5, 'Tony Scott': 5, 'Paul Greengrass': 5, 'Peter Jackson': 5, 'Lee Tamahori': 5, 'Gore Verbinski': 5, 'Rob Cohen': 5, 'Michelle Rodriguez': 5, 'Michael PeÃ±a': 5, 'Paul Rudd': 5, 'Jennifer Lawrence': 5, 'Carla Gugino': 5, 'Ioan Gruffudd': 5, 'Simon Pegg': 5, 'Giovanni Ribisi': 5, 'Frances McDormand': 5, 'Elijah Wood': 5, 'Jake Gyllenhaal': 5, 'Sam Worthington': 5, 'Delroy Lindo': 5, 'Bradley Cooper': 5, 'Donald Sutherland': 5, 'Ben Affleck': 5, 'Andy Serkis': 5, 'John Turturro': 5, 'Jonah Hill': 5, 'Julianne Moore': 5, 'John Malkovich': 5, 'Ian McShane': 5, 'Chris Pine': 5, 'Keira Knightley': 5, 'Jessica Alba': 5, 'Eric Bana': 5, 'Benjamin Bratt': 5, 'Hank Azaria': 5, 'John Travolta': 5, 'David Cross': 5, 'Clive Owen': 5, 'Sam Elliott': 5, 'Don Cheadle': 5, 'Ron Perlman': 5, 'Antonio Banderas': 5, 'Peter Sarsgaard': 5, 'Zach Galifianakis': 5, 'Nick Nolte': 5, 'Brendan Fraser': 5, 'Jennifer Aniston': 5, 'Edward Norton': 5, 'Judi Dench': 5, 'John C. Reilly': 5, 'Sacha Baron Cohen': 5, 'Kirsten Dunst': 5, 'Djimon Hounsou': 5, 'Catherine Zeta-Jones': 5, 'Number 9 Films': 5, 'PeaPie Films': 5, 'Kramer & Sigman Films': 5, 'Zaftig Films': 5, 'Outpost Studios': 5, 'HimenÃ³ptero': 5, 'Mod Producciones': 5, 'Serendipity Productions': 5, 'Stone Productions': 5, 'Mimran Schur Pictures': 5, 'Night Chronicles': 5, 'Motel Movies': 5, 'Blind Wink': 5, 'Neunte Babelsberg Film': 5, 'Holleran Company': 5, 'Sechzehnte Babelsberg Film': 5, 'Ventanarosa Productions': 5, 'Handprint Entertainment': 5, 'Burg/Koules Productions': 5, 'Rena Film': 5, 'Peach Trees': 5, 'NuAmerica Entertainment': 5, 'Krane Entertainment': 5, 'City Light Films': 5, 'Pinewood Studios': 5, 'Metrol Technology': 5, 'Le Pacte': 5, 'Filmgate Films': 5, 'Hart-Sharp Entertainment': 5, 'Central Films': 5, 'ApolloProScreen Filmproduktion': 5, 'Patalex Productions': 5, 'Open City Films': 5, 'BBC': 5, 'Springwood Productions': 5, 'J.J. Abrams': 4, 'Lana Wachowski': 4, 'Lilly Wachowski': 4, 'Olivier Megaton': 4, 'Guy Ritchie': 4, 'Bryan Singer': 4, 'Clint Eastwood': 4, 'Tim Story': 4, 'Renny Harlin': 4, 'Mark Neveldine': 4, 'Brian Taylor': 4, 'Dominic Sena': 4, 'Justin Lin': 4, 'Christopher Nolan': 4, 'Simon West': 4, 'John Moore': 4, 'Steven Spielberg': 4, 'Martin Campbell': 4, 'John Singleton': 4, 'Len Wiseman': 4, 'Robert Redford': 4, 'Tom Hardy': 4, 'Kristen Wiig': 4, 'Christoph Waltz': 4, 'Michelle Monaghan': 4, 'Liam Hemsworth': 4, 'Amanda Seyfried': 4, 'Steve Martin': 4, 'Ray Winstone': 4, 'Rose Byrne': 4, 'Tom Hiddleston': 4, 'Michael Fassbender': 4, 'Megan Fox': 4, 'Will Arnett': 4, 'William Fichtner': 4, 'Marton Csokas': 4, 'Emma Stone': 4, 'Bill Paxton': 4, 'Joel Edgerton': 4, 'Bryan Cranston': 4, 'Jay Baruchel': 4, 'Eva Green': 4, 'David Wenham': 4, 'Michael Gambon': 4, 'Mickey Rourke': 4, 'Joseph Gordon-Levitt': 4, 'Bill Murray': 4, 'Carrie-Anne Moss': 4, 'Bruce Greenwood': 4, 'Patrick Wilson': 4, 'Chiwetel Ejiofor': 4, 'Thandie Newton': 4, 'Anna Faris': 4, 'Amy Adams': 4, 'Susan Sarandon': 4, 'PenÃ©lope Cruz': 4, 'Luis GuzmÃ¡n': 4, 'Jason Bateman': 4, 'Reese Witherspoon': 4, 'Tyrese Gibson': 4, 'Catherine Keener': 4, 'James Cromwell': 4, 'Julie Andrews': 4, 'Alfred Molina': 4, 'Salma Hayek': 4, 'Kristen Stewart': 4, 'Peter Facinelli': 4, 'Jason Isaacs': 4, 'Ashton Kutcher': 4, 'Jack Nicholson': 4, 'Viggo Mortensen': 4, 'Liv Tyler': 4, 'Ed Harris': 4, 'Heath Ledger': 4, 'Kurt Russell': 4, 'Angela Bassett': 4, 'TÃ©a Leoni': 4, 'Terrence Howard': 4, 'Hayden Christensen': 4, 'Terence Stamp': 4, 'Anthony Mackie': 4, 'Zooey Deschanel': 4, 'Matthew Broderick': 4, 'Ed Helms': 4, 'Hugo Weaving': 4, 'Geoffrey Rush': 4, 'Natalie Portman': 4, 'Denis Leary': 4, 'Brian Cox': 4, 'Willem Dafoe': 4, 'Joaquin Phoenix': 4, 'Famke Janssen': 4, 'Peter Stormare': 4, 'Kerry Washington': 4, 'Billy Connolly': 4, 'Drew Barrymore': 4, 'RenÃ©e Zellweger': 4, 'Christopher Walken': 4, 'Duperele Films': 4, \"We're Not Brothers Productions\": 4, 'Cinelou Films': 4, 'Kilburn Media': 4, 'Fetisov Teterin Films': 4, 'Farewell Productions': 4, 'Liberty Films UK': 4, 'Lunar Industries': 4, 'Xingu Films': 4, 'Limelight Fund': 4, 'Infinity Features Entertainment': 4, 'Exodus Film Group': 4, 'Exodus Productions': 4, 'Rickshaw Productions': 4, 'Double Negative': 4, 'Toma 78': 4, 'De Milo': 4, 'Dillywood': 4, 'Five Star Institute': 4, 'Reaper Productions': 4, 'Helena Productions': 4, 'Mirage Studios': 4, 'Imagi Production': 4, 'Brad Bird': 3, 'Matthew Vaughn': 3, 'Neill Blomkamp': 3, 'Jaume Collet-Serra': 3, 'Breck Eisner': 3, 'Pierre Morel': 3, 'David Ayer': 3, 'Doug Liman': 3, 'Phil Lord': 3, 'Christopher Miller': 3, 'McG': 3, 'Stephen Sommers': 3, 'Shawn Levy': 3, 'Jonathan Mostow': 3, 'Jon Turteltaub': 3, 'Joe Carnahan': 3, 'M. Night Shyamalan': 3, 'Harald Zwart': 3, 'Marc Forster': 3, 'D.J. Caruso': 3, 'Edward Zwick': 3, 'Sam Raimi': 3, 'Barry Sonnenfeld': 3, 'Guillermo del Toro': 3, 'John Woo': 3, 'Uwe Boll': 3, 'David Twohy': 3, 'Bryce Dallas Howard': 3, 'Theo James': 3, 'Miles Teller': 3, 'Jason Clarke': 3, 'Jai Courtney': 3, 'Jessica Chastain': 3, 'Sandra Bullock': 3, 'Michael Keaton': 3, 'Bill Hader': 3, 'Monica Bellucci': 3, 'Mila Kunis': 3, 'Channing Tatum': 3, 'Josh Gad': 3, 'Michael Douglas': 3, 'Bobby Cannavale': 3, 'Hugh Laurie': 3, 'Alexandra Daddario': 3, 'Jeremy Renner': 3, 'Amy Ryan': 3, 'Henry Cavill': 3, 'Armie Hammer': 3, 'Kate Mara': 3, 'Jamie Bell': 3, 'Toby Kebbell': 3, 'Garrett Hedlund': 3, 'Andy Samberg': 3, 'Rachel McAdams': 3, 'Marion Cotillard': 3, 'Charlie Hunnam': 3, 'Casey Affleck': 3, 'Zoe Saldana': 3, 'Martin Freeman': 3, 'Richard Armitage': 3, 'Neil Patrick Harris': 3, 'James McAvoy': 3, 'Li Bingbing': 3, 'Colm Feore': 3, 'Sienna Miller': 3, 'Ken Watanabe': 3, 'Elle Fanning': 3, 'Sharlto Copley': 3, 'Luke Evans': 3, 'Dominic Cooper': 3, 'John Hurt': 3, 'Rufus Sewell': 3, 'Abbie Cornish': 3, 'Jesse Eisenberg': 3, 'Leslie Mann': 3, 'Andy GarcÃ\\xada': 3, 'Emily Browning': 3, 'Miranda Otto': 3, 'William Hurt': 3, 'Stephen Lang': 3, 'Christopher Plummer': 3, 'Malin Ã…kerman': 3, 'Amanda Peet': 3, 'Stellan SkarsgÃ¥rd': 3, 'Dennis Quaid': 3, 'Dakota Fanning': 3, 'Kristen Bell': 3, 'Kiefer Sutherland': 3, 'Robin Wright': 3, 'Josh Duhamel': 3, 'Meryl Streep': 3, 'Olivia Wilde': 3, 'Freddie Highmore': 3, 'Jordana Brewster': 3, 'Radha Mitchell': 3, 'Liev Schreiber': 3, 'Hugh Grant': 3, 'Sarah Jessica Parker': 3, 'Mary Steenburgen': 3, 'Russell Brand': 3, 'Emily Mortimer': 3, 'Skandar Keynes': 3, 'Georgie Henley': 3, 'Jason Flemyng': 3, 'Mary Elizabeth Winstead': 3, 'Brandon T. Jackson': 3, 'Mary-Louise Parker': 3, 'Maria Bello': 3, 'Robert Pattinson': 3, 'Taylor Lautner': 3, 'Greg Kinnear': 3, 'Kristin Davis': 3, 'Chris Noth': 3, 'James Marsden': 3, 'Dan Aykroyd': 3, 'Milla Jovovich': 3, 'Cuba Gooding Jr.': 3, 'Michael Clarke Duncan': 3, 'James Gandolfini': 3, 'Laurence Fishburne': 3, 'Billy Bob Thornton': 3, 'Teri Polo': 3, 'Lucy Liu': 3, 'Jada Pinkett Smith': 3, 'David Schwimmer': 3, 'Jeffrey Tambor': 3, 'Thomas Kretschmann': 3, 'Cliff Curtis': 3, 'Michael Chiklis': 3, 'Jaden Smith': 3, 'Sienna Guillory': 3, 'Al Pacino': 3, 'Spencer Breslin': 3, 'Paula Patton': 3, 'Tim Robbins': 3, 'Justin Bartha': 3, 'Ken Jeong': 3, 'Jane Lynch': 3, 'Isla Fisher': 3, 'CiarÃ¡n Hinds': 3, 'Lily Collins': 3, 'Kevin Bacon': 3, 'Ray Romano': 3, 'Chris Cooper': 3, 'Emma Thompson': 3, 'William Shatner': 3, 'Cole Hauser': 3, 'Randy Quaid': 3, 'Harvey Keitel': 3, 'Scott Glenn': 3, 'David Oyelowo': 3, 'Michelle Pfeiffer': 3, 'David Spade': 3, 'Marisa Tomei': 3, 'Josh Lucas': 3, 'David Thewlis': 3, 'Connie Nielsen': 3, 'Bruce McGill': 3, 'Shirley MacLaine': 3, 'Hiroyuki Sanada': 3, 'Sean Penn': 3, 'Richard Roxburgh': 3, 'Val Kilmer': 3, 'Emmy Rossum': 3, 'Miranda Richardson': 3, 'Berlanti Productions': 3, 'Everest Entertainment': 3, 'Foreign': 2, 'James Wan': 2, 'Alan Taylor': 2, 'Sam Mendes': 2, 'Joss Whedon': 2, 'Peyton Reed': 2, 'Brad Peyton': 2, 'Wes Ball': 2, 'Michael Mann': 2, 'Paul Feig': 2, 'Ron Howard': 2, 'Camille Delamarre': 2, 'Luc Besson': 2, 'Jonathan Liebesman': 2, 'Matt Reeves': 2, 'Marc Webb': 2, 'Evan Goldberg': 2, 'Roger Donaldson': 2, 'J.C. Chandor': 2, 'Scott Waugh': 2, 'Alex Proyas': 2, 'James McTeigue': 2, 'NimrÃ³d Antal': 2, 'Gavin Hood': 2, 'Joseph Kosinski': 2, 'Edgar Wright': 2, 'Robert Schwentke': 2, 'Tom McGrath': 2, 'James Mangold': 2, 'Neil Marshall': 2, 'Jorma Taccone': 2, 'Kevin Munroe': 2, 'Peter Howitt': 2, 'Frank Oz': 2, 'Joe Johnston': 2, 'Peter Hyams': 2, 'Timur Bekmambetov': 2, 'David Gordon Green': 2, 'Pete Travis': 2, 'Mathieu Kassovitz': 2, 'Frank Miller': 2, 'Jason Friedberg': 2, 'Aaron Seltzer': 2, 'Rob Marshall': 2, 'Andrew Niccol': 2, 'Chris Miller': 2, 'Marcus Nispel': 2, 'Ruben Fleischer': 2, 'George Lucas': 2, 'Andrew Davis': 2, 'Walter Hill': 2, 'Rob Bowman': 2, 'Ang Lee': 2, 'Baltasar KormÃ¡kur': 2, 'Mark Steven Johnson': 2, 'F. Gary Gray': 2, 'David Dobkin': 2, 'Clark Johnson': 2, 'Richard Donner': 2, 'William Friedkin': 2, 'Francis Lawrence': 2, 'Courtney Solomon': 2, 'David R. Ellis': 2, 'David S. Goyer': 2, 'Eli Roth': 2, 'Chris Pratt': 2, 'Irrfan Khan': 2, 'Nicholas Hoult': 2, 'Shailene Woodley': 2, 'Domhnall Gleeson': 2, 'J.K. Simmons': 2, 'Jeff Daniels': 2, 'Allison Janney': 2, 'Steve Coogan': 2, 'Amy Poehler': 2, 'LÃ©a Seydoux': 2, 'Evangeline Lilly': 2, 'Corey Stoll': 2, 'Colin Firth': 2, 'Giancarlo Esposito': 2, 'Alicia Vikander': 2, 'Elizabeth Debicki': 2, 'Rihanna': 2, 'Jennifer Lopez': 2, 'Edgar RamÃ\\xadrez': 2, 'Teresa Palmer': 2, 'Viola Davis': 2, 'Benjamin Walker': 2, 'Ben Whishaw': 2, 'Rooney Mara': 2, 'Selena Gomez': 2, 'Mia Wasikowska': 2, 'Sebastian Stan': 2, 'Ken Stott': 2, 'Graham McTavish': 2, 'Jamie Chung': 2, 'Rami Malek': 2, 'Ray Stevenson': 2, 'Nicola Peltz': 2, 'Keri Russell': 2, 'ChloÃ« Grace Moretz': 2, 'Andrew Garfield': 2, 'Emily Blunt': 2, 'Aaron Paul': 2, 'Ben Barnes': 2, 'Kit Harington': 2, 'Lena Headey': 2, 'Joel Kinnaman': 2, 'Jackie Earle Haley': 2, 'Adewale Akinnuoye-Agbaje': 2, 'RamÃ³n RodrÃ\\xadguez': 2, 'Yvonne Strahovski': 2, 'Kellan Lutz': 2, 'Sigourney Weaver': 2, 'MÃ©lanie Laurent': 2, 'Julie Walters': 2, 'Zachary Quinto': 2, 'Anton Yelchin': 2, 'Eddie Marsan': 2, 'Jeffrey Dean Morgan': 2, 'John Cusack': 2, 'Oliver Platt': 2, 'Keith David': 2, 'Marlon Wayans': 2, 'James Caan': 2, 'Saoirse Ronan': 2, 'Sam Rockwell': 2, 'Tracy Morgan': 2, 'Zachary Levi': 2, 'Mary Kay Place': 2, 'Michael Cera': 2, 'Oscar Isaac': 2, 'Danny Huston': 2, 'Lynn Collins': 2, 'Jason Segel': 2, 'Dolph Lundgren': 2, 'Michelle Williams': 2, 'Mandy Moore': 2, 'Tim Allen': 2, 'Ned Beatty': 2, 'Joan Cusack': 2, 'Timothy Dalton': 2, 'Gemma Arterton': 2, 'Anna Kendrick': 2, 'Barbra Streisand': 2, 'Helen Mirren': 2, 'Tina Fey': 2, 'Ashley Greene': 2, 'Jordi MollÃ\\xa0': 2, 'Javier Bardem': 2, 'Katherine Heigl': 2, 'Tom Selleck': 2, 'Cynthia Nixon': 2, 'Kim Cattrall': 2, 'Essie Davis': 2, 'Eric Dane': 2, 'Cam Gigandet': 2, 'Julianne Hough': 2, 'Stephanie Szostak': 2, 'Bette Midler': 2, 'Carey Mulligan': 2, 'Justin Timberlake': 2, 'John Cleese': 2, 'Billy Crystal': 2, \"Frances O'Connor\": 2, 'John Lithgow': 2, 'Josh Hartnett': 2, 'John Hannah': 2, 'Arnold Vosloo': 2, 'Michael J. Fox': 2, 'James Garner': 2, 'Noah Taylor': 2, 'Tim Roth': 2, 'Kris Kristofferson': 2, 'Tom Sizemore': 2, 'Chris Tucker': 2, 'Zhang Ziyi': 2, 'Ernie Reyes, Jr.': 2, 'Elizabeth Perkins': 2, 'Sam Shepard': 2, 'Dylan Baker': 2, 'Gene Hackman': 2, 'Dominic West': 2, 'Edward Burns': 2, 'Martin Landau': 2, 'David Ogden Stiers': 2, 'Courteney Cox': 2, 'David Hyde Pierce': 2, 'Til Schweiger': 2, 'David Andrews': 2, 'William H. Macy': 2, 'Jeff Garlin': 2, 'Olga Kurylenko': 2, 'Jet Li': 2, 'Selma Blair': 2, 'Michael Rooker': 2, 'William Moseley': 2, 'Anna Popplewell': 2, 'Kathy Bates': 2, 'Michael Ealy': 2, 'Malcolm McDowell': 2, 'Alan Arkin': 2, 'Ali Suliman': 2, 'Adam Scott': 2, 'Kate Hudson': 2, 'Ewen Bremner': 2, 'Lambert Wilson': 2, 'Charlotte Rampling': 2, 'Robert Duvall': 2, 'Christina Ricci': 2, 'Matthew Fox': 2, 'Gabriel Macht': 2, 'Paz Vega': 2, 'Kevin Kline': 2, 'Gabrielle Union': 2, 'Goran Visnjic': 2, 'Bailee Madison': 2, 'Noomi Rapace': 2, 'Larry the Cable Guy': 2, 'Eddie Izzard': 2, 'Vanessa Hudgens': 2, 'Emily Watson': 2, 'Asa Butterfield': 2, 'Dominic Purcell': 2, 'Maggie Q': 2, 'Isabel Lucas': 2, 'Katie Holmes': 2, 'Amy Sedaris': 2, 'Jason Momoa': 2, 'Lea Michele': 2, 'Johnny A. Sanchez': 2, 'Seth Green': 2, 'Queen Latifah': 2, 'Richard Harris': 2, 'Franka Potente': 2, 'Ian McDiarmid': 2, 'Max von Sydow': 2, 'Abigail Breslin': 2, 'Elias Koteas': 2, 'Liam Aiken': 2, 'Paul Newman': 2, 'BeyoncÃ© Knowles': 2, 'Mark Addy': 2, 'Adam Beach': 2, 'Izabella Scorupco': 2, 'Naomie Harris': 2, 'Idris Elba': 2, 'Martin Sheen': 2, 'Kevin McKidd': 2, 'Jim Broadbent': 2, 'Jim Sturgess': 2, 'Jonny Lee Miller': 2, 'Timothy Spall': 2, 'Taylor Kitsch': 2, 'Tadanobu Asano': 2, 'Nathan Lane': 2, 'Jack Davenport': 2, 'Claire Danes': 2, 'Jennifer Garner': 2, 'Martin Lawrence': 2, 'TchÃ©ky Karyo': 2, 'Bernie Mac': 2, 'Robert Patrick': 2, 'Steve Zahn': 2, 'Timothy Olyphant': 2, 'Diane Lane': 2, 'Jodie Foster': 2, 'Alice Braga': 2, 'Diego Luna': 2, 'James Badge Dale': 2, 'Patton Oswalt': 2, 'Cloris Leachman': 2, 'Max Martini': 2, 'Maggie Gyllenhaal': 2, 'Sung Kang': 2, 'Sophie Okonedo': 2, 'Zach Braff': 2, 'Jim Belushi': 2, 'AnnaSophia Robb': 2, 'Julian McMahon': 2, 'Lauren Graham': 2, 'Gong Li': 2, 'Amber Valletta': 2, 'Jeremy Irons': 2, 'Adrien Brody': 2, 'Lucas Black': 2, 'Donal Logue': 2, 'Paddy Considine': 2, 'Bonnie Hunt': 2, 'Yvan Attal': 2, 'Mads Mikkelsen': 2, 'Jean Reno': 2, 'Philip Seymour Hoffman': 2, 'Jonathan Rhys Meyers': 2, 'David Strathairn': 2, 'Sharon Stone': 2, 'Jacinda Barrett': 2, 'Gary Sinise': 2, 'Danny Glover': 2, 'Julia Stiles': 2, 'Diane Kruger': 2, 'Chi McBride': 2, 'Jane Krakowski': 2, 'Glenn Close': 2, 'Patrick Warburton': 2, 'John Michael Higgins': 2, 'Helen Hunt': 2, 'Ixtlan Productions': 2, 'Global Entertainment Group': 2, 'XM2 Productions': 2, 'Colin Trevorrow': 1, 'George Miller': 1, 'Chris Columbus': 1, 'Christopher McQuarrie': 1, 'Ilya Naishuller': 1, 'Ericson Core': 1, 'Denis Villeneuve': 1, 'Josh Trank': 1, 'Aleksander Bach': 1, 'Andy Fickman': 1, 'John Erick Dowdle': 1, 'Anne Fletcher': 1, 'James Gunn': 1, 'Joe Russo': 1, 'Anthony Russo': 1, 'Chad Stahelski': 1, 'David Leitch': 1, 'Don Hall': 1, 'Chris Williams': 1, 'Neil Burger': 1, 'Gareth Edwards': 1, 'Robert Stromberg': 1, 'Dean DeBlois': 1, 'Patrick Hughes': 1, 'Gary Shore': 1, 'Noam Murro': 1, 'Vic Armstrong': 1, 'JosÃ© Padilha': 1, 'Brian A Miller': 1, 'Steven Quale': 1, 'Adam Wingard': 1, 'James Cameron': 1, 'Patrick Tatopoulos': 1, 'Shane Acker': 1, 'Steve Carr': 1, 'Christian Alvart': 1, 'Hoyt Yeatman': 1, 'Kevin Macdonald': 1, 'Michael Spierig': 1, 'Peter Spierig': 1, 'Paul McGuigan': 1, 'Troy Duffy': 1, 'Paul Weitz': 1, 'David Bowers': 1, 'Daniel Barber': 1, 'Michael J. Bassett': 1, 'Pierre Coffin': 1, 'Chris Renaud': 1, 'Phillip Noyce': 1, 'Florian Henckel von Donnersmarck': 1, 'Mike Newell': 1, 'Ethan Maniquis': 1, 'Albert Hughes': 1, 'Allen Hughes': 1, 'Adam McKay': 1, 'Miguel Sapochnik': 1, 'Andy Tennant': 1, 'Jonathan Lynn': 1, 'Jimmy Hayward': 1, 'Robert Luketic': 1, 'John Luessenhop': 1, 'Kevin Smith': 1, 'Brian Levant': 1, 'Stuart Beattie': 1, 'Tim Burton': 1, 'Brian Helgeland': 1, 'John A. Davis': 1, 'Chris Nahon': 1, 'Hironobu Sakaguchi': 1, 'Motonori Sakakibara': 1, 'Rod Lurie': 1, 'John Herzfeld': 1, 'Ivan Reitman': 1, 'Demian Lichtenstein': 1, 'John Carpenter': 1, 'Bobby Farrelly': 1, 'Peter Farrelly': 1, 'Barry Levinson': 1, 'Luke Greenfield': 1, 'Les Mayfield': 1, 'Henry Selick': 1, 'Rob Pritts': 1, 'Ernest R. Dickerson': 1, 'DJ Pooh': 1, 'Eric Brevig': 1, 'Jeff Wadlow': 1, 'Lexi Alexander': 1, 'Peter Segal': 1, 'Rob Minkoff': 1, 'Jon Avnet': 1, 'Dennis Dugan': 1, 'Howard McCain': 1, 'Oxide Pang Chun': 1, 'Danny Pang': 1, 'Craig Mazin': 1, 'Simon Hunter': 1, 'Nicolas Winding Refn': 1, 'Rupert Wyatt': 1, 'Patrick Lussier': 1, 'Gary McKendry': 1, 'Scott Stewart': 1, 'Tarsem Singh': 1, 'Chris Gorak': 1, 'Michel Gondry': 1, 'Oliver Parker': 1, 'Joe Cornish': 1, 'Joe Wright': 1, 'John Michael McDonagh': 1, 'Alister Grierson': 1, 'Sean McNamara': 1, 'John Whitesell': 1, 'Benny Chan': 1, 'Corey Yuen Kwai': 1, 'Stuart Baird': 1, 'Kurt Wimmer': 1, 'Jay Roach': 1, 'Jim Gillespie': 1, 'Chuck Russell': 1, 'Betty Thomas': 1, 'Randall Wallace': 1, 'Ron Shelton': 1, 'Simon Wells': 1, 'Roger Michell': 1, 'Michael Apted': 1, 'Tom Dey': 1, 'Joel Schumacher': 1, 'Luis Mandoki': 1, 'Tamra Davis': 1, 'Ron Underwood': 1, 'Kevin Bray': 1, 'Malcolm D. Lee': 1, 'MÃ¥ns MÃ¥rlind': 1, 'BjÃ¶rn Stein': 1, 'Tony Gilroy': 1, 'Mark Andrews': 1, 'Steve Purcell': 1, 'Brenda Chapman': 1, 'Boaz Yakin': 1, 'Andrew Stanton': 1, 'Rian Johnson': 1, 'Mike McCoy': 1, 'Stephen St. Leger': 1, 'James Mather': 1, 'Daniel Espinosa': 1, 'Asger Leth': 1, 'Mabrouk El Mechri': 1, 'Dan Bradley': 1, 'Julie Anne Robinson': 1, 'Anthony Hemingway': 1, 'David Koepp': 1, 'David Barrett': 1, 'Stephen Norrington': 1, 'Jan de Bont': 1, 'Jon Amiel': 1, 'John McTiernan': 1, 'Shane Black': 1, 'Tommy Wirkola': 1, 'Carl Rinsch': 1, 'Gary Fleder': 1, 'Mikael HÃ¥fstrÃ¶m': 1, 'Taylor Hackford': 1, 'Steven Knight': 1, 'Spike Lee': 1, 'Dito Montiel': 1, 'Fyodor Bondarchuk': 1, 'Karyn Kusama': 1, 'Adam Shankman': 1, 'John Stockwell': 1, 'Sydney Pollack': 1, 'Terry Gilliam': 1, 'Jay Chandrasekhar': 1, 'Richard Shepard': 1, 'John Dahl': 1, 'Bruce Hunt': 1, 'Alfonso CuarÃ³n': 1, 'Stefen Fangmeier': 1, 'Bruce Beresford': 1, 'Wolfgang Petersen': 1, 'Jeff Tremaine': 1, 'John Bonito': 1, 'Geoffrey Sax': 1, 'Tony Bill': 1, 'Wayne Kramer': 1, 'Sanjay Gadhvi': 1, 'Phil Joanou': 1, 'Alexander Witt': 1, 'Bibo Bergeron': 1, 'Vicky Jenson': 1, 'Rob Letterman': 1, 'Kerry Conran': 1, 'Oliver Stone': 1, 'Jonathan Hensleigh': 1, 'Pitof': 1, 'Philip Kaufman': 1, 'Trey Parker': 1, 'Steven Brill': 1, 'Frank Coraci': 1, 'Paul Abascal': 1, 'Joseph Kahn': 1, 'David Mamet': 1, 'Jay Russell': 1, 'Philip G. Atwell': 1, 'Michael Davis': 1, 'Xavier Gens': 1, 'Rob Zombie': 1, 'Jason Eisener': 1, 'Dave Meyers': 1, 'Russell Mulcahy': 1, 'Andrew Dominik': 1, 'Doug Lefler': 1, 'David Leland': 1, 'Feng Xiaogang': 1, 'Ben Garant': 1, 'Joel Coen': 1, 'Donald Petrie': 1, 'Paul Verhoeven': 1, 'Roger Spottiswoode': 1, 'Antony Hoffman': 1, 'Stephen T. Kay': 1, 'Don Bluth': 1, 'Gary Goldman': 1, 'Christian Duguay': 1, 'Douglas Aarniokoski': 1, 'Gina Prince-Bythewood': 1, 'Brian Robbins': 1, 'Des McAnuff': 1, \"Vincent D'Onofrio\": 1, 'Nick Robinson': 1, 'Hugh Keays-Byrne': 1, 'Josh Helman': 1, 'Ansel Elgort': 1, 'Mark Hamill': 1, 'Carrie Fisher': 1, 'Adam Driver': 1, 'Daisy Ridley': 1, 'Will Poulter': 1, 'Paul Anderson': 1, 'Emilia Clarke': 1, 'Jon Hamm': 1, 'Phyllis Smith': 1, 'Richard Kind': 1, 'Lewis Black': 1, 'Eddie Redmayne': 1, 'Douglas Booth': 1, 'Peter Dinklage': 1, 'Lily James': 1, 'Richard Madden': 1, 'Holliday Grainger': 1, 'Britt Robertson': 1, 'Raffey Cassidy': 1, 'Thomas Robinson': 1, 'Archie Panjabi': 1, 'Rebecca Ferguson': 1, 'Seth MacFarlane': 1, 'Jessica Barth': 1, 'Taron Egerton': 1, \"Dylan O'Brien\": 1, 'Kaya Scodelario': 1, 'Thomas Brodie-Sangster': 1, 'Aidan Gillen': 1, 'Dylan Minnette': 1, 'Odeya Rush': 1, 'Jillian Bell': 1, 'Raymond Ochoa': 1, 'Jack Bright': 1, 'Maleah Nipay-Padilla': 1, 'Rose Leslie': 1, 'Ã“lafur Darri Ã“lafsson': 1, 'Luca Calvani': 1, 'Jim Parsons': 1, 'Matt Jones': 1, 'John Hawkes': 1, 'Luke Bracey': 1, 'Olivia Munn': 1, 'Leehom Wang': 1, 'Tang Wei': 1, 'Holt McCallany': 1, 'Michael B. Jordan': 1, 'Melissa McCarthy': 1, 'Miranda Hart': 1, 'Cillian Murphy': 1, 'Levi Miller': 1, 'Noah Schnapp': 1, 'Bill Melendez': 1, 'Venus Schultheis': 1, 'Hadley Belle Miller': 1, 'Madisyn Shipman': 1, 'Jim Beaver': 1, 'Tom Kenny': 1, 'Bill Fagerbakke': 1, 'Rodger Bumpass': 1, 'Clancy Brown': 1, 'Carolyn Lawrence': 1, 'Dave Bautista': 1, 'Scott Adsit': 1, 'Ryan Potter': 1, 'Daniel Henney': 1, 'T.J. Miller': 1, 'Carrie Coon': 1, 'Tyler Perry': 1, 'Jon Bernthal': 1, 'Rebel Wilson': 1, 'Alan Ritchson': 1, 'Noel Fisher': 1, 'Jack Reynor': 1, 'Judy Greer': 1, 'David Harbour': 1, 'Haley Bennett': 1, 'Dane DeHaan': 1, 'Jonas Armstrong': 1, 'Kyle Gallner': 1, 'Cole Konis': 1, 'Ben Reed': 1, 'Ben Mendelsohn': 1, 'Aaron Taylor-Johnson': 1, 'Elizabeth Olsen': 1, 'Juliette Binoche': 1, 'Juno Temple': 1, 'Isobelle Molloy': 1, 'Craig Berry': 1, 'Alison Brie': 1, 'David Burrows': 1, 'Sarah Gadon': 1, 'Art Parkinson': 1, 'Charles Dance': 1, 'Christopher Knights': 1, 'Conrad Vernon': 1, 'Sullivan Stapleton': 1, 'Callan Mulvey': 1, 'Peter Capaldi': 1, 'Imelda Staunton': 1, 'Aksel Hennie': 1, 'Nonso Anozie': 1, 'Gemma Chan': 1, 'Rebecca Hall': 1, 'Ty Burrell': 1, 'Max Charles': 1, 'Ariel Winter': 1, 'Ellie Kemper': 1, \"Jack O'Connell\": 1, 'Takamasa Ishihara': 1, 'Finn Wittrock': 1, 'Jessica Lucas': 1, 'QuvenzhanÃ© Wallis': 1, 'Imogen Poots': 1, 'Isaac Hempstead Wright': 1, 'Dee Bradley Baker': 1, 'Steve Blum': 1, 'Jessica Brown Findlay': 1, 'Liam McIntyre': 1, 'Gaia Weiss': 1, 'Scott Adkins': 1, 'Roxanne McKee': 1, 'Tom Felton': 1, 'Ed Asner': 1, 'Jordan Nagai': 1, 'Bob Peterson': 1, 'Leonard Nimoy': 1, 'Moon Bloodgood': 1, 'Ayelet Zurer': 1, 'Pierfrancesco Favino': 1, 'Anika Noni Rose': 1, 'Bruno Campos': 1, 'Michael-Leon Wooley': 1, 'Jennifer Cody': 1, 'Mr. T': 1, 'Teri Hatcher': 1, 'Jennifer Saunders': 1, 'Dawn French': 1, 'Steve Valentine': 1, 'Daryl Sabara': 1, 'Sage Ryan': 1, 'Victor Gojcaj': 1, 'Matthew Gray Gubler': 1, 'Rainn Wilson': 1, 'Lake Bell': 1, 'Anna Friel': 1, 'Danny McBride': 1, 'Matt Lauer': 1, 'Tony Kgoroge': 1, 'Patrick Mofokeng': 1, 'Matt Stern': 1, 'Max Minghella': 1, 'Ashraf Barhom': 1, 'Michael Lonsdale': 1, 'John Ortiz': 1, 'Tom Wilkinson': 1, 'Lisa Roberts Gillan': 1, 'Nelsan Ellis': 1, 'Michael Bunin': 1, 'Natalia Klimas': 1, 'Ellen Page': 1, 'Crispin Glover': 1, 'Eric Roberts': 1, 'Randy Couture': 1, 'Craig Ferguson': 1, 'America Ferrera': 1, 'Bruce Boxleitner': 1, 'Yaya DaCosta': 1, 'Donna Murphy': 1, 'M.C. Gainey': 1, 'Daniel Olbrychski': 1, 'Gary Sweet': 1, 'Arthur Angel': 1, 'Steven Berkoff': 1, 'Steve Toussaint': 1, 'Kieran Culkin': 1, 'Jake Abel': 1, 'Ethan Suplee': 1, 'Kevin Corrigan': 1, 'Maya Rudolph': 1, 'Jennifer Beals': 1, 'Taraji P. Henson': 1, 'Jimmi Simpson': 1, 'Noah Ringer': 1, 'Jackson Rathbone': 1, 'Dev Patel': 1, 'Shaun Toub': 1, \"Chris O'Dowd\": 1, 'Juliette Lewis': 1, \"Catherine O'Hara\": 1, 'Alex Borstein': 1, 'Emily Barclay': 1, 'Deborra-Lee Furness': 1, 'Cher': 1, 'Christina Aguilera': 1, 'Jemaine Clement': 1, 'Christina Applegate': 1, 'Pascale Hutton': 1, 'Kathryn Hahn': 1, 'Frank Langella': 1, 'Tom Cavanagh': 1, 'Christine Taylor': 1, 'Shawn Roberts': 1, \"Denis O'Hare\": 1, 'Wentworth Miller': 1, 'Ali Larter': 1, 'Kim Coates': 1, 'Kacey Barnfield': 1, 'Robbie Coltrane': 1, 'Mary Gibbs': 1, 'James Coburn': 1, 'Haley Joel Osment': 1, 'Sam Robards': 1, 'Jake Thomas': 1, 'Vincent Cassel': 1, 'Oded Fehr': 1, 'Corey Burton': 1, 'Claudia Christian': 1, 'John Mahoney': 1, 'Iain Glen': 1, 'Joseph Fiennes': 1, 'Bob Hoskins': 1, 'Shannyn Sossamon': 1, 'Laura Fraser': 1, 'Roselyn SÃ¡nchez': 1, 'Jeff Goldblum': 1, 'Alexander Pollock': 1, 'Miriam Margolyes': 1, 'Catherine McCormack': 1, 'Stephen Dillane': 1, 'Larry Bryggman': 1, 'Ming-Na Wen': 1, 'Kristen Wilson': 1, 'Raven-SymonÃ©': 1, 'Kyla Pratt': 1, 'Steve Burton': 1, 'Monica Potter': 1, 'Michael Wincott': 1, 'Mika Boorem': 1, 'Jason Bonham': 1, 'Kelsey Grammer': 1, 'Avery Brooks': 1, 'David Duchovny': 1, 'Orlando Jones': 1, 'Ted Levine': 1, 'Mario Van Peebles': 1, 'Ron Silver': 1, 'Marlon Brando': 1, 'Paul Soles': 1, 'Laurie Holden': 1, 'Hal Holbrook': 1, 'Christian Slater': 1, 'Kevin Pollak': 1, 'Brandy Norwood': 1, 'Troy Garity': 1, 'William Converse-Roberts': 1, 'Kip Pardue': 1, 'Robert Sean Leonard': 1, 'Estella Warren': 1, 'Ray Liotta': 1, \"Matt O'Leary\": 1, 'Bridget Fonda': 1, 'Chris Kattan': 1, 'Sam Neill': 1, 'Trevor Morgan': 1, 'Alessandro Nivola': 1, 'Ben Burtt': 1, 'Elissa Knight': 1, 'Fred Willard': 1, 'John Ratzenberger': 1, 'Leslie Bibb': 1, 'Karen Allen': 1, 'Mathieu Amalric': 1, 'Giancarlo Giannini': 1, 'Tilda Swinton': 1, 'Julia Ormond': 1, 'Luke Ford': 1, 'Tim Blake Nelson': 1, 'Cedric the Entertainer': 1, 'Doug Jones': 1, 'Rachel Bilson': 1, 'Carice van Houten': 1, 'Steven Strait': 1, 'Camilla Belle': 1, 'Nathanael Baring': 1, 'Mo Zinal': 1, 'Jae Head': 1, 'Sarah Jane Morris': 1, 'Miley Cyrus': 1, 'Susie Essman': 1, 'Mark Walton': 1, 'Bryan Brown': 1, 'Rhys Darby': 1, 'Sasha Alexander': 1, 'Fionnula Flanagan': 1, 'Kathleen Turner': 1, 'Simon McBurney': 1, 'Eliza Bennett': 1, 'Alexis Dziena': 1, 'Lucy Lawless': 1, 'Michelle Yeoh': 1, 'MÃ©lanie Thierry': 1, 'Jeffrey Donovan': 1, 'Geoff Pierson': 1, 'Sarah Bolger': 1, 'Andrew McCarthy': 1, 'Dwight Yoakam': 1, 'Romany Malco': 1, 'Meagan Good': 1, 'Emile Hirsch': 1, 'Scott Porter': 1, 'Carol Burnett': 1, 'Michael Angarano': 1, 'Collin Chou': 1, '50 Cent': 1, 'Donnie Wahlberg': 1, 'Emmanuelle Chriqui': 1, 'Nick Swardson': 1, 'Lainie Kazan': 1, 'Harry Treadaway': 1, 'Betty Buckley': 1, 'Tracey Ullman': 1, 'Scott Caan': 1, 'Hayley Atwell': 1, 'Alan Rickman': 1, 'Maggie Smith': 1, 'Kevin McNally': 1, 'Karin Konoval': 1, 'Freida Pinto': 1, 'Anil Kapoor': 1, 'Griffin Gluck': 1, 'Dakota Goyo': 1, 'Kevin Durand': 1, 'Jared Harris': 1, 'Kelly Reilly': 1, 'Blake Lively': 1, 'Nick Frost': 1, 'Jena Malone': 1, 'Will.i.am': 1, 'Walton Goggins': 1, 'Benedict Cumberbatch': 1, 'Jeremy Irvine': 1, 'Violante Placido': 1, 'Fergus Riordan': 1, 'Johnny Whitworth': 1, 'Matthew Macfadyen': 1, 'Will Rothhaar': 1, 'Cory Hardrict': 1, 'Jim Parrack': 1, 'Eugenio Derbez': 1, 'Tim Meadows': 1, 'Jay Chou': 1, 'Edward Furlong': 1, 'Rose McGowan': 1, 'Rachel Nichols': 1, 'Alan Alda': 1, 'Pink': 1, 'E.G. Daily': 1, 'Dan Fogler': 1, 'Breckin Meyer': 1, 'Elisabeth Harnois': 1, 'Jenny Slate': 1, 'Andy Buckley': 1, 'Jayma Mays': 1, 'Alan Cumming': 1, 'Kaley Cuoco': 1, 'Winona Ryder': 1, 'Cliff Robertson': 1, 'Rip Torn': 1, 'Lara Flynn Boyle': 1, 'Johnny Knoxville': 1, 'Samantha Morton': 1, 'Lois Smith': 1, 'Chris Sanders': 1, 'Daveigh Chase': 1, 'Tia Carrere': 1, 'Kevin McDonald': 1, 'Asia Argento': 1, 'Michael Roof': 1, 'Roscoe Lee Browne': 1, 'Martin Short': 1, 'Pierce Brosnan': 1, 'Rick Yune': 1, 'Toby Stephens': 1, 'Natasha Richardson': 1, 'Tyler Posey': 1, 'Daniel Day-Lewis': 1, 'Geena Davis': 1, 'Jonathan Lipnicki': 1, 'Anna Hoelck': 1, 'Alicia Witt': 1, 'Dana Ivey': 1, 'Robert Klein': 1, 'Rory Culkin': 1, 'Cherry Jones': 1, 'Francesca Neri': 1, 'Jonathan Frakes': 1, 'LeVar Burton': 1, 'Brent Spiner': 1, 'Gates McFadden': 1, 'Tyler Hoechlin': 1, 'Jennifer Jason Leigh': 1, 'Michael York': 1, 'Mindy Sterling': 1, 'Elizabeth Mitchell': 1, 'David Krumholtz': 1, 'Eric Lloyd': 1, 'Freddie Prinze Jr.': 1, 'Sarah Michelle Gellar': 1, 'Matthew Lillard': 1, 'Linda Cardellini': 1, 'Rowan Atkinson': 1, 'Daniel Studi': 1, 'Chopper Bernet': 1, 'Jeff LeBeau': 1, 'Courtney B. Vance': 1, 'Tom Berenger': 1, 'Charles S. Dutton': 1, 'Kelly Hu': 1, 'Steven Brand': 1, 'Bernard Hill': 1, 'Keith Dallas': 1, 'Madeleine Stowe': 1, 'Chris Klein': 1, 'Samantha Mumba': 1, 'Phyllida Law': 1, 'Laura Kirk': 1, 'Noah Emmerich': 1, 'Joss Ackland': 1, 'John Shrapnel': 1, 'Alexander Siddig': 1, 'Rachael Harris': 1, 'Zaid Farid': 1, 'Marcel IureÈ™': 1, 'Joe Pantoliano': 1, 'Jay Mohr': 1, 'Joe Morton': 1, 'Ron Rifkin': 1, 'Susanna Thompson': 1, 'Stephen Rea': 1, 'India Eisley': 1, 'Stacy Keach': 1, 'Rhys Ifans': 1, 'Kelly Macdonald': 1, 'Sam Claflin': 1, 'Suraj Sharma': 1, 'Ayush Tandon': 1, 'Gautam Belur': 1, 'Adil Hussain': 1, 'Chris Wedge': 1, 'Werner Herzog': 1, 'Sarah Silverman': 1, 'Jack McBrayer': 1, 'Jamie Elman': 1, 'Michael Stuhlbarg': 1, 'James Kidnie': 1, 'Heidi Hawkins': 1, 'Zac Efron': 1, 'Danny DeVito': 1, 'Taylor Swift': 1, 'Rob Riggle': 1, 'Alexander SkarsgÃ¥rd': 1, 'Brooklyn Decker': 1, 'Martin Klebba': 1, 'Elizabeth Reaser': 1, 'Sayed Badreya': 1, 'Aasif Mandvi': 1, 'Diego Boneta': 1, 'Jeremy Piven': 1, 'Brian Blessed': 1, 'Eva Amurri Martino': 1, 'Leighton Meester': 1, 'Vera Farmiga': 1, 'Adrianne Palicki': 1, 'Kodi Smit-McPhee': 1, 'Tucker Albrizzi': 1, 'Jodelle Ferland': 1, 'Daniela Ruah': 1, 'Aryana Engineer': 1, 'Mary Alice': 1, 'Helmut Bakaitis': 1, 'Albert Brooks': 1, 'Ellen DeGeneres': 1, 'Alexander Gould': 1, 'Brad Garrett': 1, 'Philip Baker Hall': 1, 'Catherine Bell': 1, 'Lisa Ann Walter': 1, 'Nick Stahl': 1, 'Kristanna Loken': 1, 'Albert Finney': 1, 'Jessica Lange': 1, 'Jason Biggs': 1, 'Alyson Hannigan': 1, 'Eddie Kaye Thomas': 1, 'Thomas Ian Nicholas': 1, 'Sean Connery': 1, 'Peta Wilson': 1, 'Shane West': 1, 'Stuart Townsend': 1, 'Fausto Callegarini': 1, 'Jeremy Sumpter': 1, 'Rachel Hurd-Wood': 1, 'Richard Briers': 1, 'Olivia Williams': 1, 'William Atherton': 1, 'Chad Lindberg': 1, \"James D'Arcy\": 1, 'Billy Boyd': 1, 'Joseph Morgan': 1, 'January Jones': 1, 'Hilary Swank': 1, 'LL Cool J': 1, 'Josh Charles': 1, 'Eamonn Walker': 1, 'Johnny Messner': 1, 'Uma Thurman': 1, 'Diane Keaton': 1, 'Nathaniel Parker': 1, 'Marsha Thomason': 1, 'Jennifer Tilly': 1, 'Eileen Atkins': 1, 'Jenna Elfman': 1, 'Heather Locklear': 1, 'Ludacris': 1, 'Regina King': 1, 'Kevin Nealon': 1, 'David McCullough': 1, 'Thomas Jane': 1, 'Damian Lewis': 1, 'Edward Herrmann': 1, 'Benicio del Toro': 1, 'Leslie Stefanson': 1, 'John Finn': 1, 'Kevin Conway': 1, 'C. Thomas Howell': 1, 'Wen Yann Shih': 1, 'Seymour Cassel': 1, 'Idina Menzel': 1, 'Jonathan Groff': 1, 'Santino Fontana': 1, 'Orto Ignatiussen': 1, 'Phaldut Sharma': 1, 'Christopher Eccleston': 1, 'Margot Robbie': 1, 'Kyle Chandler': 1, 'Rob Reiner': 1, 'Charlie Day': 1, 'Burn Gorman': 1, 'Andrea Riseborough': 1, 'Nikolaj Coster-Waldau': 1, 'Michael Shannon': 1, 'Miranda Cosgrove': 1, 'Sebastian Koch': 1, 'Yuliya Snigir': 1, 'Joel Murray': 1, 'Mireille Enos': 1, 'Abigail Hargrove': 1, 'Sterling Jerins': 1, 'Hailee Steinfeld': 1, 'Fred Ward': 1, 'Douglas Smith': 1, 'Leven Rambin': 1, 'Kou Shibasaki': 1, 'Min Tanaka': 1, 'Jamie Campbell Bower': 1, 'Kevin Zegers': 1, 'Jemima West': 1, 'Robert Sheehan': 1, 'Jason Sudeikis': 1, 'Aziz Ansari': 1, 'Chris Mulkey': 1, 'Yul Vazquez': 1, 'Joey King': 1, 'Eleanor Tomlinson': 1, 'Sarah Shahi': 1, 'ZoÃ« Kravitz': 1, 'Glenn Morshower': 1, 'Ryan Gosling': 1, 'Will Forte': 1, 'Barry Pepper': 1, 'Charlie Rowe': 1, 'Angourie Rice': 1, 'Katy Perry': 1, 'Tao Okamoto': 1, 'Rila Fukushima': 1, 'Svetlana Khodchenkova': 1, 'George Takei': 1, 'Colm Meaney': 1, 'Hugh Dancy': 1, 'Tiya Sircar': 1, 'Julia Winter': 1, 'Max Baker': 1, 'Caroline Chikezie': 1, 'Faith Ford': 1, 'Chris Potter': 1, 'Brittany Snow': 1, 'Justin Chatwin': 1, 'Youki Kudoh': 1, 'Tsai Chin': 1, 'Suzuka Ohgo': 1, 'Garry Marshall': 1, 'Don Knotts': 1, 'Julie Ann Emery': 1, 'Naomi Watts': 1, 'Colin Hanks': 1, 'Mel Brooks': 1, 'Paula Abdul': 1, 'Ice Cube': 1, 'Scott Speedman': 1, 'Xzibit': 1, 'Adam Brody': 1, 'AdriÃ¡n Alonso Barona': 1, 'Julio Oscar Mechoso': 1, 'Nick Chinlund': 1, 'Scott MacDonald': 1, 'Dina Spybey-Waters': 1, 'Ben Shenkman': 1, 'Craig Bierko': 1, 'Jason Schwartzman': 1, 'Ben Daniels': 1, 'Deobia Oparei': 1, 'Eugene Levy': 1, 'Tom Welling': 1, 'Jonathan Bennett': 1, 'Jesper Christensen': 1, 'Mackenzie Crook': 1, 'Roger Ashton-Griffiths': 1, 'Hanns Zischler': 1, 'Angie Harmon': 1, 'Kate Beahan': 1, 'Michael Irby': 1, 'Burt Reynolds': 1, 'Michael Irvin': 1, 'Nelly': 1, 'Heike Makatsch': 1, 'Armin Rohde': 1, 'Wilfried Hochholdinger': 1, 'Lennie James': 1, 'Robert Mammone': 1, 'James Carpinello': 1, 'Mark Consuelos': 1, 'Cheech Marin': 1, 'Audrey Tautou': 1, 'Eli Wallach': 1, 'Jake Cherry': 1, 'Dick Van Dyke': 1, 'David Hasselhoff': 1, 'Henry Winkler': 1, 'Garry Shandling': 1, 'Wanda Sykes': 1, 'Kagiso Kuypers': 1, 'Lombardo Boyar': 1, 'Carlos Alazraqui': 1, 'Jeffrey Garcia': 1, 'Janeane Garofalo': 1, 'Jim Caviezel': 1, 'Adam Goldberg': 1, 'Ed Speleers': 1, 'Robert Carlyle': 1, 'Ryan Newman': 1, 'Mitchel Musso': 1, 'Sam Lerner': 1, 'Spencer Locke': 1, 'Tammy Blanchard': 1, 'Luis Tosar': 1, 'Ryan Phillippe': 1, 'Jesse Bradford': 1, 'John Benjamin Hickey': 1, 'John Slattery': 1, 'Patricia Clarkson': 1, 'David Morrissey': 1, 'Stan Collymore': 1, 'Gary Cole': 1, 'Austin Crim': 1, 'Jake Johnson': 1, 'Brian Howe': 1, 'James Karen': 1, 'Richard Dreyfuss': 1, 'Shawn Wayans': 1, 'John Witherspoon': 1, 'Jay Hernandez': 1, 'Debra Messing': 1, 'Jennifer Hudson': 1, 'Sela Ward': 1, 'Melissa Sagemiller': 1, 'Omari Hardwick': 1, 'Brian Tee': 1, 'Nathalie Kelley': 1, 'Shad Moss': 1, 'Mos Def': 1, 'David Morse': 1, 'Jenna Stern': 1, 'David Zayas': 1, 'Eva Longoria': 1, 'Martin Donovan': 1, 'Ritchie Coster': 1, 'Scott Hazell': 1, 'Mac McDonald': 1, 'Philip Winchester': 1, 'Todd Boyce': 1, 'Bob Balaban': 1, 'Sarita Choudhury': 1, 'Cindy Cheung': 1, 'Craig T. Nelson': 1, 'Holly Hunter': 1, 'Dominique Louis': 1, 'Bridget Moynahan': 1, 'Alan Tudyk': 1, 'Rob Schneider': 1, 'Sean Astin': 1, 'Lusia Strus': 1, 'Shuler Hensley': 1, 'Rupert Evans': 1, 'Michael Jeter': 1, 'Eddie Deezen': 1, 'Chris Coppola': 1, 'Nona Gaye': 1, 'Dash Mihok': 1, 'Jay O. Sanders': 1, 'Wesley Snipes': 1, 'Bai Ling': 1, 'Sanaa Lathan': 1, 'Raoul Bova': 1, 'Colin Salmon': 1, 'Tommy Flanagan': 1, 'Jared Leto': 1, 'Rosemary Harris': 1, 'Marc Anthony': 1, 'Frances Conroy': 1, 'Christina Cox': 1, 'Shelbie Bruce': 1, 'Jason Patric': 1, 'Emilio EchevarrÃ\\xada': 1, 'Kimberly Elise': 1, 'Omar Epps': 1, 'RenÃ©e Taylor': 1, 'G. W. Bailey': 1, 'Zuleikha Robinson': 1, 'Omar Sharif': 1, 'Adam Alexi-Malle': 1, 'Louise Lombard': 1, 'Snoop Dogg': 1, 'Fred Williamson': 1, 'Minnie Driver': 1, 'CÃ©cile De France': 1, 'Robert Fyfe': 1, 'MaÃ¯ Anh Le': 1, 'Oanh Nguyen': 1, \"Jaran 'See Tao' Petcharoen\": 1, 'StÃ©phanie Lagarde': 1, 'Morris Chestnut': 1, 'Ian Holm': 1, 'Lou Romano': 1, 'Brian Dennehy': 1, 'Peter Sohn': 1, 'Charlie Tahan': 1, 'Salli Richardson-Whitfield': 1, 'Willow Smith': 1, 'Thomas Haden Church': 1, 'Topher Grace': 1, 'Charlie Cox': 1, 'Vincent Regan': 1, 'Wes Bentley': 1, 'Kate Butler': 1, 'Lymari Nadal': 1, 'Cameron Richardson': 1, 'Jerry Seinfeld': 1, 'Laurie Metcalf': 1, 'Nicole Sullivan': 1, 'Harland Williams': 1, 'Patrick Dempsey': 1, 'Rachel Covey': 1, 'Anthony Edwards': 1, 'Dan Castellaneta': 1, 'Julie Kavner': 1, 'Nancy Cartwright': 1, 'Yeardley Smith': 1, 'Om Puri': 1, 'Dakota Blue Richards': 1, 'Dallas Roberts': 1, 'Peter Fonda': 1, 'Lena Olin': 1, 'Charlie Hewson': 1, 'Jimmy Bennett': 1, 'Tory Kittles': 1, 'Jerry Stiller': 1, 'Rob Corddry': 1, 'Jon Heder': 1, 'James Woods': 1, 'ZoÃ« Bell': 1, 'Vanessa Ferlito': 1, 'Sydney Tamiia Poitier': 1, 'Rachael Taylor': 1, 'Jeremy Northam': 1, 'Jackson Bond': 1, 'Richard Portnow': 1, 'Gary Dourdan': 1, 'Terry Crews': 1, 'Clifton Powell': 1, 'Lester Speight': 1, 'Aishwarya Rai Bachchan': 1, 'Peter Mullan': 1, 'Oliver Reed': 1, 'Taylor Momsen': 1, 'Christine Baranski': 1, 'Bill Irwin': 1, 'Paul Sanchez': 1, 'Lari White': 1, 'Dougray Scott': 1, 'Eartha Kitt': 1, 'Wendie Malick': 1, 'Lauren Holly': 1, 'Mark Feuerstein': 1, 'D. B. Sweeney': 1, 'Alfre Woodard': 1, 'Ossie Davis': 1, 'Max Casella': 1, 'Hayden Panettiere': 1, 'John Forsythe': 1, 'Joely Richardson': 1, 'Jon Bon Jovi': 1, 'David Keith': 1, 'Will Patton': 1, 'Blythe Danner': 1, 'Rosie Perez': 1, 'Armand Assante': 1, 'Edward James Olmos': 1, 'Elisabeth Shue': 1, 'Kim Dickens': 1, 'Rhona Mitra': 1, 'Joel Gretsch': 1, 'Saul Rubinek': 1, 'Michael Rapaport': 1, 'Tony Goldwyn': 1, 'Sarah Wynter': 1, 'Spencer Treat Clark': 1, 'John Patrick Amedori': 1, 'Patrick Fugit': 1, 'Simon Baker': 1, \"Jerry O'Connell\": 1, 'Rachael Leigh Cook': 1, 'Johnny Strong': 1, 'Stephen Baldwin': 1, 'Kristen Johnston': 1, 'Joan Collins': 1, 'Steven Culp': 1, 'Shawn Driscoll': 1, 'Bill Pullman': 1, \"Chris O'Donnell\": 1, 'Robin Tunney': 1, 'Diana Scarwid': 1, 'James Remar': 1, 'Alice Evans': 1, 'Tim McInnerny': 1, 'GÃ©rard Depardieu': 1, 'Janet Jackson': 1, 'Larry Miller': 1, 'John Ales': 1, 'Richard Gant': 1, 'James Spader': 1, 'Robert Forster': 1, 'Lou Diamond Phillips': 1, 'Lily Tomlin': 1, 'Rene Russo': 1, 'Jason Alexander': 1, 'Piper Perabo': 1})\n"
     ]
    }
   ],
   "source": [
    "# Код:\n",
    "count = 0\n",
    "films = pd.DataFrame(data, columns = ['director', 'month', 'winter'])\n",
    "\n",
    "for string in data.production_companies:\n",
    "    f_name = data.original_title.iloc[count] \n",
    "    symbols = len(f_name) - f_name.count(\" \")\n",
    "    upd_string = string.split(sep = \"|\")\n",
    "    for company in upd_string:\n",
    "        c[company] += symbols\n",
    "    count += 1\n",
    "    \n",
    "print(c)"
   ]
  },
  {
   "cell_type": "markdown",
   "metadata": {
    "colab_type": "text",
    "id": "9G0hbvR7VqAK"
   },
   "source": [
    "# 25. Описание фильмов какой студии в среднем самые длинные по количеству слов?"
   ]
  },
  {
   "cell_type": "code",
   "execution_count": 55,
   "metadata": {
    "colab": {},
    "colab_type": "code",
    "id": "Ge2GsLNxVqAK"
   },
   "outputs": [],
   "source": [
    "answers['25'] = '1. Universal Pictures'\n",
    "# -"
   ]
  },
  {
   "cell_type": "code",
   "execution_count": 56,
   "metadata": {},
   "outputs": [
    {
     "name": "stdout",
     "output_type": "stream",
     "text": [
      "Counter({'Universal Pictures': 11547, 'Warner Bros.': 11484, 'Paramount Pictures': 8592, 'Columbia Pictures': 8243, 'Twentieth Century Fox Film Corporation': 6782, 'Relativity Media': 6445, 'New Line Cinema': 6020, 'Walt Disney Pictures': 5924, 'DreamWorks SKG': 4333, 'Village Roadshow Pictures': 4283, 'Touchstone Pictures': 3417, 'Metro-Goldwyn-Mayer (MGM)': 3212, 'Columbia Pictures Corporation': 3208, 'Regency Enterprises': 2776, 'Miramax Films': 2643, 'Dune Entertainment': 2618, 'Summit Entertainment': 2578, 'Legendary Pictures': 2333, 'Lionsgate': 2288, 'Screen Gems': 2262, 'Dimension Films': 2206, 'Spyglass Entertainment': 2181, 'Fox 2000 Pictures': 2169, 'Revolution Studios': 2028, 'DreamWorks Animation': 1912, 'Original Film': 1865, 'Imagine Entertainment': 1743, 'Scott Rudin Productions': 1698, 'The Weinstein Company': 1697, 'Working Title Films': 1661, 'Fox Searchlight Pictures': 1653, 'Amblin Entertainment': 1637, 'Lakeshore Entertainment': 1596, 'Happy Madison Productions': 1578, 'New Regency Pictures': 1520, 'StudioCanal': 1505, 'Focus Features': 1501, 'Jerry Bruckheimer Films': 1416, 'Drama': 1378, 'Studio Babelsberg': 1374, 'NPV Entertainment': 1352, 'Lions Gate Films': 1350, 'Millennium Films': 1347, 'Scott Free Productions': 1342, 'Canal+': 1326, 'Epsilon Motion Pictures': 1323, 'Comedy': 1252, 'Silver Pictures': 1210, 'Nickelodeon Movies': 1195, 'TriStar Pictures': 1155, 'EuropaCorp': 1101, 'Thriller': 1087, 'Apatow Productions': 1080, 'Ingenious Film Partners': 1080, 'Action': 1077, 'Davis Entertainment': 1076, 'UK Film Council': 1070, 'Vertigo Entertainment': 1049, 'Dune Entertainment III': 1044, 'Walden Media': 1042, 'Heyday Films': 1014, '1492 Pictures': 1009, '20th Century Fox': 1003, 'Escape Artists': 989, 'Saturn Films': 986, 'Castle Rock Entertainment': 968, 'BBC Films': 955, 'Pixar Animation Studios': 931, 'Franchise Pictures': 892, 'Participant Media': 891, 'Davis-Films': 891, 'Media Rights Capital': 866, 'Alcon Entertainment': 862, 'Imagenation Abu Dhabi FZ': 862, 'Nu Image Films': 858, 'Marvel Studios': 843, 'TSG Entertainment': 831, 'GK Films': 820, 'Di Bonaventura Pictures': 812, 'Moving Picture Company (MPC)': 791, 'Morgan Creek Productions': 779, 'Bad Robot': 777, 'Sony Pictures Animation': 774, 'Marvel Enterprises': 774, 'Adventure': 773, 'Overbrook Entertainment': 772, 'Skydance Productions': 766, 'Warner Bros. Pictures': 766, 'WingNut Films': 763, 'Dark Castle Entertainment': 763, 'Sunswept Entertainment': 735, 'Marc Platt Productions': 734, 'MTV Films': 728, 'Malpaso Productions': 724, 'Scion Films': 718, 'Dentsu': 712, 'Endgame Entertainment': 709, 'TF1 Films Production': 709, 'Walt Disney Animation Studios': 708, 'Constantin Film Produktion': 708, 'Film4': 701, 'CBS Films': 685, 'Roth Films': 684, 'Studio Canal': 682, 'Platinum Dunes': 681, 'Cruise/Wagner Productions': 678, 'Tim Burton Productions': 674, 'DNA Films': 664, 'Plan B Entertainment': 662, '21 Laps Entertainment': 659, 'Impact Pictures': 657, 'Robert Simonds Productions': 641, 'Ingenious Media': 640, 'Mosaic Media Group': 636, 'Rogue Pictures': 635, 'Anonymous Content': 633, 'De Line Pictures': 618, 'RatPac-Dune Entertainment': 616, 'Color Force': 612, 'Ghost House Pictures': 611, 'FilmDistrict': 610, 'Sony Pictures Entertainment (SPE)': 605, 'Radar Pictures': 604, 'Twentieth Century Fox Animation': 601, 'Goldcrest Pictures': 589, 'Atmosphere Entertainment MM': 584, 'Intermedia Films': 580, 'Crime': 576, 'LStar Capital': 573, 'Thunder Road Pictures': 571, 'Paramount Vantage': 569, 'Temple Hill Entertainment': 567, 'BenderSpink': 565, 'Appian Way': 564, 'Open Road Films': 560, 'Stillking Films': 558, 'Romance': 553, 'Blue Sky Studios': 551, 'Emmett/Furla Films': 551, 'Cheyenne Enterprises': 547, 'Mandate Pictures': 544, 'United Artists': 538, 'Sidney Kimmel Entertainment': 531, \"Mel's Cite du Cinema\": 530, 'DC Comics': 521, 'Blumhouse Productions': 513, 'Double Feature Films': 511, 'Reliance Entertainment': 510, 'Phoenix Pictures': 503, 'Blinding Edge Pictures': 501, 'Virtual Studios': 498, 'Exclusive Media Group': 496, 'Family': 495, 'Spring Creek Productions': 493, 'Stuber Productions': 487, 'Gold Circle Films': 486, 'Gary Sanchez Productions': 479, 'Syncopy': 476, 'Walt Disney': 467, 'Centropolis Entertainment': 464, 'Mandalay Pictures': 463, 'QED International': 458, 'Tribeca Productions': 456, 'Contrafilm': 456, 'Science Fiction': 455, 'Michael De Luca Productions': 455, 'Section Eight': 454, 'Lucasfilm': 451, 'Kennedy/Marshall Company, The': 442, 'Walt Disney Feature Animation': 442, \"Donners' Company\": 439, 'Initial Entertainment Group (IEG)': 436, 'Tapestry Films': 435, 'Fantasy': 434, 'Current Entertainment': 430, 'River Road Entertainment': 427, 'Canal Plus': 427, 'Alphaville Films': 426, 'Weed Road Pictures': 425, 'Lawrence Gordon Productions': 424, 'Josephson Entertainment': 424, 'Marvel Entertainment': 423, 'Infinitum Nihil': 418, '2929 Productions': 418, 'Rainforest Films': 416, 'Edward R. Pressman Film': 404, 'China Film Co-Production Corporation': 404, 'Strike Entertainment': 403, 'Gran Via Productions': 402, 'Isle of Man Film': 400, 'DreamWorks Pictures': 396, 'Chernin Entertainment': 395, 'Aardman Animations': 395, 'Mid Atlantic Films': 394, 'Wonderland Sound and Vision': 394, 'Offspring Entertainment': 392, 'The Zanuck Company': 385, 'Maverick Films': 383, 'Valhalla Motion Pictures': 383, 'Conundrum Entertainment': 380, 'Broken Road Productions': 380, 'Forward Pass': 379, 'Lin Pictures': 379, 'Reliance BIG Entertainment': 375, 'Hasbro': 374, 'Firm Films': 371, 'ImageMovers': 369, 'Mutual Film Company': 368, 'Wild West Picture Show Productions': 366, 'Zide-Perry Productions': 366, 'Troublemaker Studios': 365, 'Atlas Entertainment': 365, 'Parkes/MacDonald Productions': 364, 'Walt Disney Studios Motion Pictures': 363, 'Karz Entertainment': 363, 'Pacific Data Images (PDI)': 362, 'Twisted Pictures': 360, 'Anarchos Productions': 356, 'Province of British Columbia Production Services Tax Credit': 352, 'Laura Ziskin Productions': 351, 'Mike Zoss Productions': 349, 'Hemisphere Media Capital': 349, 'Cube Vision': 347, 'Cross Creek Pictures': 347, 'One Race Productions': 347, 'Dark Horse Entertainment': 346, 'Big Screen Productions': 346, 'FilmNation Entertainment': 345, 'Neal Street Productions': 344, 'Vinyl Films': 341, 'Warner Bros. Animation': 341, 'Universal Studios': 339, 'IM Global': 339, 'Major Studio Partners': 339, 'Red Hour Films': 338, 'Paramount Animation': 333, 'Nick Wechsler Productions': 332, 'France 2 CinÃ©ma': 331, 'American Zoetrope': 331, 'Red Wagon Entertainment': 330, 'Flower Films (II)': 330, 'Intrepid Pictures': 330, 'Horror': 329, 'GreeneStreet Films': 329, 'Annapurna Pictures': 327, 'Alliance Films': 326, 'Revolution Sun Studios': 325, 'Laika Entertainment': 325, 'Jersey Films': 324, 'Miramax': 322, 'Icon Productions': 320, 'DC Entertainment': 318, 'NeoReel': 317, 'Bluegrass Films': 316, 'Illumination Entertainment': 314, 'Jerry Weintraub Productions': 314, 'Nimar Studios': 313, 'Rising Star': 313, 'Gerber Pictures': 312, 'WWE Studios': 310, 'Dino De Laurentiis Company': 308, 'Stage 6 Films': 307, 'Wayans Bros. Entertainment': 307, 'Indian Paintbrush': 305, 'Don Carmody Productions': 305, 'The Mark Gordon Company': 305, 'Sony Pictures': 301, 'Bedford Falls Productions': 301, 'Fox Atomic': 300, 'Everyman Pictures': 300, 'Amen Ra Films': 300, 'Mad Chance': 297, 'Insurge Pictures': 297, 'Mystery': 296, 'TC Productions': 296, 'Bel Air Entertainment': 296, 'Marv Films': 295, 'Treehouse Pictures': 295, 'Lawrence Bender Productions': 294, 'Playtone': 294, 'Newmarket Capital Group': 292, 'Parkes+MacDonald Image Nation': 290, 'Goldmann Pictures': 288, 'Wintergreen Productions': 286, 'Virgin Produced': 286, 'Green Hat Films': 284, 'Mandeville Films': 283, 'WV Films III': 283, 'David Foster Productions': 282, '3 Arts Entertainment': 281, 'Team Todd': 281, 'Three Strange Angels': 279, 'Rat Entertainment': 277, 'Industry Entertainment': 275, 'Bazelevs Production': 273, 'Craven-Maddalena Films': 273, 'Mace Neufeld Productions': 272, 'Toho-Towa': 271, 'Grive Productions': 270, 'Beacon Pictures': 270, 'Zanuck Company, The': 269, 'Animation': 268, 'Hyde Park Films': 268, 'Radical Studios': 266, 'PathÃ©': 264, 'Icon Entertainment International': 262, 'Cruel and Unusual Films': 261, 'Casey Silver Productions': 261, 'Imprint Entertainment': 259, 'David Ladd Films': 257, 'Smokehouse Pictures': 252, 'The Kennedy/Marshall Company': 250, 'Waverly Films': 249, 'Wildwood Enterprises': 249, 'Avery Pix': 249, 'Bad Hat Harry Productions': 248, 'Grosvenor Park Media Ltd.': 248, 'Global Entertainment Productions GmbH & Company Medien KG': 248, 'Baltimore Spring Creek Productions': 247, 'Affirm Films': 246, 'Gunn Films': 244, 'Junction Entertainment': 244, 'FilmEngine': 241, 'Dylan Sellers Productions': 241, 'Hypnotic': 240, 'The Safran Company': 238, 'Instituto de la CinematografÃ\\xada y de las Artes Audiovisuales (ICAA)': 237, 'Grindstone Entertainment Group': 237, 'LivePlanet': 237, 'Paradox Entertainment': 237, 'Konrad Pictures': 236, 'Canadian Film or Video Production Tax Credit (CPTC)': 235, 'Internationale Filmproduktion Blackbird Dritte': 235, 'PathÃ© Renn Productions': 235, 'Clinica Estetico': 234, '1984 Private Defense Contractors': 234, 'Focus Films': 234, 'Laurence Mark Productions': 234, 'Canal+ EspaÃ±a': 233, 'Montecito Picture Company, The': 230, 'Out of the Blue... Entertainment': 230, 'Sony Pictures Entertainment': 228, 'This Is That Productions': 228, 'Misher Films': 227, 'Brad Grey Pictures': 226, 'Bedford Falls Company, The': 226, 'MacDonald/Parkes Productions': 226, 'Before the Door Pictures': 224, 'Washington Square Films': 224, 'Depth of Field': 224, 'Closest to the Hole Productions': 223, 'Eon Productions': 222, 'Brownstone Productions': 221, 'Brightlight Pictures': 221, 'Disruption Entertainment': 220, 'Fortis Films': 220, 'Dune Films': 219, 'Buckaroo Entertainment': 219, 'CinÃ©CinÃ©ma': 219, 'Bona Fide Productions': 218, 'Kerner Entertainment Company': 217, 'Indochina Productions': 217, 'Shady Acres Entertainment': 217, 'CinÃ©+': 216, 'Moonlighting Films': 216, 'Starz Animation': 215, 'Evolution Entertainment': 215, 'Jinks/Cohen Company': 214, 'Flynn Picture Company': 213, 'Mad Hatter Entertainment': 213, 'Voltage Pictures': 212, 'Lonely Film Productions GmbH & Co. KG.': 212, 'Cloud Eight Films': 210, 'The Montecito Picture Company': 209, 'Silver Reel': 209, 'A Band Apart': 208, 'Mikona Productions GmbH & Co. KG': 207, 'Big Kid Pictures': 206, 'Film Rites': 205, 'Splendid Pictures': 205, 'International Production Company': 204, 'M6 Films': 203, 'Tollin/Robbins Productions': 203, 'Quinta Communications': 203, 'Signature Pictures': 203, 'Cheetah Vision': 203, 'Radiant Productions': 202, 'Wigram Productions': 201, 'Linson Entertainment': 201, 'Metropolitan Filmexport': 201, 'Beacon Communications': 201, 'Good Universe': 199, 'Screen Australia': 199, 'Media Magik Entertainment': 199, 'Warner Independent Pictures (WIP)': 199, 'Section Eight Productions': 199, 'Alpha Core': 197, 'Sony Pictures Releasing': 197, 'Prescience': 197, 'Ghoulardi Film Company': 196, 'Red Granite Pictures': 195, 'Midnight Picture Show': 195, 'Fox Searchlight': 195, 'Genre Films': 194, 'Art Linson Productions': 194, 'The Ladd Company': 194, 'Groundswell Productions': 193, 'Type A Films': 193, 'Shangri-La Entertainment': 191, 'Kanzaman': 189, 'Cinerenta Medienbeteiligungs KG': 188, 'DiNovi Pictures': 188, 'VIP Medienfonds 4': 187, 'Artisan Entertainment': 187, 'Ram Bergman Productions': 186, 'Cold Spring Pictures': 186, 'Hollywood Pictures': 186, 'Protozoa Pictures': 185, 'DisneyToon Studios': 185, 'Prana Animation Studios': 185, 'Prime Focus': 184, 'LionsGate': 184, 'Bold Films': 182, 'Hammer Film Productions': 182, 'Bazmark Films': 182, 'Crave Films': 181, 'IMF Internationale Medien und Film GmbH & Co. 3. Produktions KG': 180, 'Peninsula Films': 179, 'Emperor Motion Pictures': 179, 'Marty Katz Productions': 179, 'Room 9 Entertainment': 179, 'Tree Line Films': 178, 'Ascendant Pictures': 178, 'Good Machine': 178, 'Heineken Branded Entertainment': 176, 'X-Filme Creative Pool': 175, 'Colombia Pictures': 175, 'Mirage Enterprises': 175, 'Weinstein Company, The': 175, 'Gracie Films': 174, 'The Saul Zaentz Company': 174, 'Telecinco Cinema': 173, 'Omnilab Media': 173, 'Ambience Entertainment': 173, 'MHF Zweite Academy Film': 173, 'World 2000 Entertainment': 170, 'Two Ton Films': 170, 'Gotham Group': 169, 'DMG Entertainment': 169, 'RatPac Entertainment': 169, 'DreamWorks': 169, '26 Films': 168, 'Gold/Miller Productions': 168, '98 MPH Productions': 168, 'Katalyst Films': 167, 'Odyssey Entertainment': 167, 'Art Pictures Studio': 167, 'Prospero Pictures': 166, 'Brookwell-McNamara Entertainment': 166, 'Universal': 166, 'Winkler Films': 165, 'Lions Gate Family Entertainment': 165, 'Crest Animation Productions': 165, 'Zephyr Films': 165, 'Odd Lot Entertainment': 164, 'Room 101': 164, 'Solana Films': 164, 'Kalima Productions GmbH & Co. KG': 164, 'Alberta Film Entertainment': 164, 'Imaginary Forces': 163, 'Kennedy Miller Productions': 162, 'Bagdasarian Productions': 162, 'View Askew Productions': 162, 'Chris Lee Productions': 162, 'Marvel Knights': 162, 'Envision Entertainment Corporation': 162, 'One Race Films': 161, 'Chockstone Pictures': 161, 'Starbucks Entertainment': 160, 'Cinema Gypsy Productions': 160, 'Energy Entertainment': 159, 'Kurtzman/Orci': 159, 'Mayhem Pictures': 158, 'Wild Bunch': 158, 'Magical Elves Productions': 158, 'Scooter Braun Films': 158, 'Ludlum Entertainment': 158, 'British Broadcasting Corporation (BBC)': 157, 'K/O Paper Products': 157, 'Hollywood Gang Productions': 156, 'Fake Empire': 156, 'KMP Film Invest': 156, 'Participant Productions': 156, 'Olive Bridge Entertainment': 155, 'Fuji Television Network': 154, 'Anton Capital Entertainment (ACE)': 154, 'Blue Star Pictures': 154, 'H2F Entertainment': 152, 'No Trace Camping': 151, 'Sommers Company, The': 151, '40 Acres & A Mule Filmworks': 151, 'Sketch Films': 150, 'Samuel Goldwyn Films': 149, 'Boll Kino Beteiligungs GmbH & Co. KG': 149, 'Herold Productions': 149, 'Second Mate Productions': 149, 'International Traders': 148, 'Buena Vista': 148, 'Celador Films': 148, 'PathÃ© Pictures International': 148, 'Harpo Films': 147, 'Spectacle Entertainment Group': 147, 'Mark Canton Productions': 147, 'Clifford Werber Productions': 147, 'Biscayne Pictures': 146, 'Mediastream Vierte Film GmbH & Co. Vermarktungs KG': 146, 'K. JAM Media': 145, 'Evergreen Media Group': 145, 'Twins Financing': 145, 'Wayfare Entertainment': 145, 'Sanctum Australia': 145, 'Great Wight Productions/ Osford Films': 145, 'Scope Pictures': 144, 'C-2 Pictures': 144, 'Prana Studios': 143, 'China Film Group Corporation (CFGC)': 143, 'Storyline Entertainment': 143, 'Sudden Storm Productions': 143, 'Ecosse Films': 142, 'Allied Filmmakers': 142, 'Hal Lieberman Company': 142, 'Andell Entertainment': 141, 'Rogue Marble': 141, 'Baldwin Entertainment Group': 141, 'David Brown Productions': 140, 'Sean S. Cunningham Films': 140, 'Crystal Lake Entertainment': 140, 'Hyde Park Entertainment': 140, 'Film i VÃ¤st': 140, 'Disney Double Dare You (DDY)': 140, 'Iron Horse Entertainment (II)': 139, 'Animal Logic': 139, 'Hammerhead Productions': 139, 'Ten Thirteen Productions': 139, 'Crying Box Productions': 139, 'Worldview Entertainment': 138, 'Australian Film Finance Corporation (AFFC)': 138, 'Rogue': 138, 'Stars Road Entertainment': 138, 'Propaganda Films': 138, 'Kaplan/Perrone Entertainment': 137, 'ApolloMedia Distribution': 137, 'Silent Hill DCP Inc.': 136, 'Konami': 136, 'British Film Institute (BFI)': 135, 'Next Entertainment': 135, 'Bandito Brothers': 134, 'American Empirical Pictures': 134, 'DJ Films': 134, 'Lion Rock Productions': 134, 'Mediastream Dritte Film GmbH & Co. Beteiligungs KG': 134, 'Storefront Pictures': 134, 'Monarch Pictures': 133, 'Birnbaum / Barber Productions': 133, 'Figment Films': 133, 'Irish Film Board': 132, 'Aldamisa Entertainment': 132, 'Home Box Office (HBO)': 132, 'Oceana Media Finance': 132, 'Pantheon Entertainment Corporation': 132, 'Innocence Productions': 132, 'Omega Entertainment': 132, 'O.N.C. Entertainment': 132, 'Trigger Street Productions': 131, 'Onyx Films': 131, 'Aegis Film Fund': 131, 'Kopelson Entertainment': 131, 'Babelsberg Film': 131, 'Capitol Films': 131, 'Broken Chair Flickz': 130, 'Origin Pictures': 129, 'HanWay Films': 129, 'USA Films': 129, 'New Legacy': 129, 'Super Cool ManChu': 129, 'John Wells Productions': 129, '87Eleven': 128, 'Ex3 Productions': 128, 'Wessler Entertainment': 128, 'Eyetronics': 128, 'David Dobkin Productions': 127, 'TPS Star': 127, 'Nouvelles Ã‰ditions de Films (NEF)': 127, 'Sony Pictures Home Entertainment': 126, 'Red Om Films': 126, 'Outlaw Sinema': 125, 'CinemaNX': 125, 'Intellectual Properties Worldwide': 125, 'Free State Pictures': 124, 'Nickelodeon Animation Studios': 124, 'United Plankton Pictures': 124, 'Practical Pictures': 124, 'Parallel Zide': 124, 'Madacy Entertainment': 124, 'Langley Park Production': 124, 'Senator International': 124, 'HBO Films': 123, 'Double Nickel Entertainment': 123, 'Cappa Productions': 123, 'A24': 122, 'Panay Films': 122, 'New Upstairs Productions': 122, 'Upstairs Canada Productions': 122, 'FidÃ©litÃ© Films': 122, 'Hwy61': 122, 'platinum studios': 122, 'Varsity Pictures': 122, 'Bird and a Bear Entertainment': 122, 'Hallway Pictures': 122, 'Catch Productions': 122, 'Davis-Panzer Productions': 122, 'Seed Productions': 121, 'Alta Loma Entertainment': 121, 'Mars Media Beteiligungs': 121, 'WideAwake': 120, 'Hopscotch Features': 120, 'Scottish Screen': 120, 'WV Films II': 120, 'Ardustry Entertainment': 120, 'Total Entertainment': 120, 'TSBD Canada Productions': 120, 'Zohar International': 120, 'Material': 120, 'Yucaipa Films': 120, 'Albert S. Ruddy Productions': 119, 'Key Creatives': 119, 'China Film Group': 119, 'Castel Film Romania': 119, 'Sony': 119, 'Columbia TriStar': 118, 'Lions Gate': 118, 'Esperanto Filmoj': 118, 'Playtone Production': 118, 'Liberty Films UK': 117, 'Lunar Industries': 117, 'Xingu Films': 117, 'Limelight Fund': 117, 'Darlow Smithson Productions': 117, 'Gaylord Films': 117, 'Andalasia Productions': 117, 'Right Coast Productions': 117, \"It's a Laugh Productions\": 116, 'Millar Gough Ink': 116, 'Big Talk Productions': 116, 'Kumar Mobiliengesellschaft mbH & Co. Projekt Nr. 1 KG': 116, 'The Javelina Film Company': 116, 'Red Wagon Productions': 115, 'Vendome Pictures': 115, 'History': 114, 'Four By Two Productions': 114, 'Tiger Aspect Productions': 114, 'Lip Sync Post': 113, 'Trademark Films': 113, 'Yash Raj Films': 113, 'Point Grey Pictures': 112, 'Imagi Animation Studios': 112, 'Nu Image Entertainment GmbH': 112, 'Tall Trees Productions': 112, 'Tig Productions': 112, 'Music': 111, 'Farewell Productions': 111, 'Mark Johnson Productions': 111, 'Curmudgeon Films': 111, 'Madhouse Entertainment': 111, 'Rice Films': 111, 'Blue Tulip Productions': 111, 'Front Street Productions': 111, 'Spitfire Pictures': 111, 'Vidhu Vinod Chopra Productions': 110, 'Overture Films': 110, 'Ozumi Films': 110, 'Propeler': 110, 'Random Films': 110, 'BIM Distribuzione': 110, 'Living Films': 109, 'Cannell Studios': 109, 'Road Rebel': 109, 'Stone Productions': 109, 'Mimran Schur Pictures': 109, 'Bay Films': 109, 'Bob Yari Productions': 109, '3Foot7': 108, 'Darko Entertainment': 108, 'Penn Station Entertainment': 108, 'Unique Features': 108, 'Mr. Smith Productions': 108, 'Babieka': 107, 'Qwerty Films': 107, 'TF1 Droits Audiovisuels': 107, 'Skylark Productions': 107, 'Sony Pictures Classics': 107, 'Vanguard Films': 107, 'Jon Shestack Productions': 107, 'Huayi Brothers Media': 106, 'Paul Schiff Productions': 106, 'Storm King Productions': 106, 'Animationwerks': 106, 'Why Not Productions': 105, 'Y Productions': 105, 'Mediana Productions Filmgesellschaft': 105, 'Rhythm and Hues': 104, 'Picnic Basket': 104, 'Little Bird': 104, 'Lucky Red': 104, 'New Redemption Pictures': 104, 'Studio 37': 104, 'Jouror Productions': 104, 'LBI Entertainment': 104, 'Leverage Management': 104, 'Kumar Mobiliengesellschaft mbH & Co. Projekt Nr. 2 KG': 104, 'Avi Arad Productions': 103, 'Matt Tolmach Productions': 103, 'Screen Gems, Inc.': 103, 'Trackform Film Productions': 103, 'Film 44': 103, 'Talisman Productions': 103, 'FilmWorks': 103, 'War': 102, 'Automatik Entertainment': 102, 'Jim Henson Company, The': 102, 'Internationale Filmproduktion Stella-del-Sud Second': 102, 'Lauren Levine Productions Inc.': 102, 'AR Films': 101, 'Demarest Films': 101, 'Tooley Productions': 101, 'Guy Walks into a Bar Productions': 101, 'Management 360': 101, 'Ascension Pictures': 101, 'ARD Degeto Film': 101, 'Cloud Atlas Productions': 101, 'What to Expect Productions': 101, 'Yari Film Group': 101, 'Iron Film': 101, 'Chartoff-Winkler Productions': 100, 'Castelao Producciones': 100, 'Dutch Oven': 100, 'New Regency Productions': 100, 'Fox International Productions': 99, 'Polsky Films': 99, 'Pioneer Pictures': 99, 'Fierce Entertainment': 99, 'After Dark Films': 99, 'Perdido Productions': 99, 'Helena Productions': 99, 'Natural Nylon Entertainment': 99, 'Riff Raff Film Productions': 99, 'Filmauro': 99, 'Blue Flower Productions': 99, 'Maguire Entertainment': 98, 'Deep River Productions': 98, 'Disney Enterprises': 98, 'Michael Lobell Productions': 98, 'Fastnet Films': 98, 'Caramel Film': 98, 'Kernos Filmproduktionsgesellschaft & Company': 98, 'Route One Films': 97, 'Mad Chance Productions': 97, 'Overnight Films': 97, 'LD Entertainment': 97, 'Pariah Entertainment Group': 97, 'Pinewood Studios': 97, 'Metrol Technology': 97, 'Paco Cinematografica': 97, 'Regione Lazio': 97, 'Business Location Sudtirol Alto Adige': 97, 'Friuli Venezia Giulia Film Commission': 97, 'Wildgaze Films': 96, 'Arc Productions': 96, 'Sikelia Productions': 96, 'Bedlam Productions': 96, 'See-Saw Films': 96, 'Reiner-Greisman': 96, 'Radical Media': 95, 'Palomar Pictures (II)': 95, 'Darkwoods Productions': 95, 'Toledo Productions': 95, 'Walt Disney Television Animation': 95, 'Walt Disney Animation Australia': 95, 'Summertime Entertainment': 95, 'Michael London Productions': 95, 'Samuelson Productions': 95, 'Electric City Entertainment': 94, 'Likely Story': 94, 'SGF Entertainment': 94, 'Ott Medien': 94, 'Troika Pictures': 94, 'Emergency Films': 94, 'Apotheosis Media Group': 94, 'Compulsion Inc.': 94, 'Splendid Medien AG': 94, 'Edmonds Entertainment Group (EEG)': 93, 'Epidemic Pictures': 93, 'Village Roadshow Pictures Asia': 93, 'Bac Films': 93, 'Cott Productions': 93, 'Furia de Titanes II, A.I.E.': 93, 'Pathe': 93, 'Hard Eight Pictures': 93, 'Shawn Danielle Productions Ltd.': 93, 'Lynda Obst Productions': 92, 'Pendle Mountain Productions': 92, 'France 3 CinÃ©ma': 92, 'Storefront Films': 92, 'Rena Film': 92, 'Peach Trees': 92, 'TÃ©lÃ©film Canada': 92, 'NuAmerica Entertainment': 92, 'Millenium Films': 92, 'MBC Beteiligungs Filmproduktion': 92, 'Lightstorm Entertainment': 91, 'Pacific Film and Television Commission': 91, 'Wild Ocean Films': 91, '2S Films': 91, 'Angry Films': 91, 'Mythology Entertainment (II)': 91, 'Alloy Entertainment': 91, 'Ozla Pictures': 90, 'Dreamworks Pictures': 90, 'Octagon Films': 90, 'Birnbaum/Barber': 90, 'Chako Film Company': 90, 'Fireworks Pictures': 90, 'Bungalow Productions': 90, 'Silver Lion Films': 90, 'Vision View Entertainment': 90, 'Grosvenor Park Productions': 90, 'Cattleya': 90, 'UW3 Film Productions': 89, 'Huayi Brothers': 89, 'Tim Burton Animation Company': 89, 'Jackie Chan Films Limited': 89, 'All Knight Productions': 89, 'Monolith Pictures (III)': 89, 'Mark Gordon Productions': 89, 'Cool Music': 89, 'Harry Potter Publishing Rights': 89, 'Capella International': 89, 'KC Medien AG': 89, 'DefyNite Films': 88, 'MJW Films': 88, 'D8': 88, 'Max Films Productions': 88, 'Morag Loves Company': 88, 'Merlin Films': 88, 'Blueprint Pictures': 88, 'Yellow Bird': 88, 'Runteldat Entertainment': 88, 'TF1 Films Productions': 88, 'WV Films LLC': 88, 'Really Useful Films': 88, 'Sociedad General de Cine S.A.': 88, 'Fine Line Features': 88, 'Zentropa Entertainments': 88, 'Danmarks Radio (DR)': 88, 'SVT Drama': 88, 'Arte': 88, 'Constantin Film International': 87, 'Electronic Arts': 87, 'Matador Pictures': 87, 'Magic Light Pictures': 87, 'Cinema Four': 87, 'Milagro Films': 87, 'DoRo Fiction Film': 87, 'Apaches Entertainment': 87, 'Konami Corporation Ltd.': 87, 'Greenestreet Films': 87, 'Witness Protection Films': 87, 'Failure to Launch Productions': 87, 'Raygun Productions': 87, 'Rosey Film Productions LLC': 87, 'The Canton Company': 87, 'Pictures in Paradise': 86, 'Province of British Columbia Film Incentive BC': 86, 'Clubdeal': 86, 'Universal Pictures International (UPI)': 85, 'Blue-Tongue Films': 85, 'Viz Media': 85, 'Obelisk Productions': 85, 'Seven West Media': 85, 'Fear of God Films': 85, 'Seven Group Holdings': 85, 'Great Scott Productions Pty. Ltd.': 85, 'Kasdan Pictures': 85, 'Mindfire Entertainment': 85, 'Riddick Canada Productions': 85, 'Gone North Productions': 85, 'I Remember Productions': 85, 'Nine Yards Productions': 85, 'Rational Packaging Company': 85, 'FilmColony': 84, 'Riche-Ludwig Productions': 84, 'Museum Canada Productions': 84, 'Case 39 Productions': 84, 'Moonrise': 84, 'Akil Production Company': 84, 'Harlequin Pictures': 84, 'Intertainment AG': 84, 'Blackout Productions Inc.': 84, 'Chime Films': 84, 'Nancy Tenenbaum Films': 84, 'Triple Threat Talent': 84, 'Element Pictures': 83, 'MavroCine Pictures GmbH & Co. KG': 83, 'Serendipity Point Films': 83, 'Liveplanet': 83, 'Square USA': 83, 'First Foot Films': 83, 'Cliffjack Motion Pictures': 83, 'Jaffilms Inc.': 83, 'Serenade Films': 83, 'Also Known As Pictures': 83, 'Reaper Productions': 83, 'Motion Picture THETA Produktionsgesellschaft': 83, 'BrownHouse Productions': 82, 'Bottom of the Ninth Productions': 82, 'Golden Mean': 82, 'Universal CGI': 82, 'Tyler Perry Company, The': 82, 'Boxing Cat Films': 81, 'Curse Productions': 81, 'Pistolero Productions LLC': 81, 'Cohen/Pearl Productions': 81, 'UTV Motion Pictures': 81, 'Kemp Company': 81, 'Apparatus Productions': 81, 'Silver Bullet Productions (II)': 81, 'Blind Wink Productions': 81, 'MFPV Film': 81, 'Primal Foe Productions': 81, 'Echo Films': 80, 'Virtual Films': 80, 'Earth Canada Productions': 80, 'Myriad Pictures': 80, 'Jeepers Creepers II': 80, 'Muse Productions': 80, 'Nu Image Entertainment': 80, 'Egmond Film & Television': 80, 'Zehnte Babelsberg': 79, 'Visiona Romantica': 79, 'Dentsu Inc.': 79, 'Runteam Ltd.': 79, 'R.P. Productions': 79, 'EFTI': 79, 'Cinerenta-Cinebeta': 79, 'VCL Communications': 79, 'Native Pictures Productions': 79, 'Starz Media': 79, 'Studiopolis': 79, 'Vanguard Animation': 79, 'Bekmambetov Projects Ltd.': 79, 'Studio Babelsberg Motion Pictures': 79, 'Camelot Pictures': 79, 'Illusion Entertainment': 79, 'VIP 3 Medienfonds': 79, 'Motion Picture KAPPA Produktionsgesellschaft': 79, 'Hart-Sharp Entertainment': 79, 'Persistent Entertainment': 79, 'Constantin Film Ltd.': 79, 'Eclipse Catering': 79, 'Nine Yards Two Productions': 79, 'IFP Westcoast Erste': 78, 'Smokewood Entertainment Group': 78, 'Tezuka Production Company Ltd.': 78, 'Dee Gee Entertainment': 78, 'Prufrock Pictures': 78, 'Dark Lot Entertainment': 78, 'Mediastream Dritte Film': 78, 'Zadan / Meron Productions': 78, 'Munich Film Partners & Company (MFP) MI2 Productions': 78, 'Red Hour Productions': 77, 'Universal Cartoon Studios': 77, '2 Entertain': 77, 'K/O Camera Toys': 77, 'Earthship Productions': 77, 'MMCB Film Produktion 2004': 77, 'HorrorFlix': 77, '360 Pictures': 77, 'Cranium Films': 77, 'Cruella Productions': 77, 'Initial Entertainment Group': 76, \"Eric's Boy\": 76, 'Moving Pictures': 76, 'Gratitude International': 76, 'Tripod Entertainment': 76, 'Shutt/Jones Productions': 76, 'Big Beach Productions': 76, 'Telegraph Films': 76, \"Bull's Eye Entertainment\": 76, 'Atlantic Television': 76, 'Sweetpea Entertainment': 76, 'AZL Productions KG': 75, 'MFP Munich Film Partners': 75, 'Phase 1 Productions': 75, 'David Kirschner Productions': 75, 'Top Rope': 75, 'Playtone Productions': 75, 'Alberto Grimaldi Productions': 75, 'Hofflund/Polone': 75, 'Indelible Productions': 75, 'Catch 23 Entertainment': 75, 'Stephen J. Cannell Productions': 75, 'Mr. Mudd Production': 75, 'Horsepower Films': 75, 'Core Productions': 75, 'Cineblue Internationale Filmproduktionsgesellschaft': 75, 'City Productions': 75, 'Motion Picture BETA Produktionsgesellschaft': 75, 'Bourne Again': 75, 'Block 2 Pictures': 75, 'Jet Tone Production': 75, 'Lou Yi Inc.': 75, 'Wind Dancer Productions': 75, 'Clipsal Films': 75, 'Inferno Distribution': 74, 'Infinity Features Entertainment': 74, 'Kanbar Entertainment': 74, 'Blue Yonder Films': 74, 'Sunset Gower Studios': 74, 'Havana Nights LLC': 74, 'Visual Arts Entertainment': 74, 'JLT Productions': 74, 'The Cantillon Company': 73, 'The Shuman Company': 73, 'Toho Company': 73, 'TOKYOPOP': 73, '4M': 73, 'True Grit Productions': 73, 'Zero Gravity Management': 73, 'Pierce/Williams Entertainment': 73, 'P of A Productions Limited': 73, 'Sparkler Entertainment': 73, 'Feigco Entertainment': 72, 'Kontsept Film Company': 72, 'Bernard Gayle Productions': 72, 'Camp / Thompson Pictures': 72, 'Internationale Filmproduktion Richter': 72, 'Littlestar': 72, 'Rifkin-Eberts': 72, 'Sea Breeze Productions Inc.': 72, 'Artists Production Group (APG)': 72, 'Patalex IV Productions Limited': 72, 'Kumar Mobiliengesellschaft mbH & Co. Projekt Nr. 3 KG': 72, 'Orange Studios': 71, 'CityMation': 71, 'On Entertainment': 71, 'Zippcast Films': 71, 'Hasbro Studios': 71, 'Allspark Pictures': 71, 'The Halcyon Company': 71, 'Whamaphram Productions': 71, '20th Century Fox Home Entertainment': 71, 'Midnight Sun Pictures': 71, 'Furry Vengeance Productions': 71, 'Black and Blu Entertainment': 71, 'Finestkind': 71, 'New Wave Entertainment': 71, 'Terra Firma Films': 71, 'Superfinger Entertainment': 71, 'Rickshaw Productions': 71, 'Ventanarosa Productions': 71, 'Handprint Entertainment': 71, 'Burg/Koules Productions': 71, 'Envision Entertainment': 71, 'Post No Bills Films': 71, 'Pandemonium Productions': 71, 'Ikiru Films': 71, 'Film Colony': 71, 'Fountainbridge Films': 71, 'Finding Forrester Productions': 71, 'Killer Films': 70, 'Screen Queensland': 70, 'Blacklab Entertainment': 70, 'Wolfhound Pictures': 70, 'Pure Flix Entertainment': 70, 'Internationale Filmproduktion': 70, 'Marvel Entertainment, LLC': 70, 'Milk & Honey': 70, 'Loumolo & Co.': 70, 'Cobalt Media Group': 70, 'Hammer & Tongs': 70, 'Alan Greenspan Productions': 70, 'Eketahuna LLC': 70, 'Daybreak': 70, 'Crystal Sky Pictures': 70, 'Mill Film': 70, 'Fuzzy Door Productions': 69, 'Berlanti Productions': 69, 'Saga Film': 69, 'Chambara Pictures': 69, 'Baumgarten Management and Productions (BMP)': 69, 'Doom Buggy Productions': 69, 'Callahan Filmworks': 69, 'Cowboy Films': 69, 'Loofah Productions': 69, 'Aldrich Group': 69, 'Optional Pictures': 69, 'KirchMedia': 69, 'Technical Black': 69, 'Run It Up Productions Inc.': 69, 'Entertainment One': 68, 'Chris Brinker Productions': 68, 'Parabolic Pictures': 68, 'Stanley Kubrick Productions': 68, 'Imhotep Productions': 68, 'Scared Productions': 68, 'Scanbox': 68, 'Milkshake Films': 68, 'Hargitay & Hargitay Pictures in Motion': 68, 'Yuma': 68, 'Versus Pictures': 67, 'Ruby Films': 67, 'Watermark': 67, 'Cruise-Wagner Productions': 67, 'Europa Corp': 67, 'Universal Pictures Corporation': 67, 'The Jacobson Company': 67, 'Image Entertainment': 67, 'British Film Council': 67, 'Headline Pictures': 67, 'Pit Bull Productions': 67, 'Don Simpson/Jerry Bruckheimer Films': 67, 'FidÃ©litÃ© Productions': 67, 'Gimages': 67, 'FOZ': 67, 'Starlite Films': 67, 'Blackfriars Bridge Films': 67, 'Jessie Nelson Productions': 67, 'Vast Entertainment': 66, 'Block / Hanson': 66, 'Polish Film Institute': 66, 'Exclusive Films': 66, 'Monolith Films': 66, 'On the Road': 66, 'Achte Babelsberg Film': 66, 'Gambit Pictures': 66, 'Electric Shepherd Productions': 66, 'Reel FX Creative Studios': 66, 'Romero-Grunwald Productions': 66, 'Exception Wild Bunch': 66, 'Friday Night Lights LLC': 66, 'MDBF Filmgesellschaft mbH & Company KG': 66, 'Interscope Communications': 66, 'Polygram Filmed Entertainment': 66, 'SNL Studios': 66, 'Pacific Standard': 65, 'Sahara Productions': 65, 'Silvatar Media': 65, 'Medienproduktion Prometheus Filmgesellschaft': 65, 'Portobello Studios': 65, 'Farah Films & Management': 65, 'Oops Doughnuts Productions': 65, 'Frontier Pictures': 65, 'The Collective Studios': 65, 'Producers Circle': 65, 'Captivate Entertainment': 65, 'Stoller Global Solutions': 65, 'Reforma Films': 65, 'Media Asia Films': 65, 'Fellah Pictures': 65, 'ETIC Films': 65, 'Fat Free': 65, 'Pretty Pictures': 64, 'ArtÃ©mis Productions': 64, 'Le Tax Shelter du Gouvernement FÃ©dÃ©ral de Belgique': 64, 'Taxshelter. be': 64, 'Crescendo Productions': 64, \"Butcher's Run Films\": 64, 'Informant Media': 64, 'Prospect Park': 64, 'Millbrook Farm Productions': 64, 'Simon Fields Productions': 64, 'MVL Incredible Productions': 64, 'TF 1 Film Productions': 64, 'Infogrames Entertainment': 64, 'Black & White Productions': 64, 'Rocket Pictures': 64, 'Alliance Atlantis Motion Picture Production': 64, 'Smoke House': 63, 'Spy Next Door': 63, 'Sogecine': 63, 'Las Producciones del Escorpion': 63, 'ScreenWest': 63, 'Blue Askew': 63, 'Ixtlan Productions': 63, 'Global Entertainment Group': 63, 'Dr D Studios': 63, 'Kennedy Miller Mitchell': 63, 'Ghost Ship Films Pty. Ltd.': 63, 'City Light Films': 63, 'Turner Pictures': 63, 'Antietam Filmworks': 63, 'Inferno International': 63, 'Frantic Films': 63, 'Maple Shade Films': 63, 'Industrial Development Corporation of South Africa': 63, 'Miracle Pictures': 63, 'Columbus 81 Productions': 63, 'Anka Film': 63, 'Daybreak Productions': 63, 'Nightfall Productions': 63, 'SKA Films': 63, 'Walrus & Associates': 63, 'Hollywood Partners': 63, 'Charenton Productions': 63, 'Black Bear Pictures': 62, 'Bristol Automotive': 62, 'Fast Track Productions': 62, 'Pandora Pictures': 62, 'Dos Corazones': 62, 'Revolution Films': 62, 'Saints LA': 62, 'Entertainment Manufacturing Company': 62, 'Mile High Productions': 62, 'Kevin Messick Productions': 62, 'Boll KG': 62, 'Grand Slam Productions': 62, 'Patalex Productions': 62, 'Arts Council of England': 62, 'Internationale Filmproduktion Blackswan': 61, 'Twentieth Century Fox': 61, 'The Tyler Perry Company': 61, 'Jonathan Krane Group': 61, 'South Pacific Pictures': 61, 'Spice Factory': 61, 'The Australian Film Commission': 61, 'Many Rivers Productions': 61, 'Boy of the Year': 61, 'UW4 Productions': 61, 'N1 European Film Produktions GmbH & Co. KG': 61, 'Baumgarten Merims Productions': 61, 'Colossal Pictures': 61, 'MI 3 Film': 61, 'Granada Film Productions': 61, 'Fantail Films Inc.': 61, 'Halcyon Pictures': 61, 'Kinematograf Wien': 61, 'Linsefilm': 61, 'Unity Productions': 61, 'Michael Cerenzie Productions': 61, 'Funky Buddha Productions': 61, 'Underground': 61, 'Dino de Laurentiis Cinematografica': 61, 'Red Lion Sarl': 61, 'The Combine': 60, 'Mystery Clock Cinema': 60, 'Sid & Marty Krofft Pictures': 60, 'Mediastream Film GmbH & Co. Productions KG': 60, 'Transfilm': 60, 'Liddell Entertainment': 60, 'Wonderful Films PLC': 60, 'Newman/Tooley Films': 60, 'Joseph Nittolo Entertainment': 60, '\"DIA\" Productions GmbH & Co. KG': 60, 'JC 23 Entertainment': 60, 'Filmax Entertainment': 60, 'ICF': 60, 'A113': 59, 'China Movie Channel': 59, 'Revelations Entertainment': 59, 'Pink Machine': 59, 'Hydraulx': 59, 'Transmission Pictures': 59, 'Chrysalis Films': 59, 'Toma 78': 59, 'De Milo': 59, 'Liaison Films': 59, 'Pacific Renaissance Pictures Ltd.': 59, 'Landscape Entertainment': 59, 'John US Productions': 59, 'Limited Edition Productions Inc.': 59, 'Barry Mendel Productions': 59, 'Screenland Pictures': 59, 'Di Bonaventura Picture': 58, 'A&E Television Networks': 58, 'Jean Doumanian Productions': 58, 'Debra Hill Productions': 58, 'Foresight Unlimited': 58, 'RAMCO': 58, 'Captivity Productions': 58, 'Cloudy Productions': 57, 'Warner Bros. Interactive Entertainment': 57, 'Rob Thomas Productions': 57, 'Battle Mountain Films': 57, 'Toff Guy Films': 57, 'Intandem Films': 57, 'Aramid Entertainment Fund': 57, 'Lipsync Productions': 57, 'Ad Hominem Enterprises': 57, 'Recorded Pictures Company': 57, 'The Movie Network': 57, 'Millbrook Pictures': 57, 'Lago Film': 57, 'Laurinfilm': 57, 'Subterranean Productions LLC': 57, 'Subterranean Productions UK Ltd.': 57, 'Underworld Produktions GmbH': 57, 'Resident Evil Productions': 57, 'Land Films Inc.': 57, 'Panorama Films': 56, 'Film Department, The': 56, 'Evil Twins': 56, 'Warp Films': 56, 'Jaffe / Braunstein Enterprise': 56, 'Birdsong Pictures': 56, 'Collision Entertainment': 56, 'Abandon Entertainment': 56, 'Foxtor Productions': 56, 'InVenture Entertainment': 56, 'Nu-Image Films': 56, '3 in the Box': 56, 'Hungarian National Film Office': 56, 'Lazio Film Commission': 56, 'Zanagar Films': 56, 'MIRACLE Productions GmbH & Co. KG': 56, 'Branded Entertainment/Batfilm Productions': 56, 'AR-TL': 56, 'Constantin Film.': 55, 'Dayday Films': 55, 'Easy There Tiger Productions': 55, 'New Crime Productions': 55, 'Mosaic': 55, 'American Film Company': 55, 'Babylon': 55, 'World Wrestling Entertainment (WWE)': 55, 'Walt Disney Animation Canada': 55, 'Adam Schroeder Productions': 55, 'JD Productions': 55, 'Benderspink': 55, 'Carousel Productions': 55, 'Contagious Entertainment': 55, 'Green Hills Productions': 55, 'Reserve Room': 55, 'Le Grisbi Productions': 54, 'M Productions': 54, 'Hopscotch Films': 54, 'Sighvatsson Films': 54, 'Langley Productions': 54, 'Thunder Road Productions': 54, 'Fuqua Films': 54, 'Italian Tax Credit': 54, 'Neal H. Moritz Productions': 54, 'Internationale Filmproduktion Stella-del-SÃ¼d': 54, 'Defiance Productions': 54, 'Pistachio Pictures': 54, 'Unfaithful Filmproduktion GmbH & Co. KG': 54, 'XM2 Productions': 54, 'Will Vinton Studios': 54, 'Hit & Run Productions': 54, 'Tiara Blu Films': 54, 'Thirteen Productions': 54, 'Vaughn Productions': 54, 'Marshall Production': 54, 'Brass Hat Films': 54, 'Duperele Films': 53, 'Metanoia Films': 53, 'Furst Films': 53, 'Sean Bailey Productions': 53, 'Gravier Productions': 53, 'Antena 3 Films': 53, 'TelevisiÃ³ de Catalunya (TV3)': 53, 'Antena 3 TelevisiÃ³n': 53, 'Blind Wink': 53, 'HW Two': 53, 'Picturehouse Entertainment': 53, 'Grosvenor Park Impact Productions': 53, 'Neo Art & Logic': 53, 'Wes Craven Films': 53, 'Amazon Studios': 52, 'Film Art Media': 52, 'Apollo Media': 52, 'Venture Forth': 52, 'Sierra / Affinity': 52, 'Industrial Light & Magic (ILM)': 52, 'Immortal Entertainment': 52, 'Kingsgate Films': 52, 'Film Capital Europe Funds (FCEF )': 52, 'North Box Productions': 52, 'Distant Horizons': 52, 'Film Afrika Worldwide': 52, 'Videovision Entertainment': 52, 'Sierra/Affinity': 51, 'TriStar Productions': 51, 'Creative Scotland': 51, 'Left Tackle Pictures': 51, 'Zucker/Netter Productions': 51, 'Ilion Animation Studios': 51, 'Hand Made Films': 51, 'Necropia': 51, 'Tequila Gang': 51, 'Evamere Entertainment': 51, 'Brandywine Productions': 51, 'Mutant Enemy Productions': 51, 'Cecchi Gori Group Tiger Cinematografica': 51, 'Verisimilitude': 51, 'Alliance Atlantis Communications': 51, 'Catfish Productions': 51, 'Government of Malta': 51, 'Seven Arts Pictures': 51, 'Munich Film Partners & Company (MFP) ROE Production': 51, 'Truenorth Productions': 50, 'Czech Anglo Productions': 50, 'Wandering Star Pictures': 50, 'Aversano Films': 50, 'Crystal Sky Worldwide': 50, 'MDP Worldwide': 50, 'Carousel Picture Company, The': 50, 'Signature Entertainment': 50, 'MPH Entertainment': 50, 'Herrick Entertainment': 50, 'SND': 50, 'Scholastic Productions': 50, 'Level 1 Entertainment': 50, 'MID Foundation': 50, 'Sunlight Productions': 50, 'Madison 23': 50, 'Beagle Pug Films': 49, 'Allison Shearmur Productions': 49, 'Snoot Entertainment': 49, 'Top Shelf Productions': 49, 'Asymmetrical Productions': 49, 'Les Films Alain Sarde': 49, 'Babbo Inc.': 49, 'The Picture Factory': 49, 'Mpower Pictures': 49, 'Canal+Polska': 49, 'Heritage Films': 49, 'Agencja Produkcji Filmowej': 49, 'Stan Winston Studio': 49, 'Sycamore Pictures': 49, 'VIP 4 Medienfonds': 49, 'Fellowship Adventure Group': 49, 'Into the Wild': 49, 'I Could Never Ltd.': 49, 'Bauer Martinez Studios': 49, 'Danjaq': 48, 'B24': 48, 'Bulletproof Cupid': 48, 'Volcano Films': 48, 'Irish Dreamtime': 48, 'SPD Films': 48, 'LBI Productions': 48, 'Banter': 48, 'PVR Cinemas': 48, 'Hari Om Entertainment Co.': 48, 'Blockbuster Movie Entertainers': 48, 'Darren Star Productions': 48, 'Flashpoint Entertainment': 48, 'Abraham Productions': 48, 'Location Gourmet': 48, 'Newmarket Films': 48, 'EMJAG Productions': 48, '8:38 Productions': 48, 'Aggregate Films': 48, 'DumbDumb': 48, 'SkyLand Entertainment': 48, 'Sound for Film': 48, 'Pricel': 48, 'Tohokushinsha Film': 48, 'Commission du Film France': 48, 'Mostow/Lieberman Productions': 48, '80 Days Productions': 48, 'Broken Lizard Industries': 48, 'Coconut Pete Productions': 48, 'Head Gear Films': 47, 'Straight Up Films': 47, 'Long Distance Films': 47, 'Sherazade Film Development': 47, 'Corduroy Films': 47, 'Schroeder Hoffman Productions': 47, 'First Light Production': 47, 'Dimension Films (US version)': 47, 'Sneak Preview Productions': 47, 'Triggerfish Animation': 47, 'Stratus Film Co.': 47, 'Syndicate Films International': 47, 'New Amsterdam Entertainment': 47, 'Astral Media': 47, '5150 Action': 46, 'HimenÃ³ptero': 46, 'Mod Producciones': 46, 'Swanford Films': 46, 'KC Medien': 46, 'Kickstart Productions': 46, 'Outlander Productions': 46, 'Hacienda Productions': 46, 'Matinee Pictures': 46, 'NALA Films': 46, 'Samuels Media': 46, 'Dreamachine': 46, 'BBC': 46, 'Voltage pictures': 45, 'ANA Media': 45, 'Picture Perfect (I)': 45, 'Corrino Media Corporation': 45, 'Corsan': 45, 'Staccato Films': 45, 'Rai Cinema': 45, 'Alfama Films': 45, 'Dickhouse Productions': 45, 'Decibel Films': 45, 'Big Primate Pictures': 45, 'Parkway Pictures (I)': 45, 'Motion Picture ETA Produktionsgesellschaft': 45, 'Foqus Arte Digital': 45, 'Metropolis Films': 45, 'Universal Animation Studios': 45, 'Porchlight Films': 44, 'Screen NSW': 44, 'Disney': 44, 'Serendipity Productions': 44, 'GHS Productions KG': 44, 'Munich Film Partners & Company (MFP) GHS Productions': 44, 'Nides/McCormick Productions': 44, 'La Petite Reine': 44, 'uFilm': 44, 'Atlas Productions': 44, 'Lee Daniels Entertainment': 44, 'Follow Through Productions': 44, 'Salamander Pictures': 44, 'Pam Williams Productions': 44, 'Five Roses': 44, 'Outerbanks Entertainment': 44, 'Kalis Productions GmbH & Co. Zweite KG': 44, 'Bristol Bay Productions': 44, 'Desertlands Entertainment': 44, 'Big Beach Films': 44, 'Open City Films': 44, 'Raindog Films': 43, 'Brothers Dowdle Productions': 43, 'Etalon film': 43, 'Silverwood Films': 43, 'Motel Movies': 43, 'Film 4': 43, 'Inferno Entertainment': 43, 'Mandalay Vision': 43, 'Chartoff Productions': 43, 'Digital Domain': 43, 'Truth Entertainment': 43, 'K5 International': 43, 'Dante Entertainment': 43, 'Crusader Entertainment': 43, 'Lucamar Productions': 42, 'Laura Bickford Productions': 42, 'Medienproduktion Poseidon Filmgesellschaft': 42, 'Underworld Entertainment': 42, 'VN Productions': 42, 'Lennox House Films': 42, 'Rainmaker Entertainment': 42, 'Mainframe Entertainment': 42, 'Gaumont': 42, 'Kintop Pictures': 42, 'Max Stronghold Productions Inc.': 42, 'PeaPie Films': 41, 'STX Entertainment': 41, 'Ahimsa Films': 41, 'Tonik Productions': 41, 'Asis Productions': 41, 'Provident Films': 41, 'FourBoys Entertainment': 41, 'Battleplan Productions': 41, 'Neunte Babelsberg Film': 41, 'Holleran Company': 41, 'Sechzehnte Babelsberg Film': 41, 'ARP SÃ©lection': 41, 'Indigo Film': 41, 'Medusa Film': 41, 'National Geographic Society': 41, 'CAMERON MACKINTOSH': 41, 'Hedge Fund Film Partners': 41, 'Knightsbridge Entertainment': 41, 'Harbour Pictures': 41, '3L Filmverleih': 41, 'Paramount Classics': 41, 'Two Brothers Productions': 41, 'Fox Animation Studios': 41, 'Echo Lake Productions': 40, 'Premiere Picture': 40, 'Cort/Madden Productions': 40, 'Lietuvos Kinostudija': 40, 'Scout Productions': 40, 'Recorded Picture Company (RPC)': 40, 'RabbitBandini Productions': 40, 'Division Films': 40, 'Pop Films': 40, 'Stone Village Pictures': 40, 'Edge City': 40, 'VIP 2 Medienfonds': 40, 'Sideways Productions Inc.': 40, 'Huayi Brothers Media Corporation': 40, 'Rocklin / Faust': 39, 'Entertainment One Features': 39, 'HighRoad Entertainment': 39, 'Prelude Pictures': 39, 'Lone Runner Entertainment': 39, 'Kenio Films': 39, 'Perfect Game, The': 39, 'Galavis Film': 39, 'Picture Machine': 39, 'VideoFilmes': 39, 'Scholastic Entertainment': 38, 'Black Label Media': 38, 'Gulfstream Pictures': 38, 'Freestyle Releasing': 38, 'Andale Pictures': 38, 'IDEA Filmproduktions': 38, 'Hughes Entertainment': 38, 'Shoelace Productions': 38, 'Wheelhouse Entertainment': 38, 'Motion Picture Production GmbH & Co. Erste KG': 38, 'Extension 765': 38, 'Media Farm': 38, 'Sunday Night': 38, 'Alphaville Productions': 38, 'SOIXAN7E QUIN5E': 38, 'See Me Louisiana': 38, 'Muse Entertainment Enterprises': 38, 'Thousand Words': 38, 'Detour Filmproduction': 38, 'Mirabai Films': 38, 'Yer Dead Productions': 38, 'Grand Army Entertainment': 37, 'Hachiko': 37, 'Artina Films': 37, 'Lucky Monkey Pictures': 37, 'Green Room Films': 37, 'Studio Mir': 37, 'Temple Hill Productions': 37, 'Le Pacte': 37, 'Filmgate Films': 37, 'Bewitched': 37, 'Cent Productions Inc.': 37, 'Kingdom Feature Productions': 37, 'CatchPlay': 36, 'Ehman Productions': 36, 'Stoney Lake Entertainment': 36, 'Trancas International Films': 36, 'ShadowCatcher Entertainment': 36, 'Daniel Bobker Productions': 36, 'C.O.R.E. Feature Animation': 36, 'Hoytyboy Pictures': 36, 'Nigel Productions': 36, 'Wendy Finerman Productions': 36, 'Ealing Studios': 35, 'Fragile Films': 35, 'Quickfire Films': 35, 'Outlaw Productions (I)': 35, 'Incentive Filmed Entertainment': 35, 'A Hot Dog': 35, 'Essential Media & Entertainment': 35, 'OB Productions': 35, 'Patalex V Productions Limited': 35, 'Electric Entertainment': 35, 'Flyboys Films': 35, 'Monkey Dance Productions': 35, 'Infinite Frameworks Studios': 34, 'Goldenlight Films': 34, 'Oasis Films': 34, 'Aperture Entertainment': 34, 'Pan EuropÃ©enne Production': 34, 'Studio Babelsberg StudioBabelsberg Motion Pictures': 34, 'American Entertainment Partners L.P.': 34, 'Crystal City Entertainment': 34, 'Aura Film Partnership': 34, 'IM Filmproduktion': 34, 'Cosmic Pictures': 34, 'PathÃ© Distribution': 34, 'Irwin Allen Productions': 34, 'Mirage Studios': 34, 'Imagi Production': 34, 'Entertainment Films': 34, 'Material Entertainment': 34, 'Beech Hill Films': 34, 'Red Horizon Productions': 34, 'Team Downey': 33, 'Internationale Filmproduktion Blackbird Erste': 33, 'Michaels-Goldwyn': 33, 'Witt/Thomas Productions': 33, 'Gidden Media': 33, 'Archer Street Productions': 33, 'Latitude Media': 33, 'Baby Cow Productions': 33, 'Nina Saxon Film Design': 33, 'AFG Talons Productions': 33, 'The Movie Network (TMN)': 33, 'Tessalit Productions': 33, 'Blue Productions': 33, 'Nora Ephron Productions': 33, 'Inimitable Pictures': 32, 'ShivHans Pictures': 32, \"We're Not Brothers Productions\": 32, 'Cinelou Films': 32, 'Ufland': 32, 'Exodus Film Group': 32, 'Exodus Productions': 32, 'Denver and Delilah Productions': 32, '11:11 Mediaworks': 32, 'Blue Sea Productions': 32, 'Avenue Pictures Productions': 32, 'Taormina Productions': 32, 'CJ Entertainment': 32, 'Southpaw Entertainment': 32, 'Springwood Productions': 32, 'Western': 31, 'OddLot Entertainment': 31, 'Kilburn Media': 31, 'Fetisov Teterin Films': 31, 'Horseshoe Bay Productions': 31, 'Dan Films': 31, 'CP Medien AG': 31, 'Tailor Made': 31, 'Mango Farms': 31, 'Hungry Eye Lowland Pictures B.V.': 31, 'Flan de Coco Films': 31, 'Senator Film Produktion': 31, 'Jolie Pas': 30, 'Ocean Pictures': 30, 'Smartest Man Productions': 30, 'Heyday films': 30, 'Clear Blue Sky Productions': 30, 'Krane Entertainment': 30, 'MDBF Zweite Filmgesellschaft': 30, 'SW7D Productions': 30, 'Mars Production Pty. Ltd.': 30, 'ASAF': 29, 'Luna Pictures': 29, 'Henceforth': 28, 'Projection Pictures': 28, 'London Boulevard': 28, 'The Department of Trade and Industry of South Africa': 28, 'Deuce Three Productions': 28, 'Sony Pictures Worldwide Acquisitions (SPWA)': 28, 'TDJ Enterprises / New Dimensions Entertainment': 28, 'Our Stories Films': 28, 'Beverly Detroit': 28, 'Intermedia': 28, 'Benaroya Pictures': 28, 'Pie Films Inc.': 28, 'Corner Store Entertainment': 28, 'Lucasfilm Ltd.': 28, 'Partnership Pictures': 28, \"Cooper's Town Productions\": 28, 'Eagle Vision Inc.': 28, 'Manitoba Film and Video Production Tax Credit': 28, 'Outpost Studios': 27, 'Art In Motion': 27, 'Double Negative': 27, 'LGM Productions': 27, 'Les Productions du TrÃ©sor': 27, 'Mars Distribution': 27, 'Company Films': 27, 'Dalian Wanda Group': 27, 'Bueprint Pictures': 27, 'Item 7': 26, 'Parallel Film Productions': 26, 'Hearst Entertainment Productions': 26, 'LightWorkers Media': 26, 'MICA Entertainment': 26, 'Everest Entertainment': 26, 'Domino 17521': 26, 'Kramer & Sigman Films': 25, 'Zaftig Films': 25, 'Little Stranger': 25, 'Dillywood': 25, 'Five Star Institute': 25, 'Central Films': 25, 'Number 9 Films': 24, 'Goldsmith-Thomas Productions': 24, 'Ixtlan': 24, 'Onda Entertainment': 24, 'Eden Rock Media': 24, 'Element Films': 24, 'Katira Productions GmbH & Co. KG': 23, 'Caro-McLeod': 23, 'Phantom Four': 22, 'ApolloProScreen Filmproduktion': 21, 'Night Chronicles': 20, 'Motion Picture Corporation of America': 19, 'Matt Damon': 18, 'Empire Pictures': 18, 'Adam Sandler': 17, 'Angelina Jolie': 16, 'Documentary': 15, 'Ben Stiller': 15, 'Tom Cruise': 15, 'Samuel L. Jackson': 15, 'Eddie Murphy': 15, 'Mark Wahlberg': 14, 'Hugh Jackman': 14, 'Jamie Foxx': 14, 'Russell Crowe': 14, 'Johnny Depp': 13, 'Jude Law': 13, 'Bruce Willis': 13, 'Will Smith': 13, 'Robert Downey Jr.': 12, 'Dwayne Johnson': 12, 'Ian McKellen': 12, 'Brad Pitt': 12, 'Owen Wilson': 12, 'Cameron Diaz': 12, 'Nicolas Cage': 12, 'Robert De Niro': 12, 'Mark Ruffalo': 11, 'Leonardo DiCaprio': 11, 'Daniel Craig': 11, 'Steve Buscemi': 11, 'Sylvester Stallone': 10, 'Vin Diesel': 10, 'Jack Black': 10, 'Denzel Washington': 10, 'Emma Watson': 10, 'Gary Oldman': 10, 'Tom Hanks': 10, 'Orlando Bloom': 10, 'George Clooney': 9, 'Robert Rodriguez': 9, 'Chris Hemsworth': 9, 'Ralph Fiennes': 9, 'Cate Blanchett': 9, 'Michael Caine': 9, 'Ewan McGregor': 9, 'Paul Bettany': 9, 'Brendan Gleeson': 9, 'Shia LaBeouf': 9, 'Nicole Kidman': 9, 'Colin Farrell': 9, 'Rachel Weisz': 9, 'Halle Berry': 9, 'Chris Evans': 8, 'Charlize Theron': 8, 'Kevin James': 8, 'Helena Bonham Carter': 8, 'Josh Hutcherson': 8, 'James Franco': 8, 'Christian Bale': 8, 'Gerard Butler': 8, 'Rosario Dawson': 8, 'Ben Kingsley': 8, 'Bill Nighy': 8, 'Daniel Radcliffe': 8, 'Rupert Grint': 8, 'Jim Carrey': 8, 'Vince Vaughn': 8, 'Alec Baldwin': 8, 'Steve Carell': 8, 'Michael Bay': 7, 'Paul W.S. Anderson': 7, 'Jon Favreau': 7, 'Keanu Reeves': 7, 'Mel Gibson': 7, 'Scarlett Johansson': 7, 'Harrison Ford': 7, 'Jason Statham': 7, 'Woody Harrelson': 7, 'Josh Brolin': 7, 'Jeff Bridges': 7, 'Anne Hathaway': 7, 'Patrick Stewart': 7, 'Jennifer Connelly': 7, 'Anthony Hopkins': 7, 'Morgan Freeman': 7, 'Billy Crudup': 7, 'Jason Lee': 7, 'Jessica Biel': 7, 'Julia Roberts': 7, 'Ryan Reynolds': 7, 'Liam Neeson': 7, 'Karl Urban': 7, 'Richard Jenkins': 7, 'Chris Rock': 7, 'Antoine Fuqua': 6, 'Seth Rogen': 6, 'Ridley Scott': 6, 'Peter Berg': 6, 'Kate Winslet': 6, 'Paul Walker': 6, 'Arnold Schwarzenegger': 6, 'Sean Bean': 6, 'Elizabeth Banks': 6, 'Ving Rhames': 6, 'Mark Strong': 6, 'Jeffrey Wright': 6, 'Gwyneth Paltrow': 6, 'Matthew McConaughey': 6, 'Rosamund Pike': 6, 'Logan Lerman': 6, 'Robin Williams': 6, 'Stanley Tucci': 6, 'Kevin Costner': 6, 'John Goodman': 6, 'Aaron Eckhart': 6, 'Justin Long': 6, 'Will Ferrell': 6, 'Seann William Scott': 6, 'Paul Giamatti': 6, 'Dustin Hoffman': 6, 'Mike Myers': 6, 'Eva Mendes': 6, 'Kate Beckinsale': 6, 'Jon Voight': 6, 'Jackie Chan': 6, 'Tobey Maguire': 6, 'Guy Pearce': 6, 'John Leguizamo': 6, 'Tommy Lee Jones': 6, 'Brett Ratner': 5, 'Kenneth Branagh': 5, 'Quentin Tarantino': 5, 'Zack Snyder': 5, 'Roland Emmerich': 5, 'Andrzej Bartkowiak': 5, 'Louis Leterrier': 5, 'Tony Scott': 5, 'Paul Greengrass': 5, 'Peter Jackson': 5, 'Lee Tamahori': 5, 'Gore Verbinski': 5, 'Rob Cohen': 5, 'Michelle Rodriguez': 5, 'Michael PeÃ±a': 5, 'Paul Rudd': 5, 'Jennifer Lawrence': 5, 'Carla Gugino': 5, 'Ioan Gruffudd': 5, 'Simon Pegg': 5, 'Giovanni Ribisi': 5, 'Frances McDormand': 5, 'Elijah Wood': 5, 'Jake Gyllenhaal': 5, 'Sam Worthington': 5, 'Delroy Lindo': 5, 'Bradley Cooper': 5, 'Donald Sutherland': 5, 'Ben Affleck': 5, 'Andy Serkis': 5, 'John Turturro': 5, 'Jonah Hill': 5, 'Julianne Moore': 5, 'John Malkovich': 5, 'Ian McShane': 5, 'Chris Pine': 5, 'Keira Knightley': 5, 'Jessica Alba': 5, 'Eric Bana': 5, 'Benjamin Bratt': 5, 'Hank Azaria': 5, 'John Travolta': 5, 'David Cross': 5, 'Clive Owen': 5, 'Sam Elliott': 5, 'Don Cheadle': 5, 'Ron Perlman': 5, 'Antonio Banderas': 5, 'Peter Sarsgaard': 5, 'Zach Galifianakis': 5, 'Nick Nolte': 5, 'Brendan Fraser': 5, 'Jennifer Aniston': 5, 'Edward Norton': 5, 'Judi Dench': 5, 'John C. Reilly': 5, 'Sacha Baron Cohen': 5, 'Kirsten Dunst': 5, 'Djimon Hounsou': 5, 'Catherine Zeta-Jones': 5, 'J.J. Abrams': 4, 'Lana Wachowski': 4, 'Lilly Wachowski': 4, 'Olivier Megaton': 4, 'Guy Ritchie': 4, 'Bryan Singer': 4, 'Clint Eastwood': 4, 'Tim Story': 4, 'Renny Harlin': 4, 'Mark Neveldine': 4, 'Brian Taylor': 4, 'Dominic Sena': 4, 'Justin Lin': 4, 'Christopher Nolan': 4, 'Simon West': 4, 'John Moore': 4, 'Steven Spielberg': 4, 'Martin Campbell': 4, 'John Singleton': 4, 'Len Wiseman': 4, 'Robert Redford': 4, 'Tom Hardy': 4, 'Kristen Wiig': 4, 'Christoph Waltz': 4, 'Michelle Monaghan': 4, 'Liam Hemsworth': 4, 'Amanda Seyfried': 4, 'Steve Martin': 4, 'Ray Winstone': 4, 'Rose Byrne': 4, 'Tom Hiddleston': 4, 'Michael Fassbender': 4, 'Megan Fox': 4, 'Will Arnett': 4, 'William Fichtner': 4, 'Marton Csokas': 4, 'Emma Stone': 4, 'Bill Paxton': 4, 'Joel Edgerton': 4, 'Bryan Cranston': 4, 'Jay Baruchel': 4, 'Eva Green': 4, 'David Wenham': 4, 'Michael Gambon': 4, 'Mickey Rourke': 4, 'Joseph Gordon-Levitt': 4, 'Bill Murray': 4, 'Carrie-Anne Moss': 4, 'Bruce Greenwood': 4, 'Patrick Wilson': 4, 'Chiwetel Ejiofor': 4, 'Thandie Newton': 4, 'Anna Faris': 4, 'Amy Adams': 4, 'Susan Sarandon': 4, 'PenÃ©lope Cruz': 4, 'Luis GuzmÃ¡n': 4, 'Jason Bateman': 4, 'Reese Witherspoon': 4, 'Tyrese Gibson': 4, 'Catherine Keener': 4, 'James Cromwell': 4, 'Julie Andrews': 4, 'Alfred Molina': 4, 'Salma Hayek': 4, 'Kristen Stewart': 4, 'Peter Facinelli': 4, 'Jason Isaacs': 4, 'Ashton Kutcher': 4, 'Jack Nicholson': 4, 'Viggo Mortensen': 4, 'Liv Tyler': 4, 'Ed Harris': 4, 'Heath Ledger': 4, 'Kurt Russell': 4, 'Angela Bassett': 4, 'TÃ©a Leoni': 4, 'Terrence Howard': 4, 'Hayden Christensen': 4, 'Terence Stamp': 4, 'Anthony Mackie': 4, 'Zooey Deschanel': 4, 'Matthew Broderick': 4, 'Ed Helms': 4, 'Hugo Weaving': 4, 'Geoffrey Rush': 4, 'Natalie Portman': 4, 'Denis Leary': 4, 'Brian Cox': 4, 'Willem Dafoe': 4, 'Joaquin Phoenix': 4, 'Famke Janssen': 4, 'Peter Stormare': 4, 'Kerry Washington': 4, 'Billy Connolly': 4, 'Drew Barrymore': 4, 'RenÃ©e Zellweger': 4, 'Christopher Walken': 4, 'Brad Bird': 3, 'Matthew Vaughn': 3, 'Neill Blomkamp': 3, 'Jaume Collet-Serra': 3, 'Breck Eisner': 3, 'Pierre Morel': 3, 'David Ayer': 3, 'Doug Liman': 3, 'Phil Lord': 3, 'Christopher Miller': 3, 'McG': 3, 'Stephen Sommers': 3, 'Shawn Levy': 3, 'Jonathan Mostow': 3, 'Jon Turteltaub': 3, 'Joe Carnahan': 3, 'M. Night Shyamalan': 3, 'Harald Zwart': 3, 'Marc Forster': 3, 'D.J. Caruso': 3, 'Edward Zwick': 3, 'Sam Raimi': 3, 'Barry Sonnenfeld': 3, 'Guillermo del Toro': 3, 'John Woo': 3, 'Uwe Boll': 3, 'David Twohy': 3, 'Bryce Dallas Howard': 3, 'Theo James': 3, 'Miles Teller': 3, 'Jason Clarke': 3, 'Jai Courtney': 3, 'Jessica Chastain': 3, 'Sandra Bullock': 3, 'Michael Keaton': 3, 'Bill Hader': 3, 'Monica Bellucci': 3, 'Mila Kunis': 3, 'Channing Tatum': 3, 'Josh Gad': 3, 'Michael Douglas': 3, 'Bobby Cannavale': 3, 'Hugh Laurie': 3, 'Alexandra Daddario': 3, 'Jeremy Renner': 3, 'Amy Ryan': 3, 'Henry Cavill': 3, 'Armie Hammer': 3, 'Kate Mara': 3, 'Jamie Bell': 3, 'Toby Kebbell': 3, 'Garrett Hedlund': 3, 'Andy Samberg': 3, 'Rachel McAdams': 3, 'Marion Cotillard': 3, 'Charlie Hunnam': 3, 'Casey Affleck': 3, 'Zoe Saldana': 3, 'Martin Freeman': 3, 'Richard Armitage': 3, 'Neil Patrick Harris': 3, 'James McAvoy': 3, 'Li Bingbing': 3, 'Colm Feore': 3, 'Sienna Miller': 3, 'Ken Watanabe': 3, 'Elle Fanning': 3, 'Sharlto Copley': 3, 'Luke Evans': 3, 'Dominic Cooper': 3, 'John Hurt': 3, 'Rufus Sewell': 3, 'Abbie Cornish': 3, 'Jesse Eisenberg': 3, 'Leslie Mann': 3, 'Andy GarcÃ\\xada': 3, 'Emily Browning': 3, 'Miranda Otto': 3, 'William Hurt': 3, 'Stephen Lang': 3, 'Christopher Plummer': 3, 'Malin Ã…kerman': 3, 'Amanda Peet': 3, 'Stellan SkarsgÃ¥rd': 3, 'Dennis Quaid': 3, 'Dakota Fanning': 3, 'Kristen Bell': 3, 'Kiefer Sutherland': 3, 'Robin Wright': 3, 'Josh Duhamel': 3, 'Meryl Streep': 3, 'Olivia Wilde': 3, 'Freddie Highmore': 3, 'Jordana Brewster': 3, 'Radha Mitchell': 3, 'Liev Schreiber': 3, 'Hugh Grant': 3, 'Sarah Jessica Parker': 3, 'Mary Steenburgen': 3, 'Russell Brand': 3, 'Emily Mortimer': 3, 'Skandar Keynes': 3, 'Georgie Henley': 3, 'Jason Flemyng': 3, 'Mary Elizabeth Winstead': 3, 'Brandon T. Jackson': 3, 'Mary-Louise Parker': 3, 'Maria Bello': 3, 'Robert Pattinson': 3, 'Taylor Lautner': 3, 'Greg Kinnear': 3, 'Kristin Davis': 3, 'Chris Noth': 3, 'James Marsden': 3, 'Dan Aykroyd': 3, 'Milla Jovovich': 3, 'Cuba Gooding Jr.': 3, 'Michael Clarke Duncan': 3, 'James Gandolfini': 3, 'Laurence Fishburne': 3, 'Billy Bob Thornton': 3, 'Teri Polo': 3, 'Lucy Liu': 3, 'Jada Pinkett Smith': 3, 'David Schwimmer': 3, 'Jeffrey Tambor': 3, 'Thomas Kretschmann': 3, 'Cliff Curtis': 3, 'Michael Chiklis': 3, 'Jaden Smith': 3, 'Sienna Guillory': 3, 'Al Pacino': 3, 'Spencer Breslin': 3, 'Paula Patton': 3, 'Tim Robbins': 3, 'Justin Bartha': 3, 'Ken Jeong': 3, 'Jane Lynch': 3, 'Isla Fisher': 3, 'CiarÃ¡n Hinds': 3, 'Lily Collins': 3, 'Kevin Bacon': 3, 'Ray Romano': 3, 'Chris Cooper': 3, 'Emma Thompson': 3, 'William Shatner': 3, 'Cole Hauser': 3, 'Randy Quaid': 3, 'Harvey Keitel': 3, 'Scott Glenn': 3, 'David Oyelowo': 3, 'Michelle Pfeiffer': 3, 'David Spade': 3, 'Marisa Tomei': 3, 'Josh Lucas': 3, 'David Thewlis': 3, 'Connie Nielsen': 3, 'Bruce McGill': 3, 'Shirley MacLaine': 3, 'Hiroyuki Sanada': 3, 'Sean Penn': 3, 'Richard Roxburgh': 3, 'Val Kilmer': 3, 'Emmy Rossum': 3, 'Miranda Richardson': 3, 'Foreign': 2, 'James Wan': 2, 'Alan Taylor': 2, 'Sam Mendes': 2, 'Joss Whedon': 2, 'Peyton Reed': 2, 'Brad Peyton': 2, 'Wes Ball': 2, 'Michael Mann': 2, 'Paul Feig': 2, 'Ron Howard': 2, 'Camille Delamarre': 2, 'Luc Besson': 2, 'Jonathan Liebesman': 2, 'Matt Reeves': 2, 'Marc Webb': 2, 'Evan Goldberg': 2, 'Roger Donaldson': 2, 'J.C. Chandor': 2, 'Scott Waugh': 2, 'Alex Proyas': 2, 'James McTeigue': 2, 'NimrÃ³d Antal': 2, 'Gavin Hood': 2, 'Joseph Kosinski': 2, 'Edgar Wright': 2, 'Robert Schwentke': 2, 'Tom McGrath': 2, 'James Mangold': 2, 'Neil Marshall': 2, 'Jorma Taccone': 2, 'Kevin Munroe': 2, 'Peter Howitt': 2, 'Frank Oz': 2, 'Joe Johnston': 2, 'Peter Hyams': 2, 'Timur Bekmambetov': 2, 'David Gordon Green': 2, 'Pete Travis': 2, 'Mathieu Kassovitz': 2, 'Frank Miller': 2, 'Jason Friedberg': 2, 'Aaron Seltzer': 2, 'Rob Marshall': 2, 'Andrew Niccol': 2, 'Chris Miller': 2, 'Marcus Nispel': 2, 'Ruben Fleischer': 2, 'George Lucas': 2, 'Andrew Davis': 2, 'Walter Hill': 2, 'Rob Bowman': 2, 'Ang Lee': 2, 'Baltasar KormÃ¡kur': 2, 'Mark Steven Johnson': 2, 'F. Gary Gray': 2, 'David Dobkin': 2, 'Clark Johnson': 2, 'Richard Donner': 2, 'William Friedkin': 2, 'Francis Lawrence': 2, 'Courtney Solomon': 2, 'David R. Ellis': 2, 'David S. Goyer': 2, 'Eli Roth': 2, 'Chris Pratt': 2, 'Irrfan Khan': 2, 'Nicholas Hoult': 2, 'Shailene Woodley': 2, 'Domhnall Gleeson': 2, 'J.K. Simmons': 2, 'Jeff Daniels': 2, 'Allison Janney': 2, 'Steve Coogan': 2, 'Amy Poehler': 2, 'LÃ©a Seydoux': 2, 'Evangeline Lilly': 2, 'Corey Stoll': 2, 'Colin Firth': 2, 'Giancarlo Esposito': 2, 'Alicia Vikander': 2, 'Elizabeth Debicki': 2, 'Rihanna': 2, 'Jennifer Lopez': 2, 'Edgar RamÃ\\xadrez': 2, 'Teresa Palmer': 2, 'Viola Davis': 2, 'Benjamin Walker': 2, 'Ben Whishaw': 2, 'Rooney Mara': 2, 'Selena Gomez': 2, 'Mia Wasikowska': 2, 'Sebastian Stan': 2, 'Ken Stott': 2, 'Graham McTavish': 2, 'Jamie Chung': 2, 'Rami Malek': 2, 'Ray Stevenson': 2, 'Nicola Peltz': 2, 'Keri Russell': 2, 'ChloÃ« Grace Moretz': 2, 'Andrew Garfield': 2, 'Emily Blunt': 2, 'Aaron Paul': 2, 'Ben Barnes': 2, 'Kit Harington': 2, 'Lena Headey': 2, 'Joel Kinnaman': 2, 'Jackie Earle Haley': 2, 'Adewale Akinnuoye-Agbaje': 2, 'RamÃ³n RodrÃ\\xadguez': 2, 'Yvonne Strahovski': 2, 'Kellan Lutz': 2, 'Sigourney Weaver': 2, 'MÃ©lanie Laurent': 2, 'Julie Walters': 2, 'Zachary Quinto': 2, 'Anton Yelchin': 2, 'Eddie Marsan': 2, 'Jeffrey Dean Morgan': 2, 'John Cusack': 2, 'Oliver Platt': 2, 'Keith David': 2, 'Marlon Wayans': 2, 'James Caan': 2, 'Saoirse Ronan': 2, 'Sam Rockwell': 2, 'Tracy Morgan': 2, 'Zachary Levi': 2, 'Mary Kay Place': 2, 'Michael Cera': 2, 'Oscar Isaac': 2, 'Danny Huston': 2, 'Lynn Collins': 2, 'Jason Segel': 2, 'Dolph Lundgren': 2, 'Michelle Williams': 2, 'Mandy Moore': 2, 'Tim Allen': 2, 'Ned Beatty': 2, 'Joan Cusack': 2, 'Timothy Dalton': 2, 'Gemma Arterton': 2, 'Anna Kendrick': 2, 'Barbra Streisand': 2, 'Helen Mirren': 2, 'Tina Fey': 2, 'Ashley Greene': 2, 'Jordi MollÃ\\xa0': 2, 'Javier Bardem': 2, 'Katherine Heigl': 2, 'Tom Selleck': 2, 'Cynthia Nixon': 2, 'Kim Cattrall': 2, 'Essie Davis': 2, 'Eric Dane': 2, 'Cam Gigandet': 2, 'Julianne Hough': 2, 'Stephanie Szostak': 2, 'Bette Midler': 2, 'Carey Mulligan': 2, 'Justin Timberlake': 2, 'John Cleese': 2, 'Billy Crystal': 2, \"Frances O'Connor\": 2, 'John Lithgow': 2, 'Josh Hartnett': 2, 'John Hannah': 2, 'Arnold Vosloo': 2, 'Michael J. Fox': 2, 'James Garner': 2, 'Noah Taylor': 2, 'Tim Roth': 2, 'Kris Kristofferson': 2, 'Tom Sizemore': 2, 'Chris Tucker': 2, 'Zhang Ziyi': 2, 'Ernie Reyes, Jr.': 2, 'Elizabeth Perkins': 2, 'Sam Shepard': 2, 'Dylan Baker': 2, 'Gene Hackman': 2, 'Dominic West': 2, 'Edward Burns': 2, 'Martin Landau': 2, 'David Ogden Stiers': 2, 'Courteney Cox': 2, 'David Hyde Pierce': 2, 'Til Schweiger': 2, 'David Andrews': 2, 'William H. Macy': 2, 'Jeff Garlin': 2, 'Olga Kurylenko': 2, 'Jet Li': 2, 'Selma Blair': 2, 'Michael Rooker': 2, 'William Moseley': 2, 'Anna Popplewell': 2, 'Kathy Bates': 2, 'Michael Ealy': 2, 'Malcolm McDowell': 2, 'Alan Arkin': 2, 'Ali Suliman': 2, 'Adam Scott': 2, 'Kate Hudson': 2, 'Ewen Bremner': 2, 'Lambert Wilson': 2, 'Charlotte Rampling': 2, 'Robert Duvall': 2, 'Christina Ricci': 2, 'Matthew Fox': 2, 'Gabriel Macht': 2, 'Paz Vega': 2, 'Kevin Kline': 2, 'Gabrielle Union': 2, 'Goran Visnjic': 2, 'Bailee Madison': 2, 'Noomi Rapace': 2, 'Larry the Cable Guy': 2, 'Eddie Izzard': 2, 'Vanessa Hudgens': 2, 'Emily Watson': 2, 'Asa Butterfield': 2, 'Dominic Purcell': 2, 'Maggie Q': 2, 'Isabel Lucas': 2, 'Katie Holmes': 2, 'Amy Sedaris': 2, 'Jason Momoa': 2, 'Lea Michele': 2, 'Johnny A. Sanchez': 2, 'Seth Green': 2, 'Queen Latifah': 2, 'Richard Harris': 2, 'Franka Potente': 2, 'Ian McDiarmid': 2, 'Max von Sydow': 2, 'Abigail Breslin': 2, 'Elias Koteas': 2, 'Liam Aiken': 2, 'Paul Newman': 2, 'BeyoncÃ© Knowles': 2, 'Mark Addy': 2, 'Adam Beach': 2, 'Izabella Scorupco': 2, 'Naomie Harris': 2, 'Idris Elba': 2, 'Martin Sheen': 2, 'Kevin McKidd': 2, 'Jim Broadbent': 2, 'Jim Sturgess': 2, 'Jonny Lee Miller': 2, 'Timothy Spall': 2, 'Taylor Kitsch': 2, 'Tadanobu Asano': 2, 'Nathan Lane': 2, 'Jack Davenport': 2, 'Claire Danes': 2, 'Jennifer Garner': 2, 'Martin Lawrence': 2, 'TchÃ©ky Karyo': 2, 'Bernie Mac': 2, 'Robert Patrick': 2, 'Steve Zahn': 2, 'Timothy Olyphant': 2, 'Diane Lane': 2, 'Jodie Foster': 2, 'Alice Braga': 2, 'Diego Luna': 2, 'James Badge Dale': 2, 'Patton Oswalt': 2, 'Cloris Leachman': 2, 'Max Martini': 2, 'Maggie Gyllenhaal': 2, 'Sung Kang': 2, 'Sophie Okonedo': 2, 'Zach Braff': 2, 'Jim Belushi': 2, 'AnnaSophia Robb': 2, 'Julian McMahon': 2, 'Lauren Graham': 2, 'Gong Li': 2, 'Amber Valletta': 2, 'Jeremy Irons': 2, 'Adrien Brody': 2, 'Lucas Black': 2, 'Donal Logue': 2, 'Paddy Considine': 2, 'Bonnie Hunt': 2, 'Yvan Attal': 2, 'Mads Mikkelsen': 2, 'Jean Reno': 2, 'Philip Seymour Hoffman': 2, 'Jonathan Rhys Meyers': 2, 'David Strathairn': 2, 'Sharon Stone': 2, 'Jacinda Barrett': 2, 'Gary Sinise': 2, 'Danny Glover': 2, 'Julia Stiles': 2, 'Diane Kruger': 2, 'Chi McBride': 2, 'Jane Krakowski': 2, 'Glenn Close': 2, 'Patrick Warburton': 2, 'John Michael Higgins': 2, 'Helen Hunt': 2, 'Colin Trevorrow': 1, 'George Miller': 1, 'Chris Columbus': 1, 'Christopher McQuarrie': 1, 'Ilya Naishuller': 1, 'Ericson Core': 1, 'Denis Villeneuve': 1, 'Josh Trank': 1, 'Aleksander Bach': 1, 'Andy Fickman': 1, 'John Erick Dowdle': 1, 'Anne Fletcher': 1, 'James Gunn': 1, 'Joe Russo': 1, 'Anthony Russo': 1, 'Chad Stahelski': 1, 'David Leitch': 1, 'Don Hall': 1, 'Chris Williams': 1, 'Neil Burger': 1, 'Gareth Edwards': 1, 'Robert Stromberg': 1, 'Dean DeBlois': 1, 'Patrick Hughes': 1, 'Gary Shore': 1, 'Noam Murro': 1, 'Vic Armstrong': 1, 'JosÃ© Padilha': 1, 'Brian A Miller': 1, 'Steven Quale': 1, 'Adam Wingard': 1, 'James Cameron': 1, 'Patrick Tatopoulos': 1, 'Shane Acker': 1, 'Steve Carr': 1, 'Christian Alvart': 1, 'Hoyt Yeatman': 1, 'Kevin Macdonald': 1, 'Michael Spierig': 1, 'Peter Spierig': 1, 'Paul McGuigan': 1, 'Troy Duffy': 1, 'Paul Weitz': 1, 'David Bowers': 1, 'Daniel Barber': 1, 'Michael J. Bassett': 1, 'Pierre Coffin': 1, 'Chris Renaud': 1, 'Phillip Noyce': 1, 'Florian Henckel von Donnersmarck': 1, 'Mike Newell': 1, 'Ethan Maniquis': 1, 'Albert Hughes': 1, 'Allen Hughes': 1, 'Adam McKay': 1, 'Miguel Sapochnik': 1, 'Andy Tennant': 1, 'Jonathan Lynn': 1, 'Jimmy Hayward': 1, 'Robert Luketic': 1, 'John Luessenhop': 1, 'Kevin Smith': 1, 'Brian Levant': 1, 'Stuart Beattie': 1, 'Tim Burton': 1, 'Brian Helgeland': 1, 'John A. Davis': 1, 'Chris Nahon': 1, 'Hironobu Sakaguchi': 1, 'Motonori Sakakibara': 1, 'Rod Lurie': 1, 'John Herzfeld': 1, 'Ivan Reitman': 1, 'Demian Lichtenstein': 1, 'John Carpenter': 1, 'Bobby Farrelly': 1, 'Peter Farrelly': 1, 'Barry Levinson': 1, 'Luke Greenfield': 1, 'Les Mayfield': 1, 'Henry Selick': 1, 'Rob Pritts': 1, 'Ernest R. Dickerson': 1, 'DJ Pooh': 1, 'Eric Brevig': 1, 'Jeff Wadlow': 1, 'Lexi Alexander': 1, 'Peter Segal': 1, 'Rob Minkoff': 1, 'Jon Avnet': 1, 'Dennis Dugan': 1, 'Howard McCain': 1, 'Oxide Pang Chun': 1, 'Danny Pang': 1, 'Craig Mazin': 1, 'Simon Hunter': 1, 'Nicolas Winding Refn': 1, 'Rupert Wyatt': 1, 'Patrick Lussier': 1, 'Gary McKendry': 1, 'Scott Stewart': 1, 'Tarsem Singh': 1, 'Chris Gorak': 1, 'Michel Gondry': 1, 'Oliver Parker': 1, 'Joe Cornish': 1, 'Joe Wright': 1, 'John Michael McDonagh': 1, 'Alister Grierson': 1, 'Sean McNamara': 1, 'John Whitesell': 1, 'Benny Chan': 1, 'Corey Yuen Kwai': 1, 'Stuart Baird': 1, 'Kurt Wimmer': 1, 'Jay Roach': 1, 'Jim Gillespie': 1, 'Chuck Russell': 1, 'Betty Thomas': 1, 'Randall Wallace': 1, 'Ron Shelton': 1, 'Simon Wells': 1, 'Roger Michell': 1, 'Michael Apted': 1, 'Tom Dey': 1, 'Joel Schumacher': 1, 'Luis Mandoki': 1, 'Tamra Davis': 1, 'Ron Underwood': 1, 'Kevin Bray': 1, 'Malcolm D. Lee': 1, 'MÃ¥ns MÃ¥rlind': 1, 'BjÃ¶rn Stein': 1, 'Tony Gilroy': 1, 'Mark Andrews': 1, 'Steve Purcell': 1, 'Brenda Chapman': 1, 'Boaz Yakin': 1, 'Andrew Stanton': 1, 'Rian Johnson': 1, 'Mike McCoy': 1, 'Stephen St. Leger': 1, 'James Mather': 1, 'Daniel Espinosa': 1, 'Asger Leth': 1, 'Mabrouk El Mechri': 1, 'Dan Bradley': 1, 'Julie Anne Robinson': 1, 'Anthony Hemingway': 1, 'David Koepp': 1, 'David Barrett': 1, 'Stephen Norrington': 1, 'Jan de Bont': 1, 'Jon Amiel': 1, 'John McTiernan': 1, 'Shane Black': 1, 'Tommy Wirkola': 1, 'Carl Rinsch': 1, 'Gary Fleder': 1, 'Mikael HÃ¥fstrÃ¶m': 1, 'Taylor Hackford': 1, 'Steven Knight': 1, 'Spike Lee': 1, 'Dito Montiel': 1, 'Fyodor Bondarchuk': 1, 'Karyn Kusama': 1, 'Adam Shankman': 1, 'John Stockwell': 1, 'Sydney Pollack': 1, 'Terry Gilliam': 1, 'Jay Chandrasekhar': 1, 'Richard Shepard': 1, 'John Dahl': 1, 'Bruce Hunt': 1, 'Alfonso CuarÃ³n': 1, 'Stefen Fangmeier': 1, 'Bruce Beresford': 1, 'Wolfgang Petersen': 1, 'Jeff Tremaine': 1, 'John Bonito': 1, 'Geoffrey Sax': 1, 'Tony Bill': 1, 'Wayne Kramer': 1, 'Sanjay Gadhvi': 1, 'Phil Joanou': 1, 'Alexander Witt': 1, 'Bibo Bergeron': 1, 'Vicky Jenson': 1, 'Rob Letterman': 1, 'Kerry Conran': 1, 'Oliver Stone': 1, 'Jonathan Hensleigh': 1, 'Pitof': 1, 'Philip Kaufman': 1, 'Trey Parker': 1, 'Steven Brill': 1, 'Frank Coraci': 1, 'Paul Abascal': 1, 'Joseph Kahn': 1, 'David Mamet': 1, 'Jay Russell': 1, 'Philip G. Atwell': 1, 'Michael Davis': 1, 'Xavier Gens': 1, 'Rob Zombie': 1, 'Jason Eisener': 1, 'Dave Meyers': 1, 'Russell Mulcahy': 1, 'Andrew Dominik': 1, 'Doug Lefler': 1, 'David Leland': 1, 'Feng Xiaogang': 1, 'Ben Garant': 1, 'Joel Coen': 1, 'Donald Petrie': 1, 'Paul Verhoeven': 1, 'Roger Spottiswoode': 1, 'Antony Hoffman': 1, 'Stephen T. Kay': 1, 'Don Bluth': 1, 'Gary Goldman': 1, 'Christian Duguay': 1, 'Douglas Aarniokoski': 1, 'Gina Prince-Bythewood': 1, 'Brian Robbins': 1, 'Des McAnuff': 1, \"Vincent D'Onofrio\": 1, 'Nick Robinson': 1, 'Hugh Keays-Byrne': 1, 'Josh Helman': 1, 'Ansel Elgort': 1, 'Mark Hamill': 1, 'Carrie Fisher': 1, 'Adam Driver': 1, 'Daisy Ridley': 1, 'Will Poulter': 1, 'Paul Anderson': 1, 'Emilia Clarke': 1, 'Jon Hamm': 1, 'Phyllis Smith': 1, 'Richard Kind': 1, 'Lewis Black': 1, 'Eddie Redmayne': 1, 'Douglas Booth': 1, 'Peter Dinklage': 1, 'Lily James': 1, 'Richard Madden': 1, 'Holliday Grainger': 1, 'Britt Robertson': 1, 'Raffey Cassidy': 1, 'Thomas Robinson': 1, 'Archie Panjabi': 1, 'Rebecca Ferguson': 1, 'Seth MacFarlane': 1, 'Jessica Barth': 1, 'Taron Egerton': 1, \"Dylan O'Brien\": 1, 'Kaya Scodelario': 1, 'Thomas Brodie-Sangster': 1, 'Aidan Gillen': 1, 'Dylan Minnette': 1, 'Odeya Rush': 1, 'Jillian Bell': 1, 'Raymond Ochoa': 1, 'Jack Bright': 1, 'Maleah Nipay-Padilla': 1, 'Rose Leslie': 1, 'Ã“lafur Darri Ã“lafsson': 1, 'Luca Calvani': 1, 'Jim Parsons': 1, 'Matt Jones': 1, 'John Hawkes': 1, 'Luke Bracey': 1, 'Olivia Munn': 1, 'Leehom Wang': 1, 'Tang Wei': 1, 'Holt McCallany': 1, 'Michael B. Jordan': 1, 'Melissa McCarthy': 1, 'Miranda Hart': 1, 'Cillian Murphy': 1, 'Levi Miller': 1, 'Noah Schnapp': 1, 'Bill Melendez': 1, 'Venus Schultheis': 1, 'Hadley Belle Miller': 1, 'Madisyn Shipman': 1, 'Jim Beaver': 1, 'Tom Kenny': 1, 'Bill Fagerbakke': 1, 'Rodger Bumpass': 1, 'Clancy Brown': 1, 'Carolyn Lawrence': 1, 'Dave Bautista': 1, 'Scott Adsit': 1, 'Ryan Potter': 1, 'Daniel Henney': 1, 'T.J. Miller': 1, 'Carrie Coon': 1, 'Tyler Perry': 1, 'Jon Bernthal': 1, 'Rebel Wilson': 1, 'Alan Ritchson': 1, 'Noel Fisher': 1, 'Jack Reynor': 1, 'Judy Greer': 1, 'David Harbour': 1, 'Haley Bennett': 1, 'Dane DeHaan': 1, 'Jonas Armstrong': 1, 'Kyle Gallner': 1, 'Cole Konis': 1, 'Ben Reed': 1, 'Ben Mendelsohn': 1, 'Aaron Taylor-Johnson': 1, 'Elizabeth Olsen': 1, 'Juliette Binoche': 1, 'Juno Temple': 1, 'Isobelle Molloy': 1, 'Craig Berry': 1, 'Alison Brie': 1, 'David Burrows': 1, 'Sarah Gadon': 1, 'Art Parkinson': 1, 'Charles Dance': 1, 'Christopher Knights': 1, 'Conrad Vernon': 1, 'Sullivan Stapleton': 1, 'Callan Mulvey': 1, 'Peter Capaldi': 1, 'Imelda Staunton': 1, 'Aksel Hennie': 1, 'Nonso Anozie': 1, 'Gemma Chan': 1, 'Rebecca Hall': 1, 'Ty Burrell': 1, 'Max Charles': 1, 'Ariel Winter': 1, 'Ellie Kemper': 1, \"Jack O'Connell\": 1, 'Takamasa Ishihara': 1, 'Finn Wittrock': 1, 'Jessica Lucas': 1, 'QuvenzhanÃ© Wallis': 1, 'Imogen Poots': 1, 'Isaac Hempstead Wright': 1, 'Dee Bradley Baker': 1, 'Steve Blum': 1, 'Jessica Brown Findlay': 1, 'Liam McIntyre': 1, 'Gaia Weiss': 1, 'Scott Adkins': 1, 'Roxanne McKee': 1, 'Tom Felton': 1, 'Ed Asner': 1, 'Jordan Nagai': 1, 'Bob Peterson': 1, 'Leonard Nimoy': 1, 'Moon Bloodgood': 1, 'Ayelet Zurer': 1, 'Pierfrancesco Favino': 1, 'Anika Noni Rose': 1, 'Bruno Campos': 1, 'Michael-Leon Wooley': 1, 'Jennifer Cody': 1, 'Mr. T': 1, 'Teri Hatcher': 1, 'Jennifer Saunders': 1, 'Dawn French': 1, 'Steve Valentine': 1, 'Daryl Sabara': 1, 'Sage Ryan': 1, 'Victor Gojcaj': 1, 'Matthew Gray Gubler': 1, 'Rainn Wilson': 1, 'Lake Bell': 1, 'Anna Friel': 1, 'Danny McBride': 1, 'Matt Lauer': 1, 'Tony Kgoroge': 1, 'Patrick Mofokeng': 1, 'Matt Stern': 1, 'Max Minghella': 1, 'Ashraf Barhom': 1, 'Michael Lonsdale': 1, 'John Ortiz': 1, 'Tom Wilkinson': 1, 'Lisa Roberts Gillan': 1, 'Nelsan Ellis': 1, 'Michael Bunin': 1, 'Natalia Klimas': 1, 'Ellen Page': 1, 'Crispin Glover': 1, 'Eric Roberts': 1, 'Randy Couture': 1, 'Craig Ferguson': 1, 'America Ferrera': 1, 'Bruce Boxleitner': 1, 'Yaya DaCosta': 1, 'Donna Murphy': 1, 'M.C. Gainey': 1, 'Daniel Olbrychski': 1, 'Gary Sweet': 1, 'Arthur Angel': 1, 'Steven Berkoff': 1, 'Steve Toussaint': 1, 'Kieran Culkin': 1, 'Jake Abel': 1, 'Ethan Suplee': 1, 'Kevin Corrigan': 1, 'Maya Rudolph': 1, 'Jennifer Beals': 1, 'Taraji P. Henson': 1, 'Jimmi Simpson': 1, 'Noah Ringer': 1, 'Jackson Rathbone': 1, 'Dev Patel': 1, 'Shaun Toub': 1, \"Chris O'Dowd\": 1, 'Juliette Lewis': 1, \"Catherine O'Hara\": 1, 'Alex Borstein': 1, 'Emily Barclay': 1, 'Deborra-Lee Furness': 1, 'Cher': 1, 'Christina Aguilera': 1, 'Jemaine Clement': 1, 'Christina Applegate': 1, 'Pascale Hutton': 1, 'Kathryn Hahn': 1, 'Frank Langella': 1, 'Tom Cavanagh': 1, 'Christine Taylor': 1, 'Shawn Roberts': 1, \"Denis O'Hare\": 1, 'Wentworth Miller': 1, 'Ali Larter': 1, 'Kim Coates': 1, 'Kacey Barnfield': 1, 'Robbie Coltrane': 1, 'Mary Gibbs': 1, 'James Coburn': 1, 'Haley Joel Osment': 1, 'Sam Robards': 1, 'Jake Thomas': 1, 'Vincent Cassel': 1, 'Oded Fehr': 1, 'Corey Burton': 1, 'Claudia Christian': 1, 'John Mahoney': 1, 'Iain Glen': 1, 'Joseph Fiennes': 1, 'Bob Hoskins': 1, 'Shannyn Sossamon': 1, 'Laura Fraser': 1, 'Roselyn SÃ¡nchez': 1, 'Jeff Goldblum': 1, 'Alexander Pollock': 1, 'Miriam Margolyes': 1, 'Catherine McCormack': 1, 'Stephen Dillane': 1, 'Larry Bryggman': 1, 'Ming-Na Wen': 1, 'Kristen Wilson': 1, 'Raven-SymonÃ©': 1, 'Kyla Pratt': 1, 'Steve Burton': 1, 'Monica Potter': 1, 'Michael Wincott': 1, 'Mika Boorem': 1, 'Jason Bonham': 1, 'Kelsey Grammer': 1, 'Avery Brooks': 1, 'David Duchovny': 1, 'Orlando Jones': 1, 'Ted Levine': 1, 'Mario Van Peebles': 1, 'Ron Silver': 1, 'Marlon Brando': 1, 'Paul Soles': 1, 'Laurie Holden': 1, 'Hal Holbrook': 1, 'Christian Slater': 1, 'Kevin Pollak': 1, 'Brandy Norwood': 1, 'Troy Garity': 1, 'William Converse-Roberts': 1, 'Kip Pardue': 1, 'Robert Sean Leonard': 1, 'Estella Warren': 1, 'Ray Liotta': 1, \"Matt O'Leary\": 1, 'Bridget Fonda': 1, 'Chris Kattan': 1, 'Sam Neill': 1, 'Trevor Morgan': 1, 'Alessandro Nivola': 1, 'Ben Burtt': 1, 'Elissa Knight': 1, 'Fred Willard': 1, 'John Ratzenberger': 1, 'Leslie Bibb': 1, 'Karen Allen': 1, 'Mathieu Amalric': 1, 'Giancarlo Giannini': 1, 'Tilda Swinton': 1, 'Julia Ormond': 1, 'Luke Ford': 1, 'Tim Blake Nelson': 1, 'Cedric the Entertainer': 1, 'Doug Jones': 1, 'Rachel Bilson': 1, 'Carice van Houten': 1, 'Steven Strait': 1, 'Camilla Belle': 1, 'Nathanael Baring': 1, 'Mo Zinal': 1, 'Jae Head': 1, 'Sarah Jane Morris': 1, 'Miley Cyrus': 1, 'Susie Essman': 1, 'Mark Walton': 1, 'Bryan Brown': 1, 'Rhys Darby': 1, 'Sasha Alexander': 1, 'Fionnula Flanagan': 1, 'Kathleen Turner': 1, 'Simon McBurney': 1, 'Eliza Bennett': 1, 'Alexis Dziena': 1, 'Lucy Lawless': 1, 'Michelle Yeoh': 1, 'MÃ©lanie Thierry': 1, 'Jeffrey Donovan': 1, 'Geoff Pierson': 1, 'Sarah Bolger': 1, 'Andrew McCarthy': 1, 'Dwight Yoakam': 1, 'Romany Malco': 1, 'Meagan Good': 1, 'Emile Hirsch': 1, 'Scott Porter': 1, 'Carol Burnett': 1, 'Michael Angarano': 1, 'Collin Chou': 1, '50 Cent': 1, 'Donnie Wahlberg': 1, 'Emmanuelle Chriqui': 1, 'Nick Swardson': 1, 'Lainie Kazan': 1, 'Harry Treadaway': 1, 'Betty Buckley': 1, 'Tracey Ullman': 1, 'Scott Caan': 1, 'Hayley Atwell': 1, 'Alan Rickman': 1, 'Maggie Smith': 1, 'Kevin McNally': 1, 'Karin Konoval': 1, 'Freida Pinto': 1, 'Anil Kapoor': 1, 'Griffin Gluck': 1, 'Dakota Goyo': 1, 'Kevin Durand': 1, 'Jared Harris': 1, 'Kelly Reilly': 1, 'Blake Lively': 1, 'Nick Frost': 1, 'Jena Malone': 1, 'Will.i.am': 1, 'Walton Goggins': 1, 'Benedict Cumberbatch': 1, 'Jeremy Irvine': 1, 'Violante Placido': 1, 'Fergus Riordan': 1, 'Johnny Whitworth': 1, 'Matthew Macfadyen': 1, 'Will Rothhaar': 1, 'Cory Hardrict': 1, 'Jim Parrack': 1, 'Eugenio Derbez': 1, 'Tim Meadows': 1, 'Jay Chou': 1, 'Edward Furlong': 1, 'Rose McGowan': 1, 'Rachel Nichols': 1, 'Alan Alda': 1, 'Pink': 1, 'E.G. Daily': 1, 'Dan Fogler': 1, 'Breckin Meyer': 1, 'Elisabeth Harnois': 1, 'Jenny Slate': 1, 'Andy Buckley': 1, 'Jayma Mays': 1, 'Alan Cumming': 1, 'Kaley Cuoco': 1, 'Winona Ryder': 1, 'Cliff Robertson': 1, 'Rip Torn': 1, 'Lara Flynn Boyle': 1, 'Johnny Knoxville': 1, 'Samantha Morton': 1, 'Lois Smith': 1, 'Chris Sanders': 1, 'Daveigh Chase': 1, 'Tia Carrere': 1, 'Kevin McDonald': 1, 'Asia Argento': 1, 'Michael Roof': 1, 'Roscoe Lee Browne': 1, 'Martin Short': 1, 'Pierce Brosnan': 1, 'Rick Yune': 1, 'Toby Stephens': 1, 'Natasha Richardson': 1, 'Tyler Posey': 1, 'Daniel Day-Lewis': 1, 'Geena Davis': 1, 'Jonathan Lipnicki': 1, 'Anna Hoelck': 1, 'Alicia Witt': 1, 'Dana Ivey': 1, 'Robert Klein': 1, 'Rory Culkin': 1, 'Cherry Jones': 1, 'Francesca Neri': 1, 'Jonathan Frakes': 1, 'LeVar Burton': 1, 'Brent Spiner': 1, 'Gates McFadden': 1, 'Tyler Hoechlin': 1, 'Jennifer Jason Leigh': 1, 'Michael York': 1, 'Mindy Sterling': 1, 'Elizabeth Mitchell': 1, 'David Krumholtz': 1, 'Eric Lloyd': 1, 'Freddie Prinze Jr.': 1, 'Sarah Michelle Gellar': 1, 'Matthew Lillard': 1, 'Linda Cardellini': 1, 'Rowan Atkinson': 1, 'Daniel Studi': 1, 'Chopper Bernet': 1, 'Jeff LeBeau': 1, 'Courtney B. Vance': 1, 'Tom Berenger': 1, 'Charles S. Dutton': 1, 'Kelly Hu': 1, 'Steven Brand': 1, 'Bernard Hill': 1, 'Keith Dallas': 1, 'Madeleine Stowe': 1, 'Chris Klein': 1, 'Samantha Mumba': 1, 'Phyllida Law': 1, 'Laura Kirk': 1, 'Noah Emmerich': 1, 'Joss Ackland': 1, 'John Shrapnel': 1, 'Alexander Siddig': 1, 'Rachael Harris': 1, 'Zaid Farid': 1, 'Marcel IureÈ™': 1, 'Joe Pantoliano': 1, 'Jay Mohr': 1, 'Joe Morton': 1, 'Ron Rifkin': 1, 'Susanna Thompson': 1, 'Stephen Rea': 1, 'India Eisley': 1, 'Stacy Keach': 1, 'Rhys Ifans': 1, 'Kelly Macdonald': 1, 'Sam Claflin': 1, 'Suraj Sharma': 1, 'Ayush Tandon': 1, 'Gautam Belur': 1, 'Adil Hussain': 1, 'Chris Wedge': 1, 'Werner Herzog': 1, 'Sarah Silverman': 1, 'Jack McBrayer': 1, 'Jamie Elman': 1, 'Michael Stuhlbarg': 1, 'James Kidnie': 1, 'Heidi Hawkins': 1, 'Zac Efron': 1, 'Danny DeVito': 1, 'Taylor Swift': 1, 'Rob Riggle': 1, 'Alexander SkarsgÃ¥rd': 1, 'Brooklyn Decker': 1, 'Martin Klebba': 1, 'Elizabeth Reaser': 1, 'Sayed Badreya': 1, 'Aasif Mandvi': 1, 'Diego Boneta': 1, 'Jeremy Piven': 1, 'Brian Blessed': 1, 'Eva Amurri Martino': 1, 'Leighton Meester': 1, 'Vera Farmiga': 1, 'Adrianne Palicki': 1, 'Kodi Smit-McPhee': 1, 'Tucker Albrizzi': 1, 'Jodelle Ferland': 1, 'Daniela Ruah': 1, 'Aryana Engineer': 1, 'Mary Alice': 1, 'Helmut Bakaitis': 1, 'Albert Brooks': 1, 'Ellen DeGeneres': 1, 'Alexander Gould': 1, 'Brad Garrett': 1, 'Philip Baker Hall': 1, 'Catherine Bell': 1, 'Lisa Ann Walter': 1, 'Nick Stahl': 1, 'Kristanna Loken': 1, 'Albert Finney': 1, 'Jessica Lange': 1, 'Jason Biggs': 1, 'Alyson Hannigan': 1, 'Eddie Kaye Thomas': 1, 'Thomas Ian Nicholas': 1, 'Sean Connery': 1, 'Peta Wilson': 1, 'Shane West': 1, 'Stuart Townsend': 1, 'Fausto Callegarini': 1, 'Jeremy Sumpter': 1, 'Rachel Hurd-Wood': 1, 'Richard Briers': 1, 'Olivia Williams': 1, 'William Atherton': 1, 'Chad Lindberg': 1, \"James D'Arcy\": 1, 'Billy Boyd': 1, 'Joseph Morgan': 1, 'January Jones': 1, 'Hilary Swank': 1, 'LL Cool J': 1, 'Josh Charles': 1, 'Eamonn Walker': 1, 'Johnny Messner': 1, 'Uma Thurman': 1, 'Diane Keaton': 1, 'Nathaniel Parker': 1, 'Marsha Thomason': 1, 'Jennifer Tilly': 1, 'Eileen Atkins': 1, 'Jenna Elfman': 1, 'Heather Locklear': 1, 'Ludacris': 1, 'Regina King': 1, 'Kevin Nealon': 1, 'David McCullough': 1, 'Thomas Jane': 1, 'Damian Lewis': 1, 'Edward Herrmann': 1, 'Benicio del Toro': 1, 'Leslie Stefanson': 1, 'John Finn': 1, 'Kevin Conway': 1, 'C. Thomas Howell': 1, 'Wen Yann Shih': 1, 'Seymour Cassel': 1, 'Idina Menzel': 1, 'Jonathan Groff': 1, 'Santino Fontana': 1, 'Orto Ignatiussen': 1, 'Phaldut Sharma': 1, 'Christopher Eccleston': 1, 'Margot Robbie': 1, 'Kyle Chandler': 1, 'Rob Reiner': 1, 'Charlie Day': 1, 'Burn Gorman': 1, 'Andrea Riseborough': 1, 'Nikolaj Coster-Waldau': 1, 'Michael Shannon': 1, 'Miranda Cosgrove': 1, 'Sebastian Koch': 1, 'Yuliya Snigir': 1, 'Joel Murray': 1, 'Mireille Enos': 1, 'Abigail Hargrove': 1, 'Sterling Jerins': 1, 'Hailee Steinfeld': 1, 'Fred Ward': 1, 'Douglas Smith': 1, 'Leven Rambin': 1, 'Kou Shibasaki': 1, 'Min Tanaka': 1, 'Jamie Campbell Bower': 1, 'Kevin Zegers': 1, 'Jemima West': 1, 'Robert Sheehan': 1, 'Jason Sudeikis': 1, 'Aziz Ansari': 1, 'Chris Mulkey': 1, 'Yul Vazquez': 1, 'Joey King': 1, 'Eleanor Tomlinson': 1, 'Sarah Shahi': 1, 'ZoÃ« Kravitz': 1, 'Glenn Morshower': 1, 'Ryan Gosling': 1, 'Will Forte': 1, 'Barry Pepper': 1, 'Charlie Rowe': 1, 'Angourie Rice': 1, 'Katy Perry': 1, 'Tao Okamoto': 1, 'Rila Fukushima': 1, 'Svetlana Khodchenkova': 1, 'George Takei': 1, 'Colm Meaney': 1, 'Hugh Dancy': 1, 'Tiya Sircar': 1, 'Julia Winter': 1, 'Max Baker': 1, 'Caroline Chikezie': 1, 'Faith Ford': 1, 'Chris Potter': 1, 'Brittany Snow': 1, 'Justin Chatwin': 1, 'Youki Kudoh': 1, 'Tsai Chin': 1, 'Suzuka Ohgo': 1, 'Garry Marshall': 1, 'Don Knotts': 1, 'Julie Ann Emery': 1, 'Naomi Watts': 1, 'Colin Hanks': 1, 'Mel Brooks': 1, 'Paula Abdul': 1, 'Ice Cube': 1, 'Scott Speedman': 1, 'Xzibit': 1, 'Adam Brody': 1, 'AdriÃ¡n Alonso Barona': 1, 'Julio Oscar Mechoso': 1, 'Nick Chinlund': 1, 'Scott MacDonald': 1, 'Dina Spybey-Waters': 1, 'Ben Shenkman': 1, 'Craig Bierko': 1, 'Jason Schwartzman': 1, 'Ben Daniels': 1, 'Deobia Oparei': 1, 'Eugene Levy': 1, 'Tom Welling': 1, 'Jonathan Bennett': 1, 'Jesper Christensen': 1, 'Mackenzie Crook': 1, 'Roger Ashton-Griffiths': 1, 'Hanns Zischler': 1, 'Angie Harmon': 1, 'Kate Beahan': 1, 'Michael Irby': 1, 'Burt Reynolds': 1, 'Michael Irvin': 1, 'Nelly': 1, 'Heike Makatsch': 1, 'Armin Rohde': 1, 'Wilfried Hochholdinger': 1, 'Lennie James': 1, 'Robert Mammone': 1, 'James Carpinello': 1, 'Mark Consuelos': 1, 'Cheech Marin': 1, 'Audrey Tautou': 1, 'Eli Wallach': 1, 'Jake Cherry': 1, 'Dick Van Dyke': 1, 'David Hasselhoff': 1, 'Henry Winkler': 1, 'Garry Shandling': 1, 'Wanda Sykes': 1, 'Kagiso Kuypers': 1, 'Lombardo Boyar': 1, 'Carlos Alazraqui': 1, 'Jeffrey Garcia': 1, 'Janeane Garofalo': 1, 'Jim Caviezel': 1, 'Adam Goldberg': 1, 'Ed Speleers': 1, 'Robert Carlyle': 1, 'Ryan Newman': 1, 'Mitchel Musso': 1, 'Sam Lerner': 1, 'Spencer Locke': 1, 'Tammy Blanchard': 1, 'Luis Tosar': 1, 'Ryan Phillippe': 1, 'Jesse Bradford': 1, 'John Benjamin Hickey': 1, 'John Slattery': 1, 'Patricia Clarkson': 1, 'David Morrissey': 1, 'Stan Collymore': 1, 'Gary Cole': 1, 'Austin Crim': 1, 'Jake Johnson': 1, 'Brian Howe': 1, 'James Karen': 1, 'Richard Dreyfuss': 1, 'Shawn Wayans': 1, 'John Witherspoon': 1, 'Jay Hernandez': 1, 'Debra Messing': 1, 'Jennifer Hudson': 1, 'Sela Ward': 1, 'Melissa Sagemiller': 1, 'Omari Hardwick': 1, 'Brian Tee': 1, 'Nathalie Kelley': 1, 'Shad Moss': 1, 'Mos Def': 1, 'David Morse': 1, 'Jenna Stern': 1, 'David Zayas': 1, 'Eva Longoria': 1, 'Martin Donovan': 1, 'Ritchie Coster': 1, 'Scott Hazell': 1, 'Mac McDonald': 1, 'Philip Winchester': 1, 'Todd Boyce': 1, 'Bob Balaban': 1, 'Sarita Choudhury': 1, 'Cindy Cheung': 1, 'Craig T. Nelson': 1, 'Holly Hunter': 1, 'Dominique Louis': 1, 'Bridget Moynahan': 1, 'Alan Tudyk': 1, 'Rob Schneider': 1, 'Sean Astin': 1, 'Lusia Strus': 1, 'Shuler Hensley': 1, 'Rupert Evans': 1, 'Michael Jeter': 1, 'Eddie Deezen': 1, 'Chris Coppola': 1, 'Nona Gaye': 1, 'Dash Mihok': 1, 'Jay O. Sanders': 1, 'Wesley Snipes': 1, 'Bai Ling': 1, 'Sanaa Lathan': 1, 'Raoul Bova': 1, 'Colin Salmon': 1, 'Tommy Flanagan': 1, 'Jared Leto': 1, 'Rosemary Harris': 1, 'Marc Anthony': 1, 'Frances Conroy': 1, 'Christina Cox': 1, 'Shelbie Bruce': 1, 'Jason Patric': 1, 'Emilio EchevarrÃ\\xada': 1, 'Kimberly Elise': 1, 'Omar Epps': 1, 'RenÃ©e Taylor': 1, 'G. W. Bailey': 1, 'Zuleikha Robinson': 1, 'Omar Sharif': 1, 'Adam Alexi-Malle': 1, 'Louise Lombard': 1, 'Snoop Dogg': 1, 'Fred Williamson': 1, 'Minnie Driver': 1, 'CÃ©cile De France': 1, 'Robert Fyfe': 1, 'MaÃ¯ Anh Le': 1, 'Oanh Nguyen': 1, \"Jaran 'See Tao' Petcharoen\": 1, 'StÃ©phanie Lagarde': 1, 'Morris Chestnut': 1, 'Ian Holm': 1, 'Lou Romano': 1, 'Brian Dennehy': 1, 'Peter Sohn': 1, 'Charlie Tahan': 1, 'Salli Richardson-Whitfield': 1, 'Willow Smith': 1, 'Thomas Haden Church': 1, 'Topher Grace': 1, 'Charlie Cox': 1, 'Vincent Regan': 1, 'Wes Bentley': 1, 'Kate Butler': 1, 'Lymari Nadal': 1, 'Cameron Richardson': 1, 'Jerry Seinfeld': 1, 'Laurie Metcalf': 1, 'Nicole Sullivan': 1, 'Harland Williams': 1, 'Patrick Dempsey': 1, 'Rachel Covey': 1, 'Anthony Edwards': 1, 'Dan Castellaneta': 1, 'Julie Kavner': 1, 'Nancy Cartwright': 1, 'Yeardley Smith': 1, 'Om Puri': 1, 'Dakota Blue Richards': 1, 'Dallas Roberts': 1, 'Peter Fonda': 1, 'Lena Olin': 1, 'Charlie Hewson': 1, 'Jimmy Bennett': 1, 'Tory Kittles': 1, 'Jerry Stiller': 1, 'Rob Corddry': 1, 'Jon Heder': 1, 'James Woods': 1, 'ZoÃ« Bell': 1, 'Vanessa Ferlito': 1, 'Sydney Tamiia Poitier': 1, 'Rachael Taylor': 1, 'Jeremy Northam': 1, 'Jackson Bond': 1, 'Richard Portnow': 1, 'Gary Dourdan': 1, 'Terry Crews': 1, 'Clifton Powell': 1, 'Lester Speight': 1, 'Aishwarya Rai Bachchan': 1, 'Peter Mullan': 1, 'Oliver Reed': 1, 'Taylor Momsen': 1, 'Christine Baranski': 1, 'Bill Irwin': 1, 'Paul Sanchez': 1, 'Lari White': 1, 'Dougray Scott': 1, 'Eartha Kitt': 1, 'Wendie Malick': 1, 'Lauren Holly': 1, 'Mark Feuerstein': 1, 'D. B. Sweeney': 1, 'Alfre Woodard': 1, 'Ossie Davis': 1, 'Max Casella': 1, 'Hayden Panettiere': 1, 'John Forsythe': 1, 'Joely Richardson': 1, 'Jon Bon Jovi': 1, 'David Keith': 1, 'Will Patton': 1, 'Blythe Danner': 1, 'Rosie Perez': 1, 'Armand Assante': 1, 'Edward James Olmos': 1, 'Elisabeth Shue': 1, 'Kim Dickens': 1, 'Rhona Mitra': 1, 'Joel Gretsch': 1, 'Saul Rubinek': 1, 'Michael Rapaport': 1, 'Tony Goldwyn': 1, 'Sarah Wynter': 1, 'Spencer Treat Clark': 1, 'John Patrick Amedori': 1, 'Patrick Fugit': 1, 'Simon Baker': 1, \"Jerry O'Connell\": 1, 'Rachael Leigh Cook': 1, 'Johnny Strong': 1, 'Stephen Baldwin': 1, 'Kristen Johnston': 1, 'Joan Collins': 1, 'Steven Culp': 1, 'Shawn Driscoll': 1, 'Bill Pullman': 1, \"Chris O'Donnell\": 1, 'Robin Tunney': 1, 'Diana Scarwid': 1, 'James Remar': 1, 'Alice Evans': 1, 'Tim McInnerny': 1, 'GÃ©rard Depardieu': 1, 'Janet Jackson': 1, 'Larry Miller': 1, 'John Ales': 1, 'Richard Gant': 1, 'James Spader': 1, 'Robert Forster': 1, 'Lou Diamond Phillips': 1, 'Lily Tomlin': 1, 'Rene Russo': 1, 'Jason Alexander': 1, 'Piper Perabo': 1})\n"
     ]
    }
   ],
   "source": [
    "# Код:\n",
    "count = 0\n",
    "\n",
    "for string in data.production_companies:\n",
    "    f_overview = data.overview.iloc[count] \n",
    "    words = len(f_overview.split())\n",
    "    upd_string = string.split(sep = \"|\")\n",
    "    for company in upd_string:\n",
    "        c[company] += words\n",
    "    count += 1\n",
    "    \n",
    "print(c)"
   ]
  },
  {
   "cell_type": "markdown",
   "metadata": {
    "colab_type": "text",
    "id": "FJ1AFt90VqAP"
   },
   "source": [
    "# 26. Какие фильмы входят в 1 процент лучших по рейтингу? \n",
    "по vote_average"
   ]
  },
  {
   "cell_type": "code",
   "execution_count": 57,
   "metadata": {
    "colab": {},
    "colab_type": "code",
    "id": "8qmJVq4CVqAQ"
   },
   "outputs": [],
   "source": [
    "answers['26'] = '1. Inside Out, The Dark Knight, 12 Years a Slave'\n",
    "# +"
   ]
  },
  {
   "cell_type": "code",
   "execution_count": 58,
   "metadata": {},
   "outputs": [
    {
     "data": {
      "text/html": [
       "<div>\n",
       "<style scoped>\n",
       "    .dataframe tbody tr th:only-of-type {\n",
       "        vertical-align: middle;\n",
       "    }\n",
       "\n",
       "    .dataframe tbody tr th {\n",
       "        vertical-align: top;\n",
       "    }\n",
       "\n",
       "    .dataframe thead th {\n",
       "        text-align: right;\n",
       "    }\n",
       "</style>\n",
       "<table border=\"1\" class=\"dataframe\">\n",
       "  <thead>\n",
       "    <tr style=\"text-align: right;\">\n",
       "      <th></th>\n",
       "      <th>imdb_id</th>\n",
       "      <th>budget</th>\n",
       "      <th>revenue</th>\n",
       "      <th>profit</th>\n",
       "      <th>original_title</th>\n",
       "      <th>cast</th>\n",
       "      <th>director</th>\n",
       "      <th>tagline</th>\n",
       "      <th>overview</th>\n",
       "      <th>runtime</th>\n",
       "      <th>genres</th>\n",
       "      <th>production_companies</th>\n",
       "      <th>release_date</th>\n",
       "      <th>vote_average</th>\n",
       "      <th>release_year</th>\n",
       "    </tr>\n",
       "  </thead>\n",
       "  <tbody>\n",
       "    <tr>\n",
       "      <th>9</th>\n",
       "      <td>tt2096673</td>\n",
       "      <td>175000000</td>\n",
       "      <td>853708609</td>\n",
       "      <td>678708609</td>\n",
       "      <td>Inside Out</td>\n",
       "      <td>Amy Poehler|Phyllis Smith|Richard Kind|Bill Ha...</td>\n",
       "      <td>Pete Docter</td>\n",
       "      <td>Meet the little voices inside your head.</td>\n",
       "      <td>Growing up can be a bumpy road, and it's no ex...</td>\n",
       "      <td>94</td>\n",
       "      <td>Comedy|Animation|Family</td>\n",
       "      <td>Walt Disney Pictures|Pixar Animation Studios|W...</td>\n",
       "      <td>6/9/2015</td>\n",
       "      <td>8.0</td>\n",
       "      <td>2015</td>\n",
       "    </tr>\n",
       "    <tr>\n",
       "      <th>28</th>\n",
       "      <td>tt1895587</td>\n",
       "      <td>20000000</td>\n",
       "      <td>88346473</td>\n",
       "      <td>68346473</td>\n",
       "      <td>Spotlight</td>\n",
       "      <td>Mark Ruffalo|Michael Keaton|Rachel McAdams|Lie...</td>\n",
       "      <td>Tom McCarthy</td>\n",
       "      <td>Break the story. Break the silence.</td>\n",
       "      <td>The true story of how The Boston Globe uncover...</td>\n",
       "      <td>128</td>\n",
       "      <td>Drama|Thriller|History</td>\n",
       "      <td>Participant Media|Open Road Films|Anonymous Co...</td>\n",
       "      <td>11/6/2015</td>\n",
       "      <td>7.8</td>\n",
       "      <td>2015</td>\n",
       "    </tr>\n",
       "    <tr>\n",
       "      <th>34</th>\n",
       "      <td>tt3170832</td>\n",
       "      <td>6000000</td>\n",
       "      <td>35401758</td>\n",
       "      <td>29401758</td>\n",
       "      <td>Room</td>\n",
       "      <td>Brie Larson|Jacob Tremblay|Joan Allen|Sean Bri...</td>\n",
       "      <td>Lenny Abrahamson</td>\n",
       "      <td>Love knows no boundaries</td>\n",
       "      <td>Jack is a young boy of 5 years old who has liv...</td>\n",
       "      <td>117</td>\n",
       "      <td>Drama|Thriller</td>\n",
       "      <td>Element Pictures|No Trace Camping|A24|Duperele...</td>\n",
       "      <td>10/16/2015</td>\n",
       "      <td>8.0</td>\n",
       "      <td>2015</td>\n",
       "    </tr>\n",
       "    <tr>\n",
       "      <th>118</th>\n",
       "      <td>tt0816692</td>\n",
       "      <td>165000000</td>\n",
       "      <td>621752480</td>\n",
       "      <td>456752480</td>\n",
       "      <td>Interstellar</td>\n",
       "      <td>Matthew McConaughey|Jessica Chastain|Anne Hath...</td>\n",
       "      <td>Christopher Nolan</td>\n",
       "      <td>Mankind was born on Earth. It was never meant ...</td>\n",
       "      <td>Interstellar chronicles the adventures of a gr...</td>\n",
       "      <td>169</td>\n",
       "      <td>Adventure|Drama|Science Fiction</td>\n",
       "      <td>Paramount Pictures|Legendary Pictures|Warner B...</td>\n",
       "      <td>11/5/2014</td>\n",
       "      <td>8.0</td>\n",
       "      <td>2014</td>\n",
       "    </tr>\n",
       "    <tr>\n",
       "      <th>119</th>\n",
       "      <td>tt2015381</td>\n",
       "      <td>170000000</td>\n",
       "      <td>773312399</td>\n",
       "      <td>603312399</td>\n",
       "      <td>Guardians of the Galaxy</td>\n",
       "      <td>Chris Pratt|Zoe Saldana|Dave Bautista|Vin Dies...</td>\n",
       "      <td>James Gunn</td>\n",
       "      <td>All heroes start somewhere.</td>\n",
       "      <td>Light years from Earth, 26 years after being a...</td>\n",
       "      <td>121</td>\n",
       "      <td>Action|Science Fiction|Adventure</td>\n",
       "      <td>Marvel Studios|Moving Picture Company (MPC)|Bu...</td>\n",
       "      <td>7/30/2014</td>\n",
       "      <td>7.9</td>\n",
       "      <td>2014</td>\n",
       "    </tr>\n",
       "    <tr>\n",
       "      <th>124</th>\n",
       "      <td>tt2245084</td>\n",
       "      <td>165000000</td>\n",
       "      <td>652105443</td>\n",
       "      <td>487105443</td>\n",
       "      <td>Big Hero 6</td>\n",
       "      <td>Scott Adsit|Ryan Potter|Daniel Henney|T.J. Mil...</td>\n",
       "      <td>Don Hall|Chris Williams</td>\n",
       "      <td>From the creators of Wreck-it Ralph and Frozen</td>\n",
       "      <td>The special bond that develops between plus-si...</td>\n",
       "      <td>102</td>\n",
       "      <td>Adventure|Family|Animation|Action|Comedy</td>\n",
       "      <td>Walt Disney Pictures|Walt Disney Animation Stu...</td>\n",
       "      <td>10/24/2014</td>\n",
       "      <td>7.8</td>\n",
       "      <td>2014</td>\n",
       "    </tr>\n",
       "    <tr>\n",
       "      <th>125</th>\n",
       "      <td>tt2084970</td>\n",
       "      <td>14000000</td>\n",
       "      <td>233555708</td>\n",
       "      <td>219555708</td>\n",
       "      <td>The Imitation Game</td>\n",
       "      <td>Benedict Cumberbatch|Keira Knightley|Matthew G...</td>\n",
       "      <td>Morten Tyldum</td>\n",
       "      <td>The true enigma was the man who cracked the code.</td>\n",
       "      <td>Based on the real life story of legendary cryp...</td>\n",
       "      <td>113</td>\n",
       "      <td>History|Drama|Thriller|War</td>\n",
       "      <td>Black Bear Pictures|Bristol Automotive</td>\n",
       "      <td>11/14/2014</td>\n",
       "      <td>8.0</td>\n",
       "      <td>2014</td>\n",
       "    </tr>\n",
       "    <tr>\n",
       "      <th>128</th>\n",
       "      <td>tt2267998</td>\n",
       "      <td>61000000</td>\n",
       "      <td>369330363</td>\n",
       "      <td>308330363</td>\n",
       "      <td>Gone Girl</td>\n",
       "      <td>Ben Affleck|Rosamund Pike|Carrie Coon|Neil Pat...</td>\n",
       "      <td>David Fincher</td>\n",
       "      <td>You don't know what you've got 'til it's...</td>\n",
       "      <td>With his wife's disappearance having become th...</td>\n",
       "      <td>145</td>\n",
       "      <td>Mystery|Thriller|Drama</td>\n",
       "      <td>Twentieth Century Fox Film Corporation|Regency...</td>\n",
       "      <td>10/1/2014</td>\n",
       "      <td>7.9</td>\n",
       "      <td>2014</td>\n",
       "    </tr>\n",
       "    <tr>\n",
       "      <th>138</th>\n",
       "      <td>tt2278388</td>\n",
       "      <td>30000000</td>\n",
       "      <td>174600318</td>\n",
       "      <td>144600318</td>\n",
       "      <td>The Grand Budapest Hotel</td>\n",
       "      <td>Ralph Fiennes|Tony Revolori|F. Murray Abraham|...</td>\n",
       "      <td>Wes Anderson</td>\n",
       "      <td>A perfect holiday without leaving home.</td>\n",
       "      <td>The Grand Budapest Hotel tells of a legendary ...</td>\n",
       "      <td>99</td>\n",
       "      <td>Comedy|Drama</td>\n",
       "      <td>Fox Searchlight Pictures|Scott Rudin Productio...</td>\n",
       "      <td>2/26/2014</td>\n",
       "      <td>7.9</td>\n",
       "      <td>2014</td>\n",
       "    </tr>\n",
       "    <tr>\n",
       "      <th>155</th>\n",
       "      <td>tt2980516</td>\n",
       "      <td>15000000</td>\n",
       "      <td>121201940</td>\n",
       "      <td>106201940</td>\n",
       "      <td>The Theory of Everything</td>\n",
       "      <td>Eddie Redmayne|Felicity Jones|Harry Lloyd|Davi...</td>\n",
       "      <td>James Marsh</td>\n",
       "      <td>His Mind Changed Our World. Her Love Changed His.</td>\n",
       "      <td>A look at the relationship between the famous ...</td>\n",
       "      <td>123</td>\n",
       "      <td>Drama|Romance</td>\n",
       "      <td>Working Title Films</td>\n",
       "      <td>11/26/2014</td>\n",
       "      <td>7.8</td>\n",
       "      <td>2014</td>\n",
       "    </tr>\n",
       "    <tr>\n",
       "      <th>177</th>\n",
       "      <td>tt2582846</td>\n",
       "      <td>12000000</td>\n",
       "      <td>305151265</td>\n",
       "      <td>293151265</td>\n",
       "      <td>The Fault in Our Stars</td>\n",
       "      <td>Shailene Woodley|Ansel Elgort|Nat Wolff|Laura ...</td>\n",
       "      <td>Josh Boone</td>\n",
       "      <td>One Sick Love Story</td>\n",
       "      <td>Despite the tumor-shrinking medical miracle th...</td>\n",
       "      <td>125</td>\n",
       "      <td>Romance|Drama</td>\n",
       "      <td>Fox 2000 Pictures|Temple Hill Entertainment|TS...</td>\n",
       "      <td>5/16/2014</td>\n",
       "      <td>7.8</td>\n",
       "      <td>2014</td>\n",
       "    </tr>\n",
       "    <tr>\n",
       "      <th>283</th>\n",
       "      <td>tt0485947</td>\n",
       "      <td>47000000</td>\n",
       "      <td>3547209</td>\n",
       "      <td>-43452791</td>\n",
       "      <td>Mr. Nobody</td>\n",
       "      <td>Jared Leto|Diane Kruger|Linh Äan Pháº¡m|Sarah ...</td>\n",
       "      <td>Jaco Van Dormael</td>\n",
       "      <td>Nothing is real, everything is possible.</td>\n",
       "      <td>Nemo Nobody leads an ordinary existence with h...</td>\n",
       "      <td>141</td>\n",
       "      <td>Science Fiction|Drama|Romance|Fantasy</td>\n",
       "      <td>Pan EuropÃ©enne Production|Virtual Films</td>\n",
       "      <td>9/11/2009</td>\n",
       "      <td>7.8</td>\n",
       "      <td>2009</td>\n",
       "    </tr>\n",
       "    <tr>\n",
       "      <th>316</th>\n",
       "      <td>tt1187043</td>\n",
       "      <td>9000000</td>\n",
       "      <td>70000000</td>\n",
       "      <td>61000000</td>\n",
       "      <td>3 Idiots</td>\n",
       "      <td>Aamir Khan|Kareena Kapoor|Madhavan|Sharman Jos...</td>\n",
       "      <td>Rajkumar Hirani</td>\n",
       "      <td>Don't BE A STUPID BE AN I.D.I.O.T.</td>\n",
       "      <td>In the tradition of â€œFerris Buellerâ€™s Day ...</td>\n",
       "      <td>170</td>\n",
       "      <td>Drama|Comedy|Romance</td>\n",
       "      <td>Vidhu Vinod Chopra Productions</td>\n",
       "      <td>12/23/2009</td>\n",
       "      <td>7.8</td>\n",
       "      <td>2009</td>\n",
       "    </tr>\n",
       "    <tr>\n",
       "      <th>370</th>\n",
       "      <td>tt1375666</td>\n",
       "      <td>160000000</td>\n",
       "      <td>825500000</td>\n",
       "      <td>665500000</td>\n",
       "      <td>Inception</td>\n",
       "      <td>Leonardo DiCaprio|Joseph Gordon-Levitt|Ellen P...</td>\n",
       "      <td>Christopher Nolan</td>\n",
       "      <td>Your mind is the scene of the crime.</td>\n",
       "      <td>Cobb, a skilled thief who commits corporate es...</td>\n",
       "      <td>148</td>\n",
       "      <td>Action|Thriller|Science Fiction|Mystery|Adventure</td>\n",
       "      <td>Legendary Pictures|Warner Bros.|Syncopy</td>\n",
       "      <td>7/14/2010</td>\n",
       "      <td>7.9</td>\n",
       "      <td>2010</td>\n",
       "    </tr>\n",
       "    <tr>\n",
       "      <th>496</th>\n",
       "      <td>tt0120737</td>\n",
       "      <td>93000000</td>\n",
       "      <td>871368364</td>\n",
       "      <td>778368364</td>\n",
       "      <td>The Lord of the Rings: The Fellowship of the Ring</td>\n",
       "      <td>Elijah Wood|Ian McKellen|Viggo Mortensen|Liv T...</td>\n",
       "      <td>Peter Jackson</td>\n",
       "      <td>One ring to rule them all</td>\n",
       "      <td>Young hobbit Frodo Baggins, after inheriting a...</td>\n",
       "      <td>178</td>\n",
       "      <td>Adventure|Fantasy|Action</td>\n",
       "      <td>WingNut Films|New Line Cinema|The Saul Zaentz ...</td>\n",
       "      <td>12/18/2001</td>\n",
       "      <td>7.8</td>\n",
       "      <td>2001</td>\n",
       "    </tr>\n",
       "    <tr>\n",
       "      <th>599</th>\n",
       "      <td>tt0468569</td>\n",
       "      <td>185000000</td>\n",
       "      <td>1001921825</td>\n",
       "      <td>816921825</td>\n",
       "      <td>The Dark Knight</td>\n",
       "      <td>Christian Bale|Michael Caine|Heath Ledger|Aaro...</td>\n",
       "      <td>Christopher Nolan</td>\n",
       "      <td>Why So Serious?</td>\n",
       "      <td>Batman raises the stakes in his war on crime. ...</td>\n",
       "      <td>152</td>\n",
       "      <td>Drama|Action|Crime|Thriller</td>\n",
       "      <td>DC Comics|Legendary Pictures|Warner Bros.|Syncopy</td>\n",
       "      <td>7/16/2008</td>\n",
       "      <td>8.1</td>\n",
       "      <td>2008</td>\n",
       "    </tr>\n",
       "    <tr>\n",
       "      <th>863</th>\n",
       "      <td>tt0167261</td>\n",
       "      <td>79000000</td>\n",
       "      <td>926287400</td>\n",
       "      <td>847287400</td>\n",
       "      <td>The Lord of the Rings: The Two Towers</td>\n",
       "      <td>Elijah Wood|Ian McKellen|Viggo Mortensen|Liv T...</td>\n",
       "      <td>Peter Jackson</td>\n",
       "      <td>A New Power Is Rising.</td>\n",
       "      <td>Frodo and Sam are trekking to Mordor to destro...</td>\n",
       "      <td>179</td>\n",
       "      <td>Adventure|Fantasy|Action</td>\n",
       "      <td>WingNut Films|New Line Cinema|The Saul Zaentz ...</td>\n",
       "      <td>12/18/2002</td>\n",
       "      <td>7.8</td>\n",
       "      <td>2002</td>\n",
       "    </tr>\n",
       "    <tr>\n",
       "      <th>872</th>\n",
       "      <td>tt0253474</td>\n",
       "      <td>35000000</td>\n",
       "      <td>120072577</td>\n",
       "      <td>85072577</td>\n",
       "      <td>The Pianist</td>\n",
       "      <td>Adrien Brody|Thomas Kretschmann|Frank Finlay|M...</td>\n",
       "      <td>Roman Polanski</td>\n",
       "      <td>Music was his passion. Survival was his master...</td>\n",
       "      <td>The Pianist is a film adapted from the biograp...</td>\n",
       "      <td>150</td>\n",
       "      <td>Drama|War</td>\n",
       "      <td>Bac Films|Canal+Polska|Heritage Films|Studio B...</td>\n",
       "      <td>9/24/2002</td>\n",
       "      <td>7.9</td>\n",
       "      <td>2002</td>\n",
       "    </tr>\n",
       "    <tr>\n",
       "      <th>1081</th>\n",
       "      <td>tt0167260</td>\n",
       "      <td>94000000</td>\n",
       "      <td>1118888979</td>\n",
       "      <td>1024888979</td>\n",
       "      <td>The Lord of the Rings: The Return of the King</td>\n",
       "      <td>Elijah Wood|Ian McKellen|Viggo Mortensen|Liv T...</td>\n",
       "      <td>Peter Jackson</td>\n",
       "      <td>The eye of the enemy is moving.</td>\n",
       "      <td>Aragorn is revealed as the heir to the ancient...</td>\n",
       "      <td>201</td>\n",
       "      <td>Adventure|Fantasy|Action</td>\n",
       "      <td>WingNut Films|New Line Cinema</td>\n",
       "      <td>12/1/2003</td>\n",
       "      <td>7.9</td>\n",
       "      <td>2003</td>\n",
       "    </tr>\n",
       "    <tr>\n",
       "      <th>1183</th>\n",
       "      <td>tt0993846</td>\n",
       "      <td>100000000</td>\n",
       "      <td>392000694</td>\n",
       "      <td>292000694</td>\n",
       "      <td>The Wolf of Wall Street</td>\n",
       "      <td>Leonardo DiCaprio|Jonah Hill|Margot Robbie|Kyl...</td>\n",
       "      <td>Martin Scorsese</td>\n",
       "      <td>EARN. SPEND. PARTY.</td>\n",
       "      <td>A New York stockbroker refuses to cooperate in...</td>\n",
       "      <td>180</td>\n",
       "      <td>Crime|Drama|Comedy</td>\n",
       "      <td>Paramount Pictures|Appian Way|EMJAG Production...</td>\n",
       "      <td>12/25/2013</td>\n",
       "      <td>7.9</td>\n",
       "      <td>2013</td>\n",
       "    </tr>\n",
       "    <tr>\n",
       "      <th>1188</th>\n",
       "      <td>tt1798709</td>\n",
       "      <td>23000000</td>\n",
       "      <td>47351251</td>\n",
       "      <td>24351251</td>\n",
       "      <td>Her</td>\n",
       "      <td>Joaquin Phoenix|Scarlett Johansson|Rooney Mara...</td>\n",
       "      <td>Spike Jonze</td>\n",
       "      <td>A Spike Jonze Love Story</td>\n",
       "      <td>In the not so distant future, Theodore, a lone...</td>\n",
       "      <td>126</td>\n",
       "      <td>Romance|Science Fiction|Drama</td>\n",
       "      <td>Annapurna Pictures</td>\n",
       "      <td>12/18/2013</td>\n",
       "      <td>7.8</td>\n",
       "      <td>2013</td>\n",
       "    </tr>\n",
       "    <tr>\n",
       "      <th>1191</th>\n",
       "      <td>tt2024544</td>\n",
       "      <td>20000000</td>\n",
       "      <td>187000000</td>\n",
       "      <td>167000000</td>\n",
       "      <td>12 Years a Slave</td>\n",
       "      <td>Chiwetel Ejiofor|Michael Fassbender|Lupita Nyo...</td>\n",
       "      <td>Steve McQueen</td>\n",
       "      <td>The extraordinary true story of Solomon Northup</td>\n",
       "      <td>In the pre-Civil War United States, Solomon No...</td>\n",
       "      <td>134</td>\n",
       "      <td>Drama|History</td>\n",
       "      <td>Plan B Entertainment|Regency Enterprises|River...</td>\n",
       "      <td>10/18/2013</td>\n",
       "      <td>7.9</td>\n",
       "      <td>2013</td>\n",
       "    </tr>\n",
       "    <tr>\n",
       "      <th>1205</th>\n",
       "      <td>tt1392214</td>\n",
       "      <td>46000000</td>\n",
       "      <td>122126687</td>\n",
       "      <td>76126687</td>\n",
       "      <td>Prisoners</td>\n",
       "      <td>Hugh Jackman|Jake Gyllenhaal|Paul Dano|Maria B...</td>\n",
       "      <td>Denis Villeneuve</td>\n",
       "      <td>Every moment matters.</td>\n",
       "      <td>When Keller Dover's daughter and her friend go...</td>\n",
       "      <td>153</td>\n",
       "      <td>Drama|Thriller|Crime</td>\n",
       "      <td>Alcon Entertainment|Madhouse Entertainment|8:3...</td>\n",
       "      <td>9/18/2013</td>\n",
       "      <td>7.8</td>\n",
       "      <td>2013</td>\n",
       "    </tr>\n",
       "    <tr>\n",
       "      <th>1213</th>\n",
       "      <td>tt0790636</td>\n",
       "      <td>5000000</td>\n",
       "      <td>55198285</td>\n",
       "      <td>50198285</td>\n",
       "      <td>Dallas Buyers Club</td>\n",
       "      <td>Matthew McConaughey|Jennifer Garner|Jared Leto...</td>\n",
       "      <td>Jean-Marc VallÃ©e</td>\n",
       "      <td>Sometimes it takes a hustler to change the world</td>\n",
       "      <td>Loosely based on the true-life tale of Ron Woo...</td>\n",
       "      <td>117</td>\n",
       "      <td>Drama|History</td>\n",
       "      <td>Universal Studios|Universal Pictures|Voltage P...</td>\n",
       "      <td>9/7/2013</td>\n",
       "      <td>7.8</td>\n",
       "      <td>2013</td>\n",
       "    </tr>\n",
       "    <tr>\n",
       "      <th>1444</th>\n",
       "      <td>tt0482571</td>\n",
       "      <td>40000000</td>\n",
       "      <td>109676311</td>\n",
       "      <td>69676311</td>\n",
       "      <td>The Prestige</td>\n",
       "      <td>Hugh Jackman|Christian Bale|Michael Caine|Scar...</td>\n",
       "      <td>Christopher Nolan</td>\n",
       "      <td>Are You Watching Closely?</td>\n",
       "      <td>A mysterious story of two magicians whose inte...</td>\n",
       "      <td>130</td>\n",
       "      <td>Drama|Mystery|Thriller</td>\n",
       "      <td>Touchstone Pictures|Syncopy</td>\n",
       "      <td>10/19/2006</td>\n",
       "      <td>7.8</td>\n",
       "      <td>2006</td>\n",
       "    </tr>\n",
       "    <tr>\n",
       "      <th>1563</th>\n",
       "      <td>tt0338013</td>\n",
       "      <td>20000000</td>\n",
       "      <td>72258126</td>\n",
       "      <td>52258126</td>\n",
       "      <td>Eternal Sunshine of the Spotless Mind</td>\n",
       "      <td>Jim Carrey|Kate Winslet|Elijah Wood|Mark Ruffa...</td>\n",
       "      <td>Michel Gondry</td>\n",
       "      <td>I already forget how I used to feel about you.</td>\n",
       "      <td>Joel Barish, heartbroken that his girlfriend u...</td>\n",
       "      <td>108</td>\n",
       "      <td>Science Fiction|Drama|Romance</td>\n",
       "      <td>Anonymous Content|This Is That Productions|Foc...</td>\n",
       "      <td>3/19/2004</td>\n",
       "      <td>7.8</td>\n",
       "      <td>2004</td>\n",
       "    </tr>\n",
       "    <tr>\n",
       "      <th>1688</th>\n",
       "      <td>tt0469494</td>\n",
       "      <td>25000000</td>\n",
       "      <td>76181545</td>\n",
       "      <td>51181545</td>\n",
       "      <td>There Will Be Blood</td>\n",
       "      <td>Daniel Day-Lewis|Paul Dano|Dillon Freasier|Cia...</td>\n",
       "      <td>Paul Thomas Anderson</td>\n",
       "      <td>There Will Be Greed. There Will Be Vengeance.</td>\n",
       "      <td>When ruthless oil prospector, Daniel Plainview...</td>\n",
       "      <td>158</td>\n",
       "      <td>Drama</td>\n",
       "      <td>Miramax Films|Ghoulardi Film Company|Paramount...</td>\n",
       "      <td>12/28/2007</td>\n",
       "      <td>7.8</td>\n",
       "      <td>2007</td>\n",
       "    </tr>\n",
       "    <tr>\n",
       "      <th>1800</th>\n",
       "      <td>tt0209144</td>\n",
       "      <td>9000000</td>\n",
       "      <td>39723096</td>\n",
       "      <td>30723096</td>\n",
       "      <td>Memento</td>\n",
       "      <td>Guy Pearce|Carrie-Anne Moss|Joe Pantoliano|Mar...</td>\n",
       "      <td>Christopher Nolan</td>\n",
       "      <td>Some memories are best forgotten.</td>\n",
       "      <td>Suffering short-term memory loss after a head ...</td>\n",
       "      <td>113</td>\n",
       "      <td>Mystery|Thriller</td>\n",
       "      <td>Summit Entertainment|Newmarket Capital Group|T...</td>\n",
       "      <td>10/11/2000</td>\n",
       "      <td>7.9</td>\n",
       "      <td>2000</td>\n",
       "    </tr>\n",
       "  </tbody>\n",
       "</table>\n",
       "</div>"
      ],
      "text/plain": [
       "        imdb_id     budget     revenue      profit  \\\n",
       "9     tt2096673  175000000   853708609   678708609   \n",
       "28    tt1895587   20000000    88346473    68346473   \n",
       "34    tt3170832    6000000    35401758    29401758   \n",
       "118   tt0816692  165000000   621752480   456752480   \n",
       "119   tt2015381  170000000   773312399   603312399   \n",
       "124   tt2245084  165000000   652105443   487105443   \n",
       "125   tt2084970   14000000   233555708   219555708   \n",
       "128   tt2267998   61000000   369330363   308330363   \n",
       "138   tt2278388   30000000   174600318   144600318   \n",
       "155   tt2980516   15000000   121201940   106201940   \n",
       "177   tt2582846   12000000   305151265   293151265   \n",
       "283   tt0485947   47000000     3547209   -43452791   \n",
       "316   tt1187043    9000000    70000000    61000000   \n",
       "370   tt1375666  160000000   825500000   665500000   \n",
       "496   tt0120737   93000000   871368364   778368364   \n",
       "599   tt0468569  185000000  1001921825   816921825   \n",
       "863   tt0167261   79000000   926287400   847287400   \n",
       "872   tt0253474   35000000   120072577    85072577   \n",
       "1081  tt0167260   94000000  1118888979  1024888979   \n",
       "1183  tt0993846  100000000   392000694   292000694   \n",
       "1188  tt1798709   23000000    47351251    24351251   \n",
       "1191  tt2024544   20000000   187000000   167000000   \n",
       "1205  tt1392214   46000000   122126687    76126687   \n",
       "1213  tt0790636    5000000    55198285    50198285   \n",
       "1444  tt0482571   40000000   109676311    69676311   \n",
       "1563  tt0338013   20000000    72258126    52258126   \n",
       "1688  tt0469494   25000000    76181545    51181545   \n",
       "1800  tt0209144    9000000    39723096    30723096   \n",
       "\n",
       "                                         original_title  \\\n",
       "9                                            Inside Out   \n",
       "28                                            Spotlight   \n",
       "34                                                 Room   \n",
       "118                                        Interstellar   \n",
       "119                             Guardians of the Galaxy   \n",
       "124                                          Big Hero 6   \n",
       "125                                  The Imitation Game   \n",
       "128                                           Gone Girl   \n",
       "138                            The Grand Budapest Hotel   \n",
       "155                            The Theory of Everything   \n",
       "177                              The Fault in Our Stars   \n",
       "283                                          Mr. Nobody   \n",
       "316                                            3 Idiots   \n",
       "370                                           Inception   \n",
       "496   The Lord of the Rings: The Fellowship of the Ring   \n",
       "599                                     The Dark Knight   \n",
       "863               The Lord of the Rings: The Two Towers   \n",
       "872                                         The Pianist   \n",
       "1081      The Lord of the Rings: The Return of the King   \n",
       "1183                            The Wolf of Wall Street   \n",
       "1188                                                Her   \n",
       "1191                                   12 Years a Slave   \n",
       "1205                                          Prisoners   \n",
       "1213                                 Dallas Buyers Club   \n",
       "1444                                       The Prestige   \n",
       "1563              Eternal Sunshine of the Spotless Mind   \n",
       "1688                                There Will Be Blood   \n",
       "1800                                            Memento   \n",
       "\n",
       "                                                   cast  \\\n",
       "9     Amy Poehler|Phyllis Smith|Richard Kind|Bill Ha...   \n",
       "28    Mark Ruffalo|Michael Keaton|Rachel McAdams|Lie...   \n",
       "34    Brie Larson|Jacob Tremblay|Joan Allen|Sean Bri...   \n",
       "118   Matthew McConaughey|Jessica Chastain|Anne Hath...   \n",
       "119   Chris Pratt|Zoe Saldana|Dave Bautista|Vin Dies...   \n",
       "124   Scott Adsit|Ryan Potter|Daniel Henney|T.J. Mil...   \n",
       "125   Benedict Cumberbatch|Keira Knightley|Matthew G...   \n",
       "128   Ben Affleck|Rosamund Pike|Carrie Coon|Neil Pat...   \n",
       "138   Ralph Fiennes|Tony Revolori|F. Murray Abraham|...   \n",
       "155   Eddie Redmayne|Felicity Jones|Harry Lloyd|Davi...   \n",
       "177   Shailene Woodley|Ansel Elgort|Nat Wolff|Laura ...   \n",
       "283   Jared Leto|Diane Kruger|Linh Äan Pháº¡m|Sarah ...   \n",
       "316   Aamir Khan|Kareena Kapoor|Madhavan|Sharman Jos...   \n",
       "370   Leonardo DiCaprio|Joseph Gordon-Levitt|Ellen P...   \n",
       "496   Elijah Wood|Ian McKellen|Viggo Mortensen|Liv T...   \n",
       "599   Christian Bale|Michael Caine|Heath Ledger|Aaro...   \n",
       "863   Elijah Wood|Ian McKellen|Viggo Mortensen|Liv T...   \n",
       "872   Adrien Brody|Thomas Kretschmann|Frank Finlay|M...   \n",
       "1081  Elijah Wood|Ian McKellen|Viggo Mortensen|Liv T...   \n",
       "1183  Leonardo DiCaprio|Jonah Hill|Margot Robbie|Kyl...   \n",
       "1188  Joaquin Phoenix|Scarlett Johansson|Rooney Mara...   \n",
       "1191  Chiwetel Ejiofor|Michael Fassbender|Lupita Nyo...   \n",
       "1205  Hugh Jackman|Jake Gyllenhaal|Paul Dano|Maria B...   \n",
       "1213  Matthew McConaughey|Jennifer Garner|Jared Leto...   \n",
       "1444  Hugh Jackman|Christian Bale|Michael Caine|Scar...   \n",
       "1563  Jim Carrey|Kate Winslet|Elijah Wood|Mark Ruffa...   \n",
       "1688  Daniel Day-Lewis|Paul Dano|Dillon Freasier|Cia...   \n",
       "1800  Guy Pearce|Carrie-Anne Moss|Joe Pantoliano|Mar...   \n",
       "\n",
       "                     director  \\\n",
       "9                 Pete Docter   \n",
       "28               Tom McCarthy   \n",
       "34           Lenny Abrahamson   \n",
       "118         Christopher Nolan   \n",
       "119                James Gunn   \n",
       "124   Don Hall|Chris Williams   \n",
       "125             Morten Tyldum   \n",
       "128             David Fincher   \n",
       "138              Wes Anderson   \n",
       "155               James Marsh   \n",
       "177                Josh Boone   \n",
       "283          Jaco Van Dormael   \n",
       "316           Rajkumar Hirani   \n",
       "370         Christopher Nolan   \n",
       "496             Peter Jackson   \n",
       "599         Christopher Nolan   \n",
       "863             Peter Jackson   \n",
       "872            Roman Polanski   \n",
       "1081            Peter Jackson   \n",
       "1183          Martin Scorsese   \n",
       "1188              Spike Jonze   \n",
       "1191            Steve McQueen   \n",
       "1205         Denis Villeneuve   \n",
       "1213        Jean-Marc VallÃ©e   \n",
       "1444        Christopher Nolan   \n",
       "1563            Michel Gondry   \n",
       "1688     Paul Thomas Anderson   \n",
       "1800        Christopher Nolan   \n",
       "\n",
       "                                                tagline  \\\n",
       "9              Meet the little voices inside your head.   \n",
       "28                  Break the story. Break the silence.   \n",
       "34                             Love knows no boundaries   \n",
       "118   Mankind was born on Earth. It was never meant ...   \n",
       "119                         All heroes start somewhere.   \n",
       "124      From the creators of Wreck-it Ralph and Frozen   \n",
       "125   The true enigma was the man who cracked the code.   \n",
       "128         You don't know what you've got 'til it's...   \n",
       "138             A perfect holiday without leaving home.   \n",
       "155   His Mind Changed Our World. Her Love Changed His.   \n",
       "177                                 One Sick Love Story   \n",
       "283            Nothing is real, everything is possible.   \n",
       "316                  Don't BE A STUPID BE AN I.D.I.O.T.   \n",
       "370                Your mind is the scene of the crime.   \n",
       "496                           One ring to rule them all   \n",
       "599                                     Why So Serious?   \n",
       "863                              A New Power Is Rising.   \n",
       "872   Music was his passion. Survival was his master...   \n",
       "1081                    The eye of the enemy is moving.   \n",
       "1183                                EARN. SPEND. PARTY.   \n",
       "1188                           A Spike Jonze Love Story   \n",
       "1191    The extraordinary true story of Solomon Northup   \n",
       "1205                              Every moment matters.   \n",
       "1213   Sometimes it takes a hustler to change the world   \n",
       "1444                          Are You Watching Closely?   \n",
       "1563     I already forget how I used to feel about you.   \n",
       "1688      There Will Be Greed. There Will Be Vengeance.   \n",
       "1800                  Some memories are best forgotten.   \n",
       "\n",
       "                                               overview  runtime  \\\n",
       "9     Growing up can be a bumpy road, and it's no ex...       94   \n",
       "28    The true story of how The Boston Globe uncover...      128   \n",
       "34    Jack is a young boy of 5 years old who has liv...      117   \n",
       "118   Interstellar chronicles the adventures of a gr...      169   \n",
       "119   Light years from Earth, 26 years after being a...      121   \n",
       "124   The special bond that develops between plus-si...      102   \n",
       "125   Based on the real life story of legendary cryp...      113   \n",
       "128   With his wife's disappearance having become th...      145   \n",
       "138   The Grand Budapest Hotel tells of a legendary ...       99   \n",
       "155   A look at the relationship between the famous ...      123   \n",
       "177   Despite the tumor-shrinking medical miracle th...      125   \n",
       "283   Nemo Nobody leads an ordinary existence with h...      141   \n",
       "316   In the tradition of â€œFerris Buellerâ€™s Day ...      170   \n",
       "370   Cobb, a skilled thief who commits corporate es...      148   \n",
       "496   Young hobbit Frodo Baggins, after inheriting a...      178   \n",
       "599   Batman raises the stakes in his war on crime. ...      152   \n",
       "863   Frodo and Sam are trekking to Mordor to destro...      179   \n",
       "872   The Pianist is a film adapted from the biograp...      150   \n",
       "1081  Aragorn is revealed as the heir to the ancient...      201   \n",
       "1183  A New York stockbroker refuses to cooperate in...      180   \n",
       "1188  In the not so distant future, Theodore, a lone...      126   \n",
       "1191  In the pre-Civil War United States, Solomon No...      134   \n",
       "1205  When Keller Dover's daughter and her friend go...      153   \n",
       "1213  Loosely based on the true-life tale of Ron Woo...      117   \n",
       "1444  A mysterious story of two magicians whose inte...      130   \n",
       "1563  Joel Barish, heartbroken that his girlfriend u...      108   \n",
       "1688  When ruthless oil prospector, Daniel Plainview...      158   \n",
       "1800  Suffering short-term memory loss after a head ...      113   \n",
       "\n",
       "                                                 genres  \\\n",
       "9                               Comedy|Animation|Family   \n",
       "28                               Drama|Thriller|History   \n",
       "34                                       Drama|Thriller   \n",
       "118                     Adventure|Drama|Science Fiction   \n",
       "119                    Action|Science Fiction|Adventure   \n",
       "124            Adventure|Family|Animation|Action|Comedy   \n",
       "125                          History|Drama|Thriller|War   \n",
       "128                              Mystery|Thriller|Drama   \n",
       "138                                        Comedy|Drama   \n",
       "155                                       Drama|Romance   \n",
       "177                                       Romance|Drama   \n",
       "283               Science Fiction|Drama|Romance|Fantasy   \n",
       "316                                Drama|Comedy|Romance   \n",
       "370   Action|Thriller|Science Fiction|Mystery|Adventure   \n",
       "496                            Adventure|Fantasy|Action   \n",
       "599                         Drama|Action|Crime|Thriller   \n",
       "863                            Adventure|Fantasy|Action   \n",
       "872                                           Drama|War   \n",
       "1081                           Adventure|Fantasy|Action   \n",
       "1183                                 Crime|Drama|Comedy   \n",
       "1188                      Romance|Science Fiction|Drama   \n",
       "1191                                      Drama|History   \n",
       "1205                               Drama|Thriller|Crime   \n",
       "1213                                      Drama|History   \n",
       "1444                             Drama|Mystery|Thriller   \n",
       "1563                      Science Fiction|Drama|Romance   \n",
       "1688                                              Drama   \n",
       "1800                                   Mystery|Thriller   \n",
       "\n",
       "                                   production_companies release_date  \\\n",
       "9     Walt Disney Pictures|Pixar Animation Studios|W...     6/9/2015   \n",
       "28    Participant Media|Open Road Films|Anonymous Co...    11/6/2015   \n",
       "34    Element Pictures|No Trace Camping|A24|Duperele...   10/16/2015   \n",
       "118   Paramount Pictures|Legendary Pictures|Warner B...    11/5/2014   \n",
       "119   Marvel Studios|Moving Picture Company (MPC)|Bu...    7/30/2014   \n",
       "124   Walt Disney Pictures|Walt Disney Animation Stu...   10/24/2014   \n",
       "125              Black Bear Pictures|Bristol Automotive   11/14/2014   \n",
       "128   Twentieth Century Fox Film Corporation|Regency...    10/1/2014   \n",
       "138   Fox Searchlight Pictures|Scott Rudin Productio...    2/26/2014   \n",
       "155                                 Working Title Films   11/26/2014   \n",
       "177   Fox 2000 Pictures|Temple Hill Entertainment|TS...    5/16/2014   \n",
       "283            Pan EuropÃ©enne Production|Virtual Films    9/11/2009   \n",
       "316                      Vidhu Vinod Chopra Productions   12/23/2009   \n",
       "370             Legendary Pictures|Warner Bros.|Syncopy    7/14/2010   \n",
       "496   WingNut Films|New Line Cinema|The Saul Zaentz ...   12/18/2001   \n",
       "599   DC Comics|Legendary Pictures|Warner Bros.|Syncopy    7/16/2008   \n",
       "863   WingNut Films|New Line Cinema|The Saul Zaentz ...   12/18/2002   \n",
       "872   Bac Films|Canal+Polska|Heritage Films|Studio B...    9/24/2002   \n",
       "1081                      WingNut Films|New Line Cinema    12/1/2003   \n",
       "1183  Paramount Pictures|Appian Way|EMJAG Production...   12/25/2013   \n",
       "1188                                 Annapurna Pictures   12/18/2013   \n",
       "1191  Plan B Entertainment|Regency Enterprises|River...   10/18/2013   \n",
       "1205  Alcon Entertainment|Madhouse Entertainment|8:3...    9/18/2013   \n",
       "1213  Universal Studios|Universal Pictures|Voltage P...     9/7/2013   \n",
       "1444                        Touchstone Pictures|Syncopy   10/19/2006   \n",
       "1563  Anonymous Content|This Is That Productions|Foc...    3/19/2004   \n",
       "1688  Miramax Films|Ghoulardi Film Company|Paramount...   12/28/2007   \n",
       "1800  Summit Entertainment|Newmarket Capital Group|T...   10/11/2000   \n",
       "\n",
       "      vote_average  release_year  \n",
       "9              8.0          2015  \n",
       "28             7.8          2015  \n",
       "34             8.0          2015  \n",
       "118            8.0          2014  \n",
       "119            7.9          2014  \n",
       "124            7.8          2014  \n",
       "125            8.0          2014  \n",
       "128            7.9          2014  \n",
       "138            7.9          2014  \n",
       "155            7.8          2014  \n",
       "177            7.8          2014  \n",
       "283            7.8          2009  \n",
       "316            7.8          2009  \n",
       "370            7.9          2010  \n",
       "496            7.8          2001  \n",
       "599            8.1          2008  \n",
       "863            7.8          2002  \n",
       "872            7.9          2002  \n",
       "1081           7.9          2003  \n",
       "1183           7.9          2013  \n",
       "1188           7.8          2013  \n",
       "1191           7.9          2013  \n",
       "1205           7.8          2013  \n",
       "1213           7.8          2013  \n",
       "1444           7.8          2006  \n",
       "1563           7.8          2004  \n",
       "1688           7.8          2007  \n",
       "1800           7.9          2000  "
      ]
     },
     "metadata": {},
     "output_type": "display_data"
    }
   ],
   "source": [
    "# Код:\n",
    "vote_dict = []\n",
    "temp = 0\n",
    "temp_2 = 0\n",
    "\n",
    "films = data['vote_average'].value_counts(normalize=True)\n",
    "\n",
    "temp_dict = sorted(films.items())\n",
    "\n",
    "while temp < 0.01:\n",
    "    vote_dict.append(temp_dict[-1:0:-1][temp_2][0])\n",
    "    temp += temp_dict[-1:0:-1][temp_2][1]\n",
    "    temp_2 += 1     \n",
    "\n",
    "display(data[data.vote_average >= 7.8])"
   ]
  },
  {
   "cell_type": "markdown",
   "metadata": {
    "colab_type": "text",
    "id": "MdXsUXbCVqAV"
   },
   "source": [
    "# 27. Какие актеры чаще всего снимаются в одном фильме вместе?\n"
   ]
  },
  {
   "cell_type": "code",
   "execution_count": 59,
   "metadata": {
    "colab_type": "text",
    "id": "4ymnxEVoVqAW"
   },
   "outputs": [],
   "source": [
    "answers['27'] = '-'"
   ]
  },
  {
   "cell_type": "markdown",
   "metadata": {
    "colab_type": "text",
    "id": "U0nONFnGVqAX"
   },
   "source": [
    "# Submission"
   ]
  },
  {
   "cell_type": "code",
   "execution_count": 60,
   "metadata": {
    "colab": {},
    "colab_type": "code",
    "id": "IfcaRO9-VqAX",
    "outputId": "0f132912-32bb-4196-c98c-abfbc4ad5a5f"
   },
   "outputs": [
    {
     "data": {
      "text/plain": [
       "{'1': '5. Pirates of the Caribbean: On Stranger Tides (tt1298650)',\n",
       " '2': '2. Gods and Generals (tt0279111)',\n",
       " '3': '3. Winnie the Pooh (tt1449283)',\n",
       " '4': '2. 110',\n",
       " '5': '1. 107',\n",
       " '6': '5. Avatar (tt0499549)',\n",
       " '7': '5. The Lone Ranger (tt1210819)',\n",
       " '8': '1. 1478',\n",
       " '9': '4. The Dark Knight (tt0468569)',\n",
       " '10': '5. The Lone Ranger (tt1210819)',\n",
       " '11': '3. Drama',\n",
       " '12': '1. Drama',\n",
       " '13': '5. Peter Jackson',\n",
       " '14': '3. Robert Rodriguez',\n",
       " '15': '3. Chris Hemsworth',\n",
       " '16': '3. Matt Damon',\n",
       " '17': '2. Action',\n",
       " '19': '5. 2015',\n",
       " '20': '1. 2014',\n",
       " '21': '4. Сентябрь верно',\n",
       " '22': '2. 450',\n",
       " '23': '5. Peter Jackson',\n",
       " '24': '2. Warner Bros',\n",
       " '25': '1. Universal Pictures',\n",
       " '26': '1. Inside Out, The Dark Knight, 12 Years a Slave',\n",
       " '27': '-'}"
      ]
     },
     "execution_count": 60,
     "metadata": {},
     "output_type": "execute_result"
    }
   ],
   "source": [
    "# Ответы к каждому вопросу\n",
    "answers"
   ]
  },
  {
   "cell_type": "code",
   "execution_count": 61,
   "metadata": {
    "colab": {},
    "colab_type": "code",
    "id": "SiRmHPl8VqAd"
   },
   "outputs": [
    {
     "data": {
      "text/plain": [
       "26"
      ]
     },
     "execution_count": 61,
     "metadata": {},
     "output_type": "execute_result"
    }
   ],
   "source": [
    "len(answers)"
   ]
  },
  {
   "cell_type": "code",
   "execution_count": null,
   "metadata": {},
   "outputs": [],
   "source": []
  }
 ],
 "metadata": {
  "colab": {
   "name": "Copy of [SF-DST] Movies IMBD v4.1 TEMPLATE.ipynb",
   "provenance": []
  },
  "kernelspec": {
   "display_name": "Python 3",
   "language": "python",
   "name": "python3"
  },
  "language_info": {
   "codemirror_mode": {
    "name": "ipython",
    "version": 3
   },
   "file_extension": ".py",
   "mimetype": "text/x-python",
   "name": "python",
   "nbconvert_exporter": "python",
   "pygments_lexer": "ipython3",
   "version": "3.8.3"
  }
 },
 "nbformat": 4,
 "nbformat_minor": 1
}
