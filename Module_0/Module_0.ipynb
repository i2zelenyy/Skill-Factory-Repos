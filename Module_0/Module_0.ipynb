{
 "cells": [
  {
   "cell_type": "code",
   "execution_count": 124,
   "metadata": {},
   "outputs": [
    {
     "name": "stdout",
     "output_type": "stream",
     "text": [
      "12\n"
     ]
    }
   ],
   "source": [
    "import numpy as np\n",
    "\n",
    "number = np.random.randint(1,101) # Random number to predict\n",
    "prediction = 50 # Half of the way in (1,101)\n",
    "counter = 0\n",
    "\n",
    "bot_border = 1\n",
    "top_border = 101\n",
    "\n",
    "\n",
    "def sort(bot_border, prediction, top_border):\n",
    "    \"\"\"\n",
    "    2nd prediction is always 0 or 100\n",
    "    depending on (prediction '<' or '>' number) equation\n",
    "    \"\"\"\n",
    "    middle = round((top_border-bot_border) / 2)\n",
    "    \n",
    "    if prediction < number:\n",
    "        temp = prediction\n",
    "        prediction += middle # Makes new prediction\n",
    "        bot_border = temp\n",
    "\n",
    "    else: # prediction > number\n",
    "        temp = prediction\n",
    "        prediction -= middle # Makes new prediction\n",
    "        top_border = temp\n",
    "        \n",
    "    return bot_border, prediction, top_border\n",
    "\n",
    "\n",
    "while prediction != number:\n",
    "    bot_border, prediction, top_border = sort(bot_border, prediction, top_border)\n",
    "    counter += 1\n",
    "else:\n",
    "    print(counter)"
   ]
  },
  {
   "cell_type": "code",
   "execution_count": null,
   "metadata": {},
   "outputs": [],
   "source": []
  }
 ],
 "metadata": {
  "kernelspec": {
   "display_name": "Python 3",
   "language": "python",
   "name": "python3"
  }
 },
 "nbformat": 4,
 "nbformat_minor": 4
}
